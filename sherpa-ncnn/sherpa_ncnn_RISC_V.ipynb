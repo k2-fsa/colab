{
  "cells": [
    {
      "cell_type": "markdown",
      "metadata": {
        "id": "view-in-github",
        "colab_type": "text"
      },
      "source": [
        "<a href=\"https://colab.research.google.com/github/k2-fsa/colab/blob/master/sherpa-ncnn/sherpa_ncnn_RISC_V.ipynb\" target=\"_parent\"><img src=\"https://colab.research.google.com/assets/colab-badge.svg\" alt=\"Open In Colab\"/></a>"
      ]
    },
    {
      "cell_type": "markdown",
      "metadata": {
        "id": "lGoitLbOQBbv"
      },
      "source": [
        "# Introduction\n",
        "\n",
        "This colab shows how to cross-compile [sherpa-ncnn](https://github.com/k2-fsa/sherpa-ncnn) for RISC-V."
      ]
    },
    {
      "cell_type": "markdown",
      "metadata": {
        "id": "bKkMl059QJVH"
      },
      "source": [
        "# Install toolchain"
      ]
    },
    {
      "cell_type": "code",
      "execution_count": null,
      "metadata": {
        "colab": {
          "background_save": true
        },
        "id": "qSdaKU-iP-Qr",
        "outputId": "c452ef55-43ce-4717-e64e-c5cec5da8036"
      },
      "outputs": [
        {
          "name": "stdout",
          "output_type": "stream",
          "text": [
            "Reading package lists... Done\n",
            "Building dependency tree... Done\n",
            "Reading state information... Done\n",
            "The following additional packages will be installed:\n",
            "  binutils binutils-common binutils-riscv64-linux-gnu\n",
            "  binutils-x86-64-linux-gnu cpp-11-riscv64-linux-gnu cpp-riscv64-linux-gnu\n",
            "  gcc-11-cross-base-ports gcc-11-riscv64-linux-gnu\n",
            "  gcc-11-riscv64-linux-gnu-base gcc-12-cross-base-ports libasan6-riscv64-cross\n",
            "  libatomic1-riscv64-cross libbinutils libc6-dev-riscv64-cross\n",
            "  libc6-riscv64-cross libctf0 libgcc-11-dev-riscv64-cross\n",
            "  libgcc-s1-riscv64-cross libgomp1-riscv64-cross linux-libc-dev-riscv64-cross\n",
            "Suggested packages:\n",
            "  binutils-doc gcc-11-locales cpp-doc gcc-11-doc libtool flex bison\n",
            "  gdb-riscv64-linux-gnu gcc-doc\n",
            "The following NEW packages will be installed:\n",
            "  binutils-riscv64-linux-gnu cpp-11-riscv64-linux-gnu cpp-riscv64-linux-gnu\n",
            "  gcc-11-cross-base-ports gcc-11-riscv64-linux-gnu\n",
            "  gcc-11-riscv64-linux-gnu-base gcc-12-cross-base-ports gcc-riscv64-linux-gnu\n",
            "  libasan6-riscv64-cross libatomic1-riscv64-cross libc6-dev-riscv64-cross\n",
            "  libc6-riscv64-cross libgcc-11-dev-riscv64-cross libgcc-s1-riscv64-cross\n",
            "  libgomp1-riscv64-cross linux-libc-dev-riscv64-cross\n",
            "The following packages will be upgraded:\n",
            "  binutils binutils-common binutils-x86-64-linux-gnu libbinutils libctf0\n",
            "5 upgraded, 16 newly installed, 0 to remove and 33 not upgraded.\n",
            "Need to get 38.2 MB of archives.\n",
            "After this operation, 112 MB of additional disk space will be used.\n",
            "Get:1 http://archive.ubuntu.com/ubuntu jammy-updates/main amd64 libctf0 amd64 2.38-4ubuntu2.6 [103 kB]\n",
            "Get:2 http://archive.ubuntu.com/ubuntu jammy-updates/main amd64 binutils-x86-64-linux-gnu amd64 2.38-4ubuntu2.6 [2,326 kB]\n",
            "Get:3 http://archive.ubuntu.com/ubuntu jammy-updates/main amd64 libbinutils amd64 2.38-4ubuntu2.6 [662 kB]\n",
            "Get:4 http://archive.ubuntu.com/ubuntu jammy-updates/main amd64 binutils amd64 2.38-4ubuntu2.6 [3,200 B]\n",
            "Get:5 http://archive.ubuntu.com/ubuntu jammy-updates/main amd64 binutils-common amd64 2.38-4ubuntu2.6 [222 kB]\n",
            "Get:6 http://archive.ubuntu.com/ubuntu jammy-updates/main amd64 binutils-riscv64-linux-gnu amd64 2.38-4ubuntu2.6 [1,354 kB]\n",
            "Get:7 http://archive.ubuntu.com/ubuntu jammy-updates/universe amd64 gcc-11-riscv64-linux-gnu-base amd64 11.4.0-1ubuntu1~22.04cross1 [20.5 kB]\n",
            "Get:8 http://archive.ubuntu.com/ubuntu jammy-updates/universe amd64 cpp-11-riscv64-linux-gnu amd64 11.4.0-1ubuntu1~22.04cross1 [7,872 kB]\n",
            "Get:9 http://archive.ubuntu.com/ubuntu jammy/universe amd64 cpp-riscv64-linux-gnu amd64 4:11.2.0--1ubuntu1 [3,536 B]\n",
            "Get:10 http://archive.ubuntu.com/ubuntu jammy-updates/universe amd64 gcc-11-cross-base-ports all 11.4.0-1ubuntu1~22.04cross1 [15.5 kB]\n",
            "Get:11 http://archive.ubuntu.com/ubuntu jammy-updates/universe amd64 gcc-12-cross-base-ports all 12.3.0-1ubuntu1~22.04cross1 [15.7 kB]\n",
            "Get:12 http://archive.ubuntu.com/ubuntu jammy/universe amd64 libc6-riscv64-cross all 2.35-0ubuntu3cross4 [1,074 kB]\n",
            "Get:13 http://archive.ubuntu.com/ubuntu jammy-updates/universe amd64 libgcc-s1-riscv64-cross all 12.3.0-1ubuntu1~22.04cross1 [44.3 kB]\n",
            "Get:14 http://archive.ubuntu.com/ubuntu jammy-updates/universe amd64 libgomp1-riscv64-cross all 12.3.0-1ubuntu1~22.04cross1 [110 kB]\n",
            "Get:15 http://archive.ubuntu.com/ubuntu jammy-updates/universe amd64 libatomic1-riscv64-cross all 12.3.0-1ubuntu1~22.04cross1 [7,634 B]\n",
            "Get:16 http://archive.ubuntu.com/ubuntu jammy-updates/universe amd64 libasan6-riscv64-cross all 11.4.0-1ubuntu1~22.04cross1 [2,099 kB]\n",
            "Get:17 http://archive.ubuntu.com/ubuntu jammy-updates/universe amd64 libgcc-11-dev-riscv64-cross all 11.4.0-1ubuntu1~22.04cross1 [2,413 kB]\n",
            "Get:18 http://archive.ubuntu.com/ubuntu jammy-updates/universe amd64 gcc-11-riscv64-linux-gnu amd64 11.4.0-1ubuntu1~22.04cross1 [15.5 MB]\n",
            "Get:19 http://archive.ubuntu.com/ubuntu jammy/universe amd64 gcc-riscv64-linux-gnu amd64 4:11.2.0--1ubuntu1 [1,234 B]\n",
            "Get:20 http://archive.ubuntu.com/ubuntu jammy/universe amd64 linux-libc-dev-riscv64-cross all 5.15.0-22.22cross4 [1,198 kB]\n",
            "Get:21 http://archive.ubuntu.com/ubuntu jammy/universe amd64 libc6-dev-riscv64-cross all 2.35-0ubuntu3cross4 [3,162 kB]\n",
            "Fetched 38.2 MB in 1s (38.4 MB/s)\n",
            "debconf: unable to initialize frontend: Dialog\n",
            "debconf: (No usable dialog-like program is installed, so the dialog based frontend cannot be used. at /usr/share/perl5/Debconf/FrontEnd/Dialog.pm line 78, <> line 21.)\n",
            "debconf: falling back to frontend: Readline\n",
            "debconf: unable to initialize frontend: Readline\n",
            "debconf: (This frontend requires a controlling tty.)\n",
            "debconf: falling back to frontend: Teletype\n",
            "dpkg-preconfigure: unable to re-open stdin: \n",
            "(Reading database ... 121752 files and directories currently installed.)\n",
            "Preparing to unpack .../00-libctf0_2.38-4ubuntu2.6_amd64.deb ...\n",
            "Unpacking libctf0:amd64 (2.38-4ubuntu2.6) over (2.38-4ubuntu2.3) ...\n",
            "Preparing to unpack .../01-binutils-x86-64-linux-gnu_2.38-4ubuntu2.6_amd64.deb ...\n",
            "Unpacking binutils-x86-64-linux-gnu (2.38-4ubuntu2.6) over (2.38-4ubuntu2.3) ...\n",
            "Preparing to unpack .../02-libbinutils_2.38-4ubuntu2.6_amd64.deb ...\n",
            "Unpacking libbinutils:amd64 (2.38-4ubuntu2.6) over (2.38-4ubuntu2.3) ...\n",
            "Preparing to unpack .../03-binutils_2.38-4ubuntu2.6_amd64.deb ...\n",
            "Unpacking binutils (2.38-4ubuntu2.6) over (2.38-4ubuntu2.3) ...\n",
            "Preparing to unpack .../04-binutils-common_2.38-4ubuntu2.6_amd64.deb ...\n",
            "Unpacking binutils-common:amd64 (2.38-4ubuntu2.6) over (2.38-4ubuntu2.3) ...\n",
            "Selecting previously unselected package binutils-riscv64-linux-gnu.\n",
            "Preparing to unpack .../05-binutils-riscv64-linux-gnu_2.38-4ubuntu2.6_amd64.deb ...\n",
            "Unpacking binutils-riscv64-linux-gnu (2.38-4ubuntu2.6) ...\n",
            "Selecting previously unselected package gcc-11-riscv64-linux-gnu-base:amd64.\n",
            "Preparing to unpack .../06-gcc-11-riscv64-linux-gnu-base_11.4.0-1ubuntu1~22.04cross1_amd64.deb ...\n",
            "Unpacking gcc-11-riscv64-linux-gnu-base:amd64 (11.4.0-1ubuntu1~22.04cross1) ...\n",
            "Selecting previously unselected package cpp-11-riscv64-linux-gnu.\n",
            "Preparing to unpack .../07-cpp-11-riscv64-linux-gnu_11.4.0-1ubuntu1~22.04cross1_amd64.deb ...\n",
            "Unpacking cpp-11-riscv64-linux-gnu (11.4.0-1ubuntu1~22.04cross1) ...\n",
            "Selecting previously unselected package cpp-riscv64-linux-gnu.\n",
            "Preparing to unpack .../08-cpp-riscv64-linux-gnu_4%3a11.2.0--1ubuntu1_amd64.deb ...\n",
            "Unpacking cpp-riscv64-linux-gnu (4:11.2.0--1ubuntu1) ...\n",
            "Selecting previously unselected package gcc-11-cross-base-ports.\n",
            "Preparing to unpack .../09-gcc-11-cross-base-ports_11.4.0-1ubuntu1~22.04cross1_all.deb ...\n",
            "Unpacking gcc-11-cross-base-ports (11.4.0-1ubuntu1~22.04cross1) ...\n",
            "Selecting previously unselected package gcc-12-cross-base-ports.\n",
            "Preparing to unpack .../10-gcc-12-cross-base-ports_12.3.0-1ubuntu1~22.04cross1_all.deb ...\n",
            "Unpacking gcc-12-cross-base-ports (12.3.0-1ubuntu1~22.04cross1) ...\n",
            "Selecting previously unselected package libc6-riscv64-cross.\n",
            "Preparing to unpack .../11-libc6-riscv64-cross_2.35-0ubuntu3cross4_all.deb ...\n",
            "Unpacking libc6-riscv64-cross (2.35-0ubuntu3cross4) ...\n",
            "Selecting previously unselected package libgcc-s1-riscv64-cross.\n",
            "Preparing to unpack .../12-libgcc-s1-riscv64-cross_12.3.0-1ubuntu1~22.04cross1_all.deb ...\n",
            "Unpacking libgcc-s1-riscv64-cross (12.3.0-1ubuntu1~22.04cross1) ...\n",
            "Selecting previously unselected package libgomp1-riscv64-cross.\n",
            "Preparing to unpack .../13-libgomp1-riscv64-cross_12.3.0-1ubuntu1~22.04cross1_all.deb ...\n",
            "Unpacking libgomp1-riscv64-cross (12.3.0-1ubuntu1~22.04cross1) ...\n",
            "Selecting previously unselected package libatomic1-riscv64-cross.\n",
            "Preparing to unpack .../14-libatomic1-riscv64-cross_12.3.0-1ubuntu1~22.04cross1_all.deb ...\n",
            "Unpacking libatomic1-riscv64-cross (12.3.0-1ubuntu1~22.04cross1) ...\n",
            "Selecting previously unselected package libasan6-riscv64-cross.\n",
            "Preparing to unpack .../15-libasan6-riscv64-cross_11.4.0-1ubuntu1~22.04cross1_all.deb ...\n",
            "Unpacking libasan6-riscv64-cross (11.4.0-1ubuntu1~22.04cross1) ...\n",
            "Selecting previously unselected package libgcc-11-dev-riscv64-cross.\n",
            "Preparing to unpack .../16-libgcc-11-dev-riscv64-cross_11.4.0-1ubuntu1~22.04cross1_all.deb ...\n",
            "Unpacking libgcc-11-dev-riscv64-cross (11.4.0-1ubuntu1~22.04cross1) ...\n",
            "Selecting previously unselected package gcc-11-riscv64-linux-gnu.\n",
            "Preparing to unpack .../17-gcc-11-riscv64-linux-gnu_11.4.0-1ubuntu1~22.04cross1_amd64.deb ...\n",
            "Unpacking gcc-11-riscv64-linux-gnu (11.4.0-1ubuntu1~22.04cross1) ...\n",
            "Selecting previously unselected package gcc-riscv64-linux-gnu.\n",
            "Preparing to unpack .../18-gcc-riscv64-linux-gnu_4%3a11.2.0--1ubuntu1_amd64.deb ...\n",
            "Unpacking gcc-riscv64-linux-gnu (4:11.2.0--1ubuntu1) ...\n",
            "Selecting previously unselected package linux-libc-dev-riscv64-cross.\n",
            "Preparing to unpack .../19-linux-libc-dev-riscv64-cross_5.15.0-22.22cross4_all.deb ...\n",
            "Unpacking linux-libc-dev-riscv64-cross (5.15.0-22.22cross4) ...\n",
            "Selecting previously unselected package libc6-dev-riscv64-cross.\n",
            "Preparing to unpack .../20-libc6-dev-riscv64-cross_2.35-0ubuntu3cross4_all.deb ...\n",
            "Unpacking libc6-dev-riscv64-cross (2.35-0ubuntu3cross4) ...\n",
            "Setting up gcc-12-cross-base-ports (12.3.0-1ubuntu1~22.04cross1) ...\n",
            "Setting up binutils-common:amd64 (2.38-4ubuntu2.6) ...\n",
            "Setting up binutils-riscv64-linux-gnu (2.38-4ubuntu2.6) ...\n",
            "Setting up gcc-11-riscv64-linux-gnu-base:amd64 (11.4.0-1ubuntu1~22.04cross1) ...\n",
            "Setting up gcc-11-cross-base-ports (11.4.0-1ubuntu1~22.04cross1) ...\n",
            "Setting up linux-libc-dev-riscv64-cross (5.15.0-22.22cross4) ...\n",
            "Setting up libc6-riscv64-cross (2.35-0ubuntu3cross4) ...\n",
            "Setting up libgomp1-riscv64-cross (12.3.0-1ubuntu1~22.04cross1) ...\n",
            "Setting up libbinutils:amd64 (2.38-4ubuntu2.6) ...\n",
            "Setting up libatomic1-riscv64-cross (12.3.0-1ubuntu1~22.04cross1) ...\n",
            "Setting up cpp-11-riscv64-linux-gnu (11.4.0-1ubuntu1~22.04cross1) ...\n",
            "Setting up libctf0:amd64 (2.38-4ubuntu2.6) ...\n",
            "Setting up libgcc-s1-riscv64-cross (12.3.0-1ubuntu1~22.04cross1) ...\n",
            "Setting up libc6-dev-riscv64-cross (2.35-0ubuntu3cross4) ...\n",
            "Setting up libasan6-riscv64-cross (11.4.0-1ubuntu1~22.04cross1) ...\n",
            "Setting up cpp-riscv64-linux-gnu (4:11.2.0--1ubuntu1) ...\n",
            "Setting up binutils-x86-64-linux-gnu (2.38-4ubuntu2.6) ...\n",
            "Setting up binutils (2.38-4ubuntu2.6) ...\n",
            "Setting up libgcc-11-dev-riscv64-cross (11.4.0-1ubuntu1~22.04cross1) ...\n",
            "Setting up gcc-11-riscv64-linux-gnu (11.4.0-1ubuntu1~22.04cross1) ...\n",
            "Setting up gcc-riscv64-linux-gnu (4:11.2.0--1ubuntu1) ...\n",
            "Processing triggers for man-db (2.10.2-1) ...\n",
            "Processing triggers for libc-bin (2.35-0ubuntu3.4) ...\n",
            "/sbin/ldconfig.real: /usr/local/lib/libtbbbind_2_5.so.3 is not a symbolic link\n",
            "\n",
            "/sbin/ldconfig.real: /usr/local/lib/libtbbbind.so.3 is not a symbolic link\n",
            "\n",
            "/sbin/ldconfig.real: /usr/local/lib/libtbb.so.12 is not a symbolic link\n",
            "\n",
            "/sbin/ldconfig.real: /usr/local/lib/libtbbmalloc_proxy.so.2 is not a symbolic link\n",
            "\n",
            "/sbin/ldconfig.real: /usr/local/lib/libtbbbind_2_0.so.3 is not a symbolic link\n",
            "\n",
            "/sbin/ldconfig.real: /usr/local/lib/libtbbmalloc.so.2 is not a symbolic link\n",
            "\n",
            "Reading package lists... Done\n",
            "Building dependency tree... Done\n",
            "Reading state information... Done\n",
            "The following additional packages will be installed:\n",
            "  g++-11-riscv64-linux-gnu libstdc++-11-dev-riscv64-cross\n",
            "  libstdc++6-riscv64-cross\n",
            "Suggested packages:\n",
            "  gcc-11-doc\n",
            "The following NEW packages will be installed:\n",
            "  g++-11-riscv64-linux-gnu g++-riscv64-linux-gnu\n",
            "  libstdc++-11-dev-riscv64-cross libstdc++6-riscv64-cross\n",
            "0 upgraded, 4 newly installed, 0 to remove and 33 not upgraded.\n",
            "Need to get 14.6 MB of archives.\n",
            "After this operation, 68.2 MB of additional disk space will be used.\n",
            "Get:1 http://archive.ubuntu.com/ubuntu jammy-updates/universe amd64 libstdc++6-riscv64-cross all 12.3.0-1ubuntu1~22.04cross1 [646 kB]\n",
            "Get:2 http://archive.ubuntu.com/ubuntu jammy-updates/universe amd64 libstdc++-11-dev-riscv64-cross all 11.4.0-1ubuntu1~22.04cross1 [4,786 kB]\n",
            "Get:3 http://archive.ubuntu.com/ubuntu jammy-updates/universe amd64 g++-11-riscv64-linux-gnu amd64 11.4.0-1ubuntu1~22.04cross1 [9,142 kB]\n",
            "Get:4 http://archive.ubuntu.com/ubuntu jammy/universe amd64 g++-riscv64-linux-gnu amd64 4:11.2.0--1ubuntu1 [938 B]\n",
            "Fetched 14.6 MB in 0s (32.5 MB/s)\n",
            "debconf: unable to initialize frontend: Dialog\n",
            "debconf: (No usable dialog-like program is installed, so the dialog based frontend cannot be used. at /usr/share/perl5/Debconf/FrontEnd/Dialog.pm line 78, <> line 4.)\n",
            "debconf: falling back to frontend: Readline\n",
            "debconf: unable to initialize frontend: Readline\n",
            "debconf: (This frontend requires a controlling tty.)\n",
            "debconf: falling back to frontend: Teletype\n",
            "dpkg-preconfigure: unable to re-open stdin: \n",
            "Selecting previously unselected package libstdc++6-riscv64-cross.\n",
            "(Reading database ... 123749 files and directories currently installed.)\n",
            "Preparing to unpack .../libstdc++6-riscv64-cross_12.3.0-1ubuntu1~22.04cross1_all.deb ...\n",
            "Unpacking libstdc++6-riscv64-cross (12.3.0-1ubuntu1~22.04cross1) ...\n",
            "Selecting previously unselected package libstdc++-11-dev-riscv64-cross.\n",
            "Preparing to unpack .../libstdc++-11-dev-riscv64-cross_11.4.0-1ubuntu1~22.04cross1_all.deb ...\n",
            "Unpacking libstdc++-11-dev-riscv64-cross (11.4.0-1ubuntu1~22.04cross1) ...\n",
            "Selecting previously unselected package g++-11-riscv64-linux-gnu.\n",
            "Preparing to unpack .../g++-11-riscv64-linux-gnu_11.4.0-1ubuntu1~22.04cross1_amd64.deb ...\n",
            "Unpacking g++-11-riscv64-linux-gnu (11.4.0-1ubuntu1~22.04cross1) ...\n",
            "Selecting previously unselected package g++-riscv64-linux-gnu.\n",
            "Preparing to unpack .../g++-riscv64-linux-gnu_4%3a11.2.0--1ubuntu1_amd64.deb ...\n",
            "Unpacking g++-riscv64-linux-gnu (4:11.2.0--1ubuntu1) ...\n",
            "Setting up libstdc++6-riscv64-cross (12.3.0-1ubuntu1~22.04cross1) ...\n",
            "Setting up libstdc++-11-dev-riscv64-cross (11.4.0-1ubuntu1~22.04cross1) ...\n",
            "Setting up g++-11-riscv64-linux-gnu (11.4.0-1ubuntu1~22.04cross1) ...\n",
            "Setting up g++-riscv64-linux-gnu (4:11.2.0--1ubuntu1) ...\n",
            "Processing triggers for man-db (2.10.2-1) ...\n"
          ]
        },
        {
          "data": {
            "text/plain": []
          },
          "execution_count": 1,
          "metadata": {},
          "output_type": "execute_result"
        }
      ],
      "source": [
        "%%shell\n",
        "\n",
        "sudo apt-get install -y gcc-riscv64-linux-gnu\n",
        "sudo apt-get install -y g++-riscv64-linux-gnu"
      ]
    },
    {
      "cell_type": "markdown",
      "metadata": {
        "id": "RXNkYybJQkSS"
      },
      "source": [
        "To check that you have installed the toolchain successfully, please run\n"
      ]
    },
    {
      "cell_type": "code",
      "execution_count": null,
      "metadata": {
        "colab": {
          "background_save": true
        },
        "id": "P9nFFL1MQOSr",
        "outputId": "a3c88509-b6d2-4f6d-f7de-990f08cff4c1"
      },
      "outputs": [
        {
          "name": "stdout",
          "output_type": "stream",
          "text": [
            "riscv64-linux-gnu-gcc (Ubuntu 11.4.0-1ubuntu1~22.04) 11.4.0\n",
            "Copyright (C) 2021 Free Software Foundation, Inc.\n",
            "This is free software; see the source for copying conditions.  There is NO\n",
            "warranty; not even for MERCHANTABILITY or FITNESS FOR A PARTICULAR PURPOSE.\n",
            "\n"
          ]
        },
        {
          "data": {
            "text/plain": []
          },
          "execution_count": 2,
          "metadata": {},
          "output_type": "execute_result"
        }
      ],
      "source": [
        "%%shell\n",
        "\n",
        "riscv64-linux-gnu-gcc --version"
      ]
    },
    {
      "cell_type": "code",
      "execution_count": null,
      "metadata": {
        "colab": {
          "background_save": true
        },
        "id": "bTH8aH4pQm0_",
        "outputId": "a0370f40-a528-47ff-e7d2-e95fcfd1faed"
      },
      "outputs": [
        {
          "name": "stdout",
          "output_type": "stream",
          "text": [
            "riscv64-linux-gnu-g++ (Ubuntu 11.4.0-1ubuntu1~22.04) 11.4.0\n",
            "Copyright (C) 2021 Free Software Foundation, Inc.\n",
            "This is free software; see the source for copying conditions.  There is NO\n",
            "warranty; not even for MERCHANTABILITY or FITNESS FOR A PARTICULAR PURPOSE.\n",
            "\n"
          ]
        },
        {
          "data": {
            "text/plain": []
          },
          "execution_count": 3,
          "metadata": {},
          "output_type": "execute_result"
        }
      ],
      "source": [
        "%%shell\n",
        "\n",
        "riscv64-linux-gnu-g++ --version"
      ]
    },
    {
      "cell_type": "markdown",
      "metadata": {
        "id": "gZhg1Fi-QrGl"
      },
      "source": [
        "# Build sherpa-ncnn"
      ]
    },
    {
      "cell_type": "markdown",
      "metadata": {
        "id": "sN8MBRl1SFaO"
      },
      "source": [
        "If you have the error\n",
        "```\n",
        "libtoolize: command not found\n",
        "```\n",
        "please run"
      ]
    },
    {
      "cell_type": "code",
      "execution_count": null,
      "metadata": {
        "colab": {
          "background_save": true
        },
        "id": "P2RT-aIOSJtz",
        "outputId": "62563754-b5fa-433e-9f44-934abd218585"
      },
      "outputs": [
        {
          "name": "stdout",
          "output_type": "stream",
          "text": [
            "Reading package lists... Done\n",
            "Building dependency tree... Done\n",
            "Reading state information... Done\n",
            "Suggested packages:\n",
            "  libtool-doc gcj-jdk\n",
            "The following NEW packages will be installed:\n",
            "  libtool\n",
            "0 upgraded, 1 newly installed, 0 to remove and 33 not upgraded.\n",
            "Need to get 164 kB of archives.\n",
            "After this operation, 1,227 kB of additional disk space will be used.\n",
            "Get:1 http://archive.ubuntu.com/ubuntu jammy/main amd64 libtool all 2.4.6-15build2 [164 kB]\n",
            "Fetched 164 kB in 0s (1,884 kB/s)\n",
            "debconf: unable to initialize frontend: Dialog\n",
            "debconf: (No usable dialog-like program is installed, so the dialog based frontend cannot be used. at /usr/share/perl5/Debconf/FrontEnd/Dialog.pm line 78, <> line 1.)\n",
            "debconf: falling back to frontend: Readline\n",
            "debconf: unable to initialize frontend: Readline\n",
            "debconf: (This frontend requires a controlling tty.)\n",
            "debconf: falling back to frontend: Teletype\n",
            "dpkg-preconfigure: unable to re-open stdin: \n",
            "Selecting previously unselected package libtool.\n",
            "(Reading database ... 124612 files and directories currently installed.)\n",
            "Preparing to unpack .../libtool_2.4.6-15build2_all.deb ...\n",
            "Unpacking libtool (2.4.6-15build2) ...\n",
            "Setting up libtool (2.4.6-15build2) ...\n",
            "Processing triggers for man-db (2.10.2-1) ...\n"
          ]
        },
        {
          "data": {
            "text/plain": []
          },
          "execution_count": 4,
          "metadata": {},
          "output_type": "execute_result"
        }
      ],
      "source": [
        "%%shell\n",
        "sudo apt-get install -y libtool"
      ]
    },
    {
      "cell_type": "code",
      "execution_count": null,
      "metadata": {
        "id": "OFWuNrb5Qo2d"
      },
      "outputs": [],
      "source": [
        "%%shell\n",
        "\n",
        "git clone https://github.com/k2-fsa/sherpa-ncnn\n",
        "cd sherpa-ncnn\n",
        "./build-riscv64-linux-gnu.sh"
      ]
    },
    {
      "cell_type": "markdown",
      "metadata": {
        "id": "5YYuGbEfSuPF"
      },
      "source": [
        "After a succesful build, we would get the following two binaries:"
      ]
    },
    {
      "cell_type": "code",
      "execution_count": null,
      "metadata": {
        "id": "gBHjAI2bQuAg"
      },
      "outputs": [],
      "source": [
        "%%shell\n",
        "\n",
        "cd sherpa-ncnn\n",
        "\n",
        "ls -lh ./build-riscv64-linux-gnu/install/bin"
      ]
    },
    {
      "cell_type": "markdown",
      "metadata": {
        "id": "JvTX2KkVS3RS"
      },
      "source": [
        "By default, they are statically linked and depend only on system libraries."
      ]
    },
    {
      "cell_type": "code",
      "execution_count": null,
      "metadata": {
        "id": "7Zwjz4JVSl1m"
      },
      "outputs": [],
      "source": [
        "%%shell\n",
        "\n",
        "cd sherpa-ncnn\n",
        "readelf -d build-riscv64-linux-gnu/install/bin/sherpa-ncnn | head -n 15\n",
        "\n",
        "echo \"-----\"\n",
        "readelf -d build-riscv64-linux-gnu/install/bin/sherpa-ncnn-alsa | head -n 15\n"
      ]
    },
    {
      "cell_type": "markdown",
      "metadata": {
        "id": "8ZhhPiisTLcq"
      },
      "source": [
        "You can use the following command to download the compiled binaries and copy them to your risc-v board."
      ]
    },
    {
      "cell_type": "code",
      "execution_count": null,
      "metadata": {
        "id": "FeSvU2mZTA3p"
      },
      "outputs": [],
      "source": [
        "%%shell\n",
        "\n",
        "mkdir sherpa-ncnn-riscv\n",
        "cp -v sherpa-ncnn/build-riscv64-linux-gnu/install/bin/sherpa-ncnn ./sherpa-ncnn-riscv\n",
        "cp -v sherpa-ncnn/build-riscv64-linux-gnu/install/bin/sherpa-ncnn-alsa ./sherpa-ncnn-riscv\n",
        "\n",
        "ls -lh ./sherpa-ncnn-riscv\n",
        "\n",
        "tar cjfv ./sherpa-ncnn-riscv.tar.bz2 ./sherpa-ncnn-riscv\n",
        "ls -lh"
      ]
    },
    {
      "cell_type": "code",
      "execution_count": null,
      "metadata": {
        "id": "YrgTUZoVTccq"
      },
      "outputs": [],
      "source": [
        "from google.colab import files\n",
        "files.download('sherpa-ncnn-riscv.tar.bz2')"
      ]
    },
    {
      "cell_type": "code",
      "execution_count": null,
      "metadata": {
        "id": "ZSLs3aJ-TqGD"
      },
      "outputs": [],
      "source": [
        "%%shell\n",
        "rm sherpa-ncnn-riscv"
      ]
    }
  ],
  "metadata": {
    "colab": {
      "provenance": [],
      "authorship_tag": "ABX9TyOXcNH+rIXZdnm2HbrvhF3J",
      "include_colab_link": true
    },
    "kernelspec": {
      "display_name": "Python 3",
      "name": "python3"
    },
    "language_info": {
      "name": "python"
    }
  },
  "nbformat": 4,
  "nbformat_minor": 0
}
