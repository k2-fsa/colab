{
  "nbformat": 4,
  "nbformat_minor": 0,
  "metadata": {
    "colab": {
      "provenance": [],
      "authorship_tag": "ABX9TyOPkfzobCkqoxZwkmeI1JST",
      "include_colab_link": true
    },
    "kernelspec": {
      "name": "python3",
      "display_name": "Python 3"
    },
    "language_info": {
      "name": "python"
    }
  },
  "cells": [
    {
      "cell_type": "markdown",
      "metadata": {
        "id": "view-in-github",
        "colab_type": "text"
      },
      "source": [
        "<a href=\"https://colab.research.google.com/github/k2-fsa/colab/blob/master/sherpa-onnx/itn_zh_for_HA.ipynb\" target=\"_parent\"><img src=\"https://colab.research.google.com/assets/colab-badge.svg\" alt=\"Open In Colab\"/></a>"
      ]
    },
    {
      "cell_type": "markdown",
      "source": [
        "# Introduction\n",
        "\n",
        "本 colab notebook 演示如何生成 rule fst, 把匹配到的短语，换成自己想要的结果。\n",
        "你可以用生成的 fst，结合 [kaldifst](https://github.com/k2-fsa/kaldifst) 进行部署。 提供 C++ 和 Python 等 API.\n",
        "\n",
        "如何在语音识别中使用生成的 fst, 请参考 [sherpa-onnx](https://github.com/k2-fsa/sherpa-onnx)\n",
        "\n"
      ],
      "metadata": {
        "id": "XT-JUupZTrBP"
      }
    },
    {
      "cell_type": "markdown",
      "source": [
        "# Install pynini"
      ],
      "metadata": {
        "id": "jgG5gdlr6LyR"
      }
    },
    {
      "cell_type": "code",
      "execution_count": 1,
      "metadata": {
        "colab": {
          "base_uri": "https://localhost:8080/"
        },
        "id": "n8dwX1GL51KA",
        "outputId": "db86902b-6217-4645-ea24-22c2477340f6"
      },
      "outputs": [
        {
          "output_type": "stream",
          "name": "stdout",
          "text": [
            "Collecting pynini\n",
            "  Downloading pynini-2.1.6-cp310-cp310-manylinux_2_28_x86_64.whl (154.5 MB)\n",
            "\u001b[2K     \u001b[90m━━━━━━━━━━━━━━━━━━━━━━━━━━━━━━━━━━━━━━━━\u001b[0m \u001b[32m154.5/154.5 MB\u001b[0m \u001b[31m4.9 MB/s\u001b[0m eta \u001b[36m0:00:00\u001b[0m\n",
            "\u001b[?25hInstalling collected packages: pynini\n",
            "Successfully installed pynini-2.1.6\n"
          ]
        },
        {
          "output_type": "execute_result",
          "data": {
            "text/plain": []
          },
          "metadata": {},
          "execution_count": 1
        }
      ],
      "source": [
        "%%shell\n",
        "\n",
        "pip install --only-binary :all: pynini"
      ]
    },
    {
      "cell_type": "markdown",
      "source": [
        "# Generate rule fst"
      ],
      "metadata": {
        "id": "nIFcNwoORJwX"
      }
    },
    {
      "cell_type": "code",
      "source": [
        "import pynini\n",
        "from pynini.lib import utf8\n",
        "from pynini.lib.pynutil import add_weight, delete, insert\n",
        "\n",
        "\n",
        "sigma = utf8.VALID_UTF8_CHAR.star\n",
        "\n",
        "\n",
        "phrases = [\n",
        "    # 识别的结果,     想要的结果\n",
        "    ('打开客厅通灯', '打开客厅筒灯'),\n",
        "    ('打开客厅同灯', '打开客厅筒灯'),\n",
        "]\n",
        "\n",
        "rules = pynini.string_map(phrases).optimize()\n",
        "\n",
        "\n",
        "rules = pynini.cdrewrite(rules, \"\", \"\", sigma)\n",
        "\n",
        "# 下面的 for 语句是一个测试，可以删掉\n",
        "for d in ['打开客厅通灯',\n",
        "          '通灯', # 需要完整匹配，所以，这个词还是它本身\n",
        "          '打开客厅同灯',\n",
        "          ]:\n",
        "  r = pynini.compose(d, rules)\n",
        "  s = pynini.shortestpath(r, nshortest=1).paths()\n",
        "  print(d, list(s.ostrings())[:3])\n",
        "\n",
        "rules.write('itn_zh_HA.fst')\n",
        "\n",
        "! ls -lh itn_zh_HA.fst"
      ],
      "metadata": {
        "colab": {
          "base_uri": "https://localhost:8080/"
        },
        "id": "nzU67yGP6I4g",
        "outputId": "8aec0f4a-bf54-4495-94e4-56f3dab601f0"
      },
      "execution_count": 9,
      "outputs": [
        {
          "output_type": "stream",
          "name": "stdout",
          "text": [
            "打开客厅通灯 ['打开客厅筒灯']\n",
            "通灯 ['通灯']\n",
            "打开客厅同灯 ['打开客厅筒灯']\n",
            "-rw-r--r-- 1 root root 38K Jun 25 01:51 itn_zh_HA.fst\n"
          ]
        }
      ]
    },
    {
      "cell_type": "code",
      "source": [
        "# 下载到本地\n",
        "from google.colab import files\n",
        "files.download('itn_zh_HA.fst')"
      ],
      "metadata": {
        "colab": {
          "base_uri": "https://localhost:8080/",
          "height": 17
        },
        "id": "oeJniusUSPGA",
        "outputId": "d7aeef26-a100-400d-81a3-fb99f00da947"
      },
      "execution_count": 10,
      "outputs": [
        {
          "output_type": "display_data",
          "data": {
            "text/plain": [
              "<IPython.core.display.Javascript object>"
            ],
            "application/javascript": [
              "\n",
              "    async function download(id, filename, size) {\n",
              "      if (!google.colab.kernel.accessAllowed) {\n",
              "        return;\n",
              "      }\n",
              "      const div = document.createElement('div');\n",
              "      const label = document.createElement('label');\n",
              "      label.textContent = `Downloading \"${filename}\": `;\n",
              "      div.appendChild(label);\n",
              "      const progress = document.createElement('progress');\n",
              "      progress.max = size;\n",
              "      div.appendChild(progress);\n",
              "      document.body.appendChild(div);\n",
              "\n",
              "      const buffers = [];\n",
              "      let downloaded = 0;\n",
              "\n",
              "      const channel = await google.colab.kernel.comms.open(id);\n",
              "      // Send a message to notify the kernel that we're ready.\n",
              "      channel.send({})\n",
              "\n",
              "      for await (const message of channel.messages) {\n",
              "        // Send a message to notify the kernel that we're ready.\n",
              "        channel.send({})\n",
              "        if (message.buffers) {\n",
              "          for (const buffer of message.buffers) {\n",
              "            buffers.push(buffer);\n",
              "            downloaded += buffer.byteLength;\n",
              "            progress.value = downloaded;\n",
              "          }\n",
              "        }\n",
              "      }\n",
              "      const blob = new Blob(buffers, {type: 'application/binary'});\n",
              "      const a = document.createElement('a');\n",
              "      a.href = window.URL.createObjectURL(blob);\n",
              "      a.download = filename;\n",
              "      div.appendChild(a);\n",
              "      a.click();\n",
              "      div.remove();\n",
              "    }\n",
              "  "
            ]
          },
          "metadata": {}
        },
        {
          "output_type": "display_data",
          "data": {
            "text/plain": [
              "<IPython.core.display.Javascript object>"
            ],
            "application/javascript": [
              "download(\"download_3ce69235-fc98-4e3c-b4db-3de5b25b1af9\", \"itn_zh_HA.fst\", 38066)"
            ]
          },
          "metadata": {}
        }
      ]
    },
    {
      "cell_type": "markdown",
      "source": [
        "# Usage with kaldifst"
      ],
      "metadata": {
        "id": "67xmlhuXRNHe"
      }
    },
    {
      "cell_type": "code",
      "source": [
        "%%shell\n",
        "\n",
        "pip install kaldifst"
      ],
      "metadata": {
        "colab": {
          "base_uri": "https://localhost:8080/"
        },
        "id": "9hAgoutJ7wun",
        "outputId": "d155296c-c5b9-41bf-efbb-0d4befd6f2e5"
      },
      "execution_count": 12,
      "outputs": [
        {
          "output_type": "stream",
          "name": "stdout",
          "text": [
            "Collecting kaldifst\n",
            "  Downloading kaldifst-1.7.11-cp310-cp310-manylinux_2_17_x86_64.manylinux2014_x86_64.whl (5.4 MB)\n",
            "\u001b[2K     \u001b[90m━━━━━━━━━━━━━━━━━━━━━━━━━━━━━━━━━━━━━━━━\u001b[0m \u001b[32m5.4/5.4 MB\u001b[0m \u001b[31m31.4 MB/s\u001b[0m eta \u001b[36m0:00:00\u001b[0m\n",
            "\u001b[?25hInstalling collected packages: kaldifst\n",
            "Successfully installed kaldifst-1.7.11\n"
          ]
        },
        {
          "output_type": "execute_result",
          "data": {
            "text/plain": []
          },
          "metadata": {},
          "execution_count": 12
        }
      ]
    },
    {
      "cell_type": "code",
      "source": [
        "import kaldifst\n",
        "\n",
        "InverseTextNormalizer = kaldifst.TextNormalizer\n",
        "\n",
        "rule = \"./itn_zh_HA.fst\"\n",
        "normalizer = InverseTextNormalizer(rule)\n",
        "text = \"我要打开客厅通灯\"\n",
        "out = normalizer(text)\n",
        "print(out)"
      ],
      "metadata": {
        "colab": {
          "base_uri": "https://localhost:8080/"
        },
        "id": "1veqsE15RQ4T",
        "outputId": "3ac82e5a-c81f-42aa-8441-ef6c76abf463"
      },
      "execution_count": 1,
      "outputs": [
        {
          "output_type": "stream",
          "name": "stdout",
          "text": [
            "我要打开客厅筒灯\n"
          ]
        }
      ]
    },
    {
      "cell_type": "code",
      "source": [],
      "metadata": {
        "id": "5I_i70FJSJVg"
      },
      "execution_count": null,
      "outputs": []
    }
  ]
}
