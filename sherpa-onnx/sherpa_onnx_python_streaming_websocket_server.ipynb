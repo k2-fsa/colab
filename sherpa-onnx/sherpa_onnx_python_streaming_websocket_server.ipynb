{
  "nbformat": 4,
  "nbformat_minor": 0,
  "metadata": {
    "colab": {
      "provenance": [],
      "authorship_tag": "ABX9TyNniUGLMgYIs6oxeU4Ny0te",
      "include_colab_link": true
    },
    "kernelspec": {
      "name": "python3",
      "display_name": "Python 3"
    },
    "language_info": {
      "name": "python"
    }
  },
  "cells": [
    {
      "cell_type": "markdown",
      "metadata": {
        "id": "view-in-github",
        "colab_type": "text"
      },
      "source": [
        "<a href=\"https://colab.research.google.com/github/k2-fsa/colab/blob/master/sherpa-onnx/sherpa_onnx_python_streaming_websocket_server.ipynb\" target=\"_parent\"><img src=\"https://colab.research.google.com/assets/colab-badge.svg\" alt=\"Open In Colab\"/></a>"
      ]
    },
    {
      "cell_type": "markdown",
      "source": [
        "# Introduction"
      ],
      "metadata": {
        "id": "Aq3weQGb2Aju"
      }
    },
    {
      "cell_type": "markdown",
      "source": [
        "This colab notebook shows how to run the Python streaming WebSocket server in [sherpa-onnx](https://github.com/k2-fsa/sherpa-onnx)\n",
        "\n",
        "\n",
        "Please refer to https://k2-fsa.github.io/sherpa/onnx/python/streaming-websocket-server.html for details.\n",
        "\n",
        "\n"
      ],
      "metadata": {
        "id": "aWQCexAZ2Ci2"
      }
    },
    {
      "cell_type": "markdown",
      "source": [
        "# Install sherpa-onnx"
      ],
      "metadata": {
        "id": "118DTiuy67Z-"
      }
    },
    {
      "cell_type": "code",
      "execution_count": 1,
      "metadata": {
        "colab": {
          "base_uri": "https://localhost:8080/"
        },
        "id": "iodkHrpv16iN",
        "outputId": "2df1350c-d649-4e2b-d74f-377209a3f997"
      },
      "outputs": [
        {
          "output_type": "stream",
          "name": "stdout",
          "text": [
            "Collecting sherpa-onnx\n",
            "  Downloading sherpa_onnx-1.7.2-cp310-cp310-manylinux_2_17_x86_64.manylinux2014_x86_64.whl (13.8 MB)\n",
            "\u001b[?25l     \u001b[90m━━━━━━━━━━━━━━━━━━━━━━━━━━━━━━━━━━━━━━━━\u001b[0m \u001b[32m0.0/13.8 MB\u001b[0m \u001b[31m?\u001b[0m eta \u001b[36m-:--:--\u001b[0m\r\u001b[2K     \u001b[91m━━\u001b[0m\u001b[91m╸\u001b[0m\u001b[90m━━━━━━━━━━━━━━━━━━━━━━━━━━━━━━━━━━━━━\u001b[0m \u001b[32m0.9/13.8 MB\u001b[0m \u001b[31m26.6 MB/s\u001b[0m eta \u001b[36m0:00:01\u001b[0m\r\u001b[2K     \u001b[91m━━━━━━━━━━━━\u001b[0m\u001b[90m╺\u001b[0m\u001b[90m━━━━━━━━━━━━━━━━━━━━━━━━━━━\u001b[0m \u001b[32m4.2/13.8 MB\u001b[0m \u001b[31m59.0 MB/s\u001b[0m eta \u001b[36m0:00:01\u001b[0m\r\u001b[2K     \u001b[91m━━━━━━━━━━━━━━━━━━━━━━━━━━━━━\u001b[0m\u001b[90m╺\u001b[0m\u001b[90m━━━━━━━━━\u001b[0m \u001b[32m10.4/13.8 MB\u001b[0m \u001b[31m113.9 MB/s\u001b[0m eta \u001b[36m0:00:01\u001b[0m\r\u001b[2K     \u001b[91m━━━━━━━━━━━━━━━━━━━━━━━━━━━━━━━━━━━━━━\u001b[0m\u001b[91m╸\u001b[0m \u001b[32m13.7/13.8 MB\u001b[0m \u001b[31m179.7 MB/s\u001b[0m eta \u001b[36m0:00:01\u001b[0m\r\u001b[2K     \u001b[90m━━━━━━━━━━━━━━━━━━━━━━━━━━━━━━━━━━━━━━━━\u001b[0m \u001b[32m13.8/13.8 MB\u001b[0m \u001b[31m99.2 MB/s\u001b[0m eta \u001b[36m0:00:00\u001b[0m\n",
            "\u001b[?25hRequirement already satisfied: numpy in /usr/local/lib/python3.10/dist-packages (from sherpa-onnx) (1.23.5)\n",
            "Collecting sentencepiece==0.1.96 (from sherpa-onnx)\n",
            "  Downloading sentencepiece-0.1.96-cp310-cp310-manylinux_2_17_x86_64.manylinux2014_x86_64.whl (1.2 MB)\n",
            "\u001b[2K     \u001b[90m━━━━━━━━━━━━━━━━━━━━━━━━━━━━━━━━━━━━━━━━\u001b[0m \u001b[32m1.2/1.2 MB\u001b[0m \u001b[31m52.6 MB/s\u001b[0m eta \u001b[36m0:00:00\u001b[0m\n",
            "\u001b[?25hInstalling collected packages: sentencepiece, sherpa-onnx\n",
            "Successfully installed sentencepiece-0.1.96 sherpa-onnx-1.7.2\n"
          ]
        }
      ],
      "source": [
        "! pip install sherpa-onnx"
      ]
    },
    {
      "cell_type": "markdown",
      "source": [
        "# Start the server"
      ],
      "metadata": {
        "id": "gZIt0Bzr8KAy"
      }
    },
    {
      "cell_type": "code",
      "source": [
        "! pip install websockets"
      ],
      "metadata": {
        "colab": {
          "base_uri": "https://localhost:8080/"
        },
        "id": "XLr6Jo4m8vx5",
        "outputId": "265c31c6-f708-4b3d-ed23-06f8e7678279"
      },
      "execution_count": 2,
      "outputs": [
        {
          "output_type": "stream",
          "name": "stdout",
          "text": [
            "Collecting websockets\n",
            "  Downloading websockets-11.0.3-cp310-cp310-manylinux_2_5_x86_64.manylinux1_x86_64.manylinux_2_17_x86_64.manylinux2014_x86_64.whl (129 kB)\n",
            "\u001b[?25l     \u001b[90m━━━━━━━━━━━━━━━━━━━━━━━━━━━━━━━━━━━━━━━━\u001b[0m \u001b[32m0.0/129.9 kB\u001b[0m \u001b[31m?\u001b[0m eta \u001b[36m-:--:--\u001b[0m\r\u001b[2K     \u001b[91m━━━━━━━━━━━━━━━━━━━━━━━━━━━━━━━━━━━━\u001b[0m\u001b[91m╸\u001b[0m\u001b[90m━━\u001b[0m \u001b[32m122.9/129.9 kB\u001b[0m \u001b[31m5.0 MB/s\u001b[0m eta \u001b[36m0:00:01\u001b[0m\r\u001b[2K     \u001b[90m━━━━━━━━━━━━━━━━━━━━━━━━━━━━━━━━━━━━━━━\u001b[0m \u001b[32m129.9/129.9 kB\u001b[0m \u001b[31m3.4 MB/s\u001b[0m eta \u001b[36m0:00:00\u001b[0m\n",
            "\u001b[?25hInstalling collected packages: websockets\n",
            "Successfully installed websockets-11.0.3\n"
          ]
        }
      ]
    },
    {
      "cell_type": "code",
      "source": [
        "%%shell\n",
        "git clone https://github.com/k2-fsa/sherpa-onnx\n",
        "cd sherpa-onnx\n",
        "\n",
        "GIT_LFS_SKIP_SMUDGE=1 git clone https://huggingface.co/csukuangfj/sherpa-onnx-streaming-zipformer-en-2023-06-26\n",
        "cd sherpa-onnx-streaming-zipformer-en-2023-06-26\n",
        "git lfs pull --include \"*.onnx\"\n",
        "cd ..\n",
        "\n",
        "nohup python3 ./python-api-examples/streaming_server.py \\\n",
        "  --encoder-model ./sherpa-onnx-streaming-zipformer-en-2023-06-26/encoder-epoch-99-avg-1-chunk-16-left-128.onnx \\\n",
        "  --decoder-model ./sherpa-onnx-streaming-zipformer-en-2023-06-26/decoder-epoch-99-avg-1-chunk-16-left-128.onnx \\\n",
        "  --joiner-model ./sherpa-onnx-streaming-zipformer-en-2023-06-26/joiner-epoch-99-avg-1-chunk-16-left-128.onnx \\\n",
        "  --tokens ./sherpa-onnx-streaming-zipformer-en-2023-06-26/tokens.txt \\\n",
        "  --port 6006 > output.log &"
      ],
      "metadata": {
        "colab": {
          "base_uri": "https://localhost:8080/"
        },
        "id": "iYSV6poQ8MJR",
        "outputId": "e826404c-9041-405f-fc31-80e6ee87fb03"
      },
      "execution_count": 3,
      "outputs": [
        {
          "output_type": "stream",
          "name": "stdout",
          "text": [
            "Cloning into 'sherpa-onnx'...\n",
            "remote: Enumerating objects: 2672, done.\u001b[K\n",
            "remote: Counting objects: 100% (1140/1140), done.\u001b[K\n",
            "remote: Compressing objects: 100% (459/459), done.\u001b[K\n",
            "remote: Total 2672 (delta 793), reused 838 (delta 670), pack-reused 1532\u001b[K\n",
            "Receiving objects: 100% (2672/2672), 1.93 MiB | 9.82 MiB/s, done.\n",
            "Resolving deltas: 100% (1534/1534), done.\n",
            "Cloning into 'sherpa-onnx-streaming-zipformer-en-2023-06-26'...\n",
            "remote: Enumerating objects: 27, done.\u001b[K\n",
            "remote: Counting objects: 100% (27/27), done.\u001b[K\n",
            "remote: Compressing objects: 100% (24/24), done.\u001b[K\n",
            "remote: Total 27 (delta 2), reused 27 (delta 2), pack-reused 0\u001b[K\n",
            "Unpacking objects: 100% (27/27), 667.63 KiB | 6.42 MiB/s, done.\n",
            "nohup: redirecting stderr to stdout\n"
          ]
        },
        {
          "output_type": "execute_result",
          "data": {
            "text/plain": []
          },
          "metadata": {},
          "execution_count": 3
        }
      ]
    },
    {
      "cell_type": "markdown",
      "source": [
        "## Start the client"
      ],
      "metadata": {
        "id": "cwXvpXJY8iyE"
      }
    },
    {
      "cell_type": "code",
      "source": [
        "%%shell\n",
        "\n",
        "# sleep 10 seconds to wait for the server startup\n",
        "sleep 10\n",
        "\n",
        "cd sherpa-onnx\n",
        "\n",
        "cat ./output.log\n",
        "\n",
        "python3 ./python-api-examples/online-websocket-client-decode-file.py \\\n",
        "  --server-addr localhost \\\n",
        "  --server-port 6006 \\\n",
        "  ./sherpa-onnx-streaming-zipformer-en-2023-06-26/test_wavs/0.wav"
      ],
      "metadata": {
        "colab": {
          "base_uri": "https://localhost:8080/"
        },
        "id": "mtj70vp16-N3",
        "outputId": "b962d7cb-b9c0-4991-d369-e9025c517af3"
      },
      "execution_count": 4,
      "outputs": [
        {
          "output_type": "stream",
          "name": "stdout",
          "text": [
            "2023-08-11 09:42:44,848 INFO [streaming_server.py:678] {'encoder_model': './sherpa-onnx-streaming-zipformer-en-2023-06-26/encoder-epoch-99-avg-1-chunk-16-left-128.onnx', 'decoder_model': './sherpa-onnx-streaming-zipformer-en-2023-06-26/decoder-epoch-99-avg-1-chunk-16-left-128.onnx', 'joiner_model': './sherpa-onnx-streaming-zipformer-en-2023-06-26/joiner-epoch-99-avg-1-chunk-16-left-128.onnx', 'tokens': './sherpa-onnx-streaming-zipformer-en-2023-06-26/tokens.txt', 'sample_rate': 16000, 'feat_dim': 80, 'provider': 'cpu', 'decoding_method': 'greedy_search', 'num_active_paths': 4, 'use_endpoint': 1, 'rule1_min_trailing_silence': 2.4, 'rule2_min_trailing_silence': 1.2, 'rule3_min_utterance_length': 20, 'port': 6006, 'nn_pool_size': 1, 'max_batch_size': 50, 'max_wait_ms': 10, 'max_message_size': 1048576, 'max_queue_size': 32, 'max_active_connections': 500, 'num_threads': 2, 'certificate': None, 'doc_root': './python-api-examples/web'}\n",
            "2023-08-11 09:42:54,197 INFO [streaming_server.py:520] No certificate provided\n",
            "2023-08-11 09:42:54,216 INFO [server.py:711] server listening on [::]:6006\n",
            "2023-08-11 09:42:54,216 INFO [server.py:711] server listening on 0.0.0.0:6006\n",
            "2023-08-11 09:42:54,216 INFO [streaming_server.py:546] Please visit one of the following addresses:\n",
            "\n",
            "  http://localhost:6006\n",
            "\n",
            "Since you are not providing a certificate, you cannot use your microphone from within the browser using public IP addresses. Only localhost can be used.You also cannot use 0.0.0.0 or 127.0.0.1\n",
            "2023-08-11 09:42:54,856 INFO [online-websocket-client-decode-file.py:159] {'server_addr': 'localhost', 'server_port': 6006, 'samples_per_message': 8000, 'seconds_per_message': 0.1, 'sound_file': './sherpa-onnx-streaming-zipformer-en-2023-06-26/test_wavs/0.wav'}\n",
            "2023-08-11 09:42:54,864 INFO [online-websocket-client-decode-file.py:133] Sending ./sherpa-onnx-streaming-zipformer-en-2023-06-26/test_wavs/0.wav\n",
            "2023-08-11 09:42:54,950 INFO [online-websocket-client-decode-file.py:115] {\"text\": \"\", \"segment\": 0}\n",
            "2023-08-11 09:42:55,046 INFO [online-websocket-client-decode-file.py:115] {\"text\": \"\", \"segment\": 0}\n",
            "2023-08-11 09:42:55,145 INFO [online-websocket-client-decode-file.py:115] {\"text\": \"AFTER\", \"segment\": 0}\n",
            "2023-08-11 09:42:55,230 INFO [online-websocket-client-decode-file.py:115] {\"text\": \"AFTER EARLY\", \"segment\": 0}\n",
            "2023-08-11 09:42:55,322 INFO [online-websocket-client-decode-file.py:115] {\"text\": \"AFTER EARLY\", \"segment\": 0}\n",
            "2023-08-11 09:42:55,417 INFO [online-websocket-client-decode-file.py:115] {\"text\": \"AFTER EARLY NIGHTFA\", \"segment\": 0}\n",
            "2023-08-11 09:42:55,514 INFO [online-websocket-client-decode-file.py:115] {\"text\": \"AFTER EARLY NIGHTFALL THE\", \"segment\": 0}\n",
            "2023-08-11 09:42:55,597 INFO [online-websocket-client-decode-file.py:115] {\"text\": \"AFTER EARLY NIGHTFALL THE YELLOW LA\", \"segment\": 0}\n",
            "2023-08-11 09:42:55,699 INFO [online-websocket-client-decode-file.py:115] {\"text\": \"AFTER EARLY NIGHTFALL THE YELLOW LAMPS\", \"segment\": 0}\n",
            "2023-08-11 09:42:55,779 INFO [online-websocket-client-decode-file.py:115] {\"text\": \"AFTER EARLY NIGHTFALL THE YELLOW LAMPS WOULD LIGHT\", \"segment\": 0}\n",
            "2023-08-11 09:42:55,864 INFO [online-websocket-client-decode-file.py:115] {\"text\": \"AFTER EARLY NIGHTFALL THE YELLOW LAMPS WOULD LIGHT UP\", \"segment\": 0}\n",
            "2023-08-11 09:42:55,951 INFO [online-websocket-client-decode-file.py:115] {\"text\": \"AFTER EARLY NIGHTFALL THE YELLOW LAMPS WOULD LIGHT UP HERE\", \"segment\": 0}\n",
            "2023-08-11 09:42:56,044 INFO [online-websocket-client-decode-file.py:115] {\"text\": \"AFTER EARLY NIGHTFALL THE YELLOW LAMPS WOULD LIGHT UP HERE AND THERE\", \"segment\": 0}\n",
            "2023-08-11 09:42:56,117 INFO [online-websocket-client-decode-file.py:115] {\"text\": \"AFTER EARLY NIGHTFALL THE YELLOW LAMPS WOULD LIGHT UP HERE AND THERE\", \"segment\": 0}\n",
            "2023-08-11 09:42:56,202 INFO [online-websocket-client-decode-file.py:115] {\"text\": \"AFTER EARLY NIGHTFALL THE YELLOW LAMPS WOULD LIGHT UP HERE AND THERE THE SQUA\", \"segment\": 0}\n",
            "2023-08-11 09:42:56,279 INFO [online-websocket-client-decode-file.py:115] {\"text\": \"AFTER EARLY NIGHTFALL THE YELLOW LAMPS WOULD LIGHT UP HERE AND THERE THE SQUALID\", \"segment\": 0}\n",
            "2023-08-11 09:42:56,374 INFO [online-websocket-client-decode-file.py:115] {\"text\": \"AFTER EARLY NIGHTFALL THE YELLOW LAMPS WOULD LIGHT UP HERE AND THERE THE SQUALID QUAR\", \"segment\": 0}\n",
            "2023-08-11 09:42:56,452 INFO [online-websocket-client-decode-file.py:115] {\"text\": \"AFTER EARLY NIGHTFALL THE YELLOW LAMPS WOULD LIGHT UP HERE AND THERE THE SQUALID QUARTER OF\", \"segment\": 0}\n",
            "2023-08-11 09:42:56,550 INFO [online-websocket-client-decode-file.py:115] {\"text\": \"AFTER EARLY NIGHTFALL THE YELLOW LAMPS WOULD LIGHT UP HERE AND THERE THE SQUALID QUARTER OF THE BRO\", \"segment\": 0}\n",
            "2023-08-11 09:42:56,630 INFO [online-websocket-client-decode-file.py:115] {\"text\": \"AFTER EARLY NIGHTFALL THE YELLOW LAMPS WOULD LIGHT UP HERE AND THERE THE SQUALID QUARTER OF THE BROTHEL\", \"segment\": 0}\n",
            "2023-08-11 09:42:56,712 INFO [online-websocket-client-decode-file.py:115] {\"text\": \"AFTER EARLY NIGHTFALL THE YELLOW LAMPS WOULD LIGHT UP HERE AND THERE THE SQUALID QUARTER OF THE BROTHELS\", \"segment\": 0}\n",
            "2023-08-11 09:42:56,713 INFO [online-websocket-client-decode-file.py:154] \n",
            "Final result is:\n",
            "{\"text\": \"AFTER EARLY NIGHTFALL THE YELLOW LAMPS WOULD LIGHT UP HERE AND THERE THE SQUALID QUARTER OF THE BROTHELS\", \"segment\": 0}\n"
          ]
        },
        {
          "output_type": "execute_result",
          "data": {
            "text/plain": []
          },
          "metadata": {},
          "execution_count": 4
        }
      ]
    },
    {
      "cell_type": "code",
      "source": [],
      "metadata": {
        "id": "sa8xszbV9zr6"
      },
      "execution_count": 4,
      "outputs": []
    }
  ]
}
