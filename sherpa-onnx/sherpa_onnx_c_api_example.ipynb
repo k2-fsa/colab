{
  "nbformat": 4,
  "nbformat_minor": 0,
  "metadata": {
    "colab": {
      "provenance": [],
      "toc_visible": true,
      "authorship_tag": "ABX9TyOE5TB/t6SaBi4vW8kU+WN4",
      "include_colab_link": true
    },
    "kernelspec": {
      "name": "python3",
      "display_name": "Python 3"
    },
    "language_info": {
      "name": "python"
    }
  },
  "cells": [
    {
      "cell_type": "markdown",
      "metadata": {
        "id": "view-in-github",
        "colab_type": "text"
      },
      "source": [
        "<a href=\"https://colab.research.google.com/github/k2-fsa/colab/blob/master/sherpa-onnx/sherpa_onnx_c_api_example.ipynb\" target=\"_parent\"><img src=\"https://colab.research.google.com/assets/colab-badge.svg\" alt=\"Open In Colab\"/></a>"
      ]
    },
    {
      "cell_type": "markdown",
      "source": [
        "# Introduction\n",
        "\n",
        "This colab notebook shows how to use the C API from [sherpa-onnx][sherpa-onnx].\n",
        "\n",
        "Please refer to\n",
        "https://k2-fsa.github.io/sherpa/onnx/c-api/index.html\n",
        "for details\n",
        "\n",
        "[sherpa-onnx]: https://github.com/k2-fsa/sherpa-onnx"
      ],
      "metadata": {
        "id": "OpyLAiACnK45"
      }
    },
    {
      "cell_type": "markdown",
      "source": [
        "# Install sherpa-onnx\n",
        "\n",
        "First, let us build `sherpa-onnx` to generate required libraries and header files.\n",
        "\n",
        "We will build shared libraries in the colab notebook.\n",
        "\n",
        "Please refer to\n",
        "https://k2-fsa.github.io/sherpa/onnx/c-api/index.html\n",
        "for how to build static libraries."
      ],
      "metadata": {
        "id": "qVL5U7SBnhnL"
      }
    },
    {
      "cell_type": "code",
      "execution_count": 1,
      "metadata": {
        "colab": {
          "base_uri": "https://localhost:8080/"
        },
        "id": "iGUvHv3MnDz9",
        "outputId": "818c9f8f-73aa-4c1b-d0fa-9daf407d881e"
      },
      "outputs": [
        {
          "output_type": "stream",
          "name": "stdout",
          "text": [
            "Cloning into 'sherpa-onnx'...\n",
            "remote: Enumerating objects: 2619, done.\u001b[K\n",
            "remote: Counting objects: 100% (1072/1072), done.\u001b[K\n",
            "remote: Compressing objects: 100% (435/435), done.\u001b[K\n",
            "remote: Total 2619 (delta 751), reused 775 (delta 626), pack-reused 1547\u001b[K\n",
            "Receiving objects: 100% (2619/2619), 1.89 MiB | 7.14 MiB/s, done.\n",
            "Resolving deltas: 100% (1505/1505), done.\n",
            "-- The C compiler identification is GNU 11.4.0\n",
            "-- The CXX compiler identification is GNU 11.4.0\n",
            "-- Detecting C compiler ABI info\n",
            "-- Detecting C compiler ABI info - done\n",
            "-- Check for working C compiler: /usr/bin/cc - skipped\n",
            "-- Detecting C compile features\n",
            "-- Detecting C compile features - done\n",
            "-- Detecting CXX compiler ABI info\n",
            "-- Detecting CXX compiler ABI info - done\n",
            "-- Check for working CXX compiler: /usr/bin/c++ - skipped\n",
            "-- Detecting CXX compile features\n",
            "-- Detecting CXX compile features - done\n",
            "-- CMAKE_BUILD_TYPE: Release\n",
            "-- CMAKE_INSTALL_PREFIX: /tmp/sherpa-onnx/shared\n",
            "-- BUILD_SHARED_LIBS ON\n",
            "-- SHERPA_ONNX_ENABLE_PYTHON OFF\n",
            "-- SHERPA_ONNX_ENABLE_TESTS OFF\n",
            "-- SHERPA_ONNX_ENABLE_CHECK OFF\n",
            "-- SHERPA_ONNX_ENABLE_PORTAUDIO ON\n",
            "-- SHERPA_ONNX_ENABLE_JNI OFF\n",
            "-- SHERPA_ONNX_ENABLE_C_API ON\n",
            "-- SHERPA_ONNX_ENABLE_WEBSOCKET ON\n",
            "-- SHERPA_ONNX_ENABLE_GPU OFF\n",
            "-- Looking for C++ include alsa/asoundlib.h\n",
            "-- Looking for C++ include alsa/asoundlib.h - found\n",
            "-- Looking for C++ include cxxabi.h\n",
            "-- Looking for C++ include cxxabi.h - found\n",
            "-- Looking for C++ include execinfo.h\n",
            "-- Looking for C++ include execinfo.h - found\n",
            "-- Downloading kaldi-native-fbank from https://github.com/csukuangfj/kaldi-native-fbank/archive/refs/tags/v1.18.1.tar.gz\n",
            "-- kaldi-native-fbank is downloaded to /content/sherpa-onnx/build-shared/_deps/kaldi_native_fbank-src\n",
            "-- kaldi-native-fbank's binary dir is /content/sherpa-onnx/build-shared/_deps/kaldi_native_fbank-build\n",
            "-- CMAKE_BUILD_TYPE: Release\n",
            "-- CMAKE_EXPORT_COMPILE_COMMANDS: \n",
            "-- BUILD_SHARED_LIBS: ON\n",
            "-- KALDI_NATIVE_FBANK_BUILD_TESTS: OFF\n",
            "-- KALDI_NATIVE_FBANK_BUILD_PYTHON: OFF\n",
            "-- KALDI_NATIVE_FBANK_ENABLE_CHECK: OFF\n",
            "-- KALDI_NATIVE_FBANK_ENABLE_CHECK: OFF\n",
            "-- CMAKE_CXX_FLAGS: \n",
            "-- CMAKE_INSTALL_PREFIX: /tmp/sherpa-onnx/shared\n",
            "-- Looking for C++ include cxxabi.h\n",
            "-- Looking for C++ include cxxabi.h - found\n",
            "-- Looking for C++ include execinfo.h\n",
            "-- Looking for C++ include execinfo.h - found\n",
            "-- Disable building Python\n",
            "-- CMAKE_SYSTEM_NAME: Linux\n",
            "-- CMAKE_SYSTEM_PROCESSOR: x86_64\n",
            "-- location_onnxruntime_header_dir: location_onnxruntime_header_dir-NOTFOUND\n",
            "-- location_onnxruntime_lib: location_onnxruntime_lib-NOTFOUND\n",
            "-- Could not find a pre-installed onnxruntime. Downloading pre-compiled onnxruntime\n",
            "-- CMAKE_SYSTEM_NAME: Linux\n",
            "-- CMAKE_SYSTEM_PROCESSOR: x86_64\n",
            "-- CMAKE_SYSTEM_NAME: Linux\n",
            "-- CMAKE_SYSTEM_PROCESSOR: x86_64\n",
            "-- Downloading onnxruntime from https://github.com/microsoft/onnxruntime/releases/download/v1.15.1/onnxruntime-linux-x64-1.15.1.tgz\n",
            "-- onnxruntime is downloaded to /content/sherpa-onnx/build-shared/_deps/onnxruntime-src\n",
            "-- location_onnxruntime: /content/sherpa-onnx/build-shared/_deps/onnxruntime-src/lib/libonnxruntime.so\n",
            "-- onnxruntime lib files: /content/sherpa-onnx/build-shared/_deps/onnxruntime-src/lib/libonnxruntime.so;/content/sherpa-onnx/build-shared/_deps/onnxruntime-src/lib/libonnxruntime.so.1.15.1\n",
            "-- Downloading portaudio from http://files.portaudio.com/archives/pa_stable_v190700_20210406.tgz\n",
            "-- portaudio is downloaded to /content/sherpa-onnx/build-shared/_deps/portaudio-src\n",
            "-- portaudio's binary dir is /content/sherpa-onnx/build-shared/_deps/portaudio-build\n",
            "\u001b[0mCMake Deprecation Warning at build-shared/_deps/portaudio-src/CMakeLists.txt:7 (CMAKE_MINIMUM_REQUIRED):\n",
            "  Compatibility with CMake < 2.8.12 will be removed from a future version of\n",
            "  CMake.\n",
            "\n",
            "  Update the VERSION argument <min> value or use a ...<max> suffix to tell\n",
            "  CMake that the project does not need compatibility with older versions.\n",
            "\n",
            "\u001b[0m\n",
            "-- Found ALSA: /usr/lib/x86_64-linux-gnu/libasound.so (found version \"1.2.6.1\") \n",
            "-- Downloading websocketpp from https://github.com/zaphoyd/websocketpp/archive/b9aeec6eaf3d5610503439b4fae3581d9aff08e8.zip\n",
            "-- websocketpp is downloaded to /content/sherpa-onnx/build-shared/_deps/websocketpp-src\n",
            "-- Downloading asio https://github.com/chriskohlhoff/asio/archive/refs/tags/asio-1-24-0.tar.gz\n",
            "-- asio is downloaded to /content/sherpa-onnx/build-shared/_deps/asio-src\n",
            "-- Downloading json from https://github.com/nlohmann/json/archive/refs/tags/v3.11.2.tar.gz\n",
            "-- json is downloaded to /content/sherpa-onnx/build-shared/_deps/json-src\n",
            "-- Downloading cargs https://github.com/likle/cargs/archive/refs/tags/v1.0.3.tar.gz\n",
            "-- cargs is downloaded to /content/sherpa-onnx/build-shared/_deps/cargs-src\n",
            "-- CMAKE_CXX_FLAGS: \n",
            "-- Configuring done\n",
            "-- Generating done\n",
            "-- Build files have been written to: /content/sherpa-onnx/build-shared\n",
            "[  1%] \u001b[32mBuilding C object _deps/portaudio-build/CMakeFiles/portaudio.dir/src/common/pa_converters.c.o\u001b[0m\n",
            "[  2%] \u001b[32mBuilding CXX object _deps/kaldi_native_fbank-build/kaldi-native-fbank/csrc/CMakeFiles/kaldi-native-fbank-core.dir/feature-fbank.cc.o\u001b[0m\n",
            "[  2%] \u001b[32mBuilding C object _deps/cargs-build/CMakeFiles/cargs.dir/src/cargs.c.o\u001b[0m\n",
            "[  3%] \u001b[32mBuilding CXX object _deps/kaldi_native_fbank-build/kaldi-native-fbank/csrc/CMakeFiles/kaldi-native-fbank-core.dir/feature-functions.cc.o\u001b[0m\n",
            "[  4%] \u001b[32mBuilding C object _deps/portaudio-build/CMakeFiles/portaudio.dir/src/common/pa_allocation.c.o\u001b[0m\n",
            "[  5%] \u001b[32mBuilding C object _deps/portaudio-build/CMakeFiles/portaudio.dir/src/common/pa_cpuload.c.o\u001b[0m\n",
            "[  6%] \u001b[32mBuilding C object _deps/portaudio-build/CMakeFiles/portaudio.dir/src/common/pa_debugprint.c.o\u001b[0m\n",
            "[  7%] \u001b[32mBuilding C object _deps/portaudio-build/CMakeFiles/portaudio.dir/src/common/pa_dither.c.o\u001b[0m\n",
            "[  8%] \u001b[32mBuilding C object _deps/portaudio-build/CMakeFiles/portaudio.dir/src/common/pa_front.c.o\u001b[0m\n",
            "[  9%] \u001b[32mBuilding CXX object _deps/kaldi_native_fbank-build/kaldi-native-fbank/csrc/CMakeFiles/kaldi-native-fbank-core.dir/feature-window.cc.o\u001b[0m\n",
            "[ 10%] \u001b[32m\u001b[1mLinking C shared library ../../lib/libcargs.so\u001b[0m\n",
            "[ 11%] \u001b[32mBuilding C object _deps/kaldi_native_fbank-build/kaldi-native-fbank/csrc/CMakeFiles/kaldi-native-fbank-core.dir/fftsg.c.o\u001b[0m\n",
            "[ 11%] Built target cargs\n",
            "[ 12%] \u001b[32mBuilding C object _deps/portaudio-build/CMakeFiles/portaudio.dir/src/common/pa_process.c.o\u001b[0m\n",
            "[ 12%] \u001b[32mBuilding C object _deps/portaudio-build/CMakeFiles/portaudio.dir/src/common/pa_ringbuffer.c.o\u001b[0m\n",
            "[ 13%] \u001b[32mBuilding C object _deps/portaudio-build/CMakeFiles/portaudio.dir/src/common/pa_stream.c.o\u001b[0m\n",
            "[ 14%] \u001b[32mBuilding CXX object _deps/kaldi_native_fbank-build/kaldi-native-fbank/csrc/CMakeFiles/kaldi-native-fbank-core.dir/mel-computations.cc.o\u001b[0m\n",
            "[ 15%] \u001b[32mBuilding C object _deps/portaudio-build/CMakeFiles/portaudio.dir/src/common/pa_trace.c.o\u001b[0m\n",
            "[ 16%] \u001b[32mBuilding C object _deps/portaudio-build/CMakeFiles/portaudio.dir/src/hostapi/skeleton/pa_hostapi_skeleton.c.o\u001b[0m\n",
            "[ 17%] \u001b[32mBuilding C object _deps/portaudio-build/CMakeFiles/portaudio.dir/src/os/unix/pa_unix_hostapis.c.o\u001b[0m\n",
            "[ 18%] \u001b[32mBuilding C object _deps/portaudio-build/CMakeFiles/portaudio.dir/src/os/unix/pa_unix_util.c.o\u001b[0m\n",
            "[ 19%] \u001b[32mBuilding CXX object _deps/kaldi_native_fbank-build/kaldi-native-fbank/csrc/CMakeFiles/kaldi-native-fbank-core.dir/online-feature.cc.o\u001b[0m\n",
            "[ 20%] \u001b[32mBuilding C object _deps/portaudio-build/CMakeFiles/portaudio.dir/src/hostapi/jack/pa_jack.c.o\u001b[0m\n",
            "[ 20%] \u001b[32mBuilding CXX object _deps/kaldi_native_fbank-build/kaldi-native-fbank/csrc/CMakeFiles/kaldi-native-fbank-core.dir/rfft.cc.o\u001b[0m\n",
            "[ 21%] \u001b[32mBuilding CXX object _deps/kaldi_native_fbank-build/kaldi-native-fbank/csrc/CMakeFiles/kaldi-native-fbank-core.dir/whisper-feature.cc.o\u001b[0m\n",
            "[ 22%] \u001b[32mBuilding C object _deps/portaudio-build/CMakeFiles/portaudio.dir/src/hostapi/alsa/pa_linux_alsa.c.o\u001b[0m\n",
            "[ 23%] \u001b[32m\u001b[1mLinking CXX shared library ../../../../lib/libkaldi-native-fbank-core.so\u001b[0m\n",
            "[ 23%] Built target kaldi-native-fbank-core\n",
            "[ 24%] \u001b[32mBuilding CXX object sherpa-onnx/csrc/CMakeFiles/sherpa-onnx-core.dir/base64-decode.cc.o\u001b[0m\n",
            "[ 25%] \u001b[32mBuilding CXX object sherpa-onnx/csrc/CMakeFiles/sherpa-onnx-core.dir/cat.cc.o\u001b[0m\n",
            "[ 26%] \u001b[32mBuilding CXX object sherpa-onnx/csrc/CMakeFiles/sherpa-onnx-core.dir/context-graph.cc.o\u001b[0m\n",
            "[ 27%] \u001b[32mBuilding CXX object sherpa-onnx/csrc/CMakeFiles/sherpa-onnx-core.dir/endpoint.cc.o\u001b[0m\n",
            "[ 27%] \u001b[32mBuilding CXX object sherpa-onnx/csrc/CMakeFiles/sherpa-onnx-core.dir/features.cc.o\u001b[0m\n",
            "\u001b[01m\u001b[K/content/sherpa-onnx/build-shared/_deps/portaudio-src/src/hostapi/alsa/pa_linux_alsa.c:\u001b[m\u001b[K In function ‘\u001b[01m\u001b[KBuildDeviceList.constprop\u001b[m\u001b[K’:\n",
            "\u001b[01m\u001b[K/content/sherpa-onnx/build-shared/_deps/portaudio-src/src/hostapi/alsa/pa_linux_alsa.c:1304:45:\u001b[m\u001b[K \u001b[01;35m\u001b[Kwarning: \u001b[m\u001b[K‘\u001b[01m\u001b[K%s\u001b[m\u001b[K’ directive output may be truncated writing up to 49 bytes into a region of size between 46 and 50 [\u001b[01;35m\u001b[K\u001b]8;;https://gcc.gnu.org/onlinedocs/gcc/Warning-Options.html#index-Wformat-truncation=\u0007-Wformat-truncation=\u001b]8;;\u0007\u001b[m\u001b[K]\n",
            " 1304 |             snprintf( buf, sizeof (buf), \"%s\u001b[01;35m\u001b[K%s\u001b[m\u001b[K,%d\", hwPrefix, \u001b[32m\u001b[KalsaCardName\u001b[m\u001b[K, devIdx );\n",
            "      |                                             \u001b[01;35m\u001b[K^~\u001b[m\u001b[K                \u001b[32m\u001b[K~~~~~~~~~~~~\u001b[m\u001b[K\n",
            "\u001b[01m\u001b[K/content/sherpa-onnx/build-shared/_deps/portaudio-src/src/hostapi/alsa/pa_linux_alsa.c:1304:42:\u001b[m\u001b[K \u001b[01;36m\u001b[Knote: \u001b[m\u001b[Kdirective argument in the range [0, 2147483647]\n",
            " 1304 |             snprintf( buf, sizeof (buf), \u001b[01;36m\u001b[K\"%s%s,%d\"\u001b[m\u001b[K, hwPrefix, alsaCardName, devIdx );\n",
            "      |                                          \u001b[01;36m\u001b[K^~~~~~~~~\u001b[m\u001b[K\n",
            "In file included from \u001b[01m\u001b[K/usr/include/stdio.h:894\u001b[m\u001b[K,\n",
            "                 from \u001b[01m\u001b[K/usr/include/alsa/asoundlib.h:32\u001b[m\u001b[K,\n",
            "                 from \u001b[01m\u001b[K/content/sherpa-onnx/build-shared/_deps/portaudio-src/src/hostapi/alsa/pa_linux_alsa.c:52\u001b[m\u001b[K:\n",
            "\u001b[01m\u001b[K/usr/include/x86_64-linux-gnu/bits/stdio2.h:71:10:\u001b[m\u001b[K \u001b[01;36m\u001b[Knote: \u001b[m\u001b[K‘\u001b[01m\u001b[K__builtin___snprintf_chk\u001b[m\u001b[K’ output between 3 and 65 bytes into a destination of size 50\n",
            "   71 |   return \u001b[01;36m\u001b[K__builtin___snprintf_chk (__s, __n, __USE_FORTIFY_LEVEL - 1,\u001b[m\u001b[K\n",
            "      |          \u001b[01;36m\u001b[K^~~~~~~~~~~~~~~~~~~~~~~~~~~~~~~~~~~~~~~~~~~~~~~~~~~~~~~~~~~~\u001b[m\u001b[K\n",
            "   72 | \u001b[01;36m\u001b[K                                   __glibc_objsize (__s), __fmt,\u001b[m\u001b[K\n",
            "      |                                    \u001b[01;36m\u001b[K~~~~~~~~~~~~~~~~~~~~~~~~~~~~~\u001b[m\u001b[K\n",
            "   73 | \u001b[01;36m\u001b[K                                   __va_arg_pack ())\u001b[m\u001b[K;\n",
            "      |                                    \u001b[01;36m\u001b[K~~~~~~~~~~~~~~~~~\u001b[m\u001b[K\n",
            "[ 28%] \u001b[32mBuilding CXX object sherpa-onnx/csrc/CMakeFiles/sherpa-onnx-core.dir/file-utils.cc.o\u001b[0m\n",
            "[ 29%] \u001b[32m\u001b[1mLinking C shared library ../../lib/libsherpa-onnx-portaudio.so\u001b[0m\n",
            "[ 29%] Built target portaudio\n",
            "[ 30%] \u001b[32mBuilding CXX object sherpa-onnx/csrc/CMakeFiles/sherpa-onnx-core.dir/hypothesis.cc.o\u001b[0m\n",
            "[ 31%] \u001b[32mBuilding CXX object sherpa-onnx/csrc/CMakeFiles/sherpa-onnx-core.dir/offline-ctc-greedy-search-decoder.cc.o\u001b[0m\n",
            "[ 32%] \u001b[32mBuilding CXX object sherpa-onnx/csrc/CMakeFiles/sherpa-onnx-core.dir/offline-ctc-model.cc.o\u001b[0m\n",
            "[ 33%] \u001b[32mBuilding CXX object sherpa-onnx/csrc/CMakeFiles/sherpa-onnx-core.dir/offline-lm-config.cc.o\u001b[0m\n",
            "[ 34%] \u001b[32mBuilding CXX object sherpa-onnx/csrc/CMakeFiles/sherpa-onnx-core.dir/offline-lm.cc.o\u001b[0m\n",
            "[ 35%] \u001b[32mBuilding CXX object sherpa-onnx/csrc/CMakeFiles/sherpa-onnx-core.dir/offline-model-config.cc.o\u001b[0m\n",
            "[ 36%] \u001b[32mBuilding CXX object sherpa-onnx/csrc/CMakeFiles/sherpa-onnx-core.dir/offline-nemo-enc-dec-ctc-model-config.cc.o\u001b[0m\n",
            "[ 37%] \u001b[32mBuilding CXX object sherpa-onnx/csrc/CMakeFiles/sherpa-onnx-core.dir/offline-nemo-enc-dec-ctc-model.cc.o\u001b[0m\n",
            "[ 37%] \u001b[32mBuilding CXX object sherpa-onnx/csrc/CMakeFiles/sherpa-onnx-core.dir/offline-paraformer-greedy-search-decoder.cc.o\u001b[0m\n",
            "[ 38%] \u001b[32mBuilding CXX object sherpa-onnx/csrc/CMakeFiles/sherpa-onnx-core.dir/offline-paraformer-model-config.cc.o\u001b[0m\n",
            "[ 39%] \u001b[32mBuilding CXX object sherpa-onnx/csrc/CMakeFiles/sherpa-onnx-core.dir/offline-paraformer-model.cc.o\u001b[0m\n",
            "[ 40%] \u001b[32mBuilding CXX object sherpa-onnx/csrc/CMakeFiles/sherpa-onnx-core.dir/offline-recognizer-impl.cc.o\u001b[0m\n",
            "[ 41%] \u001b[32mBuilding CXX object sherpa-onnx/csrc/CMakeFiles/sherpa-onnx-core.dir/offline-recognizer.cc.o\u001b[0m\n",
            "[ 42%] \u001b[32mBuilding CXX object sherpa-onnx/csrc/CMakeFiles/sherpa-onnx-core.dir/offline-rnn-lm.cc.o\u001b[0m\n",
            "[ 43%] \u001b[32mBuilding CXX object sherpa-onnx/csrc/CMakeFiles/sherpa-onnx-core.dir/offline-stream.cc.o\u001b[0m\n",
            "[ 44%] \u001b[32mBuilding CXX object sherpa-onnx/csrc/CMakeFiles/sherpa-onnx-core.dir/offline-transducer-greedy-search-decoder.cc.o\u001b[0m\n",
            "[ 45%] \u001b[32mBuilding CXX object sherpa-onnx/csrc/CMakeFiles/sherpa-onnx-core.dir/offline-transducer-model-config.cc.o\u001b[0m\n",
            "[ 46%] \u001b[32mBuilding CXX object sherpa-onnx/csrc/CMakeFiles/sherpa-onnx-core.dir/offline-transducer-model.cc.o\u001b[0m\n",
            "[ 46%] \u001b[32mBuilding CXX object sherpa-onnx/csrc/CMakeFiles/sherpa-onnx-core.dir/offline-transducer-modified-beam-search-decoder.cc.o\u001b[0m\n",
            "[ 47%] \u001b[32mBuilding CXX object sherpa-onnx/csrc/CMakeFiles/sherpa-onnx-core.dir/offline-whisper-greedy-search-decoder.cc.o\u001b[0m\n",
            "[ 48%] \u001b[32mBuilding CXX object sherpa-onnx/csrc/CMakeFiles/sherpa-onnx-core.dir/offline-whisper-model-config.cc.o\u001b[0m\n",
            "[ 49%] \u001b[32mBuilding CXX object sherpa-onnx/csrc/CMakeFiles/sherpa-onnx-core.dir/offline-whisper-model.cc.o\u001b[0m\n",
            "[ 50%] \u001b[32mBuilding CXX object sherpa-onnx/csrc/CMakeFiles/sherpa-onnx-core.dir/online-conformer-transducer-model.cc.o\u001b[0m\n",
            "[ 51%] \u001b[32mBuilding CXX object sherpa-onnx/csrc/CMakeFiles/sherpa-onnx-core.dir/online-lm-config.cc.o\u001b[0m\n",
            "[ 52%] \u001b[32mBuilding CXX object sherpa-onnx/csrc/CMakeFiles/sherpa-onnx-core.dir/online-lm.cc.o\u001b[0m\n",
            "[ 53%] \u001b[32mBuilding CXX object sherpa-onnx/csrc/CMakeFiles/sherpa-onnx-core.dir/online-lstm-transducer-model.cc.o\u001b[0m\n",
            "[ 54%] \u001b[32mBuilding CXX object sherpa-onnx/csrc/CMakeFiles/sherpa-onnx-core.dir/online-model-config.cc.o\u001b[0m\n",
            "[ 55%] \u001b[32mBuilding CXX object sherpa-onnx/csrc/CMakeFiles/sherpa-onnx-core.dir/online-recognizer-impl.cc.o\u001b[0m\n",
            "[ 55%] \u001b[32mBuilding CXX object sherpa-onnx/csrc/CMakeFiles/sherpa-onnx-core.dir/online-recognizer.cc.o\u001b[0m\n",
            "[ 56%] \u001b[32mBuilding CXX object sherpa-onnx/csrc/CMakeFiles/sherpa-onnx-core.dir/online-rnn-lm.cc.o\u001b[0m\n",
            "[ 57%] \u001b[32mBuilding CXX object sherpa-onnx/csrc/CMakeFiles/sherpa-onnx-core.dir/online-stream.cc.o\u001b[0m\n",
            "[ 58%] \u001b[32mBuilding CXX object sherpa-onnx/csrc/CMakeFiles/sherpa-onnx-core.dir/online-transducer-decoder.cc.o\u001b[0m\n",
            "[ 59%] \u001b[32mBuilding CXX object sherpa-onnx/csrc/CMakeFiles/sherpa-onnx-core.dir/online-transducer-greedy-search-decoder.cc.o\u001b[0m\n",
            "[ 60%] \u001b[32mBuilding CXX object sherpa-onnx/csrc/CMakeFiles/sherpa-onnx-core.dir/online-transducer-model-config.cc.o\u001b[0m\n",
            "[ 61%] \u001b[32mBuilding CXX object sherpa-onnx/csrc/CMakeFiles/sherpa-onnx-core.dir/online-transducer-model.cc.o\u001b[0m\n",
            "[ 62%] \u001b[32mBuilding CXX object sherpa-onnx/csrc/CMakeFiles/sherpa-onnx-core.dir/online-transducer-modified-beam-search-decoder.cc.o\u001b[0m\n",
            "[ 63%] \u001b[32mBuilding CXX object sherpa-onnx/csrc/CMakeFiles/sherpa-onnx-core.dir/online-zipformer-transducer-model.cc.o\u001b[0m\n",
            "[ 64%] \u001b[32mBuilding CXX object sherpa-onnx/csrc/CMakeFiles/sherpa-onnx-core.dir/online-zipformer2-transducer-model.cc.o\u001b[0m\n",
            "[ 64%] \u001b[32mBuilding CXX object sherpa-onnx/csrc/CMakeFiles/sherpa-onnx-core.dir/onnx-utils.cc.o\u001b[0m\n",
            "[ 65%] \u001b[32mBuilding CXX object sherpa-onnx/csrc/CMakeFiles/sherpa-onnx-core.dir/packed-sequence.cc.o\u001b[0m\n",
            "[ 66%] \u001b[32mBuilding CXX object sherpa-onnx/csrc/CMakeFiles/sherpa-onnx-core.dir/pad-sequence.cc.o\u001b[0m\n",
            "[ 67%] \u001b[32mBuilding CXX object sherpa-onnx/csrc/CMakeFiles/sherpa-onnx-core.dir/parse-options.cc.o\u001b[0m\n",
            "[ 68%] \u001b[32mBuilding CXX object sherpa-onnx/csrc/CMakeFiles/sherpa-onnx-core.dir/provider.cc.o\u001b[0m\n",
            "[ 69%] \u001b[32mBuilding CXX object sherpa-onnx/csrc/CMakeFiles/sherpa-onnx-core.dir/resample.cc.o\u001b[0m\n",
            "[ 70%] \u001b[32mBuilding CXX object sherpa-onnx/csrc/CMakeFiles/sherpa-onnx-core.dir/session.cc.o\u001b[0m\n",
            "[ 71%] \u001b[32mBuilding CXX object sherpa-onnx/csrc/CMakeFiles/sherpa-onnx-core.dir/slice.cc.o\u001b[0m\n",
            "[ 72%] \u001b[32mBuilding CXX object sherpa-onnx/csrc/CMakeFiles/sherpa-onnx-core.dir/stack.cc.o\u001b[0m\n",
            "[ 73%] \u001b[32mBuilding CXX object sherpa-onnx/csrc/CMakeFiles/sherpa-onnx-core.dir/symbol-table.cc.o\u001b[0m\n",
            "[ 73%] \u001b[32mBuilding CXX object sherpa-onnx/csrc/CMakeFiles/sherpa-onnx-core.dir/text-utils.cc.o\u001b[0m\n",
            "In file included from \u001b[01m\u001b[K/usr/include/c++/11/backward/strstream:50\u001b[m\u001b[K,\n",
            "                 from \u001b[01m\u001b[K/content/sherpa-onnx/sherpa-onnx/csrc/symbol-table.cc:10\u001b[m\u001b[K:\n",
            "\u001b[01m\u001b[K/usr/include/c++/11/backward/backward_warning.h:32:2:\u001b[m\u001b[K \u001b[01;35m\u001b[Kwarning: \u001b[m\u001b[K#warning This file includes at least one deprecated or antiquated header which may be removed without further notice at a future date. Please use a non-deprecated interface with equivalent functionality instead. For a listing of replacement headers and interfaces, consult the file backward_warning.h. To disable this warning use -Wno-deprecated. [\u001b[01;35m\u001b[K\u001b]8;;https://gcc.gnu.org/onlinedocs/gcc/Warning-Options.html#index-Wcpp\u0007-Wcpp\u001b]8;;\u0007\u001b[m\u001b[K]\n",
            "   32 | #\u001b[01;35m\u001b[Kwarning\u001b[m\u001b[K \\\n",
            "      |  \u001b[01;35m\u001b[K^~~~~~~\u001b[m\u001b[K\n",
            "[ 74%] \u001b[32mBuilding CXX object sherpa-onnx/csrc/CMakeFiles/sherpa-onnx-core.dir/transpose.cc.o\u001b[0m\n",
            "[ 75%] \u001b[32mBuilding CXX object sherpa-onnx/csrc/CMakeFiles/sherpa-onnx-core.dir/unbind.cc.o\u001b[0m\n",
            "[ 76%] \u001b[32mBuilding CXX object sherpa-onnx/csrc/CMakeFiles/sherpa-onnx-core.dir/wave-reader.cc.o\u001b[0m\n",
            "[ 77%] \u001b[32m\u001b[1mLinking CXX shared library ../../lib/libsherpa-onnx-core.so\u001b[0m\n",
            "[ 77%] Built target sherpa-onnx-core\n",
            "[ 78%] \u001b[32mBuilding CXX object sherpa-onnx/csrc/CMakeFiles/sherpa-onnx.dir/sherpa-onnx.cc.o\u001b[0m\n",
            "[ 80%] \u001b[32mBuilding CXX object sherpa-onnx/csrc/CMakeFiles/sherpa-onnx-offline.dir/sherpa-onnx-offline.cc.o\u001b[0m\n",
            "[ 80%] \u001b[32mBuilding CXX object sherpa-onnx/csrc/CMakeFiles/sherpa-onnx-alsa.dir/sherpa-onnx-alsa.cc.o\u001b[0m\n",
            "[ 81%] \u001b[32mBuilding CXX object sherpa-onnx/csrc/CMakeFiles/sherpa-onnx-microphone-offline.dir/sherpa-onnx-microphone-offline.cc.o\u001b[0m\n",
            "[ 82%] \u001b[32mBuilding CXX object sherpa-onnx/csrc/CMakeFiles/sherpa-onnx-online-websocket-server.dir/online-websocket-server-impl.cc.o\u001b[0m\n",
            "[ 83%] \u001b[32mBuilding CXX object sherpa-onnx/csrc/CMakeFiles/sherpa-onnx-microphone.dir/sherpa-onnx-microphone.cc.o\u001b[0m\n",
            "[ 84%] \u001b[32m\u001b[1mLinking CXX executable ../../bin/sherpa-onnx-offline\u001b[0m\n",
            "[ 84%] Built target sherpa-onnx-offline\n",
            "[ 85%] \u001b[32mBuilding CXX object sherpa-onnx/csrc/CMakeFiles/sherpa-onnx-microphone.dir/microphone.cc.o\u001b[0m\n",
            "[ 86%] \u001b[32mBuilding CXX object sherpa-onnx/csrc/CMakeFiles/sherpa-onnx-microphone-offline.dir/microphone.cc.o\u001b[0m\n",
            "[ 87%] \u001b[32mBuilding CXX object sherpa-onnx/csrc/CMakeFiles/sherpa-onnx-alsa.dir/alsa.cc.o\u001b[0m\n",
            "[ 87%] \u001b[32m\u001b[1mLinking CXX executable ../../bin/sherpa-onnx-microphone-offline\u001b[0m\n",
            "[ 87%] Built target sherpa-onnx-microphone-offline\n",
            "[ 88%] \u001b[32mBuilding CXX object sherpa-onnx/csrc/CMakeFiles/sherpa-onnx-online-websocket-client.dir/online-websocket-client.cc.o\u001b[0m\n",
            "[ 89%] \u001b[32m\u001b[1mLinking CXX executable ../../bin/sherpa-onnx-microphone\u001b[0m\n",
            "[ 89%] \u001b[32m\u001b[1mLinking CXX executable ../../bin/sherpa-onnx\u001b[0m\n",
            "[ 90%] \u001b[32mBuilding CXX object sherpa-onnx/csrc/CMakeFiles/sherpa-onnx-offline-websocket-server.dir/offline-websocket-server-impl.cc.o\u001b[0m\n",
            "[ 90%] Built target sherpa-onnx-microphone\n",
            "[ 91%] \u001b[32mBuilding CXX object sherpa-onnx/csrc/CMakeFiles/sherpa-onnx-offline-websocket-server.dir/offline-websocket-server.cc.o\u001b[0m\n",
            "[ 91%] Built target sherpa-onnx\n",
            "[ 92%] \u001b[32mBuilding CXX object sherpa-onnx/c-api/CMakeFiles/sherpa-onnx-c-api.dir/c-api.cc.o\u001b[0m\n",
            "[ 93%] \u001b[32m\u001b[1mLinking CXX executable ../../bin/sherpa-onnx-alsa\u001b[0m\n",
            "[ 93%] Built target sherpa-onnx-alsa\n",
            "[ 94%] \u001b[32mBuilding CXX object sherpa-onnx/csrc/CMakeFiles/sherpa-onnx-online-websocket-server.dir/online-websocket-server.cc.o\u001b[0m\n",
            "[ 95%] \u001b[32m\u001b[1mLinking CXX shared library ../../lib/libsherpa-onnx-c-api.so\u001b[0m\n",
            "[ 95%] Built target sherpa-onnx-c-api\n",
            "[ 96%] \u001b[32mBuilding C object c-api-examples/CMakeFiles/decode-file-c-api.dir/decode-file-c-api.c.o\u001b[0m\n",
            "[ 97%] \u001b[32m\u001b[1mLinking C executable ../bin/decode-file-c-api\u001b[0m\n",
            "[ 97%] Built target decode-file-c-api\n",
            "[ 98%] \u001b[32m\u001b[1mLinking CXX executable ../../bin/sherpa-onnx-online-websocket-server\u001b[0m\n",
            "[ 98%] Built target sherpa-onnx-online-websocket-server\n",
            "[ 99%] \u001b[32m\u001b[1mLinking CXX executable ../../bin/sherpa-onnx-offline-websocket-server\u001b[0m\n",
            "[ 99%] Built target sherpa-onnx-offline-websocket-server\n",
            "[100%] \u001b[32m\u001b[1mLinking CXX executable ../../bin/sherpa-onnx-online-websocket-client\u001b[0m\n",
            "[100%] Built target sherpa-onnx-online-websocket-client\n",
            "[  8%] Built target kaldi-native-fbank-core\n",
            "[ 61%] Built target sherpa-onnx-core\n",
            "[ 62%] Built target sherpa-onnx\n",
            "[ 64%] Built target sherpa-onnx-offline\n",
            "[ 67%] Built target sherpa-onnx-alsa\n",
            "[ 82%] Built target portaudio\n",
            "[ 85%] Built target sherpa-onnx-microphone\n",
            "[ 87%] Built target sherpa-onnx-microphone-offline\n",
            "[ 90%] Built target sherpa-onnx-online-websocket-server\n",
            "[ 92%] Built target sherpa-onnx-online-websocket-client\n",
            "[ 95%] Built target sherpa-onnx-offline-websocket-server\n",
            "[ 97%] Built target sherpa-onnx-c-api\n",
            "[ 98%] Built target cargs\n",
            "[100%] Built target decode-file-c-api\n",
            "\u001b[36mInstall the project...\u001b[0m\n",
            "-- Install configuration: \"Release\"\n",
            "-- Installing: /tmp/sherpa-onnx/shared/lib/libkaldi-native-fbank-core.so\n",
            "-- Set runtime path of \"/tmp/sherpa-onnx/shared/lib/libkaldi-native-fbank-core.so\" to \"$ORIGIN\"\n",
            "-- Installing: /tmp/sherpa-onnx/shared/lib/libonnxruntime.so\n",
            "-- Installing: /tmp/sherpa-onnx/shared/lib/libonnxruntime.so.1.15.1\n",
            "-- Installing: /tmp/sherpa-onnx/shared/lib/libsherpa-onnx-portaudio.so\n",
            "-- Set runtime path of \"/tmp/sherpa-onnx/shared/lib/libsherpa-onnx-portaudio.so\" to \"$ORIGIN\"\n",
            "-- Installing: /tmp/sherpa-onnx/shared/./sherpa-onnx.pc\n",
            "-- Installing: /tmp/sherpa-onnx/shared/lib/libsherpa-onnx-core.so\n",
            "-- Set runtime path of \"/tmp/sherpa-onnx/shared/lib/libsherpa-onnx-core.so\" to \"$ORIGIN\"\n",
            "-- Installing: /tmp/sherpa-onnx/shared/bin/sherpa-onnx\n",
            "-- Set runtime path of \"/tmp/sherpa-onnx/shared/bin/sherpa-onnx\" to \"$ORIGIN\"\n",
            "-- Installing: /tmp/sherpa-onnx/shared/bin/sherpa-onnx-offline\n",
            "-- Set runtime path of \"/tmp/sherpa-onnx/shared/bin/sherpa-onnx-offline\" to \"$ORIGIN\"\n",
            "-- Installing: /tmp/sherpa-onnx/shared/bin/sherpa-onnx-alsa\n",
            "-- Set runtime path of \"/tmp/sherpa-onnx/shared/bin/sherpa-onnx-alsa\" to \"$ORIGIN\"\n",
            "-- Installing: /tmp/sherpa-onnx/shared/bin/sherpa-onnx-microphone\n",
            "-- Set runtime path of \"/tmp/sherpa-onnx/shared/bin/sherpa-onnx-microphone\" to \"$ORIGIN\"\n",
            "-- Installing: /tmp/sherpa-onnx/shared/bin/sherpa-onnx-microphone-offline\n",
            "-- Set runtime path of \"/tmp/sherpa-onnx/shared/bin/sherpa-onnx-microphone-offline\" to \"$ORIGIN\"\n",
            "-- Installing: /tmp/sherpa-onnx/shared/bin/sherpa-onnx-online-websocket-server\n",
            "-- Set runtime path of \"/tmp/sherpa-onnx/shared/bin/sherpa-onnx-online-websocket-server\" to \"$ORIGIN\"\n",
            "-- Installing: /tmp/sherpa-onnx/shared/bin/sherpa-onnx-online-websocket-client\n",
            "-- Set runtime path of \"/tmp/sherpa-onnx/shared/bin/sherpa-onnx-online-websocket-client\" to \"$ORIGIN\"\n",
            "-- Installing: /tmp/sherpa-onnx/shared/bin/sherpa-onnx-offline-websocket-server\n",
            "-- Set runtime path of \"/tmp/sherpa-onnx/shared/bin/sherpa-onnx-offline-websocket-server\" to \"$ORIGIN\"\n",
            "-- Installing: /tmp/sherpa-onnx/shared/lib/libsherpa-onnx-c-api.so\n",
            "-- Set runtime path of \"/tmp/sherpa-onnx/shared/lib/libsherpa-onnx-c-api.so\" to \"$ORIGIN\"\n",
            "-- Installing: /tmp/sherpa-onnx/shared/include/sherpa-onnx/c-api/c-api.h\n",
            "-- Installing: /tmp/sherpa-onnx/shared/lib/libcargs.so\n",
            "-- Set runtime path of \"/tmp/sherpa-onnx/shared/lib/libcargs.so\" to \"$ORIGIN\"\n",
            "-- Installing: /tmp/sherpa-onnx/shared/lib/cargs.h\n",
            "-- Installing: /tmp/sherpa-onnx/shared/include/cargs.h\n"
          ]
        },
        {
          "output_type": "execute_result",
          "data": {
            "text/plain": []
          },
          "metadata": {},
          "execution_count": 1
        }
      ],
      "source": [
        "%%shell\n",
        "\n",
        "# We will install sherpa-onnx into\n",
        "# /tmp/sherpa-onnx/shared\n",
        "\n",
        "git clone https://github.com/k2-fsa/sherpa-onnx\n",
        "cd sherpa-onnx\n",
        "\n",
        "mkdir build-shared\n",
        "cd build-shared\n",
        "\n",
        "cmake \\\n",
        "  -DSHERPA_ONNX_ENABLE_C_API=ON \\\n",
        "  -DCMAKE_BUILD_TYPE=Release \\\n",
        "  -DBUILD_SHARED_LIBS=ON \\\n",
        "  -DCMAKE_INSTALL_PREFIX=/tmp/sherpa-onnx/shared \\\n",
        "  ..\n",
        "\n",
        "make -j\n",
        "make install"
      ]
    },
    {
      "cell_type": "code",
      "source": [
        "%%shell\n",
        "sudo apt-get install tree\n",
        "tree /tmp/sherpa-onnx/shared"
      ],
      "metadata": {
        "colab": {
          "base_uri": "https://localhost:8080/"
        },
        "id": "h5S85Mbu4M4U",
        "outputId": "90739c2c-bf0b-45f5-f5f5-276de5c50cec"
      },
      "execution_count": 6,
      "outputs": [
        {
          "output_type": "stream",
          "name": "stdout",
          "text": [
            "Reading package lists... Done\n",
            "Building dependency tree... Done\n",
            "Reading state information... Done\n",
            "The following NEW packages will be installed:\n",
            "  tree\n",
            "0 upgraded, 1 newly installed, 0 to remove and 16 not upgraded.\n",
            "Need to get 47.9 kB of archives.\n",
            "After this operation, 116 kB of additional disk space will be used.\n",
            "Get:1 http://archive.ubuntu.com/ubuntu jammy/universe amd64 tree amd64 2.0.2-1 [47.9 kB]\n",
            "Fetched 47.9 kB in 0s (373 kB/s)\n",
            "debconf: unable to initialize frontend: Dialog\n",
            "debconf: (No usable dialog-like program is installed, so the dialog based frontend cannot be used. at /usr/share/perl5/Debconf/FrontEnd/Dialog.pm line 78, <> line 1.)\n",
            "debconf: falling back to frontend: Readline\n",
            "debconf: unable to initialize frontend: Readline\n",
            "debconf: (This frontend requires a controlling tty.)\n",
            "debconf: falling back to frontend: Teletype\n",
            "dpkg-preconfigure: unable to re-open stdin: \n",
            "Selecting previously unselected package tree.\n",
            "(Reading database ... 120511 files and directories currently installed.)\n",
            "Preparing to unpack .../tree_2.0.2-1_amd64.deb ...\n",
            "Unpacking tree (2.0.2-1) ...\n",
            "Setting up tree (2.0.2-1) ...\n",
            "Processing triggers for man-db (2.10.2-1) ...\n",
            "\u001b[01;34m/tmp/sherpa-onnx/shared\u001b[0m\n",
            "├── \u001b[01;34mbin\u001b[0m\n",
            "│   ├── \u001b[01;32msherpa-onnx\u001b[0m\n",
            "│   ├── \u001b[01;32msherpa-onnx-alsa\u001b[0m\n",
            "│   ├── \u001b[01;32msherpa-onnx-microphone\u001b[0m\n",
            "│   ├── \u001b[01;32msherpa-onnx-microphone-offline\u001b[0m\n",
            "│   ├── \u001b[01;32msherpa-onnx-offline\u001b[0m\n",
            "│   ├── \u001b[01;32msherpa-onnx-offline-websocket-server\u001b[0m\n",
            "│   ├── \u001b[01;32msherpa-onnx-online-websocket-client\u001b[0m\n",
            "│   └── \u001b[01;32msherpa-onnx-online-websocket-server\u001b[0m\n",
            "├── \u001b[01;34minclude\u001b[0m\n",
            "│   ├── \u001b[00mcargs.h\u001b[0m\n",
            "│   └── \u001b[01;34msherpa-onnx\u001b[0m\n",
            "│       └── \u001b[01;34mc-api\u001b[0m\n",
            "│           └── \u001b[00mc-api.h\u001b[0m\n",
            "├── \u001b[01;34mlib\u001b[0m\n",
            "│   ├── \u001b[00mcargs.h\u001b[0m\n",
            "│   ├── \u001b[00mlibcargs.so\u001b[0m\n",
            "│   ├── \u001b[00mlibkaldi-native-fbank-core.so\u001b[0m\n",
            "│   ├── \u001b[01;36mlibonnxruntime.so\u001b[0m -> \u001b[00mlibonnxruntime.so.1.15.1\u001b[0m\n",
            "│   ├── \u001b[00mlibonnxruntime.so.1.15.1\u001b[0m\n",
            "│   ├── \u001b[00mlibsherpa-onnx-c-api.so\u001b[0m\n",
            "│   ├── \u001b[00mlibsherpa-onnx-core.so\u001b[0m\n",
            "│   └── \u001b[00mlibsherpa-onnx-portaudio.so\u001b[0m\n",
            "└── \u001b[00msherpa-onnx.pc\u001b[0m\n",
            "\n",
            "5 directories, 19 files\n"
          ]
        },
        {
          "output_type": "execute_result",
          "data": {
            "text/plain": []
          },
          "metadata": {},
          "execution_count": 6
        }
      ]
    },
    {
      "cell_type": "markdown",
      "source": [
        "# pkg-config"
      ],
      "metadata": {
        "id": "dzJ8HkB0phOa"
      }
    },
    {
      "cell_type": "markdown",
      "source": [
        "`sherpa-onnx` supports [pkg-config](https://en.wikipedia.org/wiki/Pkg-config)."
      ],
      "metadata": {
        "id": "Ft0gPYxdpkdr"
      }
    },
    {
      "cell_type": "code",
      "source": [
        "%%shell\n",
        "\n",
        "# We need to set the environment variable PKG_CONFIG_PATH\n",
        "# to tell pkg-config where sherpa-onnx locates\n",
        "export PKG_CONFIG_PATH=/tmp/sherpa-onnx/shared:$PKG_CONFIG_PATH\n",
        "\n",
        "# Show cflags for gcc\n",
        "pkg-config --cflags sherpa-onnx\n",
        "\n",
        "# Show libs for gcc\n",
        "pkg-config --libs sherpa-onnx\n"
      ],
      "metadata": {
        "colab": {
          "base_uri": "https://localhost:8080/"
        },
        "id": "exxEXddEoPca",
        "outputId": "dcbdf5b6-f20d-460b-a019-0e01f7f6fa1f"
      },
      "execution_count": 2,
      "outputs": [
        {
          "output_type": "stream",
          "name": "stdout",
          "text": [
            "-I/tmp/sherpa-onnx/shared/include\n",
            "-L/tmp/sherpa-onnx/shared/lib -lsherpa-onnx-c-api -lsherpa-onnx-core -lonnxruntime -lkaldi-native-fbank-core -lcargs -Wl,-rpath,/tmp/sherpa-onnx/shared/lib\n"
          ]
        },
        {
          "output_type": "execute_result",
          "data": {
            "text/plain": []
          },
          "metadata": {},
          "execution_count": 2
        }
      ]
    },
    {
      "cell_type": "markdown",
      "source": [
        "# Build C API exmaple"
      ],
      "metadata": {
        "id": "sjJnvstsqyFY"
      }
    },
    {
      "cell_type": "markdown",
      "source": [
        "We have provided a file\n",
        "https://github.com/k2-fsa/sherpa-onnx/blob/master/c-api-examples/decode-file-c-api.c\n",
        "to demonstrate how to use the C API of `sherpa-onnx`.\n",
        "\n",
        "In the following, we describe how to build it."
      ],
      "metadata": {
        "id": "u9LjboKTq4E1"
      }
    },
    {
      "cell_type": "code",
      "source": [
        "%%shell\n",
        "\n",
        "# We need to set the environment variable PKG_CONFIG_PATH\n",
        "# to tell pkg-config where sherpa-onnx locates\n",
        "export PKG_CONFIG_PATH=/tmp/sherpa-onnx/shared:$PKG_CONFIG_PATH\n",
        "\n",
        "cd sherpa-onnx/c-api-examples/\n",
        "gcc -o decode-file-c-api $(pkg-config --cflags sherpa-onnx) ./decode-file-c-api.c $(pkg-config --libs sherpa-onnx)\n",
        "\n",
        "ls -lh\n",
        "\n",
        "file decode-file-c-api\n",
        "\n",
        "ldd decode-file-c-api\n",
        "\n",
        "./decode-file-c-api --help\n"
      ],
      "metadata": {
        "colab": {
          "base_uri": "https://localhost:8080/"
        },
        "id": "yoeRs03Ep9lh",
        "outputId": "c34dc340-531a-426d-bebe-f9252e0f7a43"
      },
      "execution_count": 3,
      "outputs": [
        {
          "output_type": "stream",
          "name": "stdout",
          "text": [
            "total 44K\n",
            "-rw-r--r-- 1 root root  176 Aug 10 05:16 CMakeLists.txt\n",
            "-rwxr-xr-x 1 root root  22K Aug 10 05:19 decode-file-c-api\n",
            "-rw-r--r-- 1 root root 5.9K Aug 10 05:16 decode-file-c-api.c\n",
            "-rw-r--r-- 1 root root  399 Aug 10 05:16 Makefile\n",
            "-rwxr-xr-x 1 root root 1.3K Aug 10 05:16 run.sh\n",
            "decode-file-c-api: ELF 64-bit LSB pie executable, x86-64, version 1 (SYSV), dynamically linked, interpreter /lib64/ld-linux-x86-64.so.2, BuildID[sha1]=0f58ca6805b1ea5e37ad52490fd3d2da27a59d16, for GNU/Linux 3.2.0, not stripped\n",
            "\tlinux-vdso.so.1 (0x00007ffefef9d000)\n",
            "\tlibsherpa-onnx-c-api.so => /tmp/sherpa-onnx/shared/lib/libsherpa-onnx-c-api.so (0x00007ad984253000)\n",
            "\tlibcargs.so => /tmp/sherpa-onnx/shared/lib/libcargs.so (0x00007ad98424e000)\n",
            "\tlibc.so.6 => /lib/x86_64-linux-gnu/libc.so.6 (0x00007ad984011000)\n",
            "\tlibsherpa-onnx-core.so => /tmp/sherpa-onnx/shared/lib/libsherpa-onnx-core.so (0x00007ad983f4e000)\n",
            "\tlibonnxruntime.so.1.15.1 => /tmp/sherpa-onnx/shared/lib/libonnxruntime.so.1.15.1 (0x00007ad982f58000)\n",
            "\tlibstdc++.so.6 => /lib/x86_64-linux-gnu/libstdc++.so.6 (0x00007ad982d2a000)\n",
            "\tlibgcc_s.so.1 => /lib/x86_64-linux-gnu/libgcc_s.so.1 (0x00007ad982d0a000)\n",
            "\t/lib64/ld-linux-x86-64.so.2 (0x00007ad984263000)\n",
            "\tlibkaldi-native-fbank-core.so => /tmp/sherpa-onnx/shared/lib/libkaldi-native-fbank-core.so (0x00007ad982ce4000)\n",
            "\tlibm.so.6 => /lib/x86_64-linux-gnu/libm.so.6 (0x00007ad982bfd000)\n",
            "\tlibdl.so.2 => /lib/x86_64-linux-gnu/libdl.so.2 (0x00007ad982bf8000)\n",
            "\tlibrt.so.1 => /lib/x86_64-linux-gnu/librt.so.1 (0x00007ad982bf1000)\n",
            "\tlibpthread.so.0 => /lib/x86_64-linux-gnu/libpthread.so.0 (0x00007ad982bec000)\n",
            "\n",
            "Usage:\n",
            "   ./bin/decode-file-c-api \\\n",
            "    --tokens=/path/to/tokens.txt \\\n",
            "    --encoder=/path/to/encoder.onnx \\\n",
            "    --decoder=/path/to/decoder.onnx \\\n",
            "    --joiner=/path/to/joiner.onnx \\\n",
            "    --provider=cpu \\\n",
            "    /path/to/foo.wav\n",
            "\n",
            "\n",
            "Default num_threads is 1.\n",
            "Valid decoding_method: greedy_search (default), modified_beam_search\n",
            "\n",
            "Valid provider: cpu (default), cuda, coreml\n",
            "\n",
            "Please refer to \n",
            "https://k2-fsa.github.io/sherpa/onnx/pretrained_models/online-transducer/index.html\n",
            "for a list of pre-trained models to download.\n",
            "\n",
            "Note that this file supports only streaming transducer models.\n",
            "\n"
          ]
        },
        {
          "output_type": "execute_result",
          "data": {
            "text/plain": []
          },
          "metadata": {},
          "execution_count": 3
        }
      ]
    },
    {
      "cell_type": "markdown",
      "source": [
        "## Test with pre-trained models"
      ],
      "metadata": {
        "id": "fnYQzwomunvc"
      }
    },
    {
      "cell_type": "markdown",
      "source": [
        "The provided `decode-file-c-api.c` supports only streaming transducer models, though C APIs do also support non-streaming models. Please see\n",
        "https://github.com/k2-fsa/sherpa-onnx/blob/master/sherpa-onnx/c-api/c-api.h\n",
        "for available C APIs.\n",
        "\n",
        "In the following, we describe how to use the generated exectuable `decode-file-c-api` to decode files.\n",
        "\n",
        "First, let us follow the above output to download pre-trained models.\n",
        "\n",
        "We use\n",
        "https://k2-fsa.github.io/sherpa/onnx/pretrained_models/online-transducer/zipformer-transducer-models.html#csukuangfj-sherpa-onnx-streaming-zipformer-en-2023-06-26-english\n",
        "as an example below."
      ],
      "metadata": {
        "id": "E28bjIJhsfdl"
      }
    },
    {
      "cell_type": "code",
      "source": [
        "%%shell\n",
        "\n",
        "sudo apt-get install git-lfs\n",
        "cd sherpa-onnx/c-api-examples/\n",
        "\n",
        "GIT_LFS_SKIP_SMUDGE=1 git clone https://huggingface.co/csukuangfj/sherpa-onnx-streaming-zipformer-en-2023-06-26\n",
        "cd sherpa-onnx-streaming-zipformer-en-2023-06-26\n",
        "git lfs pull --include \"*.onnx\"\n",
        "ls -lh *.onnx\n",
        "cd ..\n",
        "\n",
        "echo \"-----------test fp32 models---------\"\n",
        "# fp32\n",
        "./decode-file-c-api \\\n",
        "  --tokens=./sherpa-onnx-streaming-zipformer-en-2023-06-26/tokens.txt \\\n",
        "  --encoder=./sherpa-onnx-streaming-zipformer-en-2023-06-26/encoder-epoch-99-avg-1-chunk-16-left-64.onnx \\\n",
        "  --decoder=./sherpa-onnx-streaming-zipformer-en-2023-06-26/decoder-epoch-99-avg-1-chunk-16-left-64.onnx \\\n",
        "  --joiner=./sherpa-onnx-streaming-zipformer-en-2023-06-26/joiner-epoch-99-avg-1-chunk-16-left-64.onnx \\\n",
        "  ./sherpa-onnx-streaming-zipformer-en-2023-06-26/test_wavs/0.wav\n",
        "\n",
        "echo \"-----------test int8 models---------\"\n",
        "\n",
        "# int8\n",
        "./decode-file-c-api \\\n",
        "  --tokens=./sherpa-onnx-streaming-zipformer-en-2023-06-26/tokens.txt \\\n",
        "  --encoder=./sherpa-onnx-streaming-zipformer-en-2023-06-26/encoder-epoch-99-avg-1-chunk-16-left-64.int8.onnx \\\n",
        "  --decoder=./sherpa-onnx-streaming-zipformer-en-2023-06-26/decoder-epoch-99-avg-1-chunk-16-left-64.int8.onnx \\\n",
        "  --joiner=./sherpa-onnx-streaming-zipformer-en-2023-06-26/joiner-epoch-99-avg-1-chunk-16-left-64.int8.onnx \\\n",
        "  ./sherpa-onnx-streaming-zipformer-en-2023-06-26/test_wavs/0.wav\n"
      ],
      "metadata": {
        "colab": {
          "base_uri": "https://localhost:8080/"
        },
        "id": "JuvGU5-Yse35",
        "outputId": "9fa68d03-996e-4de1-dc1c-07bc069d3e48"
      },
      "execution_count": 4,
      "outputs": [
        {
          "output_type": "stream",
          "name": "stdout",
          "text": [
            "Reading package lists... Done\n",
            "Building dependency tree... Done\n",
            "Reading state information... Done\n",
            "git-lfs is already the newest version (3.0.2-1ubuntu0.2).\n",
            "0 upgraded, 0 newly installed, 0 to remove and 16 not upgraded.\n",
            "Cloning into 'sherpa-onnx-streaming-zipformer-en-2023-06-26'...\n",
            "remote: Enumerating objects: 27, done.\u001b[K\n",
            "remote: Counting objects: 100% (27/27), done.\u001b[K\n",
            "remote: Compressing objects: 100% (24/24), done.\u001b[K\n",
            "remote: Total 27 (delta 2), reused 27 (delta 2), pack-reused 0\u001b[K\n",
            "Unpacking objects: 100% (27/27), 667.63 KiB | 6.74 MiB/s, done.\n",
            "-rw-r--r-- 1 root root  1.3M Aug 10 05:19 decoder-epoch-99-avg-1-chunk-16-left-128.int8.onnx\n",
            "-rw-r--r-- 1 root root  2.0M Aug 10 05:19 decoder-epoch-99-avg-1-chunk-16-left-128.onnx\n",
            "-rw-r--r-- 1 root root  1.3M Aug 10 05:19 decoder-epoch-99-avg-1-chunk-16-left-64.int8.onnx\n",
            "-rw-r--r-- 1 root root  2.0M Aug 10 05:19 decoder-epoch-99-avg-1-chunk-16-left-64.onnx\n",
            "-rw-r--r-- 1 root root   68M Aug 10 05:19 encoder-epoch-99-avg-1-chunk-16-left-128.int8.onnx\n",
            "-rw-r--r-- 1 root root  250M Aug 10 05:19 encoder-epoch-99-avg-1-chunk-16-left-128.onnx\n",
            "-rw-r--r-- 1 root root   68M Aug 10 05:19 encoder-epoch-99-avg-1-chunk-16-left-64.int8.onnx\n",
            "-rw-r--r-- 1 root root  250M Aug 10 05:19 encoder-epoch-99-avg-1-chunk-16-left-64.onnx\n",
            "-rw-r--r-- 1 root root  254K Aug 10 05:19 joiner-epoch-99-avg-1-chunk-16-left-128.int8.onnx\n",
            "-rw-r--r-- 1 root root 1003K Aug 10 05:19 joiner-epoch-99-avg-1-chunk-16-left-128.onnx\n",
            "-rw-r--r-- 1 root root  254K Aug 10 05:19 joiner-epoch-99-avg-1-chunk-16-left-64.int8.onnx\n",
            "-rw-r--r-- 1 root root 1003K Aug 10 05:19 joiner-epoch-99-avg-1-chunk-16-left-64.onnx\n",
            "-----------test fp32 models---------\n",
            "0: AFTER EARLY NIGHTFALL THE YELLOW LAMPS WOULD LIGHT\n",
            "0: AFTER EARLY NIGHTFALL THE YELLOW LAMPS WOULD LIGHT\n",
            "0: AFTER EARLY NIGHTFALL THE YELLOW LAMPS WOULD LIGHT\n",
            "0: AFTER EARLY NIGHTFALL THE YELLOW LAMPS WOULD LIGHT\n",
            "0: AFTER EARLY NIGHTFALL THE YELLOW LAMPS WOULD LIGHT\n",
            "0: AFTER EARLY NIGHTFALL THE YELLOW LAMPS WOULD LIGHT\n",
            "0: AFTER EARLY NIGHTFALL THE YELLOW LAMPS WOULD LIGHT\n",
            "0: AFTER EARLY NIGHTFALL THE YELLOW LAMPS WOULD LIGHT\n",
            "0: AFTER EARLY NIGHTFALL THE YELLOW LAMPS WOULD LIGHT\n",
            "0: AFTER EARLY NIGHTFALL THE YELLOW LAMPS WOULD LIGHT\n",
            "0: AFTER EARLY NIGHTFALL THE YELLOW LAMPS WOULD LIGHT\n",
            "0: AFTER EARLY NIGHTFALL THE YELLOW LAMPS WOULD LIGHT\n",
            "0: AFTER EARLY NIGHTFALL THE YELLOW LAMPS WOULD LIGHT\n",
            "0: AFTER EARLY NIGHTFALL THE YELLOW LAMPS WOULD LIGHT\n",
            "0: AFTER EARLY NIGHTFALL THE YELLOW LAMPS WOULD LIGHT\n",
            "0: AFTER EARLY NIGHTFALL THE YELLOW LAMPS WOULD LIGHT\n",
            "0: AFTER EARLY NIGHTFALL THE YELLOW LAMPS WOULD LIGHT\n",
            "  UP HERE AND THERE THE SQUALID QUARTER OF THE BROTHELS\n",
            "-----------test int8 models---------\n",
            "0: AFTER EARLY NIGHTFALL THE YELLOW LAMPS WOULD LIGHT\n",
            "0: AFTER EARLY NIGHTFALL THE YELLOW LAMPS WOULD LIGHT\n",
            "0: AFTER EARLY NIGHTFALL THE YELLOW LAMPS WOULD LIGHT\n",
            "0: AFTER EARLY NIGHTFALL THE YELLOW LAMPS WOULD LIGHT\n",
            "0: AFTER EARLY NIGHTFALL THE YELLOW LAMPS WOULD LIGHT\n",
            "0: AFTER EARLY NIGHTFALL THE YELLOW LAMPS WOULD LIGHT\n",
            "0: AFTER EARLY NIGHTFALL THE YELLOW LAMPS WOULD LIGHT\n",
            "0: AFTER EARLY NIGHTFALL THE YELLOW LAMPS WOULD LIGHT\n",
            "0: AFTER EARLY NIGHTFALL THE YELLOW LAMPS WOULD LIGHT\n",
            "0: AFTER EARLY NIGHTFALL THE YELLOW LAMPS WOULD LIGHT\n",
            "0: AFTER EARLY NIGHTFALL THE YELLOW LAMPS WOULD LIGHT\n",
            "0: AFTER EARLY NIGHTFALL THE YELLOW LAMPS WOULD LIGHT\n",
            "0: AFTER EARLY NIGHTFALL THE YELLOW LAMPS WOULD LIGHT\n",
            "0: AFTER EARLY NIGHTFALL THE YELLOW LAMPS WOULD LIGHT\n",
            "0: AFTER EARLY NIGHTFALL THE YELLOW LAMPS WOULD LIGHT\n",
            "0: AFTER EARLY NIGHTFALL THE YELLOW LAMPS WOULD LIGHT\n",
            "0: AFTER EARLY NIGHTFALL THE YELLOW LAMPS WOULD LIGHT\n",
            "  UP HERE AND THERE THE SQUALID QUARTER OF THE BROTHELS\n"
          ]
        },
        {
          "output_type": "execute_result",
          "data": {
            "text/plain": []
          },
          "metadata": {},
          "execution_count": 4
        }
      ]
    },
    {
      "cell_type": "code",
      "source": [],
      "metadata": {
        "id": "Ja-VImArrIPe"
      },
      "execution_count": 4,
      "outputs": []
    }
  ]
}
