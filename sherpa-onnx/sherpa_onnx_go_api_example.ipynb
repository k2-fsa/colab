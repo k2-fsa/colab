{
  "nbformat": 4,
  "nbformat_minor": 0,
  "metadata": {
    "colab": {
      "provenance": [],
      "authorship_tag": "ABX9TyOPWkAMnnDU/vQLS3LGDXmE",
      "include_colab_link": true
    },
    "kernelspec": {
      "name": "python3",
      "display_name": "Python 3"
    },
    "language_info": {
      "name": "python"
    }
  },
  "cells": [
    {
      "cell_type": "markdown",
      "metadata": {
        "id": "view-in-github",
        "colab_type": "text"
      },
      "source": [
        "<a href=\"https://colab.research.google.com/github/k2-fsa/colab/blob/master/sherpa-onnx/sherpa_onnx_go_api_example.ipynb\" target=\"_parent\"><img src=\"https://colab.research.google.com/assets/colab-badge.svg\" alt=\"Open In Colab\"/></a>"
      ]
    },
    {
      "cell_type": "markdown",
      "source": [
        "# Introduction\n",
        "\n",
        "This colab notebook shows how to run Go API examples with [sherpa-onnx](http://github.com/k2-fsa/sherpa-onnx).\n",
        "\n",
        "Please refer to\n",
        "https://k2-fsa.github.io/sherpa/onnx/go-api/index.html\n",
        "for details."
      ],
      "metadata": {
        "id": "oxfLncXvVBKH"
      }
    },
    {
      "cell_type": "markdown",
      "source": [
        "# Install go\n",
        "\n",
        "First, let us install Go."
      ],
      "metadata": {
        "id": "TgZbFHK-VJib"
      }
    },
    {
      "cell_type": "code",
      "execution_count": 1,
      "metadata": {
        "colab": {
          "base_uri": "https://localhost:8080/"
        },
        "id": "aRaHIWC871bL",
        "outputId": "c8fbc2cd-1b94-4ddb-f280-8a40e37c71f0"
      },
      "outputs": [
        {
          "output_type": "stream",
          "name": "stdout",
          "text": [
            "--2023-08-10 07:39:16--  https://go.dev/dl/go1.21.0.linux-amd64.tar.gz\n",
            "Resolving go.dev (go.dev)... 216.239.38.21, 216.239.34.21, 216.239.32.21, ...\n",
            "Connecting to go.dev (go.dev)|216.239.38.21|:443... connected.\n",
            "HTTP request sent, awaiting response... 302 Found\n",
            "Location: https://dl.google.com/go/go1.21.0.linux-amd64.tar.gz [following]\n",
            "--2023-08-10 07:39:16--  https://dl.google.com/go/go1.21.0.linux-amd64.tar.gz\n",
            "Resolving dl.google.com (dl.google.com)... 142.250.157.190, 142.250.157.91, 142.250.157.136, ...\n",
            "Connecting to dl.google.com (dl.google.com)|142.250.157.190|:443... connected.\n",
            "HTTP request sent, awaiting response... 200 OK\n",
            "Length: 66479500 (63M) [application/x-gzip]\n",
            "Saving to: ‘go1.21.0.linux-amd64.tar.gz’\n",
            "\n",
            "go1.21.0.linux-amd6 100%[===================>]  63.40M   131MB/s    in 0.5s    \n",
            "\n",
            "2023-08-10 07:39:17 (131 MB/s) - ‘go1.21.0.linux-amd64.tar.gz’ saved [66479500/66479500]\n",
            "\n",
            "go version go1.21.0 linux/amd64\n"
          ]
        },
        {
          "output_type": "execute_result",
          "data": {
            "text/plain": []
          },
          "metadata": {},
          "execution_count": 1
        }
      ],
      "source": [
        "%%shell\n",
        "# See https://go.dev/doc/install\n",
        "\n",
        "wget https://go.dev/dl/go1.21.0.linux-amd64.tar.gz\n",
        "rm -rf /usr/local/go && tar -C /usr/local -xzf go1.21.0.linux-amd64.tar.gz\n",
        "export PATH=$PATH:/usr/local/go/bin\n",
        "go version"
      ]
    },
    {
      "cell_type": "markdown",
      "source": [
        "# Download sherpa-onnx"
      ],
      "metadata": {
        "id": "a-SuUbLXVy_H"
      }
    },
    {
      "cell_type": "markdown",
      "source": [
        "Note that we use `download sherpa-onnx` instead of `build sherpa-onnx`."
      ],
      "metadata": {
        "id": "gL0kync-V1ZQ"
      }
    },
    {
      "cell_type": "code",
      "source": [
        "! git clone https://github.com/k2-fsa/sherpa-onnx"
      ],
      "metadata": {
        "colab": {
          "base_uri": "https://localhost:8080/"
        },
        "id": "qDtcVq2Z74gs",
        "outputId": "7a221cda-0711-4055-bae1-1e41085b303f"
      },
      "execution_count": 2,
      "outputs": [
        {
          "output_type": "stream",
          "name": "stdout",
          "text": [
            "Cloning into 'sherpa-onnx'...\n",
            "remote: Enumerating objects: 2629, done.\u001b[K\n",
            "remote: Counting objects: 100% (1097/1097), done.\u001b[K\n",
            "remote: Compressing objects: 100% (450/450), done.\u001b[K\n",
            "remote: Total 2629 (delta 768), reused 801 (delta 636), pack-reused 1532\u001b[K\n",
            "Receiving objects: 100% (2629/2629), 1.89 MiB | 4.46 MiB/s, done.\n",
            "Resolving deltas: 100% (1509/1509), done.\n"
          ]
        }
      ]
    },
    {
      "cell_type": "markdown",
      "source": [
        "# Decode files with non-streaming models"
      ],
      "metadata": {
        "id": "2oO42DzuWC-f"
      }
    },
    {
      "cell_type": "code",
      "source": [
        "%%shell\n",
        "\n",
        "export PATH=$PATH:/usr/local/go/bin\n",
        "\n",
        "cd sherpa-onnx/go-api-examples/non-streaming-decode-files\n",
        "go mod tidy\n",
        "go build\n",
        "./non-streaming-decode-files --help || echo"
      ],
      "metadata": {
        "colab": {
          "base_uri": "https://localhost:8080/"
        },
        "id": "nsDGVpljWBxR",
        "outputId": "a60a2536-1f74-4cd8-e370-8a155288ff43"
      },
      "execution_count": 3,
      "outputs": [
        {
          "output_type": "stream",
          "name": "stdout",
          "text": [
            "go: downloading github.com/k2-fsa/sherpa-onnx-go v1.5.5-alpha.1\n",
            "go: downloading github.com/spf13/pflag v1.0.5\n",
            "go: downloading github.com/youpy/go-wav v0.3.2\n",
            "go: downloading github.com/k2-fsa/sherpa-onnx-go-linux v1.5.5\n",
            "go: downloading github.com/k2-fsa/sherpa-onnx-go-macos v1.5.5\n",
            "go: downloading github.com/k2-fsa/sherpa-onnx-go-windows v1.5.5\n",
            "go: downloading github.com/youpy/go-riff v0.1.0\n",
            "go: downloading github.com/zaf/g711 v0.0.0-20190814101024-76a4a538f52b\n",
            "go: downloading github.com/stretchr/testify v1.6.1\n",
            "go: downloading gotest.tools v2.2.0+incompatible\n",
            "go: downloading github.com/davecgh/go-spew v1.1.0\n",
            "go: downloading github.com/pmezard/go-difflib v1.0.0\n",
            "go: downloading gopkg.in/yaml.v3 v3.0.0-20200313102051-9f266ea9e77c\n",
            "go: downloading github.com/google/go-cmp v0.5.6\n",
            "go: downloading gopkg.in/check.v1 v0.0.0-20161208181325-20d25e280405\n",
            "go: downloading github.com/pkg/errors v0.9.1\n",
            "go: downloading golang.org/x/xerrors v0.0.0-20191204190536-9bdfabe68543\n",
            "Usage of ./non-streaming-decode-files:\n",
            "      --debug int                Whether to show debug message\n",
            "      --decoder string           Path to the decoder model\n",
            "      --decoding-method string   Decoding method. Possible values: greedy_search, modified_beam_search (default \"greedy_search\")\n",
            "      --encoder string           Path to the encoder model\n",
            "      --joiner string            Path to the joiner model\n",
            "      --lm-model string          Optional. Path to the LM model\n",
            "      --lm-scale float32         Optional. Scale for the LM model (default 1)\n",
            "      --max-active-paths int     Used only when --decoding-method is modified_beam_search (default 4)\n",
            "      --model-type string        Optional. Used for loading the model in a faster way\n",
            "      --nemo-ctc string          Path to the NeMo CTC model\n",
            "      --num-threads int          Number of threads for computing (default 1)\n",
            "      --paraformer string        Path to the paraformer model\n",
            "      --provider string          Provider to use (default \"cpu\")\n",
            "      --tokens string            Path to the tokens file\n",
            "pflag: help requested\n",
            "\n"
          ]
        },
        {
          "output_type": "execute_result",
          "data": {
            "text/plain": []
          },
          "metadata": {},
          "execution_count": 3
        }
      ]
    },
    {
      "cell_type": "markdown",
      "source": [
        "Now let us refer to [Pre-trained models](http://localhost:6006/onnx/pretrained_models/index.html#sherpa-onnx-pre-trained-models) to download a non-streaming model.\n"
      ],
      "metadata": {
        "id": "FVBHJ9I1Wk4a"
      }
    },
    {
      "cell_type": "markdown",
      "source": [
        "## Non-streaming transducer\n"
      ],
      "metadata": {
        "id": "za7-Ga1UWquo"
      }
    },
    {
      "cell_type": "code",
      "source": [
        "%%shell\n",
        "sudo apt-get install git-lfs\n",
        "\n",
        "cd sherpa-onnx/go-api-examples/non-streaming-decode-files\n",
        "GIT_LFS_SKIP_SMUDGE=1 git clone https://huggingface.co/csukuangfj/sherpa-onnx-zipformer-en-2023-06-26\n",
        "cd sherpa-onnx-zipformer-en-2023-06-26\n",
        "git lfs pull --include \"*.onnx\"\n",
        "cd ..\n",
        "\n",
        "./non-streaming-decode-files \\\n",
        "  --encoder ./sherpa-onnx-zipformer-en-2023-06-26/encoder-epoch-99-avg-1.onnx \\\n",
        "  --decoder ./sherpa-onnx-zipformer-en-2023-06-26/decoder-epoch-99-avg-1.onnx \\\n",
        "  --joiner ./sherpa-onnx-zipformer-en-2023-06-26/joiner-epoch-99-avg-1.onnx \\\n",
        "  --tokens ./sherpa-onnx-zipformer-en-2023-06-26/tokens.txt \\\n",
        "  --model-type transducer \\\n",
        "  ./sherpa-onnx-zipformer-en-2023-06-26/test_wavs/0.wav"
      ],
      "metadata": {
        "colab": {
          "base_uri": "https://localhost:8080/"
        },
        "id": "CdDqJM9uWLyi",
        "outputId": "209ed218-132c-4bd4-c00e-f0d3e026d0b1"
      },
      "execution_count": 4,
      "outputs": [
        {
          "output_type": "stream",
          "name": "stdout",
          "text": [
            "Reading package lists... Done\n",
            "Building dependency tree... Done\n",
            "Reading state information... Done\n",
            "git-lfs is already the newest version (3.0.2-1ubuntu0.2).\n",
            "0 upgraded, 0 newly installed, 0 to remove and 16 not upgraded.\n",
            "Cloning into 'sherpa-onnx-zipformer-en-2023-06-26'...\n",
            "remote: Enumerating objects: 20, done.\u001b[K\n",
            "remote: Total 20 (delta 0), reused 0 (delta 0), pack-reused 20\u001b[K\n",
            "Unpacking objects: 100% (20/20), 666.78 KiB | 1.23 MiB/s, done.\n",
            "2023/08/10 07:40:17.530243 Reading ./sherpa-onnx-zipformer-en-2023-06-26/test_wavs/0.wav\n",
            "2023/08/10 07:40:17.549130 Initializing recognizer (may take several seconds)\n",
            "2023-08-10 07:40:19.635594432 [W:onnxruntime:, graph_utils.cc:139 CanUpdateImplicitInputNameInSubgraphs]  Implicit input name 863 cannot be safely updated to 861 in one of the subgraphs.\n",
            "2023-08-10 07:40:19.636840254 [W:onnxruntime:, graph_utils.cc:139 CanUpdateImplicitInputNameInSubgraphs]  Implicit input name 2127 cannot be safely updated to 2125 in one of the subgraphs.\n",
            "2023-08-10 07:40:19.638036907 [W:onnxruntime:, graph_utils.cc:139 CanUpdateImplicitInputNameInSubgraphs]  Implicit input name 3433 cannot be safely updated to 3431 in one of the subgraphs.\n",
            "2023-08-10 07:40:19.639699994 [W:onnxruntime:, graph_utils.cc:139 CanUpdateImplicitInputNameInSubgraphs]  Implicit input name 5203 cannot be safely updated to 5201 in one of the subgraphs.\n",
            "2023-08-10 07:40:19.641567175 [W:onnxruntime:, graph_utils.cc:139 CanUpdateImplicitInputNameInSubgraphs]  Implicit input name 7417 cannot be safely updated to 7415 in one of the subgraphs.\n",
            "2023-08-10 07:40:19.643045376 [W:onnxruntime:, graph_utils.cc:139 CanUpdateImplicitInputNameInSubgraphs]  Implicit input name 9165 cannot be safely updated to 9163 in one of the subgraphs.\n",
            "2023-08-10 07:40:20.278878463 [W:onnxruntime:, graph.cc:3543 CleanUnusedInitializersAndNodeArgs] Removing initializer '1005'. It is not used by any node and should be removed from the model.\n",
            "2023-08-10 07:40:20.278940311 [W:onnxruntime:, graph.cc:3543 CleanUnusedInitializersAndNodeArgs] Removing initializer '948'. It is not used by any node and should be removed from the model.\n",
            "2023-08-10 07:40:20.278961165 [W:onnxruntime:, graph.cc:3543 CleanUnusedInitializersAndNodeArgs] Removing initializer '1051'. It is not used by any node and should be removed from the model.\n",
            "2023-08-10 07:40:20.278972595 [W:onnxruntime:, graph.cc:3543 CleanUnusedInitializersAndNodeArgs] Removing initializer '1007'. It is not used by any node and should be removed from the model.\n",
            "2023-08-10 07:40:20.278988146 [W:onnxruntime:, graph.cc:3543 CleanUnusedInitializersAndNodeArgs] Removing initializer '1042'. It is not used by any node and should be removed from the model.\n",
            "2023-08-10 07:40:20.279005149 [W:onnxruntime:, graph.cc:3543 CleanUnusedInitializersAndNodeArgs] Removing initializer '950'. It is not used by any node and should be removed from the model.\n",
            "2023-08-10 07:40:20.279018368 [W:onnxruntime:, graph.cc:3543 CleanUnusedInitializersAndNodeArgs] Removing initializer '941'. It is not used by any node and should be removed from the model.\n",
            "2023-08-10 07:40:20.279029804 [W:onnxruntime:, graph.cc:3543 CleanUnusedInitializersAndNodeArgs] Removing initializer '1049'. It is not used by any node and should be removed from the model.\n",
            "2023-08-10 07:40:20.279040476 [W:onnxruntime:, graph.cc:3543 CleanUnusedInitializersAndNodeArgs] Removing initializer '905'. It is not used by any node and should be removed from the model.\n",
            "2023-08-10 07:40:20.279065594 [W:onnxruntime:, graph.cc:3543 CleanUnusedInitializersAndNodeArgs] Removing initializer '998'. It is not used by any node and should be removed from the model.\n",
            "2023-08-10 07:40:20.279259127 [W:onnxruntime:, graph.cc:3543 CleanUnusedInitializersAndNodeArgs] Removing initializer '2269'. It is not used by any node and should be removed from the model.\n",
            "2023-08-10 07:40:20.279282242 [W:onnxruntime:, graph.cc:3543 CleanUnusedInitializersAndNodeArgs] Removing initializer '2212'. It is not used by any node and should be removed from the model.\n",
            "2023-08-10 07:40:20.279295235 [W:onnxruntime:, graph.cc:3543 CleanUnusedInitializersAndNodeArgs] Removing initializer '2306'. It is not used by any node and should be removed from the model.\n",
            "2023-08-10 07:40:20.279315951 [W:onnxruntime:, graph.cc:3543 CleanUnusedInitializersAndNodeArgs] Removing initializer '2205'. It is not used by any node and should be removed from the model.\n",
            "2023-08-10 07:40:20.279328830 [W:onnxruntime:, graph.cc:3543 CleanUnusedInitializersAndNodeArgs] Removing initializer '2313'. It is not used by any node and should be removed from the model.\n",
            "2023-08-10 07:40:20.279348256 [W:onnxruntime:, graph.cc:3543 CleanUnusedInitializersAndNodeArgs] Removing initializer '2214'. It is not used by any node and should be removed from the model.\n",
            "2023-08-10 07:40:20.279361798 [W:onnxruntime:, graph.cc:3543 CleanUnusedInitializersAndNodeArgs] Removing initializer '2262'. It is not used by any node and should be removed from the model.\n",
            "2023-08-10 07:40:20.279377758 [W:onnxruntime:, graph.cc:3543 CleanUnusedInitializersAndNodeArgs] Removing initializer '2315'. It is not used by any node and should be removed from the model.\n",
            "2023-08-10 07:40:20.279427421 [W:onnxruntime:, graph.cc:3543 CleanUnusedInitializersAndNodeArgs] Removing initializer '2271'. It is not used by any node and should be removed from the model.\n",
            "2023-08-10 07:40:20.279441198 [W:onnxruntime:, graph.cc:3543 CleanUnusedInitializersAndNodeArgs] Removing initializer '2169'. It is not used by any node and should be removed from the model.\n",
            "2023-08-10 07:40:20.279622964 [W:onnxruntime:, graph.cc:3543 CleanUnusedInitializersAndNodeArgs] Removing initializer '3619'. It is not used by any node and should be removed from the model.\n",
            "2023-08-10 07:40:20.279643809 [W:onnxruntime:, graph.cc:3543 CleanUnusedInitializersAndNodeArgs] Removing initializer '3575'. It is not used by any node and should be removed from the model.\n",
            "2023-08-10 07:40:20.279662651 [W:onnxruntime:, graph.cc:3543 CleanUnusedInitializersAndNodeArgs] Removing initializer '3612'. It is not used by any node and should be removed from the model.\n",
            "2023-08-10 07:40:20.279675920 [W:onnxruntime:, graph.cc:3543 CleanUnusedInitializersAndNodeArgs] Removing initializer '3621'. It is not used by any node and should be removed from the model.\n",
            "2023-08-10 07:40:20.279686056 [W:onnxruntime:, graph.cc:3543 CleanUnusedInitializersAndNodeArgs] Removing initializer '3511'. It is not used by any node and should be removed from the model.\n",
            "2023-08-10 07:40:20.279712833 [W:onnxruntime:, graph.cc:3543 CleanUnusedInitializersAndNodeArgs] Removing initializer '3568'. It is not used by any node and should be removed from the model.\n",
            "2023-08-10 07:40:20.279723240 [W:onnxruntime:, graph.cc:3543 CleanUnusedInitializersAndNodeArgs] Removing initializer '3577'. It is not used by any node and should be removed from the model.\n",
            "2023-08-10 07:40:20.279737796 [W:onnxruntime:, graph.cc:3543 CleanUnusedInitializersAndNodeArgs] Removing initializer '3518'. It is not used by any node and should be removed from the model.\n",
            "2023-08-10 07:40:20.279751943 [W:onnxruntime:, graph.cc:3543 CleanUnusedInitializersAndNodeArgs] Removing initializer '3520'. It is not used by any node and should be removed from the model.\n",
            "2023-08-10 07:40:20.279763247 [W:onnxruntime:, graph.cc:3543 CleanUnusedInitializersAndNodeArgs] Removing initializer '3475'. It is not used by any node and should be removed from the model.\n",
            "2023-08-10 07:40:20.279937716 [W:onnxruntime:, graph.cc:3543 CleanUnusedInitializersAndNodeArgs] Removing initializer '5389'. It is not used by any node and should be removed from the model.\n",
            "2023-08-10 07:40:20.279953817 [W:onnxruntime:, graph.cc:3543 CleanUnusedInitializersAndNodeArgs] Removing initializer '5345'. It is not used by any node and should be removed from the model.\n",
            "2023-08-10 07:40:20.279969076 [W:onnxruntime:, graph.cc:3543 CleanUnusedInitializersAndNodeArgs] Removing initializer '5391'. It is not used by any node and should be removed from the model.\n",
            "2023-08-10 07:40:20.279981066 [W:onnxruntime:, graph.cc:3543 CleanUnusedInitializersAndNodeArgs] Removing initializer '5382'. It is not used by any node and should be removed from the model.\n",
            "2023-08-10 07:40:20.279992394 [W:onnxruntime:, graph.cc:3543 CleanUnusedInitializersAndNodeArgs] Removing initializer '5290'. It is not used by any node and should be removed from the model.\n",
            "2023-08-10 07:40:20.280007994 [W:onnxruntime:, graph.cc:3543 CleanUnusedInitializersAndNodeArgs] Removing initializer '5245'. It is not used by any node and should be removed from the model.\n",
            "2023-08-10 07:40:20.280022389 [W:onnxruntime:, graph.cc:3543 CleanUnusedInitializersAndNodeArgs] Removing initializer '5281'. It is not used by any node and should be removed from the model.\n",
            "2023-08-10 07:40:20.280053243 [W:onnxruntime:, graph.cc:3543 CleanUnusedInitializersAndNodeArgs] Removing initializer '5288'. It is not used by any node and should be removed from the model.\n",
            "2023-08-10 07:40:20.280065152 [W:onnxruntime:, graph.cc:3543 CleanUnusedInitializersAndNodeArgs] Removing initializer '5338'. It is not used by any node and should be removed from the model.\n",
            "2023-08-10 07:40:20.280078443 [W:onnxruntime:, graph.cc:3543 CleanUnusedInitializersAndNodeArgs] Removing initializer '5347'. It is not used by any node and should be removed from the model.\n",
            "2023-08-10 07:40:20.280257264 [W:onnxruntime:, graph.cc:3543 CleanUnusedInitializersAndNodeArgs] Removing initializer '7603'. It is not used by any node and should be removed from the model.\n",
            "2023-08-10 07:40:20.280274231 [W:onnxruntime:, graph.cc:3543 CleanUnusedInitializersAndNodeArgs] Removing initializer '7559'. It is not used by any node and should be removed from the model.\n",
            "2023-08-10 07:40:20.280285847 [W:onnxruntime:, graph.cc:3543 CleanUnusedInitializersAndNodeArgs] Removing initializer '7502'. It is not used by any node and should be removed from the model.\n",
            "2023-08-10 07:40:20.280302358 [W:onnxruntime:, graph.cc:3543 CleanUnusedInitializersAndNodeArgs] Removing initializer '7605'. It is not used by any node and should be removed from the model.\n",
            "2023-08-10 07:40:20.280314420 [W:onnxruntime:, graph.cc:3543 CleanUnusedInitializersAndNodeArgs] Removing initializer '7596'. It is not used by any node and should be removed from the model.\n",
            "2023-08-10 07:40:20.280329125 [W:onnxruntime:, graph.cc:3543 CleanUnusedInitializersAndNodeArgs] Removing initializer '7495'. It is not used by any node and should be removed from the model.\n",
            "2023-08-10 07:40:20.280351266 [W:onnxruntime:, graph.cc:3543 CleanUnusedInitializersAndNodeArgs] Removing initializer '7504'. It is not used by any node and should be removed from the model.\n",
            "2023-08-10 07:40:20.280367591 [W:onnxruntime:, graph.cc:3543 CleanUnusedInitializersAndNodeArgs] Removing initializer '7552'. It is not used by any node and should be removed from the model.\n",
            "2023-08-10 07:40:20.280382355 [W:onnxruntime:, graph.cc:3543 CleanUnusedInitializersAndNodeArgs] Removing initializer '7459'. It is not used by any node and should be removed from the model.\n",
            "2023-08-10 07:40:20.280403250 [W:onnxruntime:, graph.cc:3543 CleanUnusedInitializersAndNodeArgs] Removing initializer '7561'. It is not used by any node and should be removed from the model.\n",
            "2023-08-10 07:40:20.280574620 [W:onnxruntime:, graph.cc:3543 CleanUnusedInitializersAndNodeArgs] Removing initializer '9351'. It is not used by any node and should be removed from the model.\n",
            "2023-08-10 07:40:20.280588935 [W:onnxruntime:, graph.cc:3543 CleanUnusedInitializersAndNodeArgs] Removing initializer '9307'. It is not used by any node and should be removed from the model.\n",
            "2023-08-10 07:40:20.280603308 [W:onnxruntime:, graph.cc:3543 CleanUnusedInitializersAndNodeArgs] Removing initializer '9250'. It is not used by any node and should be removed from the model.\n",
            "2023-08-10 07:40:20.280618444 [W:onnxruntime:, graph.cc:3543 CleanUnusedInitializersAndNodeArgs] Removing initializer '9353'. It is not used by any node and should be removed from the model.\n",
            "2023-08-10 07:40:20.280630209 [W:onnxruntime:, graph.cc:3543 CleanUnusedInitializersAndNodeArgs] Removing initializer '9344'. It is not used by any node and should be removed from the model.\n",
            "2023-08-10 07:40:20.280643122 [W:onnxruntime:, graph.cc:3543 CleanUnusedInitializersAndNodeArgs] Removing initializer '9252'. It is not used by any node and should be removed from the model.\n",
            "2023-08-10 07:40:20.280659070 [W:onnxruntime:, graph.cc:3543 CleanUnusedInitializersAndNodeArgs] Removing initializer '9243'. It is not used by any node and should be removed from the model.\n",
            "2023-08-10 07:40:20.280687698 [W:onnxruntime:, graph.cc:3543 CleanUnusedInitializersAndNodeArgs] Removing initializer '9207'. It is not used by any node and should be removed from the model.\n",
            "2023-08-10 07:40:20.280704517 [W:onnxruntime:, graph.cc:3543 CleanUnusedInitializersAndNodeArgs] Removing initializer '9309'. It is not used by any node and should be removed from the model.\n",
            "2023-08-10 07:40:20.280718513 [W:onnxruntime:, graph.cc:3543 CleanUnusedInitializersAndNodeArgs] Removing initializer '9300'. It is not used by any node and should be removed from the model.\n",
            "2023-08-10 07:40:20.438028134 [W:onnxruntime:, graph_utils.cc:139 CanUpdateImplicitInputNameInSubgraphs]  Implicit input name 863 cannot be safely updated to 1092 in one of the subgraphs.\n",
            "2023-08-10 07:40:20.438730900 [W:onnxruntime:, graph_utils.cc:139 CanUpdateImplicitInputNameInSubgraphs]  Implicit input name 2127 cannot be safely updated to 2125 in one of the subgraphs.\n",
            "2023-08-10 07:40:20.439292032 [W:onnxruntime:, graph_utils.cc:139 CanUpdateImplicitInputNameInSubgraphs]  Implicit input name 3433 cannot be safely updated to 3431 in one of the subgraphs.\n",
            "2023-08-10 07:40:20.439985708 [W:onnxruntime:, graph_utils.cc:139 CanUpdateImplicitInputNameInSubgraphs]  Implicit input name 5203 cannot be safely updated to 5201 in one of the subgraphs.\n",
            "2023-08-10 07:40:20.440823160 [W:onnxruntime:, graph_utils.cc:139 CanUpdateImplicitInputNameInSubgraphs]  Implicit input name 7417 cannot be safely updated to 7415 in one of the subgraphs.\n",
            "2023-08-10 07:40:20.441523886 [W:onnxruntime:, graph_utils.cc:139 CanUpdateImplicitInputNameInSubgraphs]  Implicit input name 9165 cannot be safely updated to 9163 in one of the subgraphs.\n",
            "2023-08-10 07:40:20.653115223 [W:onnxruntime:, graph_utils.cc:139 CanUpdateImplicitInputNameInSubgraphs]  Implicit input name 863 cannot be safely updated to 1092 in one of the subgraphs.\n",
            "2023-08-10 07:40:20.653660518 [W:onnxruntime:, graph_utils.cc:139 CanUpdateImplicitInputNameInSubgraphs]  Implicit input name 2127 cannot be safely updated to 2125 in one of the subgraphs.\n",
            "2023-08-10 07:40:20.654170837 [W:onnxruntime:, graph_utils.cc:139 CanUpdateImplicitInputNameInSubgraphs]  Implicit input name 3433 cannot be safely updated to 3431 in one of the subgraphs.\n",
            "2023-08-10 07:40:20.654833744 [W:onnxruntime:, graph_utils.cc:139 CanUpdateImplicitInputNameInSubgraphs]  Implicit input name 5203 cannot be safely updated to 5201 in one of the subgraphs.\n",
            "2023-08-10 07:40:20.655638089 [W:onnxruntime:, graph_utils.cc:139 CanUpdateImplicitInputNameInSubgraphs]  Implicit input name 7417 cannot be safely updated to 7415 in one of the subgraphs.\n",
            "2023-08-10 07:40:20.656320856 [W:onnxruntime:, graph_utils.cc:139 CanUpdateImplicitInputNameInSubgraphs]  Implicit input name 9165 cannot be safely updated to 9163 in one of the subgraphs.\n",
            "2023-08-10 07:40:20.795802801 [W:onnxruntime:, graph_utils.cc:139 CanUpdateImplicitInputNameInSubgraphs]  Implicit input name 863 cannot be safely updated to 1092 in one of the subgraphs.\n",
            "2023-08-10 07:40:20.796581711 [W:onnxruntime:, graph_utils.cc:139 CanUpdateImplicitInputNameInSubgraphs]  Implicit input name 2127 cannot be safely updated to 2125 in one of the subgraphs.\n",
            "2023-08-10 07:40:20.797352561 [W:onnxruntime:, graph_utils.cc:139 CanUpdateImplicitInputNameInSubgraphs]  Implicit input name 3433 cannot be safely updated to 3431 in one of the subgraphs.\n",
            "2023-08-10 07:40:20.798343839 [W:onnxruntime:, graph_utils.cc:139 CanUpdateImplicitInputNameInSubgraphs]  Implicit input name 5203 cannot be safely updated to 5201 in one of the subgraphs.\n",
            "2023-08-10 07:40:20.799547641 [W:onnxruntime:, graph_utils.cc:139 CanUpdateImplicitInputNameInSubgraphs]  Implicit input name 7417 cannot be safely updated to 7415 in one of the subgraphs.\n",
            "2023-08-10 07:40:20.800562836 [W:onnxruntime:, graph_utils.cc:139 CanUpdateImplicitInputNameInSubgraphs]  Implicit input name 9165 cannot be safely updated to 9163 in one of the subgraphs.\n",
            "2023-08-10 07:40:20.939430827 [W:onnxruntime:, graph_utils.cc:139 CanUpdateImplicitInputNameInSubgraphs]  Implicit input name 863 cannot be safely updated to 1092 in one of the subgraphs.\n",
            "2023-08-10 07:40:20.939969182 [W:onnxruntime:, graph_utils.cc:139 CanUpdateImplicitInputNameInSubgraphs]  Implicit input name 2127 cannot be safely updated to 2125 in one of the subgraphs.\n",
            "2023-08-10 07:40:20.940482508 [W:onnxruntime:, graph_utils.cc:139 CanUpdateImplicitInputNameInSubgraphs]  Implicit input name 3433 cannot be safely updated to 3431 in one of the subgraphs.\n",
            "2023-08-10 07:40:20.941122875 [W:onnxruntime:, graph_utils.cc:139 CanUpdateImplicitInputNameInSubgraphs]  Implicit input name 5203 cannot be safely updated to 5201 in one of the subgraphs.\n",
            "2023-08-10 07:40:20.941874125 [W:onnxruntime:, graph_utils.cc:139 CanUpdateImplicitInputNameInSubgraphs]  Implicit input name 7417 cannot be safely updated to 7415 in one of the subgraphs.\n",
            "2023-08-10 07:40:20.942519228 [W:onnxruntime:, graph_utils.cc:139 CanUpdateImplicitInputNameInSubgraphs]  Implicit input name 9165 cannot be safely updated to 9163 in one of the subgraphs.\n",
            "2023-08-10 07:40:21.081711143 [W:onnxruntime:, graph_utils.cc:139 CanUpdateImplicitInputNameInSubgraphs]  Implicit input name 863 cannot be safely updated to 1092 in one of the subgraphs.\n",
            "2023-08-10 07:40:21.082302159 [W:onnxruntime:, graph_utils.cc:139 CanUpdateImplicitInputNameInSubgraphs]  Implicit input name 2127 cannot be safely updated to 2125 in one of the subgraphs.\n",
            "2023-08-10 07:40:21.082827858 [W:onnxruntime:, graph_utils.cc:139 CanUpdateImplicitInputNameInSubgraphs]  Implicit input name 3433 cannot be safely updated to 3431 in one of the subgraphs.\n",
            "2023-08-10 07:40:21.083527811 [W:onnxruntime:, graph_utils.cc:139 CanUpdateImplicitInputNameInSubgraphs]  Implicit input name 5203 cannot be safely updated to 5201 in one of the subgraphs.\n",
            "2023-08-10 07:40:21.084372831 [W:onnxruntime:, graph_utils.cc:139 CanUpdateImplicitInputNameInSubgraphs]  Implicit input name 7417 cannot be safely updated to 7415 in one of the subgraphs.\n",
            "2023-08-10 07:40:21.085047955 [W:onnxruntime:, graph_utils.cc:139 CanUpdateImplicitInputNameInSubgraphs]  Implicit input name 9165 cannot be safely updated to 9163 in one of the subgraphs.\n",
            "2023-08-10 07:40:21.219924797 [W:onnxruntime:, graph_utils.cc:139 CanUpdateImplicitInputNameInSubgraphs]  Implicit input name 863 cannot be safely updated to 1092 in one of the subgraphs.\n",
            "2023-08-10 07:40:21.220493126 [W:onnxruntime:, graph_utils.cc:139 CanUpdateImplicitInputNameInSubgraphs]  Implicit input name 2127 cannot be safely updated to 2125 in one of the subgraphs.\n",
            "2023-08-10 07:40:21.221024147 [W:onnxruntime:, graph_utils.cc:139 CanUpdateImplicitInputNameInSubgraphs]  Implicit input name 3433 cannot be safely updated to 3431 in one of the subgraphs.\n",
            "2023-08-10 07:40:21.221695858 [W:onnxruntime:, graph_utils.cc:139 CanUpdateImplicitInputNameInSubgraphs]  Implicit input name 5203 cannot be safely updated to 5201 in one of the subgraphs.\n",
            "2023-08-10 07:40:21.222497200 [W:onnxruntime:, graph_utils.cc:139 CanUpdateImplicitInputNameInSubgraphs]  Implicit input name 7417 cannot be safely updated to 7415 in one of the subgraphs.\n",
            "2023-08-10 07:40:21.223147428 [W:onnxruntime:, graph_utils.cc:139 CanUpdateImplicitInputNameInSubgraphs]  Implicit input name 9165 cannot be safely updated to 9163 in one of the subgraphs.\n",
            "2023-08-10 07:40:21.352750503 [W:onnxruntime:, graph_utils.cc:139 CanUpdateImplicitInputNameInSubgraphs]  Implicit input name 863 cannot be safely updated to 1092 in one of the subgraphs.\n",
            "2023-08-10 07:40:21.353331089 [W:onnxruntime:, graph_utils.cc:139 CanUpdateImplicitInputNameInSubgraphs]  Implicit input name 2127 cannot be safely updated to 2125 in one of the subgraphs.\n",
            "2023-08-10 07:40:21.353868624 [W:onnxruntime:, graph_utils.cc:139 CanUpdateImplicitInputNameInSubgraphs]  Implicit input name 3433 cannot be safely updated to 3431 in one of the subgraphs.\n",
            "2023-08-10 07:40:21.354574633 [W:onnxruntime:, graph_utils.cc:139 CanUpdateImplicitInputNameInSubgraphs]  Implicit input name 5203 cannot be safely updated to 5201 in one of the subgraphs.\n",
            "2023-08-10 07:40:21.355418964 [W:onnxruntime:, graph_utils.cc:139 CanUpdateImplicitInputNameInSubgraphs]  Implicit input name 7417 cannot be safely updated to 7415 in one of the subgraphs.\n",
            "2023-08-10 07:40:21.356105056 [W:onnxruntime:, graph_utils.cc:139 CanUpdateImplicitInputNameInSubgraphs]  Implicit input name 9165 cannot be safely updated to 9163 in one of the subgraphs.\n",
            "2023-08-10 07:40:21.500832514 [W:onnxruntime:, graph_utils.cc:139 CanUpdateImplicitInputNameInSubgraphs]  Implicit input name 863 cannot be safely updated to 1092 in one of the subgraphs.\n",
            "2023-08-10 07:40:21.501409939 [W:onnxruntime:, graph_utils.cc:139 CanUpdateImplicitInputNameInSubgraphs]  Implicit input name 2127 cannot be safely updated to 2125 in one of the subgraphs.\n",
            "2023-08-10 07:40:21.501942664 [W:onnxruntime:, graph_utils.cc:139 CanUpdateImplicitInputNameInSubgraphs]  Implicit input name 3433 cannot be safely updated to 3431 in one of the subgraphs.\n",
            "2023-08-10 07:40:21.502608046 [W:onnxruntime:, graph_utils.cc:139 CanUpdateImplicitInputNameInSubgraphs]  Implicit input name 5203 cannot be safely updated to 5201 in one of the subgraphs.\n",
            "2023-08-10 07:40:21.503394725 [W:onnxruntime:, graph_utils.cc:139 CanUpdateImplicitInputNameInSubgraphs]  Implicit input name 7417 cannot be safely updated to 7415 in one of the subgraphs.\n",
            "2023-08-10 07:40:21.504052162 [W:onnxruntime:, graph_utils.cc:139 CanUpdateImplicitInputNameInSubgraphs]  Implicit input name 9165 cannot be safely updated to 9163 in one of the subgraphs.\n",
            "2023-08-10 07:40:21.629599115 [W:onnxruntime:, graph_utils.cc:139 CanUpdateImplicitInputNameInSubgraphs]  Implicit input name 863 cannot be safely updated to 1092 in one of the subgraphs.\n",
            "2023-08-10 07:40:21.630151208 [W:onnxruntime:, graph_utils.cc:139 CanUpdateImplicitInputNameInSubgraphs]  Implicit input name 2127 cannot be safely updated to 2125 in one of the subgraphs.\n",
            "2023-08-10 07:40:21.630654417 [W:onnxruntime:, graph_utils.cc:139 CanUpdateImplicitInputNameInSubgraphs]  Implicit input name 3433 cannot be safely updated to 3431 in one of the subgraphs.\n",
            "2023-08-10 07:40:21.631290959 [W:onnxruntime:, graph_utils.cc:139 CanUpdateImplicitInputNameInSubgraphs]  Implicit input name 5203 cannot be safely updated to 5201 in one of the subgraphs.\n",
            "2023-08-10 07:40:21.632032357 [W:onnxruntime:, graph_utils.cc:139 CanUpdateImplicitInputNameInSubgraphs]  Implicit input name 7417 cannot be safely updated to 7415 in one of the subgraphs.\n",
            "2023-08-10 07:40:21.632655260 [W:onnxruntime:, graph_utils.cc:139 CanUpdateImplicitInputNameInSubgraphs]  Implicit input name 9165 cannot be safely updated to 9163 in one of the subgraphs.\n",
            "2023/08/10 07:40:23.825338 Recognizer created!\n",
            "2023/08/10 07:40:23.825367 Start decoding!\n",
            "2023/08/10 07:40:24.253675 Decoding done!\n",
            "2023/08/10 07:40:24.253803  after early nightfall the yellow lamps would light up here and there the squalid quarter of the brothels\n",
            "2023/08/10 07:40:24.253820 Wave duration: 6.625 seconds\n"
          ]
        },
        {
          "output_type": "execute_result",
          "data": {
            "text/plain": []
          },
          "metadata": {},
          "execution_count": 4
        }
      ]
    },
    {
      "cell_type": "markdown",
      "source": [
        "## Non-streaming paraformer"
      ],
      "metadata": {
        "id": "gRNazyhZW7ky"
      }
    },
    {
      "cell_type": "code",
      "source": [
        "%%shell\n",
        "\n",
        "cd sherpa-onnx/go-api-examples/non-streaming-decode-files\n",
        "GIT_LFS_SKIP_SMUDGE=1 git clone https://huggingface.co/csukuangfj/sherpa-onnx-paraformer-zh-2023-03-28\n",
        "cd sherpa-onnx-paraformer-zh-2023-03-28\n",
        "git lfs pull --include \"*.onnx\"\n",
        "cd ..\n",
        "\n",
        "./non-streaming-decode-files \\\n",
        "  --paraformer ./sherpa-onnx-paraformer-zh-2023-03-28/model.int8.onnx \\\n",
        "  --tokens ./sherpa-onnx-paraformer-zh-2023-03-28/tokens.txt \\\n",
        "  --model-type paraformer \\\n",
        "  ./sherpa-onnx-paraformer-zh-2023-03-28/test_wavs/0.wav"
      ],
      "metadata": {
        "colab": {
          "base_uri": "https://localhost:8080/"
        },
        "id": "fn9PjyXdW1BX",
        "outputId": "a6957724-53a6-41d0-b411-c0d85f68375d"
      },
      "execution_count": 5,
      "outputs": [
        {
          "output_type": "stream",
          "name": "stdout",
          "text": [
            "Cloning into 'sherpa-onnx-paraformer-zh-2023-03-28'...\n",
            "remote: Enumerating objects: 17, done.\u001b[K\n",
            "remote: Total 17 (delta 0), reused 0 (delta 0), pack-reused 17\u001b[K\n",
            "Unpacking objects: 100% (17/17), 491.76 KiB | 10.93 MiB/s, done.\n",
            "2023/08/10 07:41:21.789604 Reading ./sherpa-onnx-paraformer-zh-2023-03-28/test_wavs/0.wav\n",
            "2023/08/10 07:41:21.802569 Initializing recognizer (may take several seconds)\n",
            "2023/08/10 07:41:27.515996 Recognizer created!\n",
            "2023/08/10 07:41:27.516036 Start decoding!\n",
            "2023/08/10 07:41:28.115316 Decoding done!\n",
            "2023/08/10 07:41:28.115387 对我做了介绍啊那么我想说的是呢大家如果对我的研究感兴趣呢你\n",
            "2023/08/10 07:41:28.115410 Wave duration: 5.614625 seconds\n"
          ]
        },
        {
          "output_type": "execute_result",
          "data": {
            "text/plain": []
          },
          "metadata": {},
          "execution_count": 5
        }
      ]
    },
    {
      "cell_type": "markdown",
      "source": [
        "## Non-streaming CTC model from NeMo"
      ],
      "metadata": {
        "id": "PpRtGRyKXDXA"
      }
    },
    {
      "cell_type": "code",
      "source": [
        "%%shell\n",
        "\n",
        "cd sherpa-onnx/go-api-examples/non-streaming-decode-files\n",
        "GIT_LFS_SKIP_SMUDGE=1 git clone https://huggingface.co/csukuangfj/sherpa-onnx-nemo-ctc-en-conformer-medium\n",
        "cd sherpa-onnx-nemo-ctc-en-conformer-medium\n",
        "git lfs pull --include \"*.onnx\"\n",
        "cd ..\n",
        "\n",
        "./non-streaming-decode-files \\\n",
        "  --nemo-ctc ./sherpa-onnx-nemo-ctc-en-conformer-medium/model.onnx \\\n",
        "  --tokens ./sherpa-onnx-nemo-ctc-en-conformer-medium/tokens.txt \\\n",
        "  --model-type nemo_ctc \\\n",
        "  --debug 0 \\\n",
        "  ./sherpa-onnx-nemo-ctc-en-conformer-medium/test_wavs/0.wav\n"
      ],
      "metadata": {
        "colab": {
          "base_uri": "https://localhost:8080/"
        },
        "id": "EgnoqnnpXAIY",
        "outputId": "3746aaac-c5b2-4832-b87b-e198f875cbc6"
      },
      "execution_count": 6,
      "outputs": [
        {
          "output_type": "stream",
          "name": "stdout",
          "text": [
            "Cloning into 'sherpa-onnx-nemo-ctc-en-conformer-medium'...\n",
            "remote: Enumerating objects: 20, done.\u001b[K\n",
            "remote: Total 20 (delta 0), reused 0 (delta 0), pack-reused 20\u001b[K\n",
            "Unpacking objects: 100% (20/20), 671.36 KiB | 1.19 MiB/s, done.\n",
            "2023/08/10 07:41:40.867900 Reading ./sherpa-onnx-nemo-ctc-en-conformer-medium/test_wavs/0.wav\n",
            "2023/08/10 07:41:40.880474 Initializing recognizer (may take several seconds)\n",
            "2023/08/10 07:41:46.354464 Recognizer created!\n",
            "2023/08/10 07:41:46.354495 Start decoding!\n",
            "2023/08/10 07:41:46.703358 Decoding done!\n",
            "2023/08/10 07:41:46.703421  after early nightfall the yellow lamps would light up here and there the squalid quarter of the brothels\n",
            "2023/08/10 07:41:46.703490 Wave duration: 6.625 seconds\n"
          ]
        },
        {
          "output_type": "execute_result",
          "data": {
            "text/plain": []
          },
          "metadata": {},
          "execution_count": 6
        }
      ]
    },
    {
      "cell_type": "markdown",
      "source": [
        "# Decode files with streaming models"
      ],
      "metadata": {
        "id": "BisvrgLAXeia"
      }
    },
    {
      "cell_type": "code",
      "source": [
        "%%shell\n",
        "\n",
        "export PATH=$PATH:/usr/local/go/bin\n",
        "\n",
        "cd sherpa-onnx/go-api-examples/streaming-decode-files\n",
        "go mod tidy\n",
        "go build\n",
        "./streaming-decode-files --help || echo"
      ],
      "metadata": {
        "colab": {
          "base_uri": "https://localhost:8080/"
        },
        "id": "YdF7tRflXJgu",
        "outputId": "9c3bf2b2-8e6b-41a0-b841-25fa1c0b080a"
      },
      "execution_count": 7,
      "outputs": [
        {
          "output_type": "stream",
          "name": "stdout",
          "text": [
            "Usage of ./streaming-decode-files:\n",
            "      --debug int                Whether to show debug message\n",
            "      --decoder string           Path to the decoder model\n",
            "      --decoding-method string   Decoding method. Possible values: greedy_search, modified_beam_search (default \"greedy_search\")\n",
            "      --encoder string           Path to the encoder model\n",
            "      --joiner string            Path to the joiner model\n",
            "      --max-active-paths int     Used only when --decoding-method is modified_beam_search (default 4)\n",
            "      --model-type string        Optional. Used for loading the model in a faster way\n",
            "      --num-threads int          Number of threads for computing (default 1)\n",
            "      --provider string          Provider to use (default \"cpu\")\n",
            "      --tokens string            Path to the tokens file\n",
            "pflag: help requested\n",
            "\n"
          ]
        },
        {
          "output_type": "execute_result",
          "data": {
            "text/plain": []
          },
          "metadata": {},
          "execution_count": 7
        }
      ]
    },
    {
      "cell_type": "markdown",
      "source": [
        "Now let us refer to [Pre-trained models](http://localhost:6006/onnx/pretrained_models/index.html#sherpa-onnx-pre-trained-models) to download a streaming model.\n",
        "\n"
      ],
      "metadata": {
        "id": "paDFElK3Xq9p"
      }
    },
    {
      "cell_type": "markdown",
      "source": [
        "## Streaming transducer"
      ],
      "metadata": {
        "id": "d1Pj_EIEXvyW"
      }
    },
    {
      "cell_type": "code",
      "source": [
        "%%shell\n",
        "\n",
        "cd sherpa-onnx/go-api-examples/streaming-decode-files\n",
        "GIT_LFS_SKIP_SMUDGE=1 git clone https://huggingface.co/csukuangfj/sherpa-onnx-streaming-zipformer-en-2023-06-26\n",
        "cd sherpa-onnx-streaming-zipformer-en-2023-06-26\n",
        "git lfs pull --include \"*.onnx\"\n",
        "cd ..\n",
        "\n",
        "./streaming-decode-files \\\n",
        "  --encoder ./sherpa-onnx-streaming-zipformer-en-2023-06-26/encoder-epoch-99-avg-1-chunk-16-left-128.onnx \\\n",
        "  --decoder ./sherpa-onnx-streaming-zipformer-en-2023-06-26/decoder-epoch-99-avg-1-chunk-16-left-128.onnx \\\n",
        "  --joiner ./sherpa-onnx-streaming-zipformer-en-2023-06-26/joiner-epoch-99-avg-1-chunk-16-left-128.onnx \\\n",
        "  --tokens ./sherpa-onnx-streaming-zipformer-en-2023-06-26/tokens.txt \\\n",
        "  --model-type zipformer2 \\\n",
        "  ./sherpa-onnx-streaming-zipformer-en-2023-06-26/test_wavs/0.wav"
      ],
      "metadata": {
        "colab": {
          "base_uri": "https://localhost:8080/"
        },
        "id": "78SMUVSUXmUJ",
        "outputId": "5d593e49-17b6-4060-f10e-61de293eae46"
      },
      "execution_count": 8,
      "outputs": [
        {
          "output_type": "stream",
          "name": "stdout",
          "text": [
            "Cloning into 'sherpa-onnx-streaming-zipformer-en-2023-06-26'...\n",
            "remote: Enumerating objects: 27, done.\u001b[K\n",
            "remote: Total 27 (delta 0), reused 0 (delta 0), pack-reused 27\u001b[K\n",
            "Unpacking objects: 100% (27/27), 667.63 KiB | 3.46 MiB/s, done.\n",
            "2023/08/10 07:42:10.463869 Reading ./sherpa-onnx-streaming-zipformer-en-2023-06-26/test_wavs/0.wav\n",
            "2023/08/10 07:42:10.479684 Initializing recognizer (may take several seconds)\n",
            "2023/08/10 07:42:17.784677 Recognizer created!\n",
            "2023/08/10 07:42:17.784716 Start decoding!\n",
            "2023/08/10 07:42:19.269159 Decoding done!\n",
            "2023/08/10 07:42:19.269313  after early nightfall the yellow lamps would light up here and there the squalid quarter of the brothels\n",
            "2023/08/10 07:42:19.269339 Wave duration: 6.625 seconds\n"
          ]
        },
        {
          "output_type": "execute_result",
          "data": {
            "text/plain": []
          },
          "metadata": {},
          "execution_count": 8
        }
      ]
    },
    {
      "cell_type": "markdown",
      "source": [
        "# Real-time speech recognition from microphone"
      ],
      "metadata": {
        "id": "quANWjn_X4DW"
      }
    },
    {
      "cell_type": "code",
      "source": [
        "%%shell\n",
        "\n",
        "export PATH=$PATH:/usr/local/go/bin\n",
        "\n",
        "\n",
        "cd sherpa-onnx/go-api-examples/real-time-speech-recognition-from-microphone\n",
        "go mod tidy\n",
        "go build\n",
        "./real-time-speech-recognition-from-microphone --help || echo"
      ],
      "metadata": {
        "colab": {
          "base_uri": "https://localhost:8080/"
        },
        "id": "AHwbXdRGXz-c",
        "outputId": "2687402f-0db6-4106-b9bc-3197c73bafe1"
      },
      "execution_count": 9,
      "outputs": [
        {
          "output_type": "stream",
          "name": "stdout",
          "text": [
            "go: downloading github.com/gordonklaus/portaudio v0.0.0-20230709114228-aafa478834f5\n",
            "go build github.com/gordonklaus/portaudio:\n",
            "# pkg-config --cflags  -- portaudio-2.0\n",
            "Package portaudio-2.0 was not found in the pkg-config search path.\n",
            "Perhaps you should add the directory containing `portaudio-2.0.pc'\n",
            "to the PKG_CONFIG_PATH environment variable\n",
            "No package 'portaudio-2.0' found\n",
            "pkg-config: exit status 1\n",
            "/bin/bash: line 8: ./real-time-speech-recognition-from-microphone: No such file or directory\n",
            "\n"
          ]
        },
        {
          "output_type": "execute_result",
          "data": {
            "text/plain": []
          },
          "metadata": {},
          "execution_count": 9
        }
      ]
    },
    {
      "cell_type": "markdown",
      "source": [
        "So we need to install `portaudio` first:"
      ],
      "metadata": {
        "id": "FXHl668hYLUi"
      }
    },
    {
      "cell_type": "code",
      "source": [
        "! sudo apt-get install libasound-dev portaudio19-dev libportaudio2 libportaudiocpp0"
      ],
      "metadata": {
        "colab": {
          "base_uri": "https://localhost:8080/"
        },
        "id": "fkZMjxLDX99K",
        "outputId": "c09df708-629d-456f-9c12-1b2cf4616501"
      },
      "execution_count": 10,
      "outputs": [
        {
          "output_type": "stream",
          "name": "stdout",
          "text": [
            "Reading package lists... Done\n",
            "Building dependency tree... Done\n",
            "Reading state information... Done\n",
            "Note, selecting 'libasound2-dev' instead of 'libasound-dev'\n",
            "libasound2-dev is already the newest version (1.2.6.1-1ubuntu1).\n",
            "Suggested packages:\n",
            "  portaudio19-doc\n",
            "The following NEW packages will be installed:\n",
            "  libportaudio2 libportaudiocpp0 portaudio19-dev\n",
            "0 upgraded, 3 newly installed, 0 to remove and 16 not upgraded.\n",
            "Need to get 188 kB of archives.\n",
            "After this operation, 927 kB of additional disk space will be used.\n",
            "Get:1 http://archive.ubuntu.com/ubuntu jammy/universe amd64 libportaudio2 amd64 19.6.0-1.1 [65.3 kB]\n",
            "Get:2 http://archive.ubuntu.com/ubuntu jammy/universe amd64 libportaudiocpp0 amd64 19.6.0-1.1 [16.1 kB]\n",
            "Get:3 http://archive.ubuntu.com/ubuntu jammy/universe amd64 portaudio19-dev amd64 19.6.0-1.1 [106 kB]\n",
            "Fetched 188 kB in 1s (133 kB/s)\n",
            "debconf: unable to initialize frontend: Dialog\n",
            "debconf: (No usable dialog-like program is installed, so the dialog based frontend cannot be used. at /usr/share/perl5/Debconf/FrontEnd/Dialog.pm line 78, <> line 3.)\n",
            "debconf: falling back to frontend: Readline\n",
            "debconf: unable to initialize frontend: Readline\n",
            "debconf: (This frontend requires a controlling tty.)\n",
            "debconf: falling back to frontend: Teletype\n",
            "dpkg-preconfigure: unable to re-open stdin: \n",
            "Selecting previously unselected package libportaudio2:amd64.\n",
            "(Reading database ... 120511 files and directories currently installed.)\n",
            "Preparing to unpack .../libportaudio2_19.6.0-1.1_amd64.deb ...\n",
            "Unpacking libportaudio2:amd64 (19.6.0-1.1) ...\n",
            "Selecting previously unselected package libportaudiocpp0:amd64.\n",
            "Preparing to unpack .../libportaudiocpp0_19.6.0-1.1_amd64.deb ...\n",
            "Unpacking libportaudiocpp0:amd64 (19.6.0-1.1) ...\n",
            "Selecting previously unselected package portaudio19-dev:amd64.\n",
            "Preparing to unpack .../portaudio19-dev_19.6.0-1.1_amd64.deb ...\n",
            "Unpacking portaudio19-dev:amd64 (19.6.0-1.1) ...\n",
            "Setting up libportaudio2:amd64 (19.6.0-1.1) ...\n",
            "Setting up libportaudiocpp0:amd64 (19.6.0-1.1) ...\n",
            "Setting up portaudio19-dev:amd64 (19.6.0-1.1) ...\n",
            "Processing triggers for libc-bin (2.35-0ubuntu3.1) ...\n"
          ]
        }
      ]
    },
    {
      "cell_type": "code",
      "source": [
        "%%shell\n",
        "\n",
        "export PATH=$PATH:/usr/local/go/bin\n",
        "\n",
        "\n",
        "cd sherpa-onnx/go-api-examples/real-time-speech-recognition-from-microphone\n",
        "go mod tidy\n",
        "go build\n",
        "./real-time-speech-recognition-from-microphone --help || echo"
      ],
      "metadata": {
        "colab": {
          "base_uri": "https://localhost:8080/"
        },
        "id": "0yR-24MoYIuU",
        "outputId": "b8c36404-4074-49d7-f7f7-6a1f3d51da35"
      },
      "execution_count": 11,
      "outputs": [
        {
          "output_type": "stream",
          "name": "stdout",
          "text": [
            "ALSA lib confmisc.c:855:(parse_card) cannot find card '0'\n",
            "ALSA lib conf.c:5178:(_snd_config_evaluate) function snd_func_card_inum returned error: No such file or directory\n",
            "ALSA lib confmisc.c:422:(snd_func_concat) error evaluating strings\n",
            "ALSA lib conf.c:5178:(_snd_config_evaluate) function snd_func_concat returned error: No such file or directory\n",
            "ALSA lib confmisc.c:1334:(snd_func_refer) error evaluating name\n",
            "ALSA lib conf.c:5178:(_snd_config_evaluate) function snd_func_refer returned error: No such file or directory\n",
            "ALSA lib conf.c:5701:(snd_config_expand) Evaluate error: No such file or directory\n",
            "ALSA lib pcm.c:2664:(snd_pcm_open_noupdate) Unknown PCM sysdefault\n",
            "ALSA lib confmisc.c:855:(parse_card) cannot find card '0'\n",
            "ALSA lib conf.c:5178:(_snd_config_evaluate) function snd_func_card_inum returned error: No such file or directory\n",
            "ALSA lib confmisc.c:422:(snd_func_concat) error evaluating strings\n",
            "ALSA lib conf.c:5178:(_snd_config_evaluate) function snd_func_concat returned error: No such file or directory\n",
            "ALSA lib confmisc.c:1334:(snd_func_refer) error evaluating name\n",
            "ALSA lib conf.c:5178:(_snd_config_evaluate) function snd_func_refer returned error: No such file or directory\n",
            "ALSA lib conf.c:5701:(snd_config_expand) Evaluate error: No such file or directory\n",
            "ALSA lib pcm.c:2664:(snd_pcm_open_noupdate) Unknown PCM sysdefault\n",
            "ALSA lib pcm.c:2664:(snd_pcm_open_noupdate) Unknown PCM cards.pcm.front\n",
            "ALSA lib pcm.c:2664:(snd_pcm_open_noupdate) Unknown PCM cards.pcm.rear\n",
            "ALSA lib pcm.c:2664:(snd_pcm_open_noupdate) Unknown PCM cards.pcm.center_lfe\n",
            "ALSA lib pcm.c:2664:(snd_pcm_open_noupdate) Unknown PCM cards.pcm.side\n",
            "ALSA lib pcm.c:2664:(snd_pcm_open_noupdate) Unknown PCM cards.pcm.surround21\n",
            "ALSA lib pcm.c:2664:(snd_pcm_open_noupdate) Unknown PCM cards.pcm.surround21\n",
            "ALSA lib pcm.c:2664:(snd_pcm_open_noupdate) Unknown PCM cards.pcm.surround40\n",
            "ALSA lib pcm.c:2664:(snd_pcm_open_noupdate) Unknown PCM cards.pcm.surround41\n",
            "ALSA lib pcm.c:2664:(snd_pcm_open_noupdate) Unknown PCM cards.pcm.surround50\n",
            "ALSA lib pcm.c:2664:(snd_pcm_open_noupdate) Unknown PCM cards.pcm.surround51\n",
            "ALSA lib pcm.c:2664:(snd_pcm_open_noupdate) Unknown PCM cards.pcm.surround71\n",
            "ALSA lib pcm.c:2664:(snd_pcm_open_noupdate) Unknown PCM cards.pcm.iec958\n",
            "ALSA lib pcm.c:2664:(snd_pcm_open_noupdate) Unknown PCM cards.pcm.iec958\n",
            "ALSA lib pcm.c:2664:(snd_pcm_open_noupdate) Unknown PCM cards.pcm.iec958\n",
            "ALSA lib pcm.c:2664:(snd_pcm_open_noupdate) Unknown PCM cards.pcm.hdmi\n",
            "ALSA lib pcm.c:2664:(snd_pcm_open_noupdate) Unknown PCM cards.pcm.hdmi\n",
            "ALSA lib pcm.c:2664:(snd_pcm_open_noupdate) Unknown PCM cards.pcm.modem\n",
            "ALSA lib pcm.c:2664:(snd_pcm_open_noupdate) Unknown PCM cards.pcm.modem\n",
            "ALSA lib pcm.c:2664:(snd_pcm_open_noupdate) Unknown PCM cards.pcm.phoneline\n",
            "ALSA lib pcm.c:2664:(snd_pcm_open_noupdate) Unknown PCM cards.pcm.phoneline\n",
            "ALSA lib confmisc.c:855:(parse_card) cannot find card '0'\n",
            "ALSA lib conf.c:5178:(_snd_config_evaluate) function snd_func_card_inum returned error: No such file or directory\n",
            "ALSA lib confmisc.c:422:(snd_func_concat) error evaluating strings\n",
            "ALSA lib conf.c:5178:(_snd_config_evaluate) function snd_func_concat returned error: No such file or directory\n",
            "ALSA lib confmisc.c:1334:(snd_func_refer) error evaluating name\n",
            "ALSA lib conf.c:5178:(_snd_config_evaluate) function snd_func_refer returned error: No such file or directory\n",
            "ALSA lib conf.c:5701:(snd_config_expand) Evaluate error: No such file or directory\n",
            "ALSA lib pcm.c:2664:(snd_pcm_open_noupdate) Unknown PCM default\n",
            "ALSA lib confmisc.c:855:(parse_card) cannot find card '0'\n",
            "ALSA lib conf.c:5178:(_snd_config_evaluate) function snd_func_card_inum returned error: No such file or directory\n",
            "ALSA lib confmisc.c:422:(snd_func_concat) error evaluating strings\n",
            "ALSA lib conf.c:5178:(_snd_config_evaluate) function snd_func_concat returned error: No such file or directory\n",
            "ALSA lib confmisc.c:1334:(snd_func_refer) error evaluating name\n",
            "ALSA lib conf.c:5178:(_snd_config_evaluate) function snd_func_refer returned error: No such file or directory\n",
            "ALSA lib conf.c:5701:(snd_config_expand) Evaluate error: No such file or directory\n",
            "ALSA lib pcm.c:2664:(snd_pcm_open_noupdate) Unknown PCM default\n",
            "ALSA lib confmisc.c:855:(parse_card) cannot find card '0'\n",
            "ALSA lib conf.c:5178:(_snd_config_evaluate) function snd_func_card_id returned error: No such file or directory\n",
            "ALSA lib confmisc.c:422:(snd_func_concat) error evaluating strings\n",
            "ALSA lib conf.c:5178:(_snd_config_evaluate) function snd_func_concat returned error: No such file or directory\n",
            "ALSA lib confmisc.c:1334:(snd_func_refer) error evaluating name\n",
            "ALSA lib conf.c:5178:(_snd_config_evaluate) function snd_func_refer returned error: No such file or directory\n",
            "ALSA lib conf.c:5701:(snd_config_expand) Evaluate error: No such file or directory\n",
            "ALSA lib pcm.c:2664:(snd_pcm_open_noupdate) Unknown PCM dmix\n",
            "2023/08/10 07:42:31 Failed to get default input device: %v\n",
            "no default input device\n",
            "\n"
          ]
        },
        {
          "output_type": "execute_result",
          "data": {
            "text/plain": []
          },
          "metadata": {},
          "execution_count": 11
        }
      ]
    },
    {
      "cell_type": "markdown",
      "source": [
        "It exits since there are no microphones within the colab notebook."
      ],
      "metadata": {
        "id": "gmyUBPzPYW2B"
      }
    },
    {
      "cell_type": "code",
      "source": [
        "%%shell\n",
        "\n",
        "cd sherpa-onnx/go-api-examples/real-time-speech-recognition-from-microphone\n",
        "\n",
        "ls -lh ./real-time-speech-recognition-from-microphone\n",
        "echo\n",
        "file ./real-time-speech-recognition-from-microphone\n",
        "echo\n",
        "ldd ./real-time-speech-recognition-from-microphone"
      ],
      "metadata": {
        "colab": {
          "base_uri": "https://localhost:8080/"
        },
        "id": "1VZ_3z2oYQgq",
        "outputId": "c3c36cb4-96a5-45d5-8743-16470e1696e9"
      },
      "execution_count": 12,
      "outputs": [
        {
          "output_type": "stream",
          "name": "stdout",
          "text": [
            "-rwxr-xr-x 1 root root 2.4M Aug 10 07:42 ./real-time-speech-recognition-from-microphone\n",
            "\n",
            "./real-time-speech-recognition-from-microphone: ELF 64-bit LSB executable, x86-64, version 1 (SYSV), dynamically linked, interpreter /lib64/ld-linux-x86-64.so.2, BuildID[sha1]=30fe163dec1d1324beb79c25de5cf64c02ff87ed, for GNU/Linux 3.2.0, with debug_info, not stripped\n",
            "\n",
            "\tlinux-vdso.so.1 (0x00007ffc237f7000)\n",
            "\tlibportaudio.so.2 => /lib/x86_64-linux-gnu/libportaudio.so.2 (0x00007919d3b39000)\n",
            "\tlibsherpa-onnx-c-api.so => /root/go/pkg/mod/github.com/k2-fsa/sherpa-onnx-go-linux@v1.5.5/lib/x86_64-unknown-linux-gnu/libsherpa-onnx-c-api.so (0x00007919d3b2f000)\n",
            "\tlibc.so.6 => /lib/x86_64-linux-gnu/libc.so.6 (0x00007919d3907000)\n",
            "\tlibasound.so.2 => /lib/x86_64-linux-gnu/libasound.so.2 (0x00007919d3804000)\n",
            "\tlibjack.so.0 => /lib/x86_64-linux-gnu/libjack.so.0 (0x00007919d37e1000)\n",
            "\tlibm.so.6 => /lib/x86_64-linux-gnu/libm.so.6 (0x00007919d36f8000)\n",
            "\tlibpthread.so.0 => /lib/x86_64-linux-gnu/libpthread.so.0 (0x00007919d36f3000)\n",
            "\tlibsherpa-onnx-core.so => /root/go/pkg/mod/github.com/k2-fsa/sherpa-onnx-go-linux@v1.5.5/lib/x86_64-unknown-linux-gnu/libsherpa-onnx-core.so (0x00007919d3643000)\n",
            "\tlibkaldi-native-fbank-core.so => /root/go/pkg/mod/github.com/k2-fsa/sherpa-onnx-go-linux@v1.5.5/lib/x86_64-unknown-linux-gnu/libkaldi-native-fbank-core.so (0x00007919d361e000)\n",
            "\tlibonnxruntime.so.1.15.1 => /root/go/pkg/mod/github.com/k2-fsa/sherpa-onnx-go-linux@v1.5.5/lib/x86_64-unknown-linux-gnu/libonnxruntime.so.1.15.1 (0x00007919d2628000)\n",
            "\tlibstdc++.so.6 => /lib/x86_64-linux-gnu/libstdc++.so.6 (0x00007919d23fa000)\n",
            "\tlibgcc_s.so.1 => /lib/x86_64-linux-gnu/libgcc_s.so.1 (0x00007919d23da000)\n",
            "\t/lib64/ld-linux-x86-64.so.2 (0x00007919d3b82000)\n",
            "\tlibdb-5.3.so => /lib/x86_64-linux-gnu/libdb-5.3.so (0x00007919d222b000)\n",
            "\tlibdl.so.2 => /lib/x86_64-linux-gnu/libdl.so.2 (0x00007919d2226000)\n",
            "\tlibrt.so.1 => /lib/x86_64-linux-gnu/librt.so.1 (0x00007919d2221000)\n"
          ]
        },
        {
          "output_type": "execute_result",
          "data": {
            "text/plain": []
          },
          "metadata": {},
          "execution_count": 12
        }
      ]
    },
    {
      "cell_type": "code",
      "source": [
        "! pkg-config --cflags --libs portaudio-2.0"
      ],
      "metadata": {
        "colab": {
          "base_uri": "https://localhost:8080/"
        },
        "id": "qmBBVXAHYjnl",
        "outputId": "ce843d82-6513-4632-e40f-050b54c7c1b7"
      },
      "execution_count": 14,
      "outputs": [
        {
          "output_type": "stream",
          "name": "stdout",
          "text": [
            "-pthread -lportaudio -lasound -lm -lpthread\n"
          ]
        }
      ]
    },
    {
      "cell_type": "code",
      "source": [],
      "metadata": {
        "id": "Yj6--KO-aCMo"
      },
      "execution_count": null,
      "outputs": []
    }
  ]
}
