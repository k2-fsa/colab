{
  "nbformat": 4,
  "nbformat_minor": 0,
  "metadata": {
    "colab": {
      "provenance": [],
      "toc_visible": true,
      "gpuType": "T4",
      "authorship_tag": "ABX9TyNWi1X8CjVyoFf+wX2EdE5T",
      "include_colab_link": true
    },
    "kernelspec": {
      "name": "python3",
      "display_name": "Python 3"
    },
    "language_info": {
      "name": "python"
    },
    "accelerator": "GPU"
  },
  "cells": [
    {
      "cell_type": "markdown",
      "metadata": {
        "id": "view-in-github",
        "colab_type": "text"
      },
      "source": [
        "<a href=\"https://colab.research.google.com/github/csukuangfj/colab/blob/master/sherpa_onnx_whisper_models.ipynb\" target=\"_parent\"><img src=\"https://colab.research.google.com/assets/colab-badge.svg\" alt=\"Open In Colab\"/></a>"
      ]
    },
    {
      "cell_type": "markdown",
      "source": [
        "# Introduction\n",
        "\n",
        "This colab notebooks shows how to use [sherpa-onnx][sherpa-onnx]\n",
        "to run [whisper][whisper] models.\n",
        "\n",
        "[sherpa-onnx]: https://github.com/k2-fsa/sherpa-onnx\n",
        "[whisper]: https://github.com/openai/whisper/\n",
        "\n",
        "Real time factors (RTF) of each type of model are listed below:\n",
        "\n",
        "|model|CPU or CUDA| RTF|\n",
        "|---|---|---|\n",
        "|float32 tiny.en| CPU|0.208|\n",
        "|float32 tiny.en| CUDA|0.186|\n",
        "|int8 tiny.en| CPU|0.142|\n",
        "|int8 tiny.en| CUDA|0.146|\n",
        "|float32 base.en| CPU|0.430|\n",
        "|float32 base.en| CUDA|0.129|\n",
        "|int8 base.en| CPU|0.332|\n",
        "|int8 base.en| CUDA|0.259|\n",
        "|float32 small.en| CPU|1.633|\n",
        "|float32 small.en| CUDA|0.268|\n",
        "|int8 small.en| CPU|1.369|\n",
        "|int8 small.en| CUDA|0.722|\n",
        "|float32 medium.en| CPU|5.515|\n",
        "|float32 medium.en| CUDA|0.675|\n",
        "|int8 medium.en| CPU|4.269|\n",
        "|int8 medium.en| CUDA|1.867|\n"
      ],
      "metadata": {
        "id": "xCHMfCsrycnH"
      }
    },
    {
      "cell_type": "markdown",
      "source": [
        "## Install sherpa-onnx\n",
        "\n",
        "First we need to install [sherpa-onnx](https://github.com/k2-fsa/sherpa-onnx).\n",
        "\n",
        "Please refer to\n",
        "https://k2-fsa.github.io/sherpa/onnx/install/index.html\n",
        "for other installation methods."
      ],
      "metadata": {
        "id": "YekG61jmyoaP"
      }
    },
    {
      "cell_type": "code",
      "source": [
        "# ! pip install sherpa-onnx   # <--- It installs a CPU version\n",
        "\n",
        "%%shell\n",
        "\n",
        "git clone http://github.com/k2-fsa/sherpa-onnx\n",
        "cd sherpa-onnx\n",
        "mkdir build\n",
        "cd build\n",
        "cmake \\\n",
        "  -DCMAKE_BUILD_TYPE=Release \\\n",
        "  -DBUILD_SHARED_LIBS=ON \\\n",
        "  -DSHERPA_ONNX_ENABLE_GPU=ON \\\n",
        "  -DCMAKE_INSTALL_PREFIX=./install \\\n",
        "  ..\n",
        "\n",
        "make -j\n",
        "make install"
      ],
      "metadata": {
        "colab": {
          "base_uri": "https://localhost:8080/"
        },
        "id": "GeRhJW2FynzC",
        "outputId": "10170535-afa0-40cb-c90a-1a89ab8e886a"
      },
      "execution_count": 1,
      "outputs": [
        {
          "output_type": "stream",
          "name": "stdout",
          "text": [
            "Cloning into 'sherpa-onnx'...\n",
            "warning: redirecting to https://github.com/k2-fsa/sherpa-onnx/\n",
            "remote: Enumerating objects: 2497, done.\u001b[K\n",
            "remote: Counting objects: 100% (969/969), done.\u001b[K\n",
            "remote: Compressing objects: 100% (385/385), done.\u001b[K\n",
            "remote: Total 2497 (delta 692), reused 678 (delta 573), pack-reused 1528\u001b[K\n",
            "Receiving objects: 100% (2497/2497), 1.84 MiB | 10.34 MiB/s, done.\n",
            "Resolving deltas: 100% (1430/1430), done.\n",
            "-- The C compiler identification is GNU 11.4.0\n",
            "-- The CXX compiler identification is GNU 11.4.0\n",
            "-- Detecting C compiler ABI info\n",
            "-- Detecting C compiler ABI info - done\n",
            "-- Check for working C compiler: /usr/bin/cc - skipped\n",
            "-- Detecting C compile features\n",
            "-- Detecting C compile features - done\n",
            "-- Detecting CXX compiler ABI info\n",
            "-- Detecting CXX compiler ABI info - done\n",
            "-- Check for working CXX compiler: /usr/bin/c++ - skipped\n",
            "-- Detecting CXX compile features\n",
            "-- Detecting CXX compile features - done\n",
            "\u001b[33mCMake Warning at CMakeLists.txt:62 (message):\n",
            "  Compiling for NVIDIA GPU is enabled.  Please make sure cudatoolkit\n",
            "\n",
            "  is installed on your system.  Otherwise, you will get errors at runtime.\n",
            "\n",
            "  Hint: You don't need sudo permission to install CUDA toolkit.  Please refer\n",
            "  to\n",
            "\n",
            "    https://k2-fsa.github.io/k2/installation/cuda-cudnn.html\n",
            "\n",
            "  to install CUDA toolkit if you have not installed it.\n",
            "\n",
            "\u001b[0m\n",
            "-- CMAKE_BUILD_TYPE: Release\n",
            "-- CMAKE_INSTALL_PREFIX: /content/sherpa-onnx/build/install\n",
            "-- BUILD_SHARED_LIBS ON\n",
            "-- SHERPA_ONNX_ENABLE_PYTHON OFF\n",
            "-- SHERPA_ONNX_ENABLE_TESTS OFF\n",
            "-- SHERPA_ONNX_ENABLE_CHECK OFF\n",
            "-- SHERPA_ONNX_ENABLE_PORTAUDIO ON\n",
            "-- SHERPA_ONNX_ENABLE_JNI OFF\n",
            "-- SHERPA_ONNX_ENABLE_C_API ON\n",
            "-- SHERPA_ONNX_ENABLE_WEBSOCKET ON\n",
            "-- SHERPA_ONNX_ENABLE_GPU ON\n",
            "-- Looking for C++ include alsa/asoundlib.h\n",
            "-- Looking for C++ include alsa/asoundlib.h - found\n",
            "-- Looking for C++ include cxxabi.h\n",
            "-- Looking for C++ include cxxabi.h - found\n",
            "-- Looking for C++ include execinfo.h\n",
            "-- Looking for C++ include execinfo.h - found\n",
            "-- Downloading kaldi-native-fbank from https://github.com/csukuangfj/kaldi-native-fbank/archive/refs/tags/v1.18.1.tar.gz\n",
            "-- kaldi-native-fbank is downloaded to /content/sherpa-onnx/build/_deps/kaldi_native_fbank-src\n",
            "-- kaldi-native-fbank's binary dir is /content/sherpa-onnx/build/_deps/kaldi_native_fbank-build\n",
            "-- CMAKE_BUILD_TYPE: Release\n",
            "-- CMAKE_EXPORT_COMPILE_COMMANDS: \n",
            "-- BUILD_SHARED_LIBS: ON\n",
            "-- KALDI_NATIVE_FBANK_BUILD_TESTS: OFF\n",
            "-- KALDI_NATIVE_FBANK_BUILD_PYTHON: OFF\n",
            "-- KALDI_NATIVE_FBANK_ENABLE_CHECK: OFF\n",
            "-- KALDI_NATIVE_FBANK_ENABLE_CHECK: OFF\n",
            "-- CMAKE_CXX_FLAGS: \n",
            "-- CMAKE_INSTALL_PREFIX: /content/sherpa-onnx/build/install\n",
            "-- Looking for C++ include cxxabi.h\n",
            "-- Looking for C++ include cxxabi.h - found\n",
            "-- Looking for C++ include execinfo.h\n",
            "-- Looking for C++ include execinfo.h - found\n",
            "-- Disable building Python\n",
            "-- CMAKE_SYSTEM_NAME: Linux\n",
            "-- CMAKE_SYSTEM_PROCESSOR: x86_64\n",
            "-- location_onnxruntime_header_dir: location_onnxruntime_header_dir-NOTFOUND\n",
            "-- location_onnxruntime_lib: location_onnxruntime_lib-NOTFOUND\n",
            "-- location_onnxruntime_cuda_lib: location_onnxruntime_cuda_lib-NOTFOUND\n",
            "-- Could not find a pre-installed onnxruntime. Downloading pre-compiled onnxruntime\n",
            "-- CMAKE_SYSTEM_NAME: Linux\n",
            "-- CMAKE_SYSTEM_PROCESSOR: x86_64\n",
            "-- CMAKE_SYSTEM_NAME: Linux\n",
            "-- CMAKE_SYSTEM_PROCESSOR: x86_64\n",
            "-- Downloading onnxruntime from https://github.com/microsoft/onnxruntime/releases/download/v1.15.1/onnxruntime-linux-x64-gpu-1.15.1.tgz\n",
            "-- onnxruntime is downloaded to /content/sherpa-onnx/build/_deps/onnxruntime-src\n",
            "-- location_onnxruntime: /content/sherpa-onnx/build/_deps/onnxruntime-src/lib/libonnxruntime.so\n",
            "-- onnxruntime lib files: /content/sherpa-onnx/build/_deps/onnxruntime-src/lib/libonnxruntime.so;/content/sherpa-onnx/build/_deps/onnxruntime-src/lib/libonnxruntime.so.1.15.1;/content/sherpa-onnx/build/_deps/onnxruntime-src/lib/libonnxruntime_providers_cuda.so;/content/sherpa-onnx/build/_deps/onnxruntime-src/lib/libonnxruntime_providers_shared.so;/content/sherpa-onnx/build/_deps/onnxruntime-src/lib/libonnxruntime_providers_tensorrt.so\n",
            "-- Downloading portaudio from http://files.portaudio.com/archives/pa_stable_v190700_20210406.tgz\n",
            "-- portaudio is downloaded to /content/sherpa-onnx/build/_deps/portaudio-src\n",
            "-- portaudio's binary dir is /content/sherpa-onnx/build/_deps/portaudio-build\n",
            "\u001b[0mCMake Deprecation Warning at build/_deps/portaudio-src/CMakeLists.txt:7 (CMAKE_MINIMUM_REQUIRED):\n",
            "  Compatibility with CMake < 2.8.12 will be removed from a future version of\n",
            "  CMake.\n",
            "\n",
            "  Update the VERSION argument <min> value or use a ...<max> suffix to tell\n",
            "  CMake that the project does not need compatibility with older versions.\n",
            "\n",
            "\u001b[0m\n",
            "-- Found ALSA: /usr/lib/x86_64-linux-gnu/libasound.so (found version \"1.2.6.1\") \n",
            "-- Downloading websocketpp from https://github.com/zaphoyd/websocketpp/archive/b9aeec6eaf3d5610503439b4fae3581d9aff08e8.zip\n",
            "-- websocketpp is downloaded to /content/sherpa-onnx/build/_deps/websocketpp-src\n",
            "-- Downloading asio https://github.com/chriskohlhoff/asio/archive/refs/tags/asio-1-24-0.tar.gz\n",
            "-- asio is downloaded to /content/sherpa-onnx/build/_deps/asio-src\n",
            "-- Downloading json from https://github.com/nlohmann/json/archive/refs/tags/v3.11.2.tar.gz\n",
            "-- json is downloaded to /content/sherpa-onnx/build/_deps/json-src\n",
            "-- Downloading cargs https://github.com/likle/cargs/archive/refs/tags/v1.0.3.tar.gz\n",
            "-- cargs is downloaded to /content/sherpa-onnx/build/_deps/cargs-src\n",
            "-- CMAKE_CXX_FLAGS: \n",
            "-- Configuring done\n",
            "-- Generating done\n",
            "-- Build files have been written to: /content/sherpa-onnx/build\n",
            "[  1%] \u001b[32mBuilding C object _deps/portaudio-build/CMakeFiles/portaudio.dir/src/common/pa_allocation.c.o\u001b[0m\n",
            "[  1%] \u001b[32mBuilding C object _deps/cargs-build/CMakeFiles/cargs.dir/src/cargs.c.o\u001b[0m\n",
            "[  2%] \u001b[32mBuilding C object _deps/portaudio-build/CMakeFiles/portaudio.dir/src/common/pa_converters.c.o\u001b[0m\n",
            "[  3%] \u001b[32mBuilding C object _deps/portaudio-build/CMakeFiles/portaudio.dir/src/common/pa_cpuload.c.o\u001b[0m\n",
            "[  4%] \u001b[32mBuilding CXX object _deps/kaldi_native_fbank-build/kaldi-native-fbank/csrc/CMakeFiles/kaldi-native-fbank-core.dir/feature-fbank.cc.o\u001b[0m\n",
            "[  5%] \u001b[32mBuilding CXX object _deps/kaldi_native_fbank-build/kaldi-native-fbank/csrc/CMakeFiles/kaldi-native-fbank-core.dir/feature-functions.cc.o\u001b[0m\n",
            "[  7%] \u001b[32mBuilding C object _deps/portaudio-build/CMakeFiles/portaudio.dir/src/common/pa_dither.c.o\u001b[0m\n",
            "[  8%] \u001b[32mBuilding CXX object _deps/kaldi_native_fbank-build/kaldi-native-fbank/csrc/CMakeFiles/kaldi-native-fbank-core.dir/feature-window.cc.o\u001b[0m\n",
            "[  8%] \u001b[32mBuilding C object _deps/portaudio-build/CMakeFiles/portaudio.dir/src/common/pa_debugprint.c.o\u001b[0m\n",
            "[  9%] \u001b[32mBuilding C object _deps/portaudio-build/CMakeFiles/portaudio.dir/src/common/pa_process.c.o\u001b[0m\n",
            "[ 10%] \u001b[32mBuilding C object _deps/portaudio-build/CMakeFiles/portaudio.dir/src/common/pa_front.c.o\u001b[0m\n",
            "[ 11%] \u001b[32mBuilding C object _deps/kaldi_native_fbank-build/kaldi-native-fbank/csrc/CMakeFiles/kaldi-native-fbank-core.dir/fftsg.c.o\u001b[0m\n",
            "[ 12%] \u001b[32mBuilding CXX object _deps/kaldi_native_fbank-build/kaldi-native-fbank/csrc/CMakeFiles/kaldi-native-fbank-core.dir/mel-computations.cc.o\u001b[0m\n",
            "[ 14%] \u001b[32mBuilding C object _deps/portaudio-build/CMakeFiles/portaudio.dir/src/common/pa_ringbuffer.c.o\u001b[0m\n",
            "[ 13%] \u001b[32mBuilding CXX object _deps/kaldi_native_fbank-build/kaldi-native-fbank/csrc/CMakeFiles/kaldi-native-fbank-core.dir/online-feature.cc.o\u001b[0m\n",
            "[ 15%] \u001b[32mBuilding C object _deps/portaudio-build/CMakeFiles/portaudio.dir/src/common/pa_stream.c.o\u001b[0m\n",
            "[ 17%] \u001b[32mBuilding CXX object _deps/kaldi_native_fbank-build/kaldi-native-fbank/csrc/CMakeFiles/kaldi-native-fbank-core.dir/whisper-feature.cc.o\u001b[0m\n",
            "[ 16%] \u001b[32mBuilding CXX object _deps/kaldi_native_fbank-build/kaldi-native-fbank/csrc/CMakeFiles/kaldi-native-fbank-core.dir/rfft.cc.o\u001b[0m\n",
            "[ 18%] \u001b[32mBuilding C object _deps/portaudio-build/CMakeFiles/portaudio.dir/src/hostapi/skeleton/pa_hostapi_skeleton.c.o\u001b[0m\n",
            "[ 19%] \u001b[32mBuilding C object _deps/portaudio-build/CMakeFiles/portaudio.dir/src/common/pa_trace.c.o\u001b[0m\n",
            "[ 19%] \u001b[32mBuilding C object _deps/portaudio-build/CMakeFiles/portaudio.dir/src/os/unix/pa_unix_hostapis.c.o\u001b[0m\n",
            "[ 20%] \u001b[32mBuilding C object _deps/portaudio-build/CMakeFiles/portaudio.dir/src/os/unix/pa_unix_util.c.o\u001b[0m\n",
            "[ 21%] \u001b[32mBuilding C object _deps/portaudio-build/CMakeFiles/portaudio.dir/src/hostapi/jack/pa_jack.c.o\u001b[0m\n",
            "[ 22%] \u001b[32mBuilding C object _deps/portaudio-build/CMakeFiles/portaudio.dir/src/hostapi/alsa/pa_linux_alsa.c.o\u001b[0m\n",
            "\u001b[01m\u001b[K/content/sherpa-onnx/build/_deps/portaudio-src/src/hostapi/jack/pa_jack.c:\u001b[m\u001b[K In function ‘\u001b[01m\u001b[KBuildDeviceList\u001b[m\u001b[K’:\n",
            "\u001b[01m\u001b[K/content/sherpa-onnx/build/_deps/portaudio-src/src/hostapi/jack/pa_jack.c:640:17:\u001b[m\u001b[K \u001b[01;35m\u001b[Kwarning: \u001b[m\u001b[K‘\u001b[01m\u001b[Kjack_port_get_latency\u001b[m\u001b[K’ is deprecated [\u001b[01;35m\u001b[K\u001b]8;;https://gcc.gnu.org/onlinedocs/gcc/Warning-Options.html#index-Wdeprecated-declarations\u0007-Wdeprecated-declarations\u001b]8;;\u0007\u001b[m\u001b[K]\n",
            "  640 |                 \u001b[01;35m\u001b[Kjack_port_get_latency\u001b[m\u001b[K( p ) / globalSampleRate;\n",
            "      |                 \u001b[01;35m\u001b[K^~~~~~~~~~~~~~~~~~~~~\u001b[m\u001b[K\n",
            "In file included from \u001b[01m\u001b[K/content/sherpa-onnx/build/_deps/portaudio-src/src/hostapi/jack/pa_jack.c:63\u001b[m\u001b[K:\n",
            "\u001b[01m\u001b[K/usr/include/jack/jack.h:1093:16:\u001b[m\u001b[K \u001b[01;36m\u001b[Knote: \u001b[m\u001b[Kdeclared here\n",
            " 1093 | jack_nframes_t \u001b[01;36m\u001b[Kjack_port_get_latency\u001b[m\u001b[K (jack_port_t *port) JACK_OPTIONAL_WEAK_DEPRECATED_EXPORT;\n",
            "      |                \u001b[01;36m\u001b[K^~~~~~~~~~~~~~~~~~~~~\u001b[m\u001b[K\n",
            "\u001b[01m\u001b[K/content/sherpa-onnx/build/_deps/portaudio-src/src/hostapi/jack/pa_jack.c:661:17:\u001b[m\u001b[K \u001b[01;35m\u001b[Kwarning: \u001b[m\u001b[K‘\u001b[01m\u001b[Kjack_port_get_latency\u001b[m\u001b[K’ is deprecated [\u001b[01;35m\u001b[K\u001b]8;;https://gcc.gnu.org/onlinedocs/gcc/Warning-Options.html#index-Wdeprecated-declarations\u0007-Wdeprecated-declarations\u001b]8;;\u0007\u001b[m\u001b[K]\n",
            "  661 |                 \u001b[01;35m\u001b[Kjack_port_get_latency\u001b[m\u001b[K( p ) / globalSampleRate;\n",
            "      |                 \u001b[01;35m\u001b[K^~~~~~~~~~~~~~~~~~~~~\u001b[m\u001b[K\n",
            "In file included from \u001b[01m\u001b[K/content/sherpa-onnx/build/_deps/portaudio-src/src/hostapi/jack/pa_jack.c:63\u001b[m\u001b[K:\n",
            "\u001b[01m\u001b[K/usr/include/jack/jack.h:1093:16:\u001b[m\u001b[K \u001b[01;36m\u001b[Knote: \u001b[m\u001b[Kdeclared here\n",
            " 1093 | jack_nframes_t \u001b[01;36m\u001b[Kjack_port_get_latency\u001b[m\u001b[K (jack_port_t *port) JACK_OPTIONAL_WEAK_DEPRECATED_EXPORT;\n",
            "      |                \u001b[01;36m\u001b[K^~~~~~~~~~~~~~~~~~~~~\u001b[m\u001b[K\n",
            "\u001b[01m\u001b[K/content/sherpa-onnx/build/_deps/portaudio-src/src/hostapi/jack/pa_jack.c:\u001b[m\u001b[K In function ‘\u001b[01m\u001b[KOpenStream\u001b[m\u001b[K’:\n",
            "\u001b[01m\u001b[K/content/sherpa-onnx/build/_deps/portaudio-src/src/hostapi/jack/pa_jack.c:1357:9:\u001b[m\u001b[K \u001b[01;35m\u001b[Kwarning: \u001b[m\u001b[K‘\u001b[01m\u001b[Kjack_port_get_latency\u001b[m\u001b[K’ is deprecated [\u001b[01;35m\u001b[K\u001b]8;;https://gcc.gnu.org/onlinedocs/gcc/Warning-Options.html#index-Wdeprecated-declarations\u0007-Wdeprecated-declarations\u001b]8;;\u0007\u001b[m\u001b[K]\n",
            " 1357 |         \u001b[01;35m\u001b[Kstream\u001b[m\u001b[K->streamRepresentation.streamInfo.inputLatency = (jack_port_get_latency( stream->remote_output_ports[0] )\n",
            "      |         \u001b[01;35m\u001b[K^~~~~~\u001b[m\u001b[K\n",
            "In file included from \u001b[01m\u001b[K/content/sherpa-onnx/build/_deps/portaudio-src/src/hostapi/jack/pa_jack.c:63\u001b[m\u001b[K:\n",
            "\u001b[01m\u001b[K/usr/include/jack/jack.h:1093:16:\u001b[m\u001b[K \u001b[01;36m\u001b[Knote: \u001b[m\u001b[Kdeclared here\n",
            " 1093 | jack_nframes_t \u001b[01;36m\u001b[Kjack_port_get_latency\u001b[m\u001b[K (jack_port_t *port) JACK_OPTIONAL_WEAK_DEPRECATED_EXPORT;\n",
            "      |                \u001b[01;36m\u001b[K^~~~~~~~~~~~~~~~~~~~~\u001b[m\u001b[K\n",
            "\u001b[01m\u001b[K/content/sherpa-onnx/build/_deps/portaudio-src/src/hostapi/jack/pa_jack.c:1361:9:\u001b[m\u001b[K \u001b[01;35m\u001b[Kwarning: \u001b[m\u001b[K‘\u001b[01m\u001b[Kjack_port_get_latency\u001b[m\u001b[K’ is deprecated [\u001b[01;35m\u001b[K\u001b]8;;https://gcc.gnu.org/onlinedocs/gcc/Warning-Options.html#index-Wdeprecated-declarations\u0007-Wdeprecated-declarations\u001b]8;;\u0007\u001b[m\u001b[K]\n",
            " 1361 |         \u001b[01;35m\u001b[Kstream\u001b[m\u001b[K->streamRepresentation.streamInfo.outputLatency = (jack_port_get_latency( stream->remote_input_ports[0] )\n",
            "      |         \u001b[01;35m\u001b[K^~~~~~\u001b[m\u001b[K\n",
            "In file included from \u001b[01m\u001b[K/content/sherpa-onnx/build/_deps/portaudio-src/src/hostapi/jack/pa_jack.c:63\u001b[m\u001b[K:\n",
            "\u001b[01m\u001b[K/usr/include/jack/jack.h:1093:16:\u001b[m\u001b[K \u001b[01;36m\u001b[Knote: \u001b[m\u001b[Kdeclared here\n",
            " 1093 | jack_nframes_t \u001b[01;36m\u001b[Kjack_port_get_latency\u001b[m\u001b[K (jack_port_t *port) JACK_OPTIONAL_WEAK_DEPRECATED_EXPORT;\n",
            "      |                \u001b[01;36m\u001b[K^~~~~~~~~~~~~~~~~~~~~\u001b[m\u001b[K\n",
            "\u001b[01m\u001b[K/content/sherpa-onnx/build/_deps/portaudio-src/src/hostapi/jack/pa_jack.c:\u001b[m\u001b[K In function ‘\u001b[01m\u001b[KRealProcess\u001b[m\u001b[K’:\n",
            "\u001b[01m\u001b[K/content/sherpa-onnx/build/_deps/portaudio-src/src/hostapi/jack/pa_jack.c:1423:9:\u001b[m\u001b[K \u001b[01;35m\u001b[Kwarning: \u001b[m\u001b[K‘\u001b[01m\u001b[Kjack_port_get_latency\u001b[m\u001b[K’ is deprecated [\u001b[01;35m\u001b[K\u001b]8;;https://gcc.gnu.org/onlinedocs/gcc/Warning-Options.html#index-Wdeprecated-declarations\u0007-Wdeprecated-declarations\u001b]8;;\u0007\u001b[m\u001b[K]\n",
            " 1423 |         \u001b[01;35m\u001b[KtimeInfo\u001b[m\u001b[K.inputBufferAdcTime = timeInfo.currentTime - jack_port_get_latency( stream->remote_output_ports[0] )\n",
            "      |         \u001b[01;35m\u001b[K^~~~~~~~\u001b[m\u001b[K\n",
            "In file included from \u001b[01m\u001b[K/content/sherpa-onnx/build/_deps/portaudio-src/src/hostapi/jack/pa_jack.c:63\u001b[m\u001b[K:\n",
            "\u001b[01m\u001b[K/usr/include/jack/jack.h:1093:16:\u001b[m\u001b[K \u001b[01;36m\u001b[Knote: \u001b[m\u001b[Kdeclared here\n",
            " 1093 | jack_nframes_t \u001b[01;36m\u001b[Kjack_port_get_latency\u001b[m\u001b[K (jack_port_t *port) JACK_OPTIONAL_WEAK_DEPRECATED_EXPORT;\n",
            "      |                \u001b[01;36m\u001b[K^~~~~~~~~~~~~~~~~~~~~\u001b[m\u001b[K\n",
            "\u001b[01m\u001b[K/content/sherpa-onnx/build/_deps/portaudio-src/src/hostapi/jack/pa_jack.c:1426:9:\u001b[m\u001b[K \u001b[01;35m\u001b[Kwarning: \u001b[m\u001b[K‘\u001b[01m\u001b[Kjack_port_get_latency\u001b[m\u001b[K’ is deprecated [\u001b[01;35m\u001b[K\u001b]8;;https://gcc.gnu.org/onlinedocs/gcc/Warning-Options.html#index-Wdeprecated-declarations\u0007-Wdeprecated-declarations\u001b]8;;\u0007\u001b[m\u001b[K]\n",
            " 1426 |         \u001b[01;35m\u001b[KtimeInfo\u001b[m\u001b[K.outputBufferDacTime = timeInfo.currentTime + jack_port_get_latency( stream->remote_input_ports[0] )\n",
            "      |         \u001b[01;35m\u001b[K^~~~~~~~\u001b[m\u001b[K\n",
            "In file included from \u001b[01m\u001b[K/content/sherpa-onnx/build/_deps/portaudio-src/src/hostapi/jack/pa_jack.c:63\u001b[m\u001b[K:\n",
            "\u001b[01m\u001b[K/usr/include/jack/jack.h:1093:16:\u001b[m\u001b[K \u001b[01;36m\u001b[Knote: \u001b[m\u001b[Kdeclared here\n",
            " 1093 | jack_nframes_t \u001b[01;36m\u001b[Kjack_port_get_latency\u001b[m\u001b[K (jack_port_t *port) JACK_OPTIONAL_WEAK_DEPRECATED_EXPORT;\n",
            "      |                \u001b[01;36m\u001b[K^~~~~~~~~~~~~~~~~~~~~\u001b[m\u001b[K\n",
            "\u001b[01m\u001b[K/content/sherpa-onnx/build/_deps/portaudio-src/src/hostapi/alsa/pa_linux_alsa.c:183:1:\u001b[m\u001b[K \u001b[01;35m\u001b[Kwarning: \u001b[m\u001b[K‘\u001b[01m\u001b[Ksnd_pcm_sw_params_set_xfer_align\u001b[m\u001b[K’ is deprecated [\u001b[01;35m\u001b[K\u001b]8;;https://gcc.gnu.org/onlinedocs/gcc/Warning-Options.html#index-Wdeprecated-declarations\u0007-Wdeprecated-declarations\u001b]8;;\u0007\u001b[m\u001b[K]\n",
            "  183 | \u001b[01;35m\u001b[K_PA_DEFINE_FUNC\u001b[m\u001b[K(snd_pcm_sw_params_set_xfer_align);\n",
            "      | \u001b[01;35m\u001b[K^~~~~~~~~~~~~~~\u001b[m\u001b[K\n",
            "In file included from \u001b[01m\u001b[K/usr/include/alsa/asoundlib.h:54\u001b[m\u001b[K,\n",
            "                 from \u001b[01m\u001b[K/content/sherpa-onnx/build/_deps/portaudio-src/src/hostapi/alsa/pa_linux_alsa.c:52\u001b[m\u001b[K:\n",
            "\u001b[01m\u001b[K/usr/include/alsa/pcm.h:1368:5:\u001b[m\u001b[K \u001b[01;36m\u001b[Knote: \u001b[m\u001b[Kdeclared here\n",
            " 1368 | int \u001b[01;36m\u001b[Ksnd_pcm_sw_params_set_xfer_align\u001b[m\u001b[K(snd_pcm_t *pcm, snd_pcm_sw_params_t *params, snd_pcm_uframes_t val) __attribute__((deprecated));\n",
            "      |     \u001b[01;36m\u001b[K^~~~~~~~~~~~~~~~~~~~~~~~~~~~~~~~\u001b[m\u001b[K\n",
            "\u001b[01m\u001b[K/content/sherpa-onnx/build/_deps/portaudio-src/src/hostapi/alsa/pa_linux_alsa.c:\u001b[m\u001b[K In function ‘\u001b[01m\u001b[KPaAlsa_LoadLibrary\u001b[m\u001b[K’:\n",
            "\u001b[01m\u001b[K/content/sherpa-onnx/build/_deps/portaudio-src/src/hostapi/alsa/pa_linux_alsa.c:465:5:\u001b[m\u001b[K \u001b[01;35m\u001b[Kwarning: \u001b[m\u001b[K‘\u001b[01m\u001b[Ksnd_pcm_sw_params_set_xfer_align\u001b[m\u001b[K’ is deprecated [\u001b[01;35m\u001b[K\u001b]8;;https://gcc.gnu.org/onlinedocs/gcc/Warning-Options.html#index-Wdeprecated-declarations\u0007-Wdeprecated-declarations\u001b]8;;\u0007\u001b[m\u001b[K]\n",
            "  465 |     \u001b[01;35m\u001b[K_PA_LOAD_FUNC\u001b[m\u001b[K(snd_pcm_sw_params_set_xfer_align);\n",
            "      |     \u001b[01;35m\u001b[K^~~~~~~~~~~~~\u001b[m\u001b[K\n",
            "In file included from \u001b[01m\u001b[K/usr/include/alsa/asoundlib.h:54\u001b[m\u001b[K,\n",
            "                 from \u001b[01m\u001b[K/content/sherpa-onnx/build/_deps/portaudio-src/src/hostapi/alsa/pa_linux_alsa.c:52\u001b[m\u001b[K:\n",
            "\u001b[01m\u001b[K/usr/include/alsa/pcm.h:1368:5:\u001b[m\u001b[K \u001b[01;36m\u001b[Knote: \u001b[m\u001b[Kdeclared here\n",
            " 1368 | int \u001b[01;36m\u001b[Ksnd_pcm_sw_params_set_xfer_align\u001b[m\u001b[K(snd_pcm_t *pcm, snd_pcm_sw_params_t *params, snd_pcm_uframes_t val) __attribute__((deprecated));\n",
            "      |     \u001b[01;36m\u001b[K^~~~~~~~~~~~~~~~~~~~~~~~~~~~~~~~\u001b[m\u001b[K\n",
            "[ 23%] \u001b[32m\u001b[1mLinking C shared library ../../lib/libcargs.so\u001b[0m\n",
            "[ 23%] Built target cargs\n",
            "\u001b[01m\u001b[K/content/sherpa-onnx/build/_deps/portaudio-src/src/hostapi/alsa/pa_linux_alsa.c:\u001b[m\u001b[K In function ‘\u001b[01m\u001b[KBuildDeviceList.constprop\u001b[m\u001b[K’:\n",
            "\u001b[01m\u001b[K/content/sherpa-onnx/build/_deps/portaudio-src/src/hostapi/alsa/pa_linux_alsa.c:1304:45:\u001b[m\u001b[K \u001b[01;35m\u001b[Kwarning: \u001b[m\u001b[K‘\u001b[01m\u001b[K%s\u001b[m\u001b[K’ directive output may be truncated writing up to 49 bytes into a region of size between 46 and 50 [\u001b[01;35m\u001b[K\u001b]8;;https://gcc.gnu.org/onlinedocs/gcc/Warning-Options.html#index-Wformat-truncation=\u0007-Wformat-truncation=\u001b]8;;\u0007\u001b[m\u001b[K]\n",
            " 1304 |             snprintf( buf, sizeof (buf), \"%s\u001b[01;35m\u001b[K%s\u001b[m\u001b[K,%d\", hwPrefix, \u001b[32m\u001b[KalsaCardName\u001b[m\u001b[K, devIdx );\n",
            "      |                                             \u001b[01;35m\u001b[K^~\u001b[m\u001b[K                \u001b[32m\u001b[K~~~~~~~~~~~~\u001b[m\u001b[K\n",
            "\u001b[01m\u001b[K/content/sherpa-onnx/build/_deps/portaudio-src/src/hostapi/alsa/pa_linux_alsa.c:1304:42:\u001b[m\u001b[K \u001b[01;36m\u001b[Knote: \u001b[m\u001b[Kdirective argument in the range [0, 2147483647]\n",
            " 1304 |             snprintf( buf, sizeof (buf), \u001b[01;36m\u001b[K\"%s%s,%d\"\u001b[m\u001b[K, hwPrefix, alsaCardName, devIdx );\n",
            "      |                                          \u001b[01;36m\u001b[K^~~~~~~~~\u001b[m\u001b[K\n",
            "In file included from \u001b[01m\u001b[K/usr/include/stdio.h:894\u001b[m\u001b[K,\n",
            "                 from \u001b[01m\u001b[K/usr/include/alsa/asoundlib.h:32\u001b[m\u001b[K,\n",
            "                 from \u001b[01m\u001b[K/content/sherpa-onnx/build/_deps/portaudio-src/src/hostapi/alsa/pa_linux_alsa.c:52\u001b[m\u001b[K:\n",
            "\u001b[01m\u001b[K/usr/include/x86_64-linux-gnu/bits/stdio2.h:71:10:\u001b[m\u001b[K \u001b[01;36m\u001b[Knote: \u001b[m\u001b[K‘\u001b[01m\u001b[K__builtin___snprintf_chk\u001b[m\u001b[K’ output between 3 and 65 bytes into a destination of size 50\n",
            "   71 |   return \u001b[01;36m\u001b[K__builtin___snprintf_chk (__s, __n, __USE_FORTIFY_LEVEL - 1,\u001b[m\u001b[K\n",
            "      |          \u001b[01;36m\u001b[K^~~~~~~~~~~~~~~~~~~~~~~~~~~~~~~~~~~~~~~~~~~~~~~~~~~~~~~~~~~~\u001b[m\u001b[K\n",
            "   72 | \u001b[01;36m\u001b[K                                   __glibc_objsize (__s), __fmt,\u001b[m\u001b[K\n",
            "      |                                    \u001b[01;36m\u001b[K~~~~~~~~~~~~~~~~~~~~~~~~~~~~~\u001b[m\u001b[K\n",
            "   73 | \u001b[01;36m\u001b[K                                   __va_arg_pack ())\u001b[m\u001b[K;\n",
            "      |                                    \u001b[01;36m\u001b[K~~~~~~~~~~~~~~~~~\u001b[m\u001b[K\n",
            "[ 23%] \u001b[32m\u001b[1mLinking CXX shared library ../../../../lib/libkaldi-native-fbank-core.so\u001b[0m\n",
            "[ 24%] \u001b[32m\u001b[1mLinking C shared library ../../lib/libsherpa-onnx-portaudio.so\u001b[0m\n",
            "[ 24%] Built target kaldi-native-fbank-core\n",
            "[ 24%] \u001b[32mBuilding CXX object sherpa-onnx/csrc/CMakeFiles/sherpa-onnx-core.dir/base64-decode.cc.o\u001b[0m\n",
            "[ 25%] \u001b[32mBuilding CXX object sherpa-onnx/csrc/CMakeFiles/sherpa-onnx-core.dir/cat.cc.o\u001b[0m\n",
            "[ 26%] \u001b[32mBuilding CXX object sherpa-onnx/csrc/CMakeFiles/sherpa-onnx-core.dir/context-graph.cc.o\u001b[0m\n",
            "[ 28%] \u001b[32mBuilding CXX object sherpa-onnx/csrc/CMakeFiles/sherpa-onnx-core.dir/endpoint.cc.o\u001b[0m\n",
            "[ 29%] \u001b[32mBuilding CXX object sherpa-onnx/csrc/CMakeFiles/sherpa-onnx-core.dir/features.cc.o\u001b[0m\n",
            "[ 29%] \u001b[32mBuilding CXX object sherpa-onnx/csrc/CMakeFiles/sherpa-onnx-core.dir/file-utils.cc.o\u001b[0m\n",
            "[ 30%] \u001b[32mBuilding CXX object sherpa-onnx/csrc/CMakeFiles/sherpa-onnx-core.dir/hypothesis.cc.o\u001b[0m\n",
            "[ 31%] \u001b[32mBuilding CXX object sherpa-onnx/csrc/CMakeFiles/sherpa-onnx-core.dir/offline-ctc-greedy-search-decoder.cc.o\u001b[0m\n",
            "[ 32%] \u001b[32mBuilding CXX object sherpa-onnx/csrc/CMakeFiles/sherpa-onnx-core.dir/offline-ctc-model.cc.o\u001b[0m\n",
            "[ 33%] \u001b[32mBuilding CXX object sherpa-onnx/csrc/CMakeFiles/sherpa-onnx-core.dir/offline-lm-config.cc.o\u001b[0m\n",
            "[ 34%] \u001b[32mBuilding CXX object sherpa-onnx/csrc/CMakeFiles/sherpa-onnx-core.dir/offline-lm.cc.o\u001b[0m\n",
            "[ 35%] \u001b[32mBuilding CXX object sherpa-onnx/csrc/CMakeFiles/sherpa-onnx-core.dir/offline-model-config.cc.o\u001b[0m\n",
            "[ 35%] \u001b[32mBuilding CXX object sherpa-onnx/csrc/CMakeFiles/sherpa-onnx-core.dir/offline-nemo-enc-dec-ctc-model-config.cc.o\u001b[0m\n",
            "[ 36%] \u001b[32mBuilding CXX object sherpa-onnx/csrc/CMakeFiles/sherpa-onnx-core.dir/offline-nemo-enc-dec-ctc-model.cc.o\u001b[0m\n",
            "[ 37%] \u001b[32mBuilding CXX object sherpa-onnx/csrc/CMakeFiles/sherpa-onnx-core.dir/offline-paraformer-greedy-search-decoder.cc.o\u001b[0m\n",
            "[ 39%] \u001b[32mBuilding CXX object sherpa-onnx/csrc/CMakeFiles/sherpa-onnx-core.dir/offline-paraformer-model.cc.o\u001b[0m\n",
            "[ 38%] \u001b[32mBuilding CXX object sherpa-onnx/csrc/CMakeFiles/sherpa-onnx-core.dir/offline-paraformer-model-config.cc.o\u001b[0m\n",
            "[ 40%] \u001b[32mBuilding CXX object sherpa-onnx/csrc/CMakeFiles/sherpa-onnx-core.dir/offline-recognizer-impl.cc.o\u001b[0m\n",
            "[ 41%] \u001b[32mBuilding CXX object sherpa-onnx/csrc/CMakeFiles/sherpa-onnx-core.dir/offline-recognizer.cc.o\u001b[0m\n",
            "[ 42%] \u001b[32mBuilding CXX object sherpa-onnx/csrc/CMakeFiles/sherpa-onnx-core.dir/offline-rnn-lm.cc.o\u001b[0m\n",
            "[ 43%] \u001b[32mBuilding CXX object sherpa-onnx/csrc/CMakeFiles/sherpa-onnx-core.dir/offline-transducer-greedy-search-decoder.cc.o\u001b[0m\n",
            "[ 44%] \u001b[32mBuilding CXX object sherpa-onnx/csrc/CMakeFiles/sherpa-onnx-core.dir/offline-stream.cc.o\u001b[0m\n",
            "[ 45%] \u001b[32mBuilding CXX object sherpa-onnx/csrc/CMakeFiles/sherpa-onnx-core.dir/offline-transducer-model-config.cc.o\u001b[0m\n",
            "[ 47%] \u001b[32mBuilding CXX object sherpa-onnx/csrc/CMakeFiles/sherpa-onnx-core.dir/offline-whisper-greedy-search-decoder.cc.o\u001b[0m\n",
            "[ 48%] \u001b[32mBuilding CXX object sherpa-onnx/csrc/CMakeFiles/sherpa-onnx-core.dir/offline-transducer-modified-beam-search-decoder.cc.o\u001b[0m\n",
            "[ 48%] \u001b[32mBuilding CXX object sherpa-onnx/csrc/CMakeFiles/sherpa-onnx-core.dir/offline-transducer-model.cc.o\u001b[0m\n",
            "[ 48%] \u001b[32mBuilding CXX object sherpa-onnx/csrc/CMakeFiles/sherpa-onnx-core.dir/offline-whisper-model-config.cc.o\u001b[0m\n",
            "[ 48%] Built target portaudio\n",
            "[ 49%] \u001b[32mBuilding CXX object sherpa-onnx/csrc/CMakeFiles/sherpa-onnx-core.dir/offline-whisper-model.cc.o\u001b[0m\n",
            "[ 50%] \u001b[32mBuilding CXX object sherpa-onnx/csrc/CMakeFiles/sherpa-onnx-core.dir/online-conformer-transducer-model.cc.o\u001b[0m\n",
            "[ 51%] \u001b[32mBuilding CXX object sherpa-onnx/csrc/CMakeFiles/sherpa-onnx-core.dir/online-lm-config.cc.o\u001b[0m\n",
            "[ 52%] \u001b[32mBuilding CXX object sherpa-onnx/csrc/CMakeFiles/sherpa-onnx-core.dir/online-lstm-transducer-model.cc.o\u001b[0m\n",
            "[ 53%] \u001b[32mBuilding CXX object sherpa-onnx/csrc/CMakeFiles/sherpa-onnx-core.dir/online-lm.cc.o\u001b[0m\n",
            "[ 54%] \u001b[32mBuilding CXX object sherpa-onnx/csrc/CMakeFiles/sherpa-onnx-core.dir/online-recognizer.cc.o\u001b[0m\n",
            "[ 55%] \u001b[32mBuilding CXX object sherpa-onnx/csrc/CMakeFiles/sherpa-onnx-core.dir/online-rnn-lm.cc.o\u001b[0m\n",
            "[ 56%] \u001b[32mBuilding CXX object sherpa-onnx/csrc/CMakeFiles/sherpa-onnx-core.dir/online-stream.cc.o\u001b[0m\n",
            "[ 57%] \u001b[32mBuilding CXX object sherpa-onnx/csrc/CMakeFiles/sherpa-onnx-core.dir/online-transducer-decoder.cc.o\u001b[0m\n",
            "[ 57%] \u001b[32mBuilding CXX object sherpa-onnx/csrc/CMakeFiles/sherpa-onnx-core.dir/online-transducer-greedy-search-decoder.cc.o\u001b[0m\n",
            "[ 58%] \u001b[32mBuilding CXX object sherpa-onnx/csrc/CMakeFiles/sherpa-onnx-core.dir/online-transducer-model-config.cc.o\u001b[0m\n",
            "[ 59%] \u001b[32mBuilding CXX object sherpa-onnx/csrc/CMakeFiles/sherpa-onnx-core.dir/online-transducer-model.cc.o\u001b[0m\n",
            "[ 60%] \u001b[32mBuilding CXX object sherpa-onnx/csrc/CMakeFiles/sherpa-onnx-core.dir/online-transducer-modified-beam-search-decoder.cc.o\u001b[0m\n",
            "[ 61%] \u001b[32mBuilding CXX object sherpa-onnx/csrc/CMakeFiles/sherpa-onnx-core.dir/online-zipformer-transducer-model.cc.o\u001b[0m\n",
            "[ 62%] \u001b[32mBuilding CXX object sherpa-onnx/csrc/CMakeFiles/sherpa-onnx-core.dir/online-zipformer2-transducer-model.cc.o\u001b[0m\n",
            "[ 64%] \u001b[32mBuilding CXX object sherpa-onnx/csrc/CMakeFiles/sherpa-onnx-core.dir/onnx-utils.cc.o\u001b[0m\n",
            "[ 64%] \u001b[32mBuilding CXX object sherpa-onnx/csrc/CMakeFiles/sherpa-onnx-core.dir/packed-sequence.cc.o\u001b[0m\n",
            "[ 65%] \u001b[32mBuilding CXX object sherpa-onnx/csrc/CMakeFiles/sherpa-onnx-core.dir/pad-sequence.cc.o\u001b[0m\n",
            "[ 66%] \u001b[32mBuilding CXX object sherpa-onnx/csrc/CMakeFiles/sherpa-onnx-core.dir/parse-options.cc.o\u001b[0m\n",
            "[ 67%] \u001b[32mBuilding CXX object sherpa-onnx/csrc/CMakeFiles/sherpa-onnx-core.dir/provider.cc.o\u001b[0m\n",
            "[ 68%] \u001b[32mBuilding CXX object sherpa-onnx/csrc/CMakeFiles/sherpa-onnx-core.dir/resample.cc.o\u001b[0m\n",
            "[ 68%] \u001b[32mBuilding CXX object sherpa-onnx/csrc/CMakeFiles/sherpa-onnx-core.dir/session.cc.o\u001b[0m\n",
            "[ 69%] \u001b[32mBuilding CXX object sherpa-onnx/csrc/CMakeFiles/sherpa-onnx-core.dir/slice.cc.o\u001b[0m\n",
            "[ 70%] \u001b[32mBuilding CXX object sherpa-onnx/csrc/CMakeFiles/sherpa-onnx-core.dir/stack.cc.o\u001b[0m\n",
            "[ 71%] \u001b[32mBuilding CXX object sherpa-onnx/csrc/CMakeFiles/sherpa-onnx-core.dir/symbol-table.cc.o\u001b[0m\n",
            "[ 72%] \u001b[32mBuilding CXX object sherpa-onnx/csrc/CMakeFiles/sherpa-onnx-core.dir/text-utils.cc.o\u001b[0m\n",
            "[ 73%] \u001b[32mBuilding CXX object sherpa-onnx/csrc/CMakeFiles/sherpa-onnx-core.dir/transpose.cc.o\u001b[0m\n",
            "[ 74%] \u001b[32mBuilding CXX object sherpa-onnx/csrc/CMakeFiles/sherpa-onnx-core.dir/unbind.cc.o\u001b[0m\n",
            "[ 75%] \u001b[32mBuilding CXX object sherpa-onnx/csrc/CMakeFiles/sherpa-onnx-core.dir/wave-reader.cc.o\u001b[0m\n",
            "In file included from \u001b[01m\u001b[K/usr/include/c++/11/backward/strstream:50\u001b[m\u001b[K,\n",
            "                 from \u001b[01m\u001b[K/content/sherpa-onnx/sherpa-onnx/csrc/symbol-table.cc:10\u001b[m\u001b[K:\n",
            "\u001b[01m\u001b[K/usr/include/c++/11/backward/backward_warning.h:32:2:\u001b[m\u001b[K \u001b[01;35m\u001b[Kwarning: \u001b[m\u001b[K#warning This file includes at least one deprecated or antiquated header which may be removed without further notice at a future date. Please use a non-deprecated interface with equivalent functionality instead. For a listing of replacement headers and interfaces, consult the file backward_warning.h. To disable this warning use -Wno-deprecated. [\u001b[01;35m\u001b[K\u001b]8;;https://gcc.gnu.org/onlinedocs/gcc/Warning-Options.html#index-Wcpp\u0007-Wcpp\u001b]8;;\u0007\u001b[m\u001b[K]\n",
            "   32 | #\u001b[01;35m\u001b[Kwarning\u001b[m\u001b[K \\\n",
            "      |  \u001b[01;35m\u001b[K^~~~~~~\u001b[m\u001b[K\n",
            "[ 76%] \u001b[32m\u001b[1mLinking CXX shared library ../../lib/libsherpa-onnx-core.so\u001b[0m\n",
            "[ 76%] Built target sherpa-onnx-core\n",
            "[ 77%] \u001b[32mBuilding CXX object sherpa-onnx/csrc/CMakeFiles/sherpa-onnx.dir/sherpa-onnx.cc.o\u001b[0m\n",
            "[ 78%] \u001b[32mBuilding CXX object sherpa-onnx/csrc/CMakeFiles/sherpa-onnx-alsa.dir/sherpa-onnx-alsa.cc.o\u001b[0m\n",
            "[ 79%] \u001b[32mBuilding CXX object sherpa-onnx/csrc/CMakeFiles/sherpa-onnx-alsa.dir/alsa.cc.o\u001b[0m\n",
            "[ 80%] \u001b[32mBuilding CXX object sherpa-onnx/csrc/CMakeFiles/sherpa-onnx-online-websocket-server.dir/online-websocket-server-impl.cc.o\u001b[0m\n",
            "[ 81%] \u001b[32mBuilding CXX object sherpa-onnx/csrc/CMakeFiles/sherpa-onnx-offline.dir/sherpa-onnx-offline.cc.o\u001b[0m\n",
            "[ 83%] \u001b[32mBuilding CXX object sherpa-onnx/csrc/CMakeFiles/sherpa-onnx-online-websocket-server.dir/online-websocket-server.cc.o\u001b[0m\n",
            "[ 84%] \u001b[32mBuilding CXX object sherpa-onnx/csrc/CMakeFiles/sherpa-onnx-microphone.dir/sherpa-onnx-microphone.cc.o\u001b[0m\n",
            "[ 84%] \u001b[32mBuilding CXX object sherpa-onnx/csrc/CMakeFiles/sherpa-onnx-microphone.dir/microphone.cc.o\u001b[0m\n",
            "[ 84%] \u001b[32mBuilding CXX object sherpa-onnx/csrc/CMakeFiles/sherpa-onnx-microphone-offline.dir/sherpa-onnx-microphone-offline.cc.o\u001b[0m\n",
            "[ 85%] \u001b[32mBuilding CXX object sherpa-onnx/csrc/CMakeFiles/sherpa-onnx-microphone-offline.dir/microphone.cc.o\u001b[0m\n",
            "[ 86%] \u001b[32mBuilding CXX object sherpa-onnx/csrc/CMakeFiles/sherpa-onnx-offline-websocket-server.dir/offline-websocket-server-impl.cc.o\u001b[0m\n",
            "[ 87%] \u001b[32mBuilding CXX object sherpa-onnx/csrc/CMakeFiles/sherpa-onnx-online-websocket-client.dir/online-websocket-client.cc.o\u001b[0m\n",
            "[ 88%] \u001b[32mBuilding CXX object sherpa-onnx/csrc/CMakeFiles/sherpa-onnx-offline-websocket-server.dir/offline-websocket-server.cc.o\u001b[0m\n",
            "[ 89%] \u001b[32mBuilding CXX object sherpa-onnx/c-api/CMakeFiles/sherpa-onnx-c-api.dir/c-api.cc.o\u001b[0m\n",
            "[ 90%] \u001b[32m\u001b[1mLinking CXX executable ../../bin/sherpa-onnx-offline\u001b[0m\n",
            "[ 91%] \u001b[32m\u001b[1mLinking CXX executable ../../bin/sherpa-onnx-microphone-offline\u001b[0m\n",
            "[ 91%] Built target sherpa-onnx-offline\n",
            "[ 91%] Built target sherpa-onnx-microphone-offline\n",
            "[ 92%] \u001b[32m\u001b[1mLinking CXX executable ../../bin/sherpa-onnx-alsa\u001b[0m\n",
            "[ 92%] Built target sherpa-onnx-alsa\n",
            "[ 93%] \u001b[32m\u001b[1mLinking CXX executable ../../bin/sherpa-onnx-microphone\u001b[0m\n",
            "[ 93%] Built target sherpa-onnx-microphone\n",
            "[ 94%] \u001b[32m\u001b[1mLinking CXX shared library ../../lib/libsherpa-onnx-c-api.so\u001b[0m\n",
            "[ 95%] \u001b[32m\u001b[1mLinking CXX executable ../../bin/sherpa-onnx\u001b[0m\n",
            "[ 95%] Built target sherpa-onnx-c-api\n",
            "[ 96%] \u001b[32mBuilding C object c-api-examples/CMakeFiles/decode-file-c-api.dir/decode-file-c-api.c.o\u001b[0m\n",
            "[ 96%] Built target sherpa-onnx\n",
            "[ 97%] \u001b[32m\u001b[1mLinking C executable ../bin/decode-file-c-api\u001b[0m\n",
            "[ 97%] Built target decode-file-c-api\n",
            "[ 98%] \u001b[32m\u001b[1mLinking CXX executable ../../bin/sherpa-onnx-offline-websocket-server\u001b[0m\n",
            "[ 98%] Built target sherpa-onnx-offline-websocket-server\n",
            "[ 99%] \u001b[32m\u001b[1mLinking CXX executable ../../bin/sherpa-onnx-online-websocket-client\u001b[0m\n",
            "[100%] \u001b[32m\u001b[1mLinking CXX executable ../../bin/sherpa-onnx-online-websocket-server\u001b[0m\n",
            "[100%] Built target sherpa-onnx-online-websocket-client\n",
            "[100%] Built target sherpa-onnx-online-websocket-server\n",
            "[  8%] Built target kaldi-native-fbank-core\n",
            "[ 60%] Built target sherpa-onnx-core\n",
            "[ 62%] Built target sherpa-onnx\n",
            "[ 64%] Built target sherpa-onnx-offline\n",
            "[ 67%] Built target sherpa-onnx-alsa\n",
            "[ 82%] Built target portaudio\n",
            "[ 85%] Built target sherpa-onnx-microphone\n",
            "[ 87%] Built target sherpa-onnx-microphone-offline\n",
            "[ 90%] Built target sherpa-onnx-online-websocket-server\n",
            "[ 92%] Built target sherpa-onnx-online-websocket-client\n",
            "[ 95%] Built target sherpa-onnx-offline-websocket-server\n",
            "[ 97%] Built target sherpa-onnx-c-api\n",
            "[ 98%] Built target cargs\n",
            "[100%] Built target decode-file-c-api\n",
            "\u001b[36mInstall the project...\u001b[0m\n",
            "-- Install configuration: \"Release\"\n",
            "-- Installing: /content/sherpa-onnx/build/install/lib/libkaldi-native-fbank-core.so\n",
            "-- Set runtime path of \"/content/sherpa-onnx/build/install/lib/libkaldi-native-fbank-core.so\" to \"$ORIGIN\"\n",
            "-- Installing: /content/sherpa-onnx/build/install/lib/libonnxruntime.so\n",
            "-- Installing: /content/sherpa-onnx/build/install/lib/libonnxruntime.so.1.15.1\n",
            "-- Installing: /content/sherpa-onnx/build/install/lib/libonnxruntime_providers_cuda.so\n",
            "-- Installing: /content/sherpa-onnx/build/install/lib/libonnxruntime_providers_shared.so\n",
            "-- Installing: /content/sherpa-onnx/build/install/lib/libonnxruntime_providers_tensorrt.so\n",
            "-- Installing: /content/sherpa-onnx/build/install/lib/libsherpa-onnx-portaudio.so\n",
            "-- Set runtime path of \"/content/sherpa-onnx/build/install/lib/libsherpa-onnx-portaudio.so\" to \"$ORIGIN\"\n",
            "-- Installing: /content/sherpa-onnx/build/install/lib/libsherpa-onnx-core.so\n",
            "-- Set runtime path of \"/content/sherpa-onnx/build/install/lib/libsherpa-onnx-core.so\" to \"$ORIGIN\"\n",
            "-- Installing: /content/sherpa-onnx/build/install/bin/sherpa-onnx\n",
            "-- Set runtime path of \"/content/sherpa-onnx/build/install/bin/sherpa-onnx\" to \"$ORIGIN\"\n",
            "-- Installing: /content/sherpa-onnx/build/install/bin/sherpa-onnx-offline\n",
            "-- Set runtime path of \"/content/sherpa-onnx/build/install/bin/sherpa-onnx-offline\" to \"$ORIGIN\"\n",
            "-- Installing: /content/sherpa-onnx/build/install/bin/sherpa-onnx-alsa\n",
            "-- Set runtime path of \"/content/sherpa-onnx/build/install/bin/sherpa-onnx-alsa\" to \"$ORIGIN\"\n",
            "-- Installing: /content/sherpa-onnx/build/install/bin/sherpa-onnx-microphone\n",
            "-- Set runtime path of \"/content/sherpa-onnx/build/install/bin/sherpa-onnx-microphone\" to \"$ORIGIN\"\n",
            "-- Installing: /content/sherpa-onnx/build/install/bin/sherpa-onnx-microphone-offline\n",
            "-- Set runtime path of \"/content/sherpa-onnx/build/install/bin/sherpa-onnx-microphone-offline\" to \"$ORIGIN\"\n",
            "-- Installing: /content/sherpa-onnx/build/install/bin/sherpa-onnx-online-websocket-server\n",
            "-- Set runtime path of \"/content/sherpa-onnx/build/install/bin/sherpa-onnx-online-websocket-server\" to \"$ORIGIN\"\n",
            "-- Installing: /content/sherpa-onnx/build/install/bin/sherpa-onnx-online-websocket-client\n",
            "-- Set runtime path of \"/content/sherpa-onnx/build/install/bin/sherpa-onnx-online-websocket-client\" to \"$ORIGIN\"\n",
            "-- Installing: /content/sherpa-onnx/build/install/bin/sherpa-onnx-offline-websocket-server\n",
            "-- Set runtime path of \"/content/sherpa-onnx/build/install/bin/sherpa-onnx-offline-websocket-server\" to \"$ORIGIN\"\n",
            "-- Installing: /content/sherpa-onnx/build/install/lib/libsherpa-onnx-c-api.so\n",
            "-- Set runtime path of \"/content/sherpa-onnx/build/install/lib/libsherpa-onnx-c-api.so\" to \"$ORIGIN\"\n",
            "-- Installing: /content/sherpa-onnx/build/install/include/sherpa-onnx/c-api/c-api.h\n"
          ]
        },
        {
          "output_type": "execute_result",
          "data": {
            "text/plain": []
          },
          "metadata": {},
          "execution_count": 1
        }
      ]
    },
    {
      "cell_type": "markdown",
      "source": [
        "Check that [sherpa-onnx](https://github.com/k2-fsa/sherpa-onnx) has been successfully installed:"
      ],
      "metadata": {
        "id": "n6YrAvlpy4Zd"
      }
    },
    {
      "cell_type": "code",
      "source": [
        "! ./sherpa-onnx/build/install/bin/sherpa-onnx-offline --help"
      ],
      "metadata": {
        "colab": {
          "base_uri": "https://localhost:8080/"
        },
        "id": "lme7m7r7zA5n",
        "outputId": "42c16df3-9804-4de7-fda3-216a04c9d2f0"
      },
      "execution_count": 2,
      "outputs": [
        {
          "output_type": "stream",
          "name": "stdout",
          "text": [
            "/content/sherpa-onnx/sherpa-onnx/csrc/parse-options.cc:PrintUsage:402 \n",
            "\n",
            "Usage:\n",
            "\n",
            "(1) Transducer from icefall\n",
            "\n",
            "  ./bin/sherpa-onnx-offline \\\n",
            "    --tokens=/path/to/tokens.txt \\\n",
            "    --encoder=/path/to/encoder.onnx \\\n",
            "    --decoder=/path/to/decoder.onnx \\\n",
            "    --joiner=/path/to/joiner.onnx \\\n",
            "    --num-threads=1 \\\n",
            "    --decoding-method=greedy_search \\\n",
            "    /path/to/foo.wav [bar.wav foobar.wav ...]\n",
            "\n",
            "\n",
            "(2) Paraformer from FunASR\n",
            "\n",
            "  ./bin/sherpa-onnx-offline \\\n",
            "    --tokens=/path/to/tokens.txt \\\n",
            "    --paraformer=/path/to/model.onnx \\\n",
            "    --num-threads=1 \\\n",
            "    --decoding-method=greedy_search \\\n",
            "    /path/to/foo.wav [bar.wav foobar.wav ...]\n",
            "\n",
            "(3) Whisper models\n",
            "\n",
            "  ./bin/sherpa-onnx-offline \\\n",
            "    --whisper-encoder=./sherpa-onnx-whisper-base.en/base.en-encoder.int8.onnx \\\n",
            "    --whisper-decoder=./sherpa-onnx-whisper-base.en/base.en-decoder.int8.onnx \\\n",
            "    --tokens=./sherpa-onnx-whisper-base.en/base.en-tokens.txt \\\n",
            "    --num-threads=1 \\\n",
            "    /path/to/foo.wav [bar.wav foobar.wav ...]\n",
            "\n",
            "\n",
            "Note: It supports decoding multiple files in batches\n",
            "\n",
            "foo.wav should be of single channel, 16-bit PCM encoded wave file; its\n",
            "sampling rate can be arbitrary and does not need to be 16kHz.\n",
            "\n",
            "Please refer to\n",
            "https://k2-fsa.github.io/sherpa/onnx/pretrained_models/index.html\n",
            "for a list of pre-trained models to download.\n",
            "\n",
            "Options:\n",
            "  --max-active-paths          : Used only when decoding_method is modified_beam_search (int, default = 4)\n",
            "  --lm-provider               : Specify a provider to LM model use: cpu, cuda, coreml (string, default = \"cpu\")\n",
            "  --lm-scale                  : LM scale. (float, default = 0.5)\n",
            "  --lm                        : Path to LM model. (string, default = \"\")\n",
            "  --context-score             : The bonus score for each token in context word/phrase. Used only when decoding_method is modified_beam_search (float, default = 1.5)\n",
            "  --debug                     : true to print model information while loading it. (bool, default = false)\n",
            "  --feat-dim                  : Feature dimension. Must match the one expected by the model. (int, default = 80)\n",
            "  --decoding-method           : decoding method,Valid values: greedy_search, modified_beam_search. modified_beam_search is applicable only for transducer models. (string, default = \"greedy_search\")\n",
            "  --nemo-ctc-model            : Path to model.onnx of Nemo EncDecCtcModel. (string, default = \"\")\n",
            "  --model-type                : Specify it to reduce model initialization time. Valid values are: transducer, paraformer, nemo_ctc, whisper.All other values lead to loading the model twice. (string, default = \"\")\n",
            "  --provider                  : Specify a provider to use: cpu, cuda, coreml (string, default = \"cpu\")\n",
            "  --decoder                   : Path to decoder.onnx (string, default = \"\")\n",
            "  --lm-num-threads            : Number of threads to run the neural network of LM model (int, default = 1)\n",
            "  --sample-rate               : Sampling rate of the input waveform. Note: You can have a different sample rate for the input waveform. We will do resampling inside the feature extractor (int, default = 16000)\n",
            "  --encoder                   : Path to encoder.onnx (string, default = \"\")\n",
            "  --whisper-encoder           : Path to onnx encoder of whisper, e.g., tiny-encoder.onnx, medium.en-encoder.onnx. (string, default = \"\")\n",
            "  --num-threads               : Number of threads to run the neural network (int, default = 2)\n",
            "  --joiner                    : Path to joiner.onnx (string, default = \"\")\n",
            "  --whisper-decoder           : Path to onnx decoder of whisper, e.g., tiny-decoder.onnx, medium.en-decoder.onnx. (string, default = \"\")\n",
            "  --paraformer                : Path to model.onnx of paraformer. (string, default = \"\")\n",
            "  --tokens                    : Path to tokens.txt (string, default = \"\")\n",
            "\n",
            "Standard options:\n",
            "  --config                    : Configuration file to read (this option may be repeated) (string, default = \"\")\n",
            "  --help                      : Print out usage message (bool, default = false)\n",
            "  --print-args                : Print the command line arguments (to stderr) (bool, default = true)\n",
            "\n",
            "\n"
          ]
        }
      ]
    },
    {
      "cell_type": "markdown",
      "source": [
        "## tiny.en"
      ],
      "metadata": {
        "id": "SYtZSSEBIp0g"
      }
    },
    {
      "cell_type": "markdown",
      "source": [
        "The models are hosted at\n",
        "https://huggingface.co/csukuangfj/sherpa-onnx-whisper-tiny.en\n",
        "\n",
        "and we need to use `git-lfs` to download it."
      ],
      "metadata": {
        "id": "QM6CKLK_I5Cu"
      }
    },
    {
      "cell_type": "code",
      "source": [
        "! git lfs install"
      ],
      "metadata": {
        "colab": {
          "base_uri": "https://localhost:8080/"
        },
        "id": "BDGAFfJRzCUb",
        "outputId": "414d9f15-c56f-4ecf-fada-26b9225227d7"
      },
      "execution_count": 3,
      "outputs": [
        {
          "output_type": "stream",
          "name": "stdout",
          "text": [
            "Git LFS initialized.\n"
          ]
        }
      ]
    },
    {
      "cell_type": "code",
      "source": [
        "! git clone https://huggingface.co/csukuangfj/sherpa-onnx-whisper-tiny.en"
      ],
      "metadata": {
        "colab": {
          "base_uri": "https://localhost:8080/"
        },
        "id": "t8kd52tczGet",
        "outputId": "c9828651-7072-46cc-fe03-038e37151d23"
      },
      "execution_count": 4,
      "outputs": [
        {
          "output_type": "stream",
          "name": "stdout",
          "text": [
            "Cloning into 'sherpa-onnx-whisper-tiny.en'...\n",
            "remote: Enumerating objects: 30, done.\u001b[K\n",
            "remote: Counting objects: 100% (30/30), done.\u001b[K\n",
            "remote: Compressing objects: 100% (29/29), done.\u001b[K\n",
            "remote: Total 30 (delta 3), reused 0 (delta 0), pack-reused 0\u001b[K\n",
            "Unpacking objects: 100% (30/30), 1023.85 KiB | 9.39 MiB/s, done.\n",
            "Filtering content: 100% (8/8), 676.48 MiB | 68.58 MiB/s, done.\n"
          ]
        }
      ]
    },
    {
      "cell_type": "code",
      "source": [
        "! ls -lh sherpa-onnx-whisper-tiny.en"
      ],
      "metadata": {
        "colab": {
          "base_uri": "https://localhost:8080/"
        },
        "id": "4jYO7S6RzLo2",
        "outputId": "1d2a40c2-7400-407c-8bf7-501f788087e1"
      },
      "execution_count": 5,
      "outputs": [
        {
          "output_type": "stream",
          "name": "stdout",
          "text": [
            "total 678M\n",
            "-rw-r--r-- 1 root root  259 Aug  7 14:06 README.md\n",
            "drwxr-xr-x 2 root root 4.0K Aug  7 14:06 test_wavs\n",
            "-rw-r--r-- 1 root root 105M Aug  7 14:06 tiny.en-decoder.int8.onnx\n",
            "-rw-r--r-- 1 root root 105M Aug  7 14:06 tiny.en-decoder.int8.ort\n",
            "-rw-r--r-- 1 root root 186M Aug  7 14:06 tiny.en-decoder.onnx\n",
            "-rw-r--r-- 1 root root 186M Aug  7 14:06 tiny.en-decoder.ort\n",
            "-rw-r--r-- 1 root root  13M Aug  7 14:06 tiny.en-encoder.int8.onnx\n",
            "-rw-r--r-- 1 root root  13M Aug  7 14:06 tiny.en-encoder.int8.ort\n",
            "-rw-r--r-- 1 root root  36M Aug  7 14:06 tiny.en-encoder.onnx\n",
            "-rw-r--r-- 1 root root  36M Aug  7 14:06 tiny.en-encoder.ort\n",
            "-rw-r--r-- 1 root root 816K Aug  7 14:06 tiny.en-tokens.txt\n"
          ]
        }
      ]
    },
    {
      "cell_type": "markdown",
      "source": [
        "### float32 onnx models"
      ],
      "metadata": {
        "id": "cA3pFj3YJSHJ"
      }
    },
    {
      "cell_type": "markdown",
      "source": [
        "We can use `sherpa-onnx-offline` to run it:"
      ],
      "metadata": {
        "id": "lzl57SWZJBhH"
      }
    },
    {
      "cell_type": "code",
      "source": [
        "%%shell\n",
        "\n",
        "./sherpa-onnx/build/install/bin/sherpa-onnx-offline \\\n",
        "  --whisper-encoder=./sherpa-onnx-whisper-tiny.en/tiny.en-encoder.onnx \\\n",
        "  --whisper-decoder=./sherpa-onnx-whisper-tiny.en/tiny.en-decoder.onnx \\\n",
        "  --tokens=./sherpa-onnx-whisper-tiny.en/tiny.en-tokens.txt \\\n",
        "  --num-threads=1 \\\n",
        "  --provider=cpu \\\n",
        "  ./sherpa-onnx-whisper-tiny.en/test_wavs/0.wav \\\n",
        "  ./sherpa-onnx-whisper-tiny.en/test_wavs/1.wav \\\n",
        "  ./sherpa-onnx-whisper-tiny.en/test_wavs/8k.wav"
      ],
      "metadata": {
        "colab": {
          "base_uri": "https://localhost:8080/"
        },
        "id": "lVojPL3uI_1_",
        "outputId": "add13bd9-df1e-404c-dbe5-93bcee021703"
      },
      "execution_count": 6,
      "outputs": [
        {
          "output_type": "stream",
          "name": "stdout",
          "text": [
            "/content/sherpa-onnx/sherpa-onnx/csrc/parse-options.cc:Read:361 ./sherpa-onnx/build/install/bin/sherpa-onnx-offline --whisper-encoder=./sherpa-onnx-whisper-tiny.en/tiny.en-encoder.onnx --whisper-decoder=./sherpa-onnx-whisper-tiny.en/tiny.en-decoder.onnx --tokens=./sherpa-onnx-whisper-tiny.en/tiny.en-tokens.txt --num-threads=1 --provider=cpu ./sherpa-onnx-whisper-tiny.en/test_wavs/0.wav ./sherpa-onnx-whisper-tiny.en/test_wavs/1.wav ./sherpa-onnx-whisper-tiny.en/test_wavs/8k.wav \n",
            "\n",
            "OfflineRecognizerConfig(feat_config=OfflineFeatureExtractorConfig(sampling_rate=16000, feature_dim=80), model_config=OfflineModelConfig(transducer=OfflineTransducerModelConfig(encoder_filename=\"\", decoder_filename=\"\", joiner_filename=\"\"), paraformer=OfflineParaformerModelConfig(model=\"\"), nemo_ctc=OfflineNemoEncDecCtcModelConfig(model=\"\"), whisper=OfflineWhisperModelConfig(encoder=\"./sherpa-onnx-whisper-tiny.en/tiny.en-encoder.onnx\", decoder=\"./sherpa-onnx-whisper-tiny.en/tiny.en-decoder.onnx\"), tokens=\"./sherpa-onnx-whisper-tiny.en/tiny.en-tokens.txt\", num_threads=1, debug=False, provider=\"cpu\", model_type=\"\"), lm_config=OfflineLMConfig(model=\"\", scale=0.5), decoding_method=\"greedy_search\", max_active_paths=4, context_score=1.5)\n",
            "Creating recognizer ...\n",
            "Started\n",
            "/content/sherpa-onnx/sherpa-onnx/csrc/offline-stream.cc:AcceptWaveformImpl:113 Creating a resampler:\n",
            "   in_sample_rate: 8000\n",
            "   output_sample_rate: 16000\n",
            "\n",
            "Done!\n",
            "\n",
            "./sherpa-onnx-whisper-tiny.en/test_wavs/0.wav\n",
            "{\"text\":\" After early nightfall, the yellow lamps would light up here and there, the squalid quarter of the brothels.\",\"timestamps\":\"[]\",\"tokens\":[\" After\",\" early\",\" night\",\"fall\",\",\",\" the\",\" yellow\",\" lamps\",\" would\",\" light\",\" up\",\" here\",\" and\",\" there\",\",\",\" the\",\" squ\",\"alid\",\" quarter\",\" of\",\" the\",\" bro\",\"the\",\"ls\",\".\"]}\n",
            "----\n",
            "./sherpa-onnx-whisper-tiny.en/test_wavs/1.wav\n",
            "{\"text\":\" God, as a direct consequence of the sin which man thus punished, had given her a lovely child, whose place was on that same dishonored bosom to connect her parent forever with the race and descent of mortals, and to be finally a blessed soul in heaven.\",\"timestamps\":\"[]\",\"tokens\":[\" God\",\",\",\" as\",\" a\",\" direct\",\" consequence\",\" of\",\" the\",\" sin\",\" which\",\" man\",\" thus\",\" punished\",\",\",\" had\",\" given\",\" her\",\" a\",\" lovely\",\" child\",\",\",\" whose\",\" place\",\" was\",\" on\",\" that\",\" same\",\" dishon\",\"ored\",\" bos\",\"om\",\" to\",\" connect\",\" her\",\" parent\",\" forever\",\" with\",\" the\",\" race\",\" and\",\" descent\",\" of\",\" mortals\",\",\",\" and\",\" to\",\" be\",\" finally\",\" a\",\" blessed\",\" soul\",\" in\",\" heaven\",\".\"]}\n",
            "----\n",
            "./sherpa-onnx-whisper-tiny.en/test_wavs/8k.wav\n",
            "{\"text\":\" Yet these thoughts affected Hester Prin less with hope than apprehension.\",\"timestamps\":\"[]\",\"tokens\":[\" Yet\",\" these\",\" thoughts\",\" affected\",\" H\",\"ester\",\" Pr\",\"in\",\" less\",\" with\",\" hope\",\" than\",\" apprehension\",\".\"]}\n",
            "----\n",
            "num threads: 1\n",
            "decoding method: greedy_search\n",
            "Elapsed seconds: 5.859 s\n",
            "Real time factor (RTF): 5.859 / 28.165 = 0.208\n"
          ]
        },
        {
          "output_type": "execute_result",
          "data": {
            "text/plain": []
          },
          "metadata": {},
          "execution_count": 6
        }
      ]
    },
    {
      "cell_type": "markdown",
      "source": [
        "To use CUDA, please provide the argument `--provider=cuda`:"
      ],
      "metadata": {
        "id": "dSnQspm1JlDa"
      }
    },
    {
      "cell_type": "code",
      "source": [
        "%%shell\n",
        "\n",
        "./sherpa-onnx/build/install/bin/sherpa-onnx-offline \\\n",
        "  --whisper-encoder=./sherpa-onnx-whisper-tiny.en/tiny.en-encoder.onnx \\\n",
        "  --whisper-decoder=./sherpa-onnx-whisper-tiny.en/tiny.en-decoder.onnx \\\n",
        "  --tokens=./sherpa-onnx-whisper-tiny.en/tiny.en-tokens.txt \\\n",
        "  --num-threads=1 \\\n",
        "  --provider=cuda \\\n",
        "  ./sherpa-onnx-whisper-tiny.en/test_wavs/0.wav \\\n",
        "  ./sherpa-onnx-whisper-tiny.en/test_wavs/1.wav \\\n",
        "  ./sherpa-onnx-whisper-tiny.en/test_wavs/8k.wav"
      ],
      "metadata": {
        "colab": {
          "base_uri": "https://localhost:8080/"
        },
        "id": "ExOm_pHUJVRj",
        "outputId": "9f90b0a5-fffe-4aee-873a-888de24cb491"
      },
      "execution_count": 7,
      "outputs": [
        {
          "output_type": "stream",
          "name": "stdout",
          "text": [
            "/content/sherpa-onnx/sherpa-onnx/csrc/parse-options.cc:Read:361 ./sherpa-onnx/build/install/bin/sherpa-onnx-offline --whisper-encoder=./sherpa-onnx-whisper-tiny.en/tiny.en-encoder.onnx --whisper-decoder=./sherpa-onnx-whisper-tiny.en/tiny.en-decoder.onnx --tokens=./sherpa-onnx-whisper-tiny.en/tiny.en-tokens.txt --num-threads=1 --provider=cuda ./sherpa-onnx-whisper-tiny.en/test_wavs/0.wav ./sherpa-onnx-whisper-tiny.en/test_wavs/1.wav ./sherpa-onnx-whisper-tiny.en/test_wavs/8k.wav \n",
            "\n",
            "OfflineRecognizerConfig(feat_config=OfflineFeatureExtractorConfig(sampling_rate=16000, feature_dim=80), model_config=OfflineModelConfig(transducer=OfflineTransducerModelConfig(encoder_filename=\"\", decoder_filename=\"\", joiner_filename=\"\"), paraformer=OfflineParaformerModelConfig(model=\"\"), nemo_ctc=OfflineNemoEncDecCtcModelConfig(model=\"\"), whisper=OfflineWhisperModelConfig(encoder=\"./sherpa-onnx-whisper-tiny.en/tiny.en-encoder.onnx\", decoder=\"./sherpa-onnx-whisper-tiny.en/tiny.en-decoder.onnx\"), tokens=\"./sherpa-onnx-whisper-tiny.en/tiny.en-tokens.txt\", num_threads=1, debug=False, provider=\"cuda\", model_type=\"\"), lm_config=OfflineLMConfig(model=\"\", scale=0.5), decoding_method=\"greedy_search\", max_active_paths=4, context_score=1.5)\n",
            "Creating recognizer ...\n",
            "Started\n",
            "/content/sherpa-onnx/sherpa-onnx/csrc/offline-stream.cc:AcceptWaveformImpl:113 Creating a resampler:\n",
            "   in_sample_rate: 8000\n",
            "   output_sample_rate: 16000\n",
            "\n",
            "Done!\n",
            "\n",
            "./sherpa-onnx-whisper-tiny.en/test_wavs/0.wav\n",
            "{\"text\":\" After early nightfall, the yellow lamps would light up here and there, the squalid quarter of the brothels.\",\"timestamps\":\"[]\",\"tokens\":[\" After\",\" early\",\" night\",\"fall\",\",\",\" the\",\" yellow\",\" lamps\",\" would\",\" light\",\" up\",\" here\",\" and\",\" there\",\",\",\" the\",\" squ\",\"alid\",\" quarter\",\" of\",\" the\",\" bro\",\"the\",\"ls\",\".\"]}\n",
            "----\n",
            "./sherpa-onnx-whisper-tiny.en/test_wavs/1.wav\n",
            "{\"text\":\" God, as a direct consequence of the sin which man thus punished, had given her a lovely child, whose place was on that same dishonored bosom to connect her parent forever with the race and descent of mortals, and to be finally a blessed soul in heaven.\",\"timestamps\":\"[]\",\"tokens\":[\" God\",\",\",\" as\",\" a\",\" direct\",\" consequence\",\" of\",\" the\",\" sin\",\" which\",\" man\",\" thus\",\" punished\",\",\",\" had\",\" given\",\" her\",\" a\",\" lovely\",\" child\",\",\",\" whose\",\" place\",\" was\",\" on\",\" that\",\" same\",\" dishon\",\"ored\",\" bos\",\"om\",\" to\",\" connect\",\" her\",\" parent\",\" forever\",\" with\",\" the\",\" race\",\" and\",\" descent\",\" of\",\" mortals\",\",\",\" and\",\" to\",\" be\",\" finally\",\" a\",\" blessed\",\" soul\",\" in\",\" heaven\",\".\"]}\n",
            "----\n",
            "./sherpa-onnx-whisper-tiny.en/test_wavs/8k.wav\n",
            "{\"text\":\" Yet these thoughts affected Hester Prin less with hope than apprehension.\",\"timestamps\":\"[]\",\"tokens\":[\" Yet\",\" these\",\" thoughts\",\" affected\",\" H\",\"ester\",\" Pr\",\"in\",\" less\",\" with\",\" hope\",\" than\",\" apprehension\",\".\"]}\n",
            "----\n",
            "num threads: 1\n",
            "decoding method: greedy_search\n",
            "Elapsed seconds: 5.227 s\n",
            "Real time factor (RTF): 5.227 / 28.165 = 0.186\n"
          ]
        },
        {
          "output_type": "execute_result",
          "data": {
            "text/plain": []
          },
          "metadata": {},
          "execution_count": 7
        }
      ]
    },
    {
      "cell_type": "markdown",
      "source": [
        "### int8 onnx models"
      ],
      "metadata": {
        "id": "2mkkNOQBJ1H3"
      }
    },
    {
      "cell_type": "markdown",
      "source": [
        "Run with CPU:"
      ],
      "metadata": {
        "id": "xxnbmqyrJ7h9"
      }
    },
    {
      "cell_type": "code",
      "source": [
        "%%shell\n",
        "\n",
        "./sherpa-onnx/build/install/bin/sherpa-onnx-offline \\\n",
        "  --whisper-encoder=./sherpa-onnx-whisper-tiny.en/tiny.en-encoder.int8.onnx \\\n",
        "  --whisper-decoder=./sherpa-onnx-whisper-tiny.en/tiny.en-decoder.int8.onnx \\\n",
        "  --tokens=./sherpa-onnx-whisper-tiny.en/tiny.en-tokens.txt \\\n",
        "  --num-threads=1 \\\n",
        "  --provider=cpu \\\n",
        "  ./sherpa-onnx-whisper-tiny.en/test_wavs/0.wav \\\n",
        "  ./sherpa-onnx-whisper-tiny.en/test_wavs/1.wav \\\n",
        "  ./sherpa-onnx-whisper-tiny.en/test_wavs/8k.wav"
      ],
      "metadata": {
        "colab": {
          "base_uri": "https://localhost:8080/"
        },
        "id": "LkFsQkNaJd8T",
        "outputId": "9f555613-c1e3-4e30-df74-f148cb9daffc"
      },
      "execution_count": 8,
      "outputs": [
        {
          "output_type": "stream",
          "name": "stdout",
          "text": [
            "/content/sherpa-onnx/sherpa-onnx/csrc/parse-options.cc:Read:361 ./sherpa-onnx/build/install/bin/sherpa-onnx-offline --whisper-encoder=./sherpa-onnx-whisper-tiny.en/tiny.en-encoder.int8.onnx --whisper-decoder=./sherpa-onnx-whisper-tiny.en/tiny.en-decoder.int8.onnx --tokens=./sherpa-onnx-whisper-tiny.en/tiny.en-tokens.txt --num-threads=1 --provider=cpu ./sherpa-onnx-whisper-tiny.en/test_wavs/0.wav ./sherpa-onnx-whisper-tiny.en/test_wavs/1.wav ./sherpa-onnx-whisper-tiny.en/test_wavs/8k.wav \n",
            "\n",
            "OfflineRecognizerConfig(feat_config=OfflineFeatureExtractorConfig(sampling_rate=16000, feature_dim=80), model_config=OfflineModelConfig(transducer=OfflineTransducerModelConfig(encoder_filename=\"\", decoder_filename=\"\", joiner_filename=\"\"), paraformer=OfflineParaformerModelConfig(model=\"\"), nemo_ctc=OfflineNemoEncDecCtcModelConfig(model=\"\"), whisper=OfflineWhisperModelConfig(encoder=\"./sherpa-onnx-whisper-tiny.en/tiny.en-encoder.int8.onnx\", decoder=\"./sherpa-onnx-whisper-tiny.en/tiny.en-decoder.int8.onnx\"), tokens=\"./sherpa-onnx-whisper-tiny.en/tiny.en-tokens.txt\", num_threads=1, debug=False, provider=\"cpu\", model_type=\"\"), lm_config=OfflineLMConfig(model=\"\", scale=0.5), decoding_method=\"greedy_search\", max_active_paths=4, context_score=1.5)\n",
            "Creating recognizer ...\n",
            "Started\n",
            "/content/sherpa-onnx/sherpa-onnx/csrc/offline-stream.cc:AcceptWaveformImpl:113 Creating a resampler:\n",
            "   in_sample_rate: 8000\n",
            "   output_sample_rate: 16000\n",
            "\n",
            "Done!\n",
            "\n",
            "./sherpa-onnx-whisper-tiny.en/test_wavs/0.wav\n",
            "{\"text\":\" After early nightfall, the yellow lamps would light up here and there, the squalid quarter of the brothels.\",\"timestamps\":\"[]\",\"tokens\":[\" After\",\" early\",\" night\",\"fall\",\",\",\" the\",\" yellow\",\" lamps\",\" would\",\" light\",\" up\",\" here\",\" and\",\" there\",\",\",\" the\",\" squ\",\"alid\",\" quarter\",\" of\",\" the\",\" bro\",\"the\",\"ls\",\".\"]}\n",
            "----\n",
            "./sherpa-onnx-whisper-tiny.en/test_wavs/1.wav\n",
            "{\"text\":\" God as a direct consequence of the sin which man thus punished had given her a lovely child whose place was on that same dishonored bosom to connect her parent forever with the race and descent of mortals and to be finally a blessed soul in heaven.\",\"timestamps\":\"[]\",\"tokens\":[\" God\",\" as\",\" a\",\" direct\",\" consequence\",\" of\",\" the\",\" sin\",\" which\",\" man\",\" thus\",\" punished\",\" had\",\" given\",\" her\",\" a\",\" lovely\",\" child\",\" whose\",\" place\",\" was\",\" on\",\" that\",\" same\",\" dishon\",\"ored\",\" bos\",\"om\",\" to\",\" connect\",\" her\",\" parent\",\" forever\",\" with\",\" the\",\" race\",\" and\",\" descent\",\" of\",\" mortals\",\" and\",\" to\",\" be\",\" finally\",\" a\",\" blessed\",\" soul\",\" in\",\" heaven\",\".\"]}\n",
            "----\n",
            "./sherpa-onnx-whisper-tiny.en/test_wavs/8k.wav\n",
            "{\"text\":\" Yet these thoughts affected Hester Prin less with hope than apprehension.\",\"timestamps\":\"[]\",\"tokens\":[\" Yet\",\" these\",\" thoughts\",\" affected\",\" H\",\"ester\",\" Pr\",\"in\",\" less\",\" with\",\" hope\",\" than\",\" apprehension\",\".\"]}\n",
            "----\n",
            "num threads: 1\n",
            "decoding method: greedy_search\n",
            "Elapsed seconds: 3.992 s\n",
            "Real time factor (RTF): 3.992 / 28.165 = 0.142\n"
          ]
        },
        {
          "output_type": "execute_result",
          "data": {
            "text/plain": []
          },
          "metadata": {},
          "execution_count": 8
        }
      ]
    },
    {
      "cell_type": "markdown",
      "source": [
        "Run with CUDA:"
      ],
      "metadata": {
        "id": "sDGsa1mAJ95W"
      }
    },
    {
      "cell_type": "code",
      "source": [
        "%%shell\n",
        "\n",
        "./sherpa-onnx/build/install/bin/sherpa-onnx-offline \\\n",
        "  --whisper-encoder=./sherpa-onnx-whisper-tiny.en/tiny.en-encoder.int8.onnx \\\n",
        "  --whisper-decoder=./sherpa-onnx-whisper-tiny.en/tiny.en-decoder.int8.onnx \\\n",
        "  --tokens=./sherpa-onnx-whisper-tiny.en/tiny.en-tokens.txt \\\n",
        "  --num-threads=1 \\\n",
        "  --provider=cuda \\\n",
        "  ./sherpa-onnx-whisper-tiny.en/test_wavs/0.wav \\\n",
        "  ./sherpa-onnx-whisper-tiny.en/test_wavs/1.wav \\\n",
        "  ./sherpa-onnx-whisper-tiny.en/test_wavs/8k.wav"
      ],
      "metadata": {
        "colab": {
          "base_uri": "https://localhost:8080/"
        },
        "id": "PJulyjV6J6ml",
        "outputId": "157bee9e-f3b6-4baa-fc0a-aa24dac23002"
      },
      "execution_count": 9,
      "outputs": [
        {
          "output_type": "stream",
          "name": "stdout",
          "text": [
            "/content/sherpa-onnx/sherpa-onnx/csrc/parse-options.cc:Read:361 ./sherpa-onnx/build/install/bin/sherpa-onnx-offline --whisper-encoder=./sherpa-onnx-whisper-tiny.en/tiny.en-encoder.int8.onnx --whisper-decoder=./sherpa-onnx-whisper-tiny.en/tiny.en-decoder.int8.onnx --tokens=./sherpa-onnx-whisper-tiny.en/tiny.en-tokens.txt --num-threads=1 --provider=cuda ./sherpa-onnx-whisper-tiny.en/test_wavs/0.wav ./sherpa-onnx-whisper-tiny.en/test_wavs/1.wav ./sherpa-onnx-whisper-tiny.en/test_wavs/8k.wav \n",
            "\n",
            "OfflineRecognizerConfig(feat_config=OfflineFeatureExtractorConfig(sampling_rate=16000, feature_dim=80), model_config=OfflineModelConfig(transducer=OfflineTransducerModelConfig(encoder_filename=\"\", decoder_filename=\"\", joiner_filename=\"\"), paraformer=OfflineParaformerModelConfig(model=\"\"), nemo_ctc=OfflineNemoEncDecCtcModelConfig(model=\"\"), whisper=OfflineWhisperModelConfig(encoder=\"./sherpa-onnx-whisper-tiny.en/tiny.en-encoder.int8.onnx\", decoder=\"./sherpa-onnx-whisper-tiny.en/tiny.en-decoder.int8.onnx\"), tokens=\"./sherpa-onnx-whisper-tiny.en/tiny.en-tokens.txt\", num_threads=1, debug=False, provider=\"cuda\", model_type=\"\"), lm_config=OfflineLMConfig(model=\"\", scale=0.5), decoding_method=\"greedy_search\", max_active_paths=4, context_score=1.5)\n",
            "Creating recognizer ...\n",
            "Started\n",
            "/content/sherpa-onnx/sherpa-onnx/csrc/offline-stream.cc:AcceptWaveformImpl:113 Creating a resampler:\n",
            "   in_sample_rate: 8000\n",
            "   output_sample_rate: 16000\n",
            "\n",
            "Done!\n",
            "\n",
            "./sherpa-onnx-whisper-tiny.en/test_wavs/0.wav\n",
            "{\"text\":\" After early nightfall, the yellow lamps would light up here and there, the squalid quarter of the brothels.\",\"timestamps\":\"[]\",\"tokens\":[\" After\",\" early\",\" night\",\"fall\",\",\",\" the\",\" yellow\",\" lamps\",\" would\",\" light\",\" up\",\" here\",\" and\",\" there\",\",\",\" the\",\" squ\",\"alid\",\" quarter\",\" of\",\" the\",\" bro\",\"the\",\"ls\",\".\"]}\n",
            "----\n",
            "./sherpa-onnx-whisper-tiny.en/test_wavs/1.wav\n",
            "{\"text\":\" God as a direct consequence of the sin which man thus punished had given her a lovely child whose place was on that same dishonored bosom to connect her parent forever with the race and descent of mortals and to be finally a blessed soul in heaven.\",\"timestamps\":\"[]\",\"tokens\":[\" God\",\" as\",\" a\",\" direct\",\" consequence\",\" of\",\" the\",\" sin\",\" which\",\" man\",\" thus\",\" punished\",\" had\",\" given\",\" her\",\" a\",\" lovely\",\" child\",\" whose\",\" place\",\" was\",\" on\",\" that\",\" same\",\" dishon\",\"ored\",\" bos\",\"om\",\" to\",\" connect\",\" her\",\" parent\",\" forever\",\" with\",\" the\",\" race\",\" and\",\" descent\",\" of\",\" mortals\",\" and\",\" to\",\" be\",\" finally\",\" a\",\" blessed\",\" soul\",\" in\",\" heaven\",\".\"]}\n",
            "----\n",
            "./sherpa-onnx-whisper-tiny.en/test_wavs/8k.wav\n",
            "{\"text\":\" Yet these thoughts affected Hester Prin less with hope than apprehension.\",\"timestamps\":\"[]\",\"tokens\":[\" Yet\",\" these\",\" thoughts\",\" affected\",\" H\",\"ester\",\" Pr\",\"in\",\" less\",\" with\",\" hope\",\" than\",\" apprehension\",\".\"]}\n",
            "----\n",
            "num threads: 1\n",
            "decoding method: greedy_search\n",
            "Elapsed seconds: 4.113 s\n",
            "Real time factor (RTF): 4.113 / 28.165 = 0.146\n"
          ]
        },
        {
          "output_type": "execute_result",
          "data": {
            "text/plain": []
          },
          "metadata": {},
          "execution_count": 9
        }
      ]
    },
    {
      "cell_type": "markdown",
      "source": [
        "## base.en"
      ],
      "metadata": {
        "id": "x-7IzyBXKEtl"
      }
    },
    {
      "cell_type": "code",
      "source": [
        "! git clone https://huggingface.co/csukuangfj/sherpa-onnx-whisper-base.en"
      ],
      "metadata": {
        "colab": {
          "base_uri": "https://localhost:8080/"
        },
        "id": "vccn-qVYJ_wV",
        "outputId": "0b9b975d-cab9-4a00-ee89-566c0a63023b"
      },
      "execution_count": 10,
      "outputs": [
        {
          "output_type": "stream",
          "name": "stdout",
          "text": [
            "Cloning into 'sherpa-onnx-whisper-base.en'...\n",
            "remote: Enumerating objects: 27, done.\u001b[K\n",
            "remote: Counting objects:   3% (1/27)\u001b[K\rremote: Counting objects:   7% (2/27)\u001b[K\rremote: Counting objects:  11% (3/27)\u001b[K\rremote: Counting objects:  14% (4/27)\u001b[K\rremote: Counting objects:  18% (5/27)\u001b[K\rremote: Counting objects:  22% (6/27)\u001b[K\rremote: Counting objects:  25% (7/27)\u001b[K\rremote: Counting objects:  29% (8/27)\u001b[K\rremote: Counting objects:  33% (9/27)\u001b[K\rremote: Counting objects:  37% (10/27)\u001b[K\rremote: Counting objects:  40% (11/27)\u001b[K\rremote: Counting objects:  44% (12/27)\u001b[K\rremote: Counting objects:  48% (13/27)\u001b[K\rremote: Counting objects:  51% (14/27)\u001b[K\rremote: Counting objects:  55% (15/27)\u001b[K\rremote: Counting objects:  59% (16/27)\u001b[K\rremote: Counting objects:  62% (17/27)\u001b[K\rremote: Counting objects:  66% (18/27)\u001b[K\rremote: Counting objects:  70% (19/27)\u001b[K\rremote: Counting objects:  74% (20/27)\u001b[K\rremote: Counting objects:  77% (21/27)\u001b[K\rremote: Counting objects:  81% (22/27)\u001b[K\rremote: Counting objects:  85% (23/27)\u001b[K\rremote: Counting objects:  88% (24/27)\u001b[K\rremote: Counting objects:  92% (25/27)\u001b[K\rremote: Counting objects:  96% (26/27)\u001b[K\rremote: Counting objects: 100% (27/27)\u001b[K\rremote: Counting objects: 100% (27/27), done.\u001b[K\n",
            "remote: Compressing objects: 100% (26/26), done.\u001b[K\n",
            "remote: Total 27 (delta 2), reused 0 (delta 0), pack-reused 0\u001b[K\n",
            "Unpacking objects: 100% (27/27), 1023.52 KiB | 9.22 MiB/s, done.\n",
            "Filtering content: 100% (8/8), 1.08 GiB | 76.46 MiB/s, done.\n"
          ]
        }
      ]
    },
    {
      "cell_type": "code",
      "source": [
        "! ls -lh sherpa-onnx-whisper-base.en"
      ],
      "metadata": {
        "colab": {
          "base_uri": "https://localhost:8080/"
        },
        "id": "BOZf1ox2KH2t",
        "outputId": "136c6f54-dde6-4c7d-9617-d6551be6868b"
      },
      "execution_count": 11,
      "outputs": [
        {
          "output_type": "stream",
          "name": "stdout",
          "text": [
            "total 1.1G\n",
            "-rw-r--r-- 1 root root 150M Aug  7 14:07 base.en-decoder.int8.onnx\n",
            "-rw-r--r-- 1 root root 151M Aug  7 14:07 base.en-decoder.int8.ort\n",
            "-rw-r--r-- 1 root root 289M Aug  7 14:07 base.en-decoder.onnx\n",
            "-rw-r--r-- 1 root root 290M Aug  7 14:07 base.en-decoder.ort\n",
            "-rw-r--r-- 1 root root  28M Aug  7 14:07 base.en-encoder.int8.onnx\n",
            "-rw-r--r-- 1 root root  28M Aug  7 14:07 base.en-encoder.int8.ort\n",
            "-rw-r--r-- 1 root root  91M Aug  7 14:07 base.en-encoder.onnx\n",
            "-rw-r--r-- 1 root root  91M Aug  7 14:07 base.en-encoder.ort\n",
            "-rw-r--r-- 1 root root 816K Aug  7 14:07 base.en-tokens.txt\n",
            "-rw-r--r-- 1 root root  259 Aug  7 14:07 README.md\n",
            "drwxr-xr-x 2 root root 4.0K Aug  7 14:07 test_wavs\n"
          ]
        }
      ]
    },
    {
      "cell_type": "markdown",
      "source": [
        "### float32 onnx models"
      ],
      "metadata": {
        "id": "3Z33pFcnKOcW"
      }
    },
    {
      "cell_type": "markdown",
      "source": [
        "Run with CPU:"
      ],
      "metadata": {
        "id": "s4Ey05wEKQNK"
      }
    },
    {
      "cell_type": "code",
      "source": [
        "%%shell\n",
        "\n",
        "./sherpa-onnx/build/install/bin/sherpa-onnx-offline \\\n",
        "  --whisper-encoder=./sherpa-onnx-whisper-base.en/base.en-encoder.onnx \\\n",
        "  --whisper-decoder=./sherpa-onnx-whisper-base.en/base.en-decoder.onnx \\\n",
        "  --tokens=./sherpa-onnx-whisper-base.en/base.en-tokens.txt \\\n",
        "  --num-threads=1 \\\n",
        "  --provider=cpu \\\n",
        "  ./sherpa-onnx-whisper-base.en/test_wavs/0.wav \\\n",
        "  ./sherpa-onnx-whisper-base.en/test_wavs/1.wav \\\n",
        "  ./sherpa-onnx-whisper-base.en/test_wavs/8k.wav"
      ],
      "metadata": {
        "colab": {
          "base_uri": "https://localhost:8080/"
        },
        "id": "DkkQ2wjMKKhQ",
        "outputId": "7f7ef66c-aa52-4bea-fe4f-8124ac203e09"
      },
      "execution_count": 12,
      "outputs": [
        {
          "output_type": "stream",
          "name": "stdout",
          "text": [
            "/content/sherpa-onnx/sherpa-onnx/csrc/parse-options.cc:Read:361 ./sherpa-onnx/build/install/bin/sherpa-onnx-offline --whisper-encoder=./sherpa-onnx-whisper-base.en/base.en-encoder.onnx --whisper-decoder=./sherpa-onnx-whisper-base.en/base.en-decoder.onnx --tokens=./sherpa-onnx-whisper-base.en/base.en-tokens.txt --num-threads=1 --provider=cpu ./sherpa-onnx-whisper-base.en/test_wavs/0.wav ./sherpa-onnx-whisper-base.en/test_wavs/1.wav ./sherpa-onnx-whisper-base.en/test_wavs/8k.wav \n",
            "\n",
            "OfflineRecognizerConfig(feat_config=OfflineFeatureExtractorConfig(sampling_rate=16000, feature_dim=80), model_config=OfflineModelConfig(transducer=OfflineTransducerModelConfig(encoder_filename=\"\", decoder_filename=\"\", joiner_filename=\"\"), paraformer=OfflineParaformerModelConfig(model=\"\"), nemo_ctc=OfflineNemoEncDecCtcModelConfig(model=\"\"), whisper=OfflineWhisperModelConfig(encoder=\"./sherpa-onnx-whisper-base.en/base.en-encoder.onnx\", decoder=\"./sherpa-onnx-whisper-base.en/base.en-decoder.onnx\"), tokens=\"./sherpa-onnx-whisper-base.en/base.en-tokens.txt\", num_threads=1, debug=False, provider=\"cpu\", model_type=\"\"), lm_config=OfflineLMConfig(model=\"\", scale=0.5), decoding_method=\"greedy_search\", max_active_paths=4, context_score=1.5)\n",
            "Creating recognizer ...\n",
            "Started\n",
            "/content/sherpa-onnx/sherpa-onnx/csrc/offline-stream.cc:AcceptWaveformImpl:113 Creating a resampler:\n",
            "   in_sample_rate: 8000\n",
            "   output_sample_rate: 16000\n",
            "\n",
            "Done!\n",
            "\n",
            "./sherpa-onnx-whisper-base.en/test_wavs/0.wav\n",
            "{\"text\":\" After early nightfall the yellow lamps would light up here and there the squalid quarter of the brothels.\",\"timestamps\":\"[]\",\"tokens\":[\" After\",\" early\",\" night\",\"fall\",\" the\",\" yellow\",\" lamps\",\" would\",\" light\",\" up\",\" here\",\" and\",\" there\",\" the\",\" squ\",\"alid\",\" quarter\",\" of\",\" the\",\" bro\",\"the\",\"ls\",\".\"]}\n",
            "----\n",
            "./sherpa-onnx-whisper-base.en/test_wavs/1.wav\n",
            "{\"text\":\" God, as a direct consequence of the sin which man thus punished, had given her a lovely child, whose place was on that same dishonored bosom to connect her parent forever with the race and descent of mortals, and to be finally a blessed soul in heaven.\",\"timestamps\":\"[]\",\"tokens\":[\" God\",\",\",\" as\",\" a\",\" direct\",\" consequence\",\" of\",\" the\",\" sin\",\" which\",\" man\",\" thus\",\" punished\",\",\",\" had\",\" given\",\" her\",\" a\",\" lovely\",\" child\",\",\",\" whose\",\" place\",\" was\",\" on\",\" that\",\" same\",\" dishon\",\"ored\",\" bos\",\"om\",\" to\",\" connect\",\" her\",\" parent\",\" forever\",\" with\",\" the\",\" race\",\" and\",\" descent\",\" of\",\" mortals\",\",\",\" and\",\" to\",\" be\",\" finally\",\" a\",\" blessed\",\" soul\",\" in\",\" heaven\",\".\"]}\n",
            "----\n",
            "./sherpa-onnx-whisper-base.en/test_wavs/8k.wav\n",
            "{\"text\":\" Yet these thoughts affected Hester Prynne less with hope than apprehension.\",\"timestamps\":\"[]\",\"tokens\":[\" Yet\",\" these\",\" thoughts\",\" affected\",\" H\",\"ester\",\" P\",\"ryn\",\"ne\",\" less\",\" with\",\" hope\",\" than\",\" apprehension\",\".\"]}\n",
            "----\n",
            "num threads: 1\n",
            "decoding method: greedy_search\n",
            "Elapsed seconds: 12.103 s\n",
            "Real time factor (RTF): 12.103 / 28.165 = 0.430\n"
          ]
        },
        {
          "output_type": "execute_result",
          "data": {
            "text/plain": []
          },
          "metadata": {},
          "execution_count": 12
        }
      ]
    },
    {
      "cell_type": "markdown",
      "source": [
        "Run with CUDA:"
      ],
      "metadata": {
        "id": "JrK1cadyKcOW"
      }
    },
    {
      "cell_type": "code",
      "source": [
        "%%shell\n",
        "\n",
        "./sherpa-onnx/build/install/bin/sherpa-onnx-offline \\\n",
        "  --whisper-encoder=./sherpa-onnx-whisper-base.en/base.en-encoder.onnx \\\n",
        "  --whisper-decoder=./sherpa-onnx-whisper-base.en/base.en-decoder.onnx \\\n",
        "  --tokens=./sherpa-onnx-whisper-base.en/base.en-tokens.txt \\\n",
        "  --num-threads=1 \\\n",
        "  --provider=cuda \\\n",
        "  ./sherpa-onnx-whisper-base.en/test_wavs/0.wav \\\n",
        "  ./sherpa-onnx-whisper-base.en/test_wavs/1.wav \\\n",
        "  ./sherpa-onnx-whisper-base.en/test_wavs/8k.wav"
      ],
      "metadata": {
        "colab": {
          "base_uri": "https://localhost:8080/"
        },
        "id": "FtHMibI3KXKq",
        "outputId": "fe0a6162-9267-4e85-ed81-957ea31a8ed7"
      },
      "execution_count": 13,
      "outputs": [
        {
          "output_type": "stream",
          "name": "stdout",
          "text": [
            "/content/sherpa-onnx/sherpa-onnx/csrc/parse-options.cc:Read:361 ./sherpa-onnx/build/install/bin/sherpa-onnx-offline --whisper-encoder=./sherpa-onnx-whisper-base.en/base.en-encoder.onnx --whisper-decoder=./sherpa-onnx-whisper-base.en/base.en-decoder.onnx --tokens=./sherpa-onnx-whisper-base.en/base.en-tokens.txt --num-threads=1 --provider=cuda ./sherpa-onnx-whisper-base.en/test_wavs/0.wav ./sherpa-onnx-whisper-base.en/test_wavs/1.wav ./sherpa-onnx-whisper-base.en/test_wavs/8k.wav \n",
            "\n",
            "OfflineRecognizerConfig(feat_config=OfflineFeatureExtractorConfig(sampling_rate=16000, feature_dim=80), model_config=OfflineModelConfig(transducer=OfflineTransducerModelConfig(encoder_filename=\"\", decoder_filename=\"\", joiner_filename=\"\"), paraformer=OfflineParaformerModelConfig(model=\"\"), nemo_ctc=OfflineNemoEncDecCtcModelConfig(model=\"\"), whisper=OfflineWhisperModelConfig(encoder=\"./sherpa-onnx-whisper-base.en/base.en-encoder.onnx\", decoder=\"./sherpa-onnx-whisper-base.en/base.en-decoder.onnx\"), tokens=\"./sherpa-onnx-whisper-base.en/base.en-tokens.txt\", num_threads=1, debug=False, provider=\"cuda\", model_type=\"\"), lm_config=OfflineLMConfig(model=\"\", scale=0.5), decoding_method=\"greedy_search\", max_active_paths=4, context_score=1.5)\n",
            "Creating recognizer ...\n",
            "Started\n",
            "/content/sherpa-onnx/sherpa-onnx/csrc/offline-stream.cc:AcceptWaveformImpl:113 Creating a resampler:\n",
            "   in_sample_rate: 8000\n",
            "   output_sample_rate: 16000\n",
            "\n",
            "Done!\n",
            "\n",
            "./sherpa-onnx-whisper-base.en/test_wavs/0.wav\n",
            "{\"text\":\" After early nightfall the yellow lamps would light up here and there the squalid quarter of the brothels.\",\"timestamps\":\"[]\",\"tokens\":[\" After\",\" early\",\" night\",\"fall\",\" the\",\" yellow\",\" lamps\",\" would\",\" light\",\" up\",\" here\",\" and\",\" there\",\" the\",\" squ\",\"alid\",\" quarter\",\" of\",\" the\",\" bro\",\"the\",\"ls\",\".\"]}\n",
            "----\n",
            "./sherpa-onnx-whisper-base.en/test_wavs/1.wav\n",
            "{\"text\":\" God, as a direct consequence of the sin which man thus punished, had given her a lovely child, whose place was on that same dishonored bosom to connect her parent forever with the race and descent of mortals, and to be finally a blessed soul in heaven.\",\"timestamps\":\"[]\",\"tokens\":[\" God\",\",\",\" as\",\" a\",\" direct\",\" consequence\",\" of\",\" the\",\" sin\",\" which\",\" man\",\" thus\",\" punished\",\",\",\" had\",\" given\",\" her\",\" a\",\" lovely\",\" child\",\",\",\" whose\",\" place\",\" was\",\" on\",\" that\",\" same\",\" dishon\",\"ored\",\" bos\",\"om\",\" to\",\" connect\",\" her\",\" parent\",\" forever\",\" with\",\" the\",\" race\",\" and\",\" descent\",\" of\",\" mortals\",\",\",\" and\",\" to\",\" be\",\" finally\",\" a\",\" blessed\",\" soul\",\" in\",\" heaven\",\".\"]}\n",
            "----\n",
            "./sherpa-onnx-whisper-base.en/test_wavs/8k.wav\n",
            "{\"text\":\" Yet these thoughts affected Hester Prynne less with hope than apprehension.\",\"timestamps\":\"[]\",\"tokens\":[\" Yet\",\" these\",\" thoughts\",\" affected\",\" H\",\"ester\",\" P\",\"ryn\",\"ne\",\" less\",\" with\",\" hope\",\" than\",\" apprehension\",\".\"]}\n",
            "----\n",
            "num threads: 1\n",
            "decoding method: greedy_search\n",
            "Elapsed seconds: 3.641 s\n",
            "Real time factor (RTF): 3.641 / 28.165 = 0.129\n"
          ]
        },
        {
          "output_type": "execute_result",
          "data": {
            "text/plain": []
          },
          "metadata": {},
          "execution_count": 13
        }
      ]
    },
    {
      "cell_type": "markdown",
      "source": [
        "### int8 onnx models"
      ],
      "metadata": {
        "id": "NtGiJg4FMiAe"
      }
    },
    {
      "cell_type": "markdown",
      "source": [
        "Run with CPU:"
      ],
      "metadata": {
        "id": "-CcljmD-MkNM"
      }
    },
    {
      "cell_type": "code",
      "source": [
        "%%shell\n",
        "\n",
        "./sherpa-onnx/build/install/bin/sherpa-onnx-offline \\\n",
        "  --whisper-encoder=./sherpa-onnx-whisper-base.en/base.en-encoder.int8.onnx \\\n",
        "  --whisper-decoder=./sherpa-onnx-whisper-base.en/base.en-decoder.int8.onnx \\\n",
        "  --tokens=./sherpa-onnx-whisper-base.en/base.en-tokens.txt \\\n",
        "  --num-threads=1 \\\n",
        "  --provider=cpu \\\n",
        "  ./sherpa-onnx-whisper-base.en/test_wavs/0.wav \\\n",
        "  ./sherpa-onnx-whisper-base.en/test_wavs/1.wav \\\n",
        "  ./sherpa-onnx-whisper-base.en/test_wavs/8k.wav"
      ],
      "metadata": {
        "colab": {
          "base_uri": "https://localhost:8080/"
        },
        "id": "dKaqrTW_Kdu6",
        "outputId": "fbae4b33-0040-4716-c578-be16ffe42f5a"
      },
      "execution_count": 14,
      "outputs": [
        {
          "output_type": "stream",
          "name": "stdout",
          "text": [
            "/content/sherpa-onnx/sherpa-onnx/csrc/parse-options.cc:Read:361 ./sherpa-onnx/build/install/bin/sherpa-onnx-offline --whisper-encoder=./sherpa-onnx-whisper-base.en/base.en-encoder.int8.onnx --whisper-decoder=./sherpa-onnx-whisper-base.en/base.en-decoder.int8.onnx --tokens=./sherpa-onnx-whisper-base.en/base.en-tokens.txt --num-threads=1 --provider=cpu ./sherpa-onnx-whisper-base.en/test_wavs/0.wav ./sherpa-onnx-whisper-base.en/test_wavs/1.wav ./sherpa-onnx-whisper-base.en/test_wavs/8k.wav \n",
            "\n",
            "OfflineRecognizerConfig(feat_config=OfflineFeatureExtractorConfig(sampling_rate=16000, feature_dim=80), model_config=OfflineModelConfig(transducer=OfflineTransducerModelConfig(encoder_filename=\"\", decoder_filename=\"\", joiner_filename=\"\"), paraformer=OfflineParaformerModelConfig(model=\"\"), nemo_ctc=OfflineNemoEncDecCtcModelConfig(model=\"\"), whisper=OfflineWhisperModelConfig(encoder=\"./sherpa-onnx-whisper-base.en/base.en-encoder.int8.onnx\", decoder=\"./sherpa-onnx-whisper-base.en/base.en-decoder.int8.onnx\"), tokens=\"./sherpa-onnx-whisper-base.en/base.en-tokens.txt\", num_threads=1, debug=False, provider=\"cpu\", model_type=\"\"), lm_config=OfflineLMConfig(model=\"\", scale=0.5), decoding_method=\"greedy_search\", max_active_paths=4, context_score=1.5)\n",
            "Creating recognizer ...\n",
            "Started\n",
            "/content/sherpa-onnx/sherpa-onnx/csrc/offline-stream.cc:AcceptWaveformImpl:113 Creating a resampler:\n",
            "   in_sample_rate: 8000\n",
            "   output_sample_rate: 16000\n",
            "\n",
            "Done!\n",
            "\n",
            "./sherpa-onnx-whisper-base.en/test_wavs/0.wav\n",
            "{\"text\":\" After early nightfall the yellow lamps would light up here and there the squalid quarter of the brothels.\",\"timestamps\":\"[]\",\"tokens\":[\" After\",\" early\",\" night\",\"fall\",\" the\",\" yellow\",\" lamps\",\" would\",\" light\",\" up\",\" here\",\" and\",\" there\",\" the\",\" squ\",\"alid\",\" quarter\",\" of\",\" the\",\" bro\",\"the\",\"ls\",\".\"]}\n",
            "----\n",
            "./sherpa-onnx-whisper-base.en/test_wavs/1.wav\n",
            "{\"text\":\" God, as a direct consequence of the sin which man thus punished, had given her a lovely child, whose place was on that same dishonored bosom to connect her parent forever with the race and descent of mortals, and to be finally a blessed soul in heaven.\",\"timestamps\":\"[]\",\"tokens\":[\" God\",\",\",\" as\",\" a\",\" direct\",\" consequence\",\" of\",\" the\",\" sin\",\" which\",\" man\",\" thus\",\" punished\",\",\",\" had\",\" given\",\" her\",\" a\",\" lovely\",\" child\",\",\",\" whose\",\" place\",\" was\",\" on\",\" that\",\" same\",\" dishon\",\"ored\",\" bos\",\"om\",\" to\",\" connect\",\" her\",\" parent\",\" forever\",\" with\",\" the\",\" race\",\" and\",\" descent\",\" of\",\" mortals\",\",\",\" and\",\" to\",\" be\",\" finally\",\" a\",\" blessed\",\" soul\",\" in\",\" heaven\",\".\"]}\n",
            "----\n",
            "./sherpa-onnx-whisper-base.en/test_wavs/8k.wav\n",
            "{\"text\":\" Yet these thoughts affected Hester Prynne less with hope than apprehension.\",\"timestamps\":\"[]\",\"tokens\":[\" Yet\",\" these\",\" thoughts\",\" affected\",\" H\",\"ester\",\" P\",\"ryn\",\"ne\",\" less\",\" with\",\" hope\",\" than\",\" apprehension\",\".\"]}\n",
            "----\n",
            "num threads: 1\n",
            "decoding method: greedy_search\n",
            "Elapsed seconds: 9.344 s\n",
            "Real time factor (RTF): 9.344 / 28.165 = 0.332\n"
          ]
        },
        {
          "output_type": "execute_result",
          "data": {
            "text/plain": []
          },
          "metadata": {},
          "execution_count": 14
        }
      ]
    },
    {
      "cell_type": "markdown",
      "source": [
        "Run with CUDA:"
      ],
      "metadata": {
        "id": "RNTbSGRhMrG2"
      }
    },
    {
      "cell_type": "code",
      "source": [
        "%%shell\n",
        "\n",
        "./sherpa-onnx/build/install/bin/sherpa-onnx-offline \\\n",
        "  --whisper-encoder=./sherpa-onnx-whisper-base.en/base.en-encoder.int8.onnx \\\n",
        "  --whisper-decoder=./sherpa-onnx-whisper-base.en/base.en-decoder.int8.onnx \\\n",
        "  --tokens=./sherpa-onnx-whisper-base.en/base.en-tokens.txt \\\n",
        "  --num-threads=1 \\\n",
        "  --provider=cuda \\\n",
        "  ./sherpa-onnx-whisper-base.en/test_wavs/0.wav \\\n",
        "  ./sherpa-onnx-whisper-base.en/test_wavs/1.wav \\\n",
        "  ./sherpa-onnx-whisper-base.en/test_wavs/8k.wav"
      ],
      "metadata": {
        "colab": {
          "base_uri": "https://localhost:8080/"
        },
        "id": "GYEvPU6hMpt1",
        "outputId": "405ec75a-2a53-4488-f3c3-95dc7ba24ae3"
      },
      "execution_count": 15,
      "outputs": [
        {
          "output_type": "stream",
          "name": "stdout",
          "text": [
            "/content/sherpa-onnx/sherpa-onnx/csrc/parse-options.cc:Read:361 ./sherpa-onnx/build/install/bin/sherpa-onnx-offline --whisper-encoder=./sherpa-onnx-whisper-base.en/base.en-encoder.int8.onnx --whisper-decoder=./sherpa-onnx-whisper-base.en/base.en-decoder.int8.onnx --tokens=./sherpa-onnx-whisper-base.en/base.en-tokens.txt --num-threads=1 --provider=cuda ./sherpa-onnx-whisper-base.en/test_wavs/0.wav ./sherpa-onnx-whisper-base.en/test_wavs/1.wav ./sherpa-onnx-whisper-base.en/test_wavs/8k.wav \n",
            "\n",
            "OfflineRecognizerConfig(feat_config=OfflineFeatureExtractorConfig(sampling_rate=16000, feature_dim=80), model_config=OfflineModelConfig(transducer=OfflineTransducerModelConfig(encoder_filename=\"\", decoder_filename=\"\", joiner_filename=\"\"), paraformer=OfflineParaformerModelConfig(model=\"\"), nemo_ctc=OfflineNemoEncDecCtcModelConfig(model=\"\"), whisper=OfflineWhisperModelConfig(encoder=\"./sherpa-onnx-whisper-base.en/base.en-encoder.int8.onnx\", decoder=\"./sherpa-onnx-whisper-base.en/base.en-decoder.int8.onnx\"), tokens=\"./sherpa-onnx-whisper-base.en/base.en-tokens.txt\", num_threads=1, debug=False, provider=\"cuda\", model_type=\"\"), lm_config=OfflineLMConfig(model=\"\", scale=0.5), decoding_method=\"greedy_search\", max_active_paths=4, context_score=1.5)\n",
            "Creating recognizer ...\n",
            "Started\n",
            "/content/sherpa-onnx/sherpa-onnx/csrc/offline-stream.cc:AcceptWaveformImpl:113 Creating a resampler:\n",
            "   in_sample_rate: 8000\n",
            "   output_sample_rate: 16000\n",
            "\n",
            "Done!\n",
            "\n",
            "./sherpa-onnx-whisper-base.en/test_wavs/0.wav\n",
            "{\"text\":\" After early nightfall the yellow lamps would light up here and there the squalid quarter of the brothels.\",\"timestamps\":\"[]\",\"tokens\":[\" After\",\" early\",\" night\",\"fall\",\" the\",\" yellow\",\" lamps\",\" would\",\" light\",\" up\",\" here\",\" and\",\" there\",\" the\",\" squ\",\"alid\",\" quarter\",\" of\",\" the\",\" bro\",\"the\",\"ls\",\".\"]}\n",
            "----\n",
            "./sherpa-onnx-whisper-base.en/test_wavs/1.wav\n",
            "{\"text\":\" God, as a direct consequence of the sin which man thus punished, had given her a lovely child, whose place was on that same dishonored bosom to connect her parent forever with the race and descent of mortals, and to be finally a blessed soul in heaven.\",\"timestamps\":\"[]\",\"tokens\":[\" God\",\",\",\" as\",\" a\",\" direct\",\" consequence\",\" of\",\" the\",\" sin\",\" which\",\" man\",\" thus\",\" punished\",\",\",\" had\",\" given\",\" her\",\" a\",\" lovely\",\" child\",\",\",\" whose\",\" place\",\" was\",\" on\",\" that\",\" same\",\" dishon\",\"ored\",\" bos\",\"om\",\" to\",\" connect\",\" her\",\" parent\",\" forever\",\" with\",\" the\",\" race\",\" and\",\" descent\",\" of\",\" mortals\",\",\",\" and\",\" to\",\" be\",\" finally\",\" a\",\" blessed\",\" soul\",\" in\",\" heaven\",\".\"]}\n",
            "----\n",
            "./sherpa-onnx-whisper-base.en/test_wavs/8k.wav\n",
            "{\"text\":\" Yet these thoughts affected Hester Prynne less with hope than apprehension.\",\"timestamps\":\"[]\",\"tokens\":[\" Yet\",\" these\",\" thoughts\",\" affected\",\" H\",\"ester\",\" P\",\"ryn\",\"ne\",\" less\",\" with\",\" hope\",\" than\",\" apprehension\",\".\"]}\n",
            "----\n",
            "num threads: 1\n",
            "decoding method: greedy_search\n",
            "Elapsed seconds: 7.308 s\n",
            "Real time factor (RTF): 7.308 / 28.165 = 0.259\n"
          ]
        },
        {
          "output_type": "execute_result",
          "data": {
            "text/plain": []
          },
          "metadata": {},
          "execution_count": 15
        }
      ]
    },
    {
      "cell_type": "markdown",
      "source": [
        "## small.en"
      ],
      "metadata": {
        "id": "doHs46zhMx4L"
      }
    },
    {
      "cell_type": "code",
      "source": [
        "! git clone https://huggingface.co/csukuangfj/sherpa-onnx-whisper-small.en"
      ],
      "metadata": {
        "colab": {
          "base_uri": "https://localhost:8080/"
        },
        "id": "Wxv7nQreMuOC",
        "outputId": "9a6d8fe1-a08e-4284-adf9-3c94de67331f"
      },
      "execution_count": 16,
      "outputs": [
        {
          "output_type": "stream",
          "name": "stdout",
          "text": [
            "Cloning into 'sherpa-onnx-whisper-small.en'...\n",
            "remote: Enumerating objects: 27, done.\u001b[K\n",
            "remote: Counting objects: 100% (27/27), done.\u001b[K\n",
            "remote: Compressing objects: 100% (26/26), done.\u001b[K\n",
            "remote: Total 27 (delta 2), reused 0 (delta 0), pack-reused 0\u001b[K\n",
            "Unpacking objects: 100% (27/27), 1023.53 KiB | 9.84 MiB/s, done.\n",
            "Filtering content: 100% (8/8), 2.87 GiB | 57.06 MiB/s, done.\n"
          ]
        }
      ]
    },
    {
      "cell_type": "code",
      "source": [
        "! ls -lh sherpa-onnx-whisper-small.en"
      ],
      "metadata": {
        "colab": {
          "base_uri": "https://localhost:8080/"
        },
        "id": "8gdv9SLuM18c",
        "outputId": "8064e9c3-8f29-407f-869e-18e747e4ada8"
      },
      "execution_count": 17,
      "outputs": [
        {
          "output_type": "stream",
          "name": "stdout",
          "text": [
            "total 2.9G\n",
            "-rw-r--r-- 1 root root  260 Aug  7 14:08 README.md\n",
            "-rw-r--r-- 1 root root 288M Aug  7 14:08 small.en-decoder.int8.onnx\n",
            "-rw-r--r-- 1 root root 289M Aug  7 14:08 small.en-decoder.int8.ort\n",
            "-rw-r--r-- 1 root root 686M Aug  7 14:09 small.en-decoder.onnx\n",
            "-rw-r--r-- 1 root root 686M Aug  7 14:09 small.en-decoder.ort\n",
            "-rw-r--r-- 1 root root 108M Aug  7 14:08 small.en-encoder.int8.onnx\n",
            "-rw-r--r-- 1 root root 108M Aug  7 14:08 small.en-encoder.int8.ort\n",
            "-rw-r--r-- 1 root root 391M Aug  7 14:08 small.en-encoder.onnx\n",
            "-rw-r--r-- 1 root root 391M Aug  7 14:08 small.en-encoder.ort\n",
            "-rw-r--r-- 1 root root 816K Aug  7 14:08 small.en-tokens.txt\n",
            "drwxr-xr-x 2 root root 4.0K Aug  7 14:08 test_wavs\n"
          ]
        }
      ]
    },
    {
      "cell_type": "markdown",
      "source": [
        "### float32 onnx models"
      ],
      "metadata": {
        "id": "hfCkXlu7NGKp"
      }
    },
    {
      "cell_type": "markdown",
      "source": [
        "Run with CPU:"
      ],
      "metadata": {
        "id": "9wtF8uJ-NI_b"
      }
    },
    {
      "cell_type": "code",
      "source": [
        "%%shell\n",
        "\n",
        "./sherpa-onnx/build/install/bin/sherpa-onnx-offline \\\n",
        "  --whisper-encoder=./sherpa-onnx-whisper-small.en/small.en-encoder.onnx \\\n",
        "  --whisper-decoder=./sherpa-onnx-whisper-small.en/small.en-decoder.onnx \\\n",
        "  --tokens=./sherpa-onnx-whisper-small.en/small.en-tokens.txt \\\n",
        "  --num-threads=1 \\\n",
        "  --provider=cpu \\\n",
        "  ./sherpa-onnx-whisper-small.en/test_wavs/0.wav \\\n",
        "  ./sherpa-onnx-whisper-small.en/test_wavs/1.wav \\\n",
        "  ./sherpa-onnx-whisper-small.en/test_wavs/8k.wav"
      ],
      "metadata": {
        "colab": {
          "base_uri": "https://localhost:8080/"
        },
        "id": "Oz_636tNM6Nq",
        "outputId": "144ab9c1-4f0d-47bc-a03e-3e185014dcd4"
      },
      "execution_count": 18,
      "outputs": [
        {
          "output_type": "stream",
          "name": "stdout",
          "text": [
            "/content/sherpa-onnx/sherpa-onnx/csrc/parse-options.cc:Read:361 ./sherpa-onnx/build/install/bin/sherpa-onnx-offline --whisper-encoder=./sherpa-onnx-whisper-small.en/small.en-encoder.onnx --whisper-decoder=./sherpa-onnx-whisper-small.en/small.en-decoder.onnx --tokens=./sherpa-onnx-whisper-small.en/small.en-tokens.txt --num-threads=1 --provider=cpu ./sherpa-onnx-whisper-small.en/test_wavs/0.wav ./sherpa-onnx-whisper-small.en/test_wavs/1.wav ./sherpa-onnx-whisper-small.en/test_wavs/8k.wav \n",
            "\n",
            "OfflineRecognizerConfig(feat_config=OfflineFeatureExtractorConfig(sampling_rate=16000, feature_dim=80), model_config=OfflineModelConfig(transducer=OfflineTransducerModelConfig(encoder_filename=\"\", decoder_filename=\"\", joiner_filename=\"\"), paraformer=OfflineParaformerModelConfig(model=\"\"), nemo_ctc=OfflineNemoEncDecCtcModelConfig(model=\"\"), whisper=OfflineWhisperModelConfig(encoder=\"./sherpa-onnx-whisper-small.en/small.en-encoder.onnx\", decoder=\"./sherpa-onnx-whisper-small.en/small.en-decoder.onnx\"), tokens=\"./sherpa-onnx-whisper-small.en/small.en-tokens.txt\", num_threads=1, debug=False, provider=\"cpu\", model_type=\"\"), lm_config=OfflineLMConfig(model=\"\", scale=0.5), decoding_method=\"greedy_search\", max_active_paths=4, context_score=1.5)\n",
            "Creating recognizer ...\n",
            "Started\n",
            "/content/sherpa-onnx/sherpa-onnx/csrc/offline-stream.cc:AcceptWaveformImpl:113 Creating a resampler:\n",
            "   in_sample_rate: 8000\n",
            "   output_sample_rate: 16000\n",
            "\n",
            "Done!\n",
            "\n",
            "./sherpa-onnx-whisper-small.en/test_wavs/0.wav\n",
            "{\"text\":\" After early nightfall, the yellow lamps would light up here and there the squalid quarter of the brothels.\",\"timestamps\":\"[]\",\"tokens\":[\" After\",\" early\",\" night\",\"fall\",\",\",\" the\",\" yellow\",\" lamps\",\" would\",\" light\",\" up\",\" here\",\" and\",\" there\",\" the\",\" squ\",\"alid\",\" quarter\",\" of\",\" the\",\" bro\",\"the\",\"ls\",\".\"]}\n",
            "----\n",
            "./sherpa-onnx-whisper-small.en/test_wavs/1.wav\n",
            "{\"text\":\" God, as a direct consequence of the sin which man thus punished, had given her a lovely child, whose place was on that same dishonored bosom to connect her parent for ever with the race and descent of mortals, and to be finally a blessed soul in heaven.\",\"timestamps\":\"[]\",\"tokens\":[\" God\",\",\",\" as\",\" a\",\" direct\",\" consequence\",\" of\",\" the\",\" sin\",\" which\",\" man\",\" thus\",\" punished\",\",\",\" had\",\" given\",\" her\",\" a\",\" lovely\",\" child\",\",\",\" whose\",\" place\",\" was\",\" on\",\" that\",\" same\",\" dishon\",\"ored\",\" bos\",\"om\",\" to\",\" connect\",\" her\",\" parent\",\" for\",\" ever\",\" with\",\" the\",\" race\",\" and\",\" descent\",\" of\",\" mortals\",\",\",\" and\",\" to\",\" be\",\" finally\",\" a\",\" blessed\",\" soul\",\" in\",\" heaven\",\".\"]}\n",
            "----\n",
            "./sherpa-onnx-whisper-small.en/test_wavs/8k.wav\n",
            "{\"text\":\" Yet these thoughts affected Hester Prynne less with hope than apprehension.\",\"timestamps\":\"[]\",\"tokens\":[\" Yet\",\" these\",\" thoughts\",\" affected\",\" H\",\"ester\",\" P\",\"ryn\",\"ne\",\" less\",\" with\",\" hope\",\" than\",\" apprehension\",\".\"]}\n",
            "----\n",
            "num threads: 1\n",
            "decoding method: greedy_search\n",
            "Elapsed seconds: 45.997 s\n",
            "Real time factor (RTF): 45.997 / 28.165 = 1.633\n"
          ]
        },
        {
          "output_type": "execute_result",
          "data": {
            "text/plain": []
          },
          "metadata": {},
          "execution_count": 18
        }
      ]
    },
    {
      "cell_type": "markdown",
      "source": [
        "Run with CUDA:"
      ],
      "metadata": {
        "id": "yzUg6B8sNQs3"
      }
    },
    {
      "cell_type": "code",
      "source": [
        "%%shell\n",
        "\n",
        "./sherpa-onnx/build/install/bin/sherpa-onnx-offline \\\n",
        "  --whisper-encoder=./sherpa-onnx-whisper-small.en/small.en-encoder.onnx \\\n",
        "  --whisper-decoder=./sherpa-onnx-whisper-small.en/small.en-decoder.onnx \\\n",
        "  --tokens=./sherpa-onnx-whisper-small.en/small.en-tokens.txt \\\n",
        "  --num-threads=1 \\\n",
        "  --provider=cuda \\\n",
        "  ./sherpa-onnx-whisper-small.en/test_wavs/0.wav \\\n",
        "  ./sherpa-onnx-whisper-small.en/test_wavs/1.wav \\\n",
        "  ./sherpa-onnx-whisper-small.en/test_wavs/8k.wav"
      ],
      "metadata": {
        "colab": {
          "base_uri": "https://localhost:8080/"
        },
        "id": "VxJUU5VbNQU3",
        "outputId": "973bd709-259b-49d1-d690-f906c5589c97"
      },
      "execution_count": 19,
      "outputs": [
        {
          "output_type": "stream",
          "name": "stdout",
          "text": [
            "/content/sherpa-onnx/sherpa-onnx/csrc/parse-options.cc:Read:361 ./sherpa-onnx/build/install/bin/sherpa-onnx-offline --whisper-encoder=./sherpa-onnx-whisper-small.en/small.en-encoder.onnx --whisper-decoder=./sherpa-onnx-whisper-small.en/small.en-decoder.onnx --tokens=./sherpa-onnx-whisper-small.en/small.en-tokens.txt --num-threads=1 --provider=cuda ./sherpa-onnx-whisper-small.en/test_wavs/0.wav ./sherpa-onnx-whisper-small.en/test_wavs/1.wav ./sherpa-onnx-whisper-small.en/test_wavs/8k.wav \n",
            "\n",
            "OfflineRecognizerConfig(feat_config=OfflineFeatureExtractorConfig(sampling_rate=16000, feature_dim=80), model_config=OfflineModelConfig(transducer=OfflineTransducerModelConfig(encoder_filename=\"\", decoder_filename=\"\", joiner_filename=\"\"), paraformer=OfflineParaformerModelConfig(model=\"\"), nemo_ctc=OfflineNemoEncDecCtcModelConfig(model=\"\"), whisper=OfflineWhisperModelConfig(encoder=\"./sherpa-onnx-whisper-small.en/small.en-encoder.onnx\", decoder=\"./sherpa-onnx-whisper-small.en/small.en-decoder.onnx\"), tokens=\"./sherpa-onnx-whisper-small.en/small.en-tokens.txt\", num_threads=1, debug=False, provider=\"cuda\", model_type=\"\"), lm_config=OfflineLMConfig(model=\"\", scale=0.5), decoding_method=\"greedy_search\", max_active_paths=4, context_score=1.5)\n",
            "Creating recognizer ...\n",
            "Started\n",
            "/content/sherpa-onnx/sherpa-onnx/csrc/offline-stream.cc:AcceptWaveformImpl:113 Creating a resampler:\n",
            "   in_sample_rate: 8000\n",
            "   output_sample_rate: 16000\n",
            "\n",
            "Done!\n",
            "\n",
            "./sherpa-onnx-whisper-small.en/test_wavs/0.wav\n",
            "{\"text\":\" After early nightfall, the yellow lamps would light up here and there the squalid quarter of the brothels.\",\"timestamps\":\"[]\",\"tokens\":[\" After\",\" early\",\" night\",\"fall\",\",\",\" the\",\" yellow\",\" lamps\",\" would\",\" light\",\" up\",\" here\",\" and\",\" there\",\" the\",\" squ\",\"alid\",\" quarter\",\" of\",\" the\",\" bro\",\"the\",\"ls\",\".\"]}\n",
            "----\n",
            "./sherpa-onnx-whisper-small.en/test_wavs/1.wav\n",
            "{\"text\":\" God, as a direct consequence of the sin which man thus punished, had given her a lovely child, whose place was on that same dishonored bosom to connect her parent for ever with the race and descent of mortals, and to be finally a blessed soul in heaven.\",\"timestamps\":\"[]\",\"tokens\":[\" God\",\",\",\" as\",\" a\",\" direct\",\" consequence\",\" of\",\" the\",\" sin\",\" which\",\" man\",\" thus\",\" punished\",\",\",\" had\",\" given\",\" her\",\" a\",\" lovely\",\" child\",\",\",\" whose\",\" place\",\" was\",\" on\",\" that\",\" same\",\" dishon\",\"ored\",\" bos\",\"om\",\" to\",\" connect\",\" her\",\" parent\",\" for\",\" ever\",\" with\",\" the\",\" race\",\" and\",\" descent\",\" of\",\" mortals\",\",\",\" and\",\" to\",\" be\",\" finally\",\" a\",\" blessed\",\" soul\",\" in\",\" heaven\",\".\"]}\n",
            "----\n",
            "./sherpa-onnx-whisper-small.en/test_wavs/8k.wav\n",
            "{\"text\":\" Yet these thoughts affected Hester Prynne less with hope than apprehension.\",\"timestamps\":\"[]\",\"tokens\":[\" Yet\",\" these\",\" thoughts\",\" affected\",\" H\",\"ester\",\" P\",\"ryn\",\"ne\",\" less\",\" with\",\" hope\",\" than\",\" apprehension\",\".\"]}\n",
            "----\n",
            "num threads: 1\n",
            "decoding method: greedy_search\n",
            "Elapsed seconds: 7.560 s\n",
            "Real time factor (RTF): 7.560 / 28.165 = 0.268\n"
          ]
        },
        {
          "output_type": "execute_result",
          "data": {
            "text/plain": []
          },
          "metadata": {},
          "execution_count": 19
        }
      ]
    },
    {
      "cell_type": "markdown",
      "source": [
        "### int8 onnx models"
      ],
      "metadata": {
        "id": "IcaEwfDNNZgg"
      }
    },
    {
      "cell_type": "markdown",
      "source": [
        "Run with CPU:"
      ],
      "metadata": {
        "id": "jRUM0v9XNbCe"
      }
    },
    {
      "cell_type": "code",
      "source": [
        "%%shell\n",
        "\n",
        "./sherpa-onnx/build/install/bin/sherpa-onnx-offline \\\n",
        "  --whisper-encoder=./sherpa-onnx-whisper-small.en/small.en-encoder.int8.onnx \\\n",
        "  --whisper-decoder=./sherpa-onnx-whisper-small.en/small.en-decoder.int8.onnx \\\n",
        "  --tokens=./sherpa-onnx-whisper-small.en/small.en-tokens.txt \\\n",
        "  --num-threads=1 \\\n",
        "  --provider=cpu \\\n",
        "  ./sherpa-onnx-whisper-small.en/test_wavs/0.wav \\\n",
        "  ./sherpa-onnx-whisper-small.en/test_wavs/1.wav \\\n",
        "  ./sherpa-onnx-whisper-small.en/test_wavs/8k.wav"
      ],
      "metadata": {
        "colab": {
          "base_uri": "https://localhost:8080/"
        },
        "id": "xHyp8xwNNODV",
        "outputId": "598ccb28-3e89-42d5-e7d7-c64a5937a13a"
      },
      "execution_count": 20,
      "outputs": [
        {
          "output_type": "stream",
          "name": "stdout",
          "text": [
            "/content/sherpa-onnx/sherpa-onnx/csrc/parse-options.cc:Read:361 ./sherpa-onnx/build/install/bin/sherpa-onnx-offline --whisper-encoder=./sherpa-onnx-whisper-small.en/small.en-encoder.int8.onnx --whisper-decoder=./sherpa-onnx-whisper-small.en/small.en-decoder.int8.onnx --tokens=./sherpa-onnx-whisper-small.en/small.en-tokens.txt --num-threads=1 --provider=cpu ./sherpa-onnx-whisper-small.en/test_wavs/0.wav ./sherpa-onnx-whisper-small.en/test_wavs/1.wav ./sherpa-onnx-whisper-small.en/test_wavs/8k.wav \n",
            "\n",
            "OfflineRecognizerConfig(feat_config=OfflineFeatureExtractorConfig(sampling_rate=16000, feature_dim=80), model_config=OfflineModelConfig(transducer=OfflineTransducerModelConfig(encoder_filename=\"\", decoder_filename=\"\", joiner_filename=\"\"), paraformer=OfflineParaformerModelConfig(model=\"\"), nemo_ctc=OfflineNemoEncDecCtcModelConfig(model=\"\"), whisper=OfflineWhisperModelConfig(encoder=\"./sherpa-onnx-whisper-small.en/small.en-encoder.int8.onnx\", decoder=\"./sherpa-onnx-whisper-small.en/small.en-decoder.int8.onnx\"), tokens=\"./sherpa-onnx-whisper-small.en/small.en-tokens.txt\", num_threads=1, debug=False, provider=\"cpu\", model_type=\"\"), lm_config=OfflineLMConfig(model=\"\", scale=0.5), decoding_method=\"greedy_search\", max_active_paths=4, context_score=1.5)\n",
            "Creating recognizer ...\n",
            "Started\n",
            "/content/sherpa-onnx/sherpa-onnx/csrc/offline-stream.cc:AcceptWaveformImpl:113 Creating a resampler:\n",
            "   in_sample_rate: 8000\n",
            "   output_sample_rate: 16000\n",
            "\n",
            "Done!\n",
            "\n",
            "./sherpa-onnx-whisper-small.en/test_wavs/0.wav\n",
            "{\"text\":\" After early nightfall, the yellow lamps would light up here and there the squalid quarter of the brothels.\",\"timestamps\":\"[]\",\"tokens\":[\" After\",\" early\",\" night\",\"fall\",\",\",\" the\",\" yellow\",\" lamps\",\" would\",\" light\",\" up\",\" here\",\" and\",\" there\",\" the\",\" squ\",\"alid\",\" quarter\",\" of\",\" the\",\" bro\",\"the\",\"ls\",\".\"]}\n",
            "----\n",
            "./sherpa-onnx-whisper-small.en/test_wavs/1.wav\n",
            "{\"text\":\" God, as a direct consequence of the sin which man thus punished, had given her a lovely child, whose place was on that same dishonored bosom to connect her parent for ever with the race and descent of mortals, and to be finally a blessed soul in heaven.\",\"timestamps\":\"[]\",\"tokens\":[\" God\",\",\",\" as\",\" a\",\" direct\",\" consequence\",\" of\",\" the\",\" sin\",\" which\",\" man\",\" thus\",\" punished\",\",\",\" had\",\" given\",\" her\",\" a\",\" lovely\",\" child\",\",\",\" whose\",\" place\",\" was\",\" on\",\" that\",\" same\",\" dishon\",\"ored\",\" bos\",\"om\",\" to\",\" connect\",\" her\",\" parent\",\" for\",\" ever\",\" with\",\" the\",\" race\",\" and\",\" descent\",\" of\",\" mortals\",\",\",\" and\",\" to\",\" be\",\" finally\",\" a\",\" blessed\",\" soul\",\" in\",\" heaven\",\".\"]}\n",
            "----\n",
            "./sherpa-onnx-whisper-small.en/test_wavs/8k.wav\n",
            "{\"text\":\" Yet these thoughts affected Hester Prynne less with hope than apprehension.\",\"timestamps\":\"[]\",\"tokens\":[\" Yet\",\" these\",\" thoughts\",\" affected\",\" H\",\"ester\",\" P\",\"ryn\",\"ne\",\" less\",\" with\",\" hope\",\" than\",\" apprehension\",\".\"]}\n",
            "----\n",
            "num threads: 1\n",
            "decoding method: greedy_search\n",
            "Elapsed seconds: 38.568 s\n",
            "Real time factor (RTF): 38.568 / 28.165 = 1.369\n"
          ]
        },
        {
          "output_type": "execute_result",
          "data": {
            "text/plain": []
          },
          "metadata": {},
          "execution_count": 20
        }
      ]
    },
    {
      "cell_type": "markdown",
      "source": [
        "Run with CUDA:"
      ],
      "metadata": {
        "id": "a1cSVY3MNgWy"
      }
    },
    {
      "cell_type": "code",
      "source": [
        "%%shell\n",
        "\n",
        "./sherpa-onnx/build/install/bin/sherpa-onnx-offline \\\n",
        "  --whisper-encoder=./sherpa-onnx-whisper-small.en/small.en-encoder.int8.onnx \\\n",
        "  --whisper-decoder=./sherpa-onnx-whisper-small.en/small.en-decoder.int8.onnx \\\n",
        "  --tokens=./sherpa-onnx-whisper-small.en/small.en-tokens.txt \\\n",
        "  --num-threads=1 \\\n",
        "  --provider=cuda \\\n",
        "  ./sherpa-onnx-whisper-small.en/test_wavs/0.wav \\\n",
        "  ./sherpa-onnx-whisper-small.en/test_wavs/1.wav \\\n",
        "  ./sherpa-onnx-whisper-small.en/test_wavs/8k.wav"
      ],
      "metadata": {
        "colab": {
          "base_uri": "https://localhost:8080/"
        },
        "id": "nqYOvWgINf8H",
        "outputId": "b69b3c6d-c6dc-445c-a2af-e4ab832c411a"
      },
      "execution_count": 21,
      "outputs": [
        {
          "output_type": "stream",
          "name": "stdout",
          "text": [
            "/content/sherpa-onnx/sherpa-onnx/csrc/parse-options.cc:Read:361 ./sherpa-onnx/build/install/bin/sherpa-onnx-offline --whisper-encoder=./sherpa-onnx-whisper-small.en/small.en-encoder.int8.onnx --whisper-decoder=./sherpa-onnx-whisper-small.en/small.en-decoder.int8.onnx --tokens=./sherpa-onnx-whisper-small.en/small.en-tokens.txt --num-threads=1 --provider=cuda ./sherpa-onnx-whisper-small.en/test_wavs/0.wav ./sherpa-onnx-whisper-small.en/test_wavs/1.wav ./sherpa-onnx-whisper-small.en/test_wavs/8k.wav \n",
            "\n",
            "OfflineRecognizerConfig(feat_config=OfflineFeatureExtractorConfig(sampling_rate=16000, feature_dim=80), model_config=OfflineModelConfig(transducer=OfflineTransducerModelConfig(encoder_filename=\"\", decoder_filename=\"\", joiner_filename=\"\"), paraformer=OfflineParaformerModelConfig(model=\"\"), nemo_ctc=OfflineNemoEncDecCtcModelConfig(model=\"\"), whisper=OfflineWhisperModelConfig(encoder=\"./sherpa-onnx-whisper-small.en/small.en-encoder.int8.onnx\", decoder=\"./sherpa-onnx-whisper-small.en/small.en-decoder.int8.onnx\"), tokens=\"./sherpa-onnx-whisper-small.en/small.en-tokens.txt\", num_threads=1, debug=False, provider=\"cuda\", model_type=\"\"), lm_config=OfflineLMConfig(model=\"\", scale=0.5), decoding_method=\"greedy_search\", max_active_paths=4, context_score=1.5)\n",
            "Creating recognizer ...\n",
            "Started\n",
            "/content/sherpa-onnx/sherpa-onnx/csrc/offline-stream.cc:AcceptWaveformImpl:113 Creating a resampler:\n",
            "   in_sample_rate: 8000\n",
            "   output_sample_rate: 16000\n",
            "\n",
            "Done!\n",
            "\n",
            "./sherpa-onnx-whisper-small.en/test_wavs/0.wav\n",
            "{\"text\":\" After early nightfall, the yellow lamps would light up here and there the squalid quarter of the brothels.\",\"timestamps\":\"[]\",\"tokens\":[\" After\",\" early\",\" night\",\"fall\",\",\",\" the\",\" yellow\",\" lamps\",\" would\",\" light\",\" up\",\" here\",\" and\",\" there\",\" the\",\" squ\",\"alid\",\" quarter\",\" of\",\" the\",\" bro\",\"the\",\"ls\",\".\"]}\n",
            "----\n",
            "./sherpa-onnx-whisper-small.en/test_wavs/1.wav\n",
            "{\"text\":\" God, as a direct consequence of the sin which man thus punished, had given her a lovely child, whose place was on that same dishonored bosom to connect her parent forever with the race and descent of mortals, and to be finally a blessed soul in heaven.\",\"timestamps\":\"[]\",\"tokens\":[\" God\",\",\",\" as\",\" a\",\" direct\",\" consequence\",\" of\",\" the\",\" sin\",\" which\",\" man\",\" thus\",\" punished\",\",\",\" had\",\" given\",\" her\",\" a\",\" lovely\",\" child\",\",\",\" whose\",\" place\",\" was\",\" on\",\" that\",\" same\",\" dishon\",\"ored\",\" bos\",\"om\",\" to\",\" connect\",\" her\",\" parent\",\" forever\",\" with\",\" the\",\" race\",\" and\",\" descent\",\" of\",\" mortals\",\",\",\" and\",\" to\",\" be\",\" finally\",\" a\",\" blessed\",\" soul\",\" in\",\" heaven\",\".\"]}\n",
            "----\n",
            "./sherpa-onnx-whisper-small.en/test_wavs/8k.wav\n",
            "{\"text\":\" Yet these thoughts affected Hester Prynne less with hope than apprehension.\",\"timestamps\":\"[]\",\"tokens\":[\" Yet\",\" these\",\" thoughts\",\" affected\",\" H\",\"ester\",\" P\",\"ryn\",\"ne\",\" less\",\" with\",\" hope\",\" than\",\" apprehension\",\".\"]}\n",
            "----\n",
            "num threads: 1\n",
            "decoding method: greedy_search\n",
            "Elapsed seconds: 20.349 s\n",
            "Real time factor (RTF): 20.349 / 28.165 = 0.722\n"
          ]
        },
        {
          "output_type": "execute_result",
          "data": {
            "text/plain": []
          },
          "metadata": {},
          "execution_count": 21
        }
      ]
    },
    {
      "cell_type": "markdown",
      "source": [
        "## medium.en"
      ],
      "metadata": {
        "id": "8DpzVNGdNobW"
      }
    },
    {
      "cell_type": "code",
      "source": [
        "! rm -rf sherpa-onnx-whisper-small.en"
      ],
      "metadata": {
        "id": "4xszQcIwN4qG"
      },
      "execution_count": 22,
      "outputs": []
    },
    {
      "cell_type": "code",
      "source": [
        "! git clone https://huggingface.co/csukuangfj/sherpa-onnx-whisper-medium.en"
      ],
      "metadata": {
        "colab": {
          "base_uri": "https://localhost:8080/"
        },
        "id": "zBxnp-KjNj3H",
        "outputId": "70214f0a-95c6-4014-815b-e8d3cb3bba9f"
      },
      "execution_count": 23,
      "outputs": [
        {
          "output_type": "stream",
          "name": "stdout",
          "text": [
            "Cloning into 'sherpa-onnx-whisper-medium.en'...\n",
            "remote: Enumerating objects: 24, done.\u001b[K\n",
            "remote: Counting objects: 100% (24/24), done.\u001b[K\n",
            "remote: Compressing objects: 100% (23/23), done.\u001b[K\n",
            "remote: Total 24 (delta 1), reused 0 (delta 0), pack-reused 0\u001b[K\n",
            "Unpacking objects: 100% (24/24), 1023.23 KiB | 7.31 MiB/s, done.\n",
            "Filtering content: 100% (8/8), 7.95 GiB | 53.58 MiB/s, done.\n"
          ]
        }
      ]
    },
    {
      "cell_type": "code",
      "source": [
        "%%shell\n",
        "cd sherpa-onnx-whisper-medium.en/\n",
        "git lfs pull --include \"*.onnx\"\n"
      ],
      "metadata": {
        "colab": {
          "base_uri": "https://localhost:8080/"
        },
        "id": "OZtUkypHP5ft",
        "outputId": "d5b79b6a-9eea-4418-875f-7c3395004487"
      },
      "execution_count": 24,
      "outputs": [
        {
          "output_type": "execute_result",
          "data": {
            "text/plain": []
          },
          "metadata": {},
          "execution_count": 24
        }
      ]
    },
    {
      "cell_type": "markdown",
      "source": [
        "### float32 onnx models"
      ],
      "metadata": {
        "id": "Mlng0C6DRyLK"
      }
    },
    {
      "cell_type": "markdown",
      "source": [
        "Run with CPU:"
      ],
      "metadata": {
        "id": "2WL8kLtPR0UX"
      }
    },
    {
      "cell_type": "code",
      "source": [
        "%%shell\n",
        "\n",
        "./sherpa-onnx/build/install/bin/sherpa-onnx-offline \\\n",
        "  --whisper-encoder=./sherpa-onnx-whisper-medium.en/medium.en-encoder.onnx \\\n",
        "  --whisper-decoder=./sherpa-onnx-whisper-medium.en/medium.en-decoder.onnx \\\n",
        "  --tokens=./sherpa-onnx-whisper-medium.en/medium.en-tokens.txt \\\n",
        "  --num-threads=1 \\\n",
        "  --provider=cpu \\\n",
        "  ./sherpa-onnx-whisper-medium.en/test_wavs/0.wav \\\n",
        "  ./sherpa-onnx-whisper-medium.en/test_wavs/1.wav \\\n",
        "  ./sherpa-onnx-whisper-medium.en/test_wavs/8k.wav"
      ],
      "metadata": {
        "colab": {
          "base_uri": "https://localhost:8080/"
        },
        "id": "mRjJFyw1R2i5",
        "outputId": "ee45ff3d-3b19-4cb9-bd6c-22b75f473c66"
      },
      "execution_count": 25,
      "outputs": [
        {
          "output_type": "stream",
          "name": "stdout",
          "text": [
            "/content/sherpa-onnx/sherpa-onnx/csrc/parse-options.cc:Read:361 ./sherpa-onnx/build/install/bin/sherpa-onnx-offline --whisper-encoder=./sherpa-onnx-whisper-medium.en/medium.en-encoder.onnx --whisper-decoder=./sherpa-onnx-whisper-medium.en/medium.en-decoder.onnx --tokens=./sherpa-onnx-whisper-medium.en/medium.en-tokens.txt --num-threads=1 --provider=cpu ./sherpa-onnx-whisper-medium.en/test_wavs/0.wav ./sherpa-onnx-whisper-medium.en/test_wavs/1.wav ./sherpa-onnx-whisper-medium.en/test_wavs/8k.wav \n",
            "\n",
            "OfflineRecognizerConfig(feat_config=OfflineFeatureExtractorConfig(sampling_rate=16000, feature_dim=80), model_config=OfflineModelConfig(transducer=OfflineTransducerModelConfig(encoder_filename=\"\", decoder_filename=\"\", joiner_filename=\"\"), paraformer=OfflineParaformerModelConfig(model=\"\"), nemo_ctc=OfflineNemoEncDecCtcModelConfig(model=\"\"), whisper=OfflineWhisperModelConfig(encoder=\"./sherpa-onnx-whisper-medium.en/medium.en-encoder.onnx\", decoder=\"./sherpa-onnx-whisper-medium.en/medium.en-decoder.onnx\"), tokens=\"./sherpa-onnx-whisper-medium.en/medium.en-tokens.txt\", num_threads=1, debug=False, provider=\"cpu\", model_type=\"\"), lm_config=OfflineLMConfig(model=\"\", scale=0.5), decoding_method=\"greedy_search\", max_active_paths=4, context_score=1.5)\n",
            "Creating recognizer ...\n",
            "Started\n",
            "/content/sherpa-onnx/sherpa-onnx/csrc/offline-stream.cc:AcceptWaveformImpl:113 Creating a resampler:\n",
            "   in_sample_rate: 8000\n",
            "   output_sample_rate: 16000\n",
            "\n",
            "Done!\n",
            "\n",
            "./sherpa-onnx-whisper-medium.en/test_wavs/0.wav\n",
            "{\"text\":\" After early nightfall the yellow lamps would light up here and there the squalid quarter of the brothels.\",\"timestamps\":\"[]\",\"tokens\":[\" After\",\" early\",\" night\",\"fall\",\" the\",\" yellow\",\" lamps\",\" would\",\" light\",\" up\",\" here\",\" and\",\" there\",\" the\",\" squ\",\"alid\",\" quarter\",\" of\",\" the\",\" bro\",\"the\",\"ls\",\".\"]}\n",
            "----\n",
            "./sherpa-onnx-whisper-medium.en/test_wavs/1.wav\n",
            "{\"text\":\" God, as a direct consequence of the sin which man thus punished, had given her a lovely child, whose place was on that same dishonoured bosom to connect her parent for ever with the race and descent of mortals, and to be finally a blessed soul in heaven.\",\"timestamps\":\"[]\",\"tokens\":[\" God\",\",\",\" as\",\" a\",\" direct\",\" consequence\",\" of\",\" the\",\" sin\",\" which\",\" man\",\" thus\",\" punished\",\",\",\" had\",\" given\",\" her\",\" a\",\" lovely\",\" child\",\",\",\" whose\",\" place\",\" was\",\" on\",\" that\",\" same\",\" dishon\",\"oured\",\" bos\",\"om\",\" to\",\" connect\",\" her\",\" parent\",\" for\",\" ever\",\" with\",\" the\",\" race\",\" and\",\" descent\",\" of\",\" mortals\",\",\",\" and\",\" to\",\" be\",\" finally\",\" a\",\" blessed\",\" soul\",\" in\",\" heaven\",\".\"]}\n",
            "----\n",
            "./sherpa-onnx-whisper-medium.en/test_wavs/8k.wav\n",
            "{\"text\":\" Yet these thoughts affected Hester Prynne less with hope than apprehension.\",\"timestamps\":\"[]\",\"tokens\":[\" Yet\",\" these\",\" thoughts\",\" affected\",\" H\",\"ester\",\" P\",\"ryn\",\"ne\",\" less\",\" with\",\" hope\",\" than\",\" apprehension\",\".\"]}\n",
            "----\n",
            "num threads: 1\n",
            "decoding method: greedy_search\n",
            "Elapsed seconds: 155.326 s\n",
            "Real time factor (RTF): 155.326 / 28.165 = 5.515\n"
          ]
        },
        {
          "output_type": "execute_result",
          "data": {
            "text/plain": []
          },
          "metadata": {},
          "execution_count": 25
        }
      ]
    },
    {
      "cell_type": "markdown",
      "source": [
        "Run with CUDA:"
      ],
      "metadata": {
        "id": "P_3t6twuS_qt"
      }
    },
    {
      "cell_type": "code",
      "source": [
        "%%shell\n",
        "\n",
        "./sherpa-onnx/build/install/bin/sherpa-onnx-offline \\\n",
        "  --whisper-encoder=./sherpa-onnx-whisper-medium.en/medium.en-encoder.onnx \\\n",
        "  --whisper-decoder=./sherpa-onnx-whisper-medium.en/medium.en-decoder.onnx \\\n",
        "  --tokens=./sherpa-onnx-whisper-medium.en/medium.en-tokens.txt \\\n",
        "  --num-threads=1 \\\n",
        "  --provider=cuda \\\n",
        "  ./sherpa-onnx-whisper-medium.en/test_wavs/0.wav \\\n",
        "  ./sherpa-onnx-whisper-medium.en/test_wavs/1.wav \\\n",
        "  ./sherpa-onnx-whisper-medium.en/test_wavs/8k.wav"
      ],
      "metadata": {
        "colab": {
          "base_uri": "https://localhost:8080/"
        },
        "id": "QQOaQ3oATCl5",
        "outputId": "2d1ca353-e2ca-4d00-8463-154150dc774b"
      },
      "execution_count": 26,
      "outputs": [
        {
          "output_type": "stream",
          "name": "stdout",
          "text": [
            "/content/sherpa-onnx/sherpa-onnx/csrc/parse-options.cc:Read:361 ./sherpa-onnx/build/install/bin/sherpa-onnx-offline --whisper-encoder=./sherpa-onnx-whisper-medium.en/medium.en-encoder.onnx --whisper-decoder=./sherpa-onnx-whisper-medium.en/medium.en-decoder.onnx --tokens=./sherpa-onnx-whisper-medium.en/medium.en-tokens.txt --num-threads=1 --provider=cuda ./sherpa-onnx-whisper-medium.en/test_wavs/0.wav ./sherpa-onnx-whisper-medium.en/test_wavs/1.wav ./sherpa-onnx-whisper-medium.en/test_wavs/8k.wav \n",
            "\n",
            "OfflineRecognizerConfig(feat_config=OfflineFeatureExtractorConfig(sampling_rate=16000, feature_dim=80), model_config=OfflineModelConfig(transducer=OfflineTransducerModelConfig(encoder_filename=\"\", decoder_filename=\"\", joiner_filename=\"\"), paraformer=OfflineParaformerModelConfig(model=\"\"), nemo_ctc=OfflineNemoEncDecCtcModelConfig(model=\"\"), whisper=OfflineWhisperModelConfig(encoder=\"./sherpa-onnx-whisper-medium.en/medium.en-encoder.onnx\", decoder=\"./sherpa-onnx-whisper-medium.en/medium.en-decoder.onnx\"), tokens=\"./sherpa-onnx-whisper-medium.en/medium.en-tokens.txt\", num_threads=1, debug=False, provider=\"cuda\", model_type=\"\"), lm_config=OfflineLMConfig(model=\"\", scale=0.5), decoding_method=\"greedy_search\", max_active_paths=4, context_score=1.5)\n",
            "Creating recognizer ...\n",
            "Started\n",
            "/content/sherpa-onnx/sherpa-onnx/csrc/offline-stream.cc:AcceptWaveformImpl:113 Creating a resampler:\n",
            "   in_sample_rate: 8000\n",
            "   output_sample_rate: 16000\n",
            "\n",
            "Done!\n",
            "\n",
            "./sherpa-onnx-whisper-medium.en/test_wavs/0.wav\n",
            "{\"text\":\" After early nightfall the yellow lamps would light up here and there the squalid quarter of the brothels.\",\"timestamps\":\"[]\",\"tokens\":[\" After\",\" early\",\" night\",\"fall\",\" the\",\" yellow\",\" lamps\",\" would\",\" light\",\" up\",\" here\",\" and\",\" there\",\" the\",\" squ\",\"alid\",\" quarter\",\" of\",\" the\",\" bro\",\"the\",\"ls\",\".\"]}\n",
            "----\n",
            "./sherpa-onnx-whisper-medium.en/test_wavs/1.wav\n",
            "{\"text\":\" God, as a direct consequence of the sin which man thus punished, had given her a lovely child, whose place was on that same dishonoured bosom to connect her parent for ever with the race and descent of mortals, and to be finally a blessed soul in heaven.\",\"timestamps\":\"[]\",\"tokens\":[\" God\",\",\",\" as\",\" a\",\" direct\",\" consequence\",\" of\",\" the\",\" sin\",\" which\",\" man\",\" thus\",\" punished\",\",\",\" had\",\" given\",\" her\",\" a\",\" lovely\",\" child\",\",\",\" whose\",\" place\",\" was\",\" on\",\" that\",\" same\",\" dishon\",\"oured\",\" bos\",\"om\",\" to\",\" connect\",\" her\",\" parent\",\" for\",\" ever\",\" with\",\" the\",\" race\",\" and\",\" descent\",\" of\",\" mortals\",\",\",\" and\",\" to\",\" be\",\" finally\",\" a\",\" blessed\",\" soul\",\" in\",\" heaven\",\".\"]}\n",
            "----\n",
            "./sherpa-onnx-whisper-medium.en/test_wavs/8k.wav\n",
            "{\"text\":\" Yet these thoughts affected Hester Prynne less with hope than apprehension.\",\"timestamps\":\"[]\",\"tokens\":[\" Yet\",\" these\",\" thoughts\",\" affected\",\" H\",\"ester\",\" P\",\"ryn\",\"ne\",\" less\",\" with\",\" hope\",\" than\",\" apprehension\",\".\"]}\n",
            "----\n",
            "num threads: 1\n",
            "decoding method: greedy_search\n",
            "Elapsed seconds: 19.021 s\n",
            "Real time factor (RTF): 19.021 / 28.165 = 0.675\n"
          ]
        },
        {
          "output_type": "execute_result",
          "data": {
            "text/plain": []
          },
          "metadata": {},
          "execution_count": 26
        }
      ]
    },
    {
      "cell_type": "markdown",
      "source": [
        "### int8 onnx models"
      ],
      "metadata": {
        "id": "4RDexMBfOA0A"
      }
    },
    {
      "cell_type": "markdown",
      "source": [
        "Run with CPU:"
      ],
      "metadata": {
        "id": "yX1TQb1jOFIM"
      }
    },
    {
      "cell_type": "code",
      "source": [
        "%%shell\n",
        "\n",
        "./sherpa-onnx/build/install/bin/sherpa-onnx-offline \\\n",
        "  --whisper-encoder=./sherpa-onnx-whisper-medium.en/medium.en-encoder.int8.onnx \\\n",
        "  --whisper-decoder=./sherpa-onnx-whisper-medium.en/medium.en-decoder.int8.onnx \\\n",
        "  --tokens=./sherpa-onnx-whisper-medium.en/medium.en-tokens.txt \\\n",
        "  --num-threads=1 \\\n",
        "  --provider=cpu \\\n",
        "  ./sherpa-onnx-whisper-medium.en/test_wavs/0.wav \\\n",
        "  ./sherpa-onnx-whisper-medium.en/test_wavs/1.wav \\\n",
        "  ./sherpa-onnx-whisper-medium.en/test_wavs/8k.wav"
      ],
      "metadata": {
        "colab": {
          "base_uri": "https://localhost:8080/"
        },
        "id": "mmpqngBMN-BR",
        "outputId": "f3ff0eaf-dff0-4c77-96f1-938929194f0e"
      },
      "execution_count": 27,
      "outputs": [
        {
          "output_type": "stream",
          "name": "stdout",
          "text": [
            "/content/sherpa-onnx/sherpa-onnx/csrc/parse-options.cc:Read:361 ./sherpa-onnx/build/install/bin/sherpa-onnx-offline --whisper-encoder=./sherpa-onnx-whisper-medium.en/medium.en-encoder.int8.onnx --whisper-decoder=./sherpa-onnx-whisper-medium.en/medium.en-decoder.int8.onnx --tokens=./sherpa-onnx-whisper-medium.en/medium.en-tokens.txt --num-threads=1 --provider=cpu ./sherpa-onnx-whisper-medium.en/test_wavs/0.wav ./sherpa-onnx-whisper-medium.en/test_wavs/1.wav ./sherpa-onnx-whisper-medium.en/test_wavs/8k.wav \n",
            "\n",
            "OfflineRecognizerConfig(feat_config=OfflineFeatureExtractorConfig(sampling_rate=16000, feature_dim=80), model_config=OfflineModelConfig(transducer=OfflineTransducerModelConfig(encoder_filename=\"\", decoder_filename=\"\", joiner_filename=\"\"), paraformer=OfflineParaformerModelConfig(model=\"\"), nemo_ctc=OfflineNemoEncDecCtcModelConfig(model=\"\"), whisper=OfflineWhisperModelConfig(encoder=\"./sherpa-onnx-whisper-medium.en/medium.en-encoder.int8.onnx\", decoder=\"./sherpa-onnx-whisper-medium.en/medium.en-decoder.int8.onnx\"), tokens=\"./sherpa-onnx-whisper-medium.en/medium.en-tokens.txt\", num_threads=1, debug=False, provider=\"cpu\", model_type=\"\"), lm_config=OfflineLMConfig(model=\"\", scale=0.5), decoding_method=\"greedy_search\", max_active_paths=4, context_score=1.5)\n",
            "Creating recognizer ...\n",
            "Started\n",
            "/content/sherpa-onnx/sherpa-onnx/csrc/offline-stream.cc:AcceptWaveformImpl:113 Creating a resampler:\n",
            "   in_sample_rate: 8000\n",
            "   output_sample_rate: 16000\n",
            "\n",
            "Done!\n",
            "\n",
            "./sherpa-onnx-whisper-medium.en/test_wavs/0.wav\n",
            "{\"text\":\" After early nightfall the yellow lamps would light up here and there the squalid quarter of the brothels.\",\"timestamps\":\"[]\",\"tokens\":[\" After\",\" early\",\" night\",\"fall\",\" the\",\" yellow\",\" lamps\",\" would\",\" light\",\" up\",\" here\",\" and\",\" there\",\" the\",\" squ\",\"alid\",\" quarter\",\" of\",\" the\",\" bro\",\"the\",\"ls\",\".\"]}\n",
            "----\n",
            "./sherpa-onnx-whisper-medium.en/test_wavs/1.wav\n",
            "{\"text\":\" God, as a direct consequence of the sin which man thus punished, had given her a lovely child, whose place was on that same dishonoured bosom to connect her parent for ever with the race and descent of mortals, and to be finally a blessed soul in heaven.\",\"timestamps\":\"[]\",\"tokens\":[\" God\",\",\",\" as\",\" a\",\" direct\",\" consequence\",\" of\",\" the\",\" sin\",\" which\",\" man\",\" thus\",\" punished\",\",\",\" had\",\" given\",\" her\",\" a\",\" lovely\",\" child\",\",\",\" whose\",\" place\",\" was\",\" on\",\" that\",\" same\",\" dishon\",\"oured\",\" bos\",\"om\",\" to\",\" connect\",\" her\",\" parent\",\" for\",\" ever\",\" with\",\" the\",\" race\",\" and\",\" descent\",\" of\",\" mortals\",\",\",\" and\",\" to\",\" be\",\" finally\",\" a\",\" blessed\",\" soul\",\" in\",\" heaven\",\".\"]}\n",
            "----\n",
            "./sherpa-onnx-whisper-medium.en/test_wavs/8k.wav\n",
            "{\"text\":\" Yet these thoughts affected Hester Prynne less with hope than apprehension.\",\"timestamps\":\"[]\",\"tokens\":[\" Yet\",\" these\",\" thoughts\",\" affected\",\" H\",\"ester\",\" P\",\"ryn\",\"ne\",\" less\",\" with\",\" hope\",\" than\",\" apprehension\",\".\"]}\n",
            "----\n",
            "num threads: 1\n",
            "decoding method: greedy_search\n",
            "Elapsed seconds: 120.245 s\n",
            "Real time factor (RTF): 120.245 / 28.165 = 4.269\n"
          ]
        },
        {
          "output_type": "execute_result",
          "data": {
            "text/plain": []
          },
          "metadata": {},
          "execution_count": 27
        }
      ]
    },
    {
      "cell_type": "markdown",
      "source": [
        "Run with CUDA:"
      ],
      "metadata": {
        "id": "ln8Sisl7OLc3"
      }
    },
    {
      "cell_type": "code",
      "source": [
        "%%shell\n",
        "\n",
        "./sherpa-onnx/build/install/bin/sherpa-onnx-offline \\\n",
        "  --whisper-encoder=./sherpa-onnx-whisper-medium.en/medium.en-encoder.int8.onnx \\\n",
        "  --whisper-decoder=./sherpa-onnx-whisper-medium.en/medium.en-decoder.int8.onnx \\\n",
        "  --tokens=./sherpa-onnx-whisper-medium.en/medium.en-tokens.txt \\\n",
        "  --num-threads=1 \\\n",
        "  --provider=cuda \\\n",
        "  ./sherpa-onnx-whisper-medium.en/test_wavs/0.wav \\\n",
        "  ./sherpa-onnx-whisper-medium.en/test_wavs/1.wav \\\n",
        "  ./sherpa-onnx-whisper-medium.en/test_wavs/8k.wav"
      ],
      "metadata": {
        "colab": {
          "base_uri": "https://localhost:8080/"
        },
        "id": "GFVEPs56OMDo",
        "outputId": "9a7c0d60-9b4b-4711-9ca7-b22c19243cee"
      },
      "execution_count": 28,
      "outputs": [
        {
          "output_type": "stream",
          "name": "stdout",
          "text": [
            "/content/sherpa-onnx/sherpa-onnx/csrc/parse-options.cc:Read:361 ./sherpa-onnx/build/install/bin/sherpa-onnx-offline --whisper-encoder=./sherpa-onnx-whisper-medium.en/medium.en-encoder.int8.onnx --whisper-decoder=./sherpa-onnx-whisper-medium.en/medium.en-decoder.int8.onnx --tokens=./sherpa-onnx-whisper-medium.en/medium.en-tokens.txt --num-threads=1 --provider=cuda ./sherpa-onnx-whisper-medium.en/test_wavs/0.wav ./sherpa-onnx-whisper-medium.en/test_wavs/1.wav ./sherpa-onnx-whisper-medium.en/test_wavs/8k.wav \n",
            "\n",
            "OfflineRecognizerConfig(feat_config=OfflineFeatureExtractorConfig(sampling_rate=16000, feature_dim=80), model_config=OfflineModelConfig(transducer=OfflineTransducerModelConfig(encoder_filename=\"\", decoder_filename=\"\", joiner_filename=\"\"), paraformer=OfflineParaformerModelConfig(model=\"\"), nemo_ctc=OfflineNemoEncDecCtcModelConfig(model=\"\"), whisper=OfflineWhisperModelConfig(encoder=\"./sherpa-onnx-whisper-medium.en/medium.en-encoder.int8.onnx\", decoder=\"./sherpa-onnx-whisper-medium.en/medium.en-decoder.int8.onnx\"), tokens=\"./sherpa-onnx-whisper-medium.en/medium.en-tokens.txt\", num_threads=1, debug=False, provider=\"cuda\", model_type=\"\"), lm_config=OfflineLMConfig(model=\"\", scale=0.5), decoding_method=\"greedy_search\", max_active_paths=4, context_score=1.5)\n",
            "Creating recognizer ...\n",
            "Started\n",
            "/content/sherpa-onnx/sherpa-onnx/csrc/offline-stream.cc:AcceptWaveformImpl:113 Creating a resampler:\n",
            "   in_sample_rate: 8000\n",
            "   output_sample_rate: 16000\n",
            "\n",
            "Done!\n",
            "\n",
            "./sherpa-onnx-whisper-medium.en/test_wavs/0.wav\n",
            "{\"text\":\" After early nightfall the yellow lamps would light up here and there the squalid quarter of the brothels.\",\"timestamps\":\"[]\",\"tokens\":[\" After\",\" early\",\" night\",\"fall\",\" the\",\" yellow\",\" lamps\",\" would\",\" light\",\" up\",\" here\",\" and\",\" there\",\" the\",\" squ\",\"alid\",\" quarter\",\" of\",\" the\",\" bro\",\"the\",\"ls\",\".\"]}\n",
            "----\n",
            "./sherpa-onnx-whisper-medium.en/test_wavs/1.wav\n",
            "{\"text\":\" God, as a direct consequence of the sin which man thus punished, had given her a lovely child, whose place was on that same dishonoured bosom to connect her parent for ever with the race and descent of mortals, and to be finally a blessed soul in heaven.\",\"timestamps\":\"[]\",\"tokens\":[\" God\",\",\",\" as\",\" a\",\" direct\",\" consequence\",\" of\",\" the\",\" sin\",\" which\",\" man\",\" thus\",\" punished\",\",\",\" had\",\" given\",\" her\",\" a\",\" lovely\",\" child\",\",\",\" whose\",\" place\",\" was\",\" on\",\" that\",\" same\",\" dishon\",\"oured\",\" bos\",\"om\",\" to\",\" connect\",\" her\",\" parent\",\" for\",\" ever\",\" with\",\" the\",\" race\",\" and\",\" descent\",\" of\",\" mortals\",\",\",\" and\",\" to\",\" be\",\" finally\",\" a\",\" blessed\",\" soul\",\" in\",\" heaven\",\".\"]}\n",
            "----\n",
            "./sherpa-onnx-whisper-medium.en/test_wavs/8k.wav\n",
            "{\"text\":\" Yet these thoughts affected Hester Prynne less with hope than apprehension.\",\"timestamps\":\"[]\",\"tokens\":[\" Yet\",\" these\",\" thoughts\",\" affected\",\" H\",\"ester\",\" P\",\"ryn\",\"ne\",\" less\",\" with\",\" hope\",\" than\",\" apprehension\",\".\"]}\n",
            "----\n",
            "num threads: 1\n",
            "decoding method: greedy_search\n",
            "Elapsed seconds: 52.585 s\n",
            "Real time factor (RTF): 52.585 / 28.165 = 1.867\n"
          ]
        },
        {
          "output_type": "execute_result",
          "data": {
            "text/plain": []
          },
          "metadata": {},
          "execution_count": 28
        }
      ]
    },
    {
      "cell_type": "markdown",
      "source": [
        "Run with CUDA using 2 threads:"
      ],
      "metadata": {
        "id": "F5KxAAzEQ9vb"
      }
    },
    {
      "cell_type": "code",
      "source": [
        "%%shell\n",
        "\n",
        "./sherpa-onnx/build/install/bin/sherpa-onnx-offline \\\n",
        "  --whisper-encoder=./sherpa-onnx-whisper-medium.en/medium.en-encoder.int8.onnx \\\n",
        "  --whisper-decoder=./sherpa-onnx-whisper-medium.en/medium.en-decoder.int8.onnx \\\n",
        "  --tokens=./sherpa-onnx-whisper-medium.en/medium.en-tokens.txt \\\n",
        "  --num-threads=2 \\\n",
        "  --provider=cuda \\\n",
        "  ./sherpa-onnx-whisper-medium.en/test_wavs/0.wav \\\n",
        "  ./sherpa-onnx-whisper-medium.en/test_wavs/1.wav \\\n",
        "  ./sherpa-onnx-whisper-medium.en/test_wavs/8k.wav"
      ],
      "metadata": {
        "colab": {
          "base_uri": "https://localhost:8080/"
        },
        "id": "hZUTJB5NOxBo",
        "outputId": "574de2d1-02e6-46c6-964e-5e0254ff6cc3"
      },
      "execution_count": 29,
      "outputs": [
        {
          "output_type": "stream",
          "name": "stdout",
          "text": [
            "/content/sherpa-onnx/sherpa-onnx/csrc/parse-options.cc:Read:361 ./sherpa-onnx/build/install/bin/sherpa-onnx-offline --whisper-encoder=./sherpa-onnx-whisper-medium.en/medium.en-encoder.int8.onnx --whisper-decoder=./sherpa-onnx-whisper-medium.en/medium.en-decoder.int8.onnx --tokens=./sherpa-onnx-whisper-medium.en/medium.en-tokens.txt --num-threads=2 --provider=cuda ./sherpa-onnx-whisper-medium.en/test_wavs/0.wav ./sherpa-onnx-whisper-medium.en/test_wavs/1.wav ./sherpa-onnx-whisper-medium.en/test_wavs/8k.wav \n",
            "\n",
            "OfflineRecognizerConfig(feat_config=OfflineFeatureExtractorConfig(sampling_rate=16000, feature_dim=80), model_config=OfflineModelConfig(transducer=OfflineTransducerModelConfig(encoder_filename=\"\", decoder_filename=\"\", joiner_filename=\"\"), paraformer=OfflineParaformerModelConfig(model=\"\"), nemo_ctc=OfflineNemoEncDecCtcModelConfig(model=\"\"), whisper=OfflineWhisperModelConfig(encoder=\"./sherpa-onnx-whisper-medium.en/medium.en-encoder.int8.onnx\", decoder=\"./sherpa-onnx-whisper-medium.en/medium.en-decoder.int8.onnx\"), tokens=\"./sherpa-onnx-whisper-medium.en/medium.en-tokens.txt\", num_threads=2, debug=False, provider=\"cuda\", model_type=\"\"), lm_config=OfflineLMConfig(model=\"\", scale=0.5), decoding_method=\"greedy_search\", max_active_paths=4, context_score=1.5)\n",
            "Creating recognizer ...\n",
            "Started\n",
            "/content/sherpa-onnx/sherpa-onnx/csrc/offline-stream.cc:AcceptWaveformImpl:113 Creating a resampler:\n",
            "   in_sample_rate: 8000\n",
            "   output_sample_rate: 16000\n",
            "\n",
            "Done!\n",
            "\n",
            "./sherpa-onnx-whisper-medium.en/test_wavs/0.wav\n",
            "{\"text\":\" After early nightfall the yellow lamps would light up here and there the squalid quarter of the brothels.\",\"timestamps\":\"[]\",\"tokens\":[\" After\",\" early\",\" night\",\"fall\",\" the\",\" yellow\",\" lamps\",\" would\",\" light\",\" up\",\" here\",\" and\",\" there\",\" the\",\" squ\",\"alid\",\" quarter\",\" of\",\" the\",\" bro\",\"the\",\"ls\",\".\"]}\n",
            "----\n",
            "./sherpa-onnx-whisper-medium.en/test_wavs/1.wav\n",
            "{\"text\":\" God, as a direct consequence of the sin which man thus punished, had given her a lovely child, whose place was on that same dishonoured bosom to connect her parent for ever with the race and descent of mortals, and to be finally a blessed soul in heaven.\",\"timestamps\":\"[]\",\"tokens\":[\" God\",\",\",\" as\",\" a\",\" direct\",\" consequence\",\" of\",\" the\",\" sin\",\" which\",\" man\",\" thus\",\" punished\",\",\",\" had\",\" given\",\" her\",\" a\",\" lovely\",\" child\",\",\",\" whose\",\" place\",\" was\",\" on\",\" that\",\" same\",\" dishon\",\"oured\",\" bos\",\"om\",\" to\",\" connect\",\" her\",\" parent\",\" for\",\" ever\",\" with\",\" the\",\" race\",\" and\",\" descent\",\" of\",\" mortals\",\",\",\" and\",\" to\",\" be\",\" finally\",\" a\",\" blessed\",\" soul\",\" in\",\" heaven\",\".\"]}\n",
            "----\n",
            "./sherpa-onnx-whisper-medium.en/test_wavs/8k.wav\n",
            "{\"text\":\" Yet these thoughts affected Hester Prynne less with hope than apprehension.\",\"timestamps\":\"[]\",\"tokens\":[\" Yet\",\" these\",\" thoughts\",\" affected\",\" H\",\"ester\",\" P\",\"ryn\",\"ne\",\" less\",\" with\",\" hope\",\" than\",\" apprehension\",\".\"]}\n",
            "----\n",
            "num threads: 2\n",
            "decoding method: greedy_search\n",
            "Elapsed seconds: 50.383 s\n",
            "Real time factor (RTF): 50.383 / 28.165 = 1.789\n"
          ]
        },
        {
          "output_type": "execute_result",
          "data": {
            "text/plain": []
          },
          "metadata": {},
          "execution_count": 29
        }
      ]
    },
    {
      "cell_type": "code",
      "source": [],
      "metadata": {
        "id": "PBzitFCIRBFo"
      },
      "execution_count": 29,
      "outputs": []
    }
  ]
}