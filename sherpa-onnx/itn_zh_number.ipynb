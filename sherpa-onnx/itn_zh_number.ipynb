{
  "nbformat": 4,
  "nbformat_minor": 0,
  "metadata": {
    "colab": {
      "provenance": [],
      "authorship_tag": "ABX9TyPay+Dw//9NaArmI1J9nWnU",
      "include_colab_link": true
    },
    "kernelspec": {
      "name": "python3",
      "display_name": "Python 3"
    },
    "language_info": {
      "name": "python"
    }
  },
  "cells": [
    {
      "cell_type": "markdown",
      "metadata": {
        "id": "view-in-github",
        "colab_type": "text"
      },
      "source": [
        "<a href=\"https://colab.research.google.com/github/k2-fsa/colab/blob/master/sherpa-onnx/itn_zh_number.ipynb\" target=\"_parent\"><img src=\"https://colab.research.google.com/assets/colab-badge.svg\" alt=\"Open In Colab\"/></a>"
      ]
    },
    {
      "cell_type": "markdown",
      "source": [
        "# Introduction\n",
        "\n",
        "本 colab notebook 演示如何生成 rule fst, 把中文数字转成阿拉伯数字。\n",
        "你可以用生成的 fst，结合 [kaldifst](https://github.com/k2-fsa/kaldifst) 进行部署。 提供 C++ 和 Python 等 API.\n",
        "\n",
        "如何在语音识别中使用生成的 fst, 请参考 [sherpa-onnx](https://github.com/k2-fsa/sherpa-onnx)\n",
        "\n"
      ],
      "metadata": {
        "id": "XT-JUupZTrBP"
      }
    },
    {
      "cell_type": "markdown",
      "source": [
        "# Install pynini"
      ],
      "metadata": {
        "id": "jgG5gdlr6LyR"
      }
    },
    {
      "cell_type": "code",
      "execution_count": 1,
      "metadata": {
        "colab": {
          "base_uri": "https://localhost:8080/"
        },
        "id": "n8dwX1GL51KA",
        "outputId": "9322376e-07d6-448b-f48a-511c89216f5f"
      },
      "outputs": [
        {
          "output_type": "stream",
          "name": "stdout",
          "text": [
            "Collecting pynini\n",
            "  Downloading pynini-2.1.6-cp310-cp310-manylinux_2_28_x86_64.whl (154.5 MB)\n",
            "\u001b[2K     \u001b[90m━━━━━━━━━━━━━━━━━━━━━━━━━━━━━━━━━━━━━━━━\u001b[0m \u001b[32m154.5/154.5 MB\u001b[0m \u001b[31m5.3 MB/s\u001b[0m eta \u001b[36m0:00:00\u001b[0m\n",
            "\u001b[?25hInstalling collected packages: pynini\n",
            "Successfully installed pynini-2.1.6\n"
          ]
        },
        {
          "output_type": "execute_result",
          "data": {
            "text/plain": []
          },
          "metadata": {},
          "execution_count": 1
        }
      ],
      "source": [
        "%%shell\n",
        "\n",
        "pip install --only-binary :all: pynini"
      ]
    },
    {
      "cell_type": "markdown",
      "source": [
        "# Generate rule fst"
      ],
      "metadata": {
        "id": "nIFcNwoORJwX"
      }
    },
    {
      "cell_type": "code",
      "source": [
        "import pynini\n",
        "from pynini.lib import utf8\n",
        "from pynini.lib.pynutil import add_weight, delete, insert\n",
        "\n",
        "\n",
        "sigma = utf8.VALID_UTF8_CHAR.star\n",
        "\n",
        "\n",
        "zero_map = [\n",
        "    (\"零\", \"0\")\n",
        "]\n",
        "one_to_nine_map = [\n",
        "    (\"一\", \"1\"),\n",
        "    (\"二\", \"2\"),\n",
        "    (\"三\", \"3\"),\n",
        "    (\"四\", \"4\"),\n",
        "    (\"五\", \"5\"),\n",
        "    (\"六\", \"6\"),\n",
        "    (\"七\", \"7\"),\n",
        "    (\"八\", \"8\"),\n",
        "    (\"九\", \"9\"),\n",
        "]\n",
        "\n",
        "digit_map = zero_map + one_to_nine_map\n",
        "\n",
        "zero = pynini.string_map(zero_map)\n",
        "one_to_nine = pynini.string_map(one_to_nine_map).optimize()\n",
        "\n",
        "# 个\n",
        "digit = pynini.string_map(digit_map).optimize()\n",
        "\n",
        "# 十\n",
        "ten1 = pynini.cross('十', '1') + (digit | insert('0'))\n",
        "ten2 = digit + delete('十') + (digit | insert('0'))\n",
        "ten = ten1 | ten2\n",
        "\n",
        "# 百\n",
        "# 一百\n",
        "# 一百零一, add a positive weight -> low priority\n",
        "hundred = one_to_nine + delete('百') + (add_weight(insert('0')**2, 1) | (zero + one_to_nine) | ten)\n",
        "\n",
        "# 千\n",
        "thousand = one_to_nine + delete('千') +  \\\n",
        "         (add_weight(insert('0')**3, 10) | \\\n",
        "          (insert('0') + zero + one_to_nine) | \\\n",
        "          (zero + ten) |\n",
        "          hundred\n",
        "          )\n",
        "\n",
        "# 万\n",
        "wan = (one_to_nine | ten | hundred | thousand) + delete('万') + \\\n",
        "       (add_weight(insert('0')**4, 10) |\n",
        "        (insert('0')**2 + zero + one_to_nine) |\n",
        "        (insert('0') + zero + ten) |\n",
        "        add_weight(zero + hundred, -2) |\n",
        "        thousand\n",
        "        )\n",
        "\n",
        "\n",
        "\n",
        "number = add_weight(digit, 100) | add_weight(ten, 90) | add_weight(hundred, 80)  | add_weight(thousand, -1) | add_weight(wan, -100)\n",
        "number = number.optimize()\n",
        "\n",
        "rule = pynini.cdrewrite(number, \"\", \"\", sigma)\n",
        "\n",
        "for d in ['零', '一', '十五', '十八岁', '十', '十九', '一十九', '九十九', '八十八', '六十', '一十',\n",
        "          '九十', '一百', '一百零一', '一百一十', '一百一十一', '九百九十九', '九百', '九百零九',\n",
        "          '一千', '一千零一', '一千零一十一', '九千零九', '九千零九十九',\n",
        "          '九千九百', '九千九百零九', '九千九百九十九',\n",
        "          '一万', '一万零一', '一万零九十九', '一万零九百九十九', '一万九千九百九十九',\n",
        "          '十一万', '十万', '十万零一', '十万零十一', '一十万零十一', '一十万零一百', '十万一千',\n",
        "          '一万一千', '九十九万一千', '九十九万一千零一', '九十九万一千零一十一',\n",
        "          '一百万', '一百万零一', '一百万零一十', '一百万零一十一', '一百万零一百', '一百万零一百零一',\n",
        "          '一百万零一百一十一','一百万一千', '一百万一千零一', '一百万一千零十一', '一百万一千一百',\n",
        "          '一千万', '一千万零一', '一千万零一十一'\n",
        "          ]:\n",
        "  r = pynini.compose(d, rule)\n",
        "  s = pynini.shortestpath(r, nshortest=1).paths()\n",
        "  print(d, list(s.ostrings())[:3])\n",
        "\n",
        "rule.write('itn_zh_number.fst')\n",
        "\n",
        "! ls -lh itn_zh_number.fst"
      ],
      "metadata": {
        "colab": {
          "base_uri": "https://localhost:8080/"
        },
        "id": "nzU67yGP6I4g",
        "outputId": "2204fa64-0533-43c2-e7d8-9f5cec668815"
      },
      "execution_count": 2,
      "outputs": [
        {
          "output_type": "stream",
          "name": "stdout",
          "text": [
            "零 ['0']\n",
            "一 ['1']\n",
            "十五 ['15']\n",
            "十八岁 ['18岁']\n",
            "十 ['10']\n",
            "十九 ['19']\n",
            "一十九 ['19']\n",
            "九十九 ['99']\n",
            "八十八 ['88']\n",
            "六十 ['60']\n",
            "一十 ['10']\n",
            "九十 ['90']\n",
            "一百 ['100']\n",
            "一百零一 ['101']\n",
            "一百一十 ['110']\n",
            "一百一十一 ['111']\n",
            "九百九十九 ['999']\n",
            "九百 ['900']\n",
            "九百零九 ['909']\n",
            "一千 ['1000']\n",
            "一千零一 ['1001']\n",
            "一千零一十一 ['1011']\n",
            "九千零九 ['9009']\n",
            "九千零九十九 ['9099']\n",
            "九千九百 ['9900']\n",
            "九千九百零九 ['9909']\n",
            "九千九百九十九 ['9999']\n",
            "一万 ['10000']\n",
            "一万零一 ['10001']\n",
            "一万零九十九 ['10099']\n",
            "一万零九百九十九 ['10999']\n",
            "一万九千九百九十九 ['19999']\n",
            "十一万 ['110000']\n",
            "十万 ['100000']\n",
            "十万零一 ['100001']\n",
            "十万零十一 ['100011']\n",
            "一十万零十一 ['100011']\n",
            "一十万零一百 ['100100']\n",
            "十万一千 ['101000']\n",
            "一万一千 ['11000']\n",
            "九十九万一千 ['991000']\n",
            "九十九万一千零一 ['991001']\n",
            "九十九万一千零一十一 ['991011']\n",
            "一百万 ['1000000']\n",
            "一百万零一 ['1000001']\n",
            "一百万零一十 ['1000010']\n",
            "一百万零一十一 ['1000011']\n",
            "一百万零一百 ['1000100']\n",
            "一百万零一百零一 ['1000101']\n",
            "一百万零一百一十一 ['1000111']\n",
            "一百万一千 ['1001000']\n",
            "一百万一千零一 ['1001001']\n",
            "一百万一千零十一 ['1001011']\n",
            "一百万一千一百 ['1001100']\n",
            "一千万 ['10000000']\n",
            "一千万零一 ['10000001']\n",
            "一千万零一十一 ['10000011']\n",
            "-rw-r--r-- 1 root root 26K Jun 17 03:46 itn_zh_number.fst\n"
          ]
        }
      ]
    },
    {
      "cell_type": "code",
      "source": [
        "\n",
        "from google.colab import files\n",
        "files.download('itn_zh_number.fst')"
      ],
      "metadata": {
        "colab": {
          "base_uri": "https://localhost:8080/",
          "height": 34
        },
        "id": "oeJniusUSPGA",
        "outputId": "2e346164-185d-4107-f165-e68cbafea438"
      },
      "execution_count": 3,
      "outputs": [
        {
          "output_type": "display_data",
          "data": {
            "text/plain": [
              "<IPython.core.display.Javascript object>"
            ],
            "application/javascript": [
              "\n",
              "    async function download(id, filename, size) {\n",
              "      if (!google.colab.kernel.accessAllowed) {\n",
              "        return;\n",
              "      }\n",
              "      const div = document.createElement('div');\n",
              "      const label = document.createElement('label');\n",
              "      label.textContent = `Downloading \"${filename}\": `;\n",
              "      div.appendChild(label);\n",
              "      const progress = document.createElement('progress');\n",
              "      progress.max = size;\n",
              "      div.appendChild(progress);\n",
              "      document.body.appendChild(div);\n",
              "\n",
              "      const buffers = [];\n",
              "      let downloaded = 0;\n",
              "\n",
              "      const channel = await google.colab.kernel.comms.open(id);\n",
              "      // Send a message to notify the kernel that we're ready.\n",
              "      channel.send({})\n",
              "\n",
              "      for await (const message of channel.messages) {\n",
              "        // Send a message to notify the kernel that we're ready.\n",
              "        channel.send({})\n",
              "        if (message.buffers) {\n",
              "          for (const buffer of message.buffers) {\n",
              "            buffers.push(buffer);\n",
              "            downloaded += buffer.byteLength;\n",
              "            progress.value = downloaded;\n",
              "          }\n",
              "        }\n",
              "      }\n",
              "      const blob = new Blob(buffers, {type: 'application/binary'});\n",
              "      const a = document.createElement('a');\n",
              "      a.href = window.URL.createObjectURL(blob);\n",
              "      a.download = filename;\n",
              "      div.appendChild(a);\n",
              "      a.click();\n",
              "      div.remove();\n",
              "    }\n",
              "  "
            ]
          },
          "metadata": {}
        },
        {
          "output_type": "display_data",
          "data": {
            "text/plain": [
              "<IPython.core.display.Javascript object>"
            ],
            "application/javascript": [
              "download(\"download_dc15e412-8491-488c-8893-f1fbcf0c4b47\", \"itn_zh_number.fst\", 25882)"
            ]
          },
          "metadata": {}
        }
      ]
    },
    {
      "cell_type": "markdown",
      "source": [
        "# Usage with kaldifst"
      ],
      "metadata": {
        "id": "67xmlhuXRNHe"
      }
    },
    {
      "cell_type": "code",
      "source": [
        "%%shell\n",
        "\n",
        "pip install kaldifst"
      ],
      "metadata": {
        "colab": {
          "base_uri": "https://localhost:8080/"
        },
        "id": "9hAgoutJ7wun",
        "outputId": "153c5f5f-ba8c-4e96-b4cc-e7cfab75f08c"
      },
      "execution_count": 4,
      "outputs": [
        {
          "output_type": "stream",
          "name": "stdout",
          "text": [
            "Collecting kaldifst\n",
            "  Downloading kaldifst-1.7.11-cp310-cp310-manylinux_2_17_x86_64.manylinux2014_x86_64.whl (5.4 MB)\n",
            "\u001b[2K     \u001b[90m━━━━━━━━━━━━━━━━━━━━━━━━━━━━━━━━━━━━━━━━\u001b[0m \u001b[32m5.4/5.4 MB\u001b[0m \u001b[31m13.9 MB/s\u001b[0m eta \u001b[36m0:00:00\u001b[0m\n",
            "\u001b[?25hInstalling collected packages: kaldifst\n",
            "Successfully installed kaldifst-1.7.11\n"
          ]
        },
        {
          "output_type": "execute_result",
          "data": {
            "text/plain": []
          },
          "metadata": {},
          "execution_count": 4
        }
      ]
    },
    {
      "cell_type": "code",
      "source": [
        "import kaldifst\n",
        "\n",
        "InverseTextNormalizer = kaldifst.TextNormalizer\n",
        "\n",
        "rule = \"./itn_zh_number.fst\"\n",
        "normalizer = InverseTextNormalizer(rule)\n",
        "text = \"一百二十三是多少\"\n",
        "out = normalizer(text)\n",
        "print(out)"
      ],
      "metadata": {
        "colab": {
          "base_uri": "https://localhost:8080/"
        },
        "id": "1veqsE15RQ4T",
        "outputId": "07dd8161-b5a1-4e93-b381-71a4e391b159"
      },
      "execution_count": 1,
      "outputs": [
        {
          "output_type": "stream",
          "name": "stdout",
          "text": [
            "123是多少\n"
          ]
        }
      ]
    },
    {
      "cell_type": "code",
      "source": [],
      "metadata": {
        "id": "5I_i70FJSJVg"
      },
      "execution_count": null,
      "outputs": []
    }
  ]
}
