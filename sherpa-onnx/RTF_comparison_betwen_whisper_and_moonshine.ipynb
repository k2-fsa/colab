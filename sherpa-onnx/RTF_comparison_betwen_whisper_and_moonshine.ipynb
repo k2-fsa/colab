{
  "nbformat": 4,
  "nbformat_minor": 0,
  "metadata": {
    "colab": {
      "provenance": [],
      "authorship_tag": "ABX9TyPaiwAXGd/71FlXIxaN9c5W",
      "include_colab_link": true
    },
    "kernelspec": {
      "name": "python3",
      "display_name": "Python 3"
    },
    "language_info": {
      "name": "python"
    }
  },
  "cells": [
    {
      "cell_type": "markdown",
      "metadata": {
        "id": "view-in-github",
        "colab_type": "text"
      },
      "source": [
        "<a href=\"https://colab.research.google.com/github/k2-fsa/colab/blob/master/sherpa-onnx/RTF_comparison_betwen_whisper_and_moonshine.ipynb\" target=\"_parent\"><img src=\"https://colab.research.google.com/assets/colab-badge.svg\" alt=\"Open In Colab\"/></a>"
      ]
    },
    {
      "cell_type": "markdown",
      "source": [
        "# Introduction\n",
        "\n",
        "This colab notebooks compares the RTF of Whisper tiny.en and Moonshine tiny\n",
        "by using them to generate subtitles with silero-vad.\n",
        "\n",
        "We use [sherpa-onnx](https://github.com/k2-fsa/sherpa-onnx) as the runtime. The underlying implementation is based on\n",
        "C++."
      ],
      "metadata": {
        "id": "UuuN31cEqzjE"
      }
    },
    {
      "cell_type": "markdown",
      "source": [
        "||Moonshine tiny|Whisper tiny.en|\n",
        "|---|---|---|\n",
        "|RTF|0.058|0.191|"
      ],
      "metadata": {
        "id": "rnVYOo0Z-MjM"
      }
    },
    {
      "cell_type": "markdown",
      "source": [
        "# Install sherpa-onnx"
      ],
      "metadata": {
        "id": "DXUj4qnqrDxT"
      }
    },
    {
      "cell_type": "markdown",
      "source": [
        "Please see\n",
        "https://k2-fsa.github.io/sherpa/onnx/install/index.html\n",
        "and\n",
        "https://k2-fsa.github.io/sherpa/onnx/python/index.html\n"
      ],
      "metadata": {
        "id": "ImKfBL0PrJ9P"
      }
    },
    {
      "cell_type": "code",
      "execution_count": 1,
      "metadata": {
        "colab": {
          "base_uri": "https://localhost:8080/"
        },
        "id": "5P3Pi_Nqqvbz",
        "outputId": "d35aeda1-b7d6-44b9-f5d4-7635c5923ca3"
      },
      "outputs": [
        {
          "output_type": "stream",
          "name": "stdout",
          "text": [
            "Collecting sherpa-onnx\n",
            "  Downloading sherpa_onnx-1.10.30-cp310-cp310-manylinux_2_17_x86_64.manylinux2014_x86_64.whl.metadata (23 kB)\n",
            "Downloading sherpa_onnx-1.10.30-cp310-cp310-manylinux_2_17_x86_64.manylinux2014_x86_64.whl (21.3 MB)\n",
            "\u001b[2K   \u001b[90m━━━━━━━━━━━━━━━━━━━━━━━━━━━━━━━━━━━━━━━━\u001b[0m \u001b[32m21.3/21.3 MB\u001b[0m \u001b[31m51.8 MB/s\u001b[0m eta \u001b[36m0:00:00\u001b[0m\n",
            "\u001b[?25hInstalling collected packages: sherpa-onnx\n",
            "Successfully installed sherpa-onnx-1.10.30\n"
          ]
        },
        {
          "output_type": "execute_result",
          "data": {
            "text/plain": []
          },
          "metadata": {},
          "execution_count": 1
        }
      ],
      "source": [
        "%%shell\n",
        "\n",
        "pip install sherpa-onnx"
      ]
    },
    {
      "cell_type": "markdown",
      "source": [
        "# Download model files"
      ],
      "metadata": {
        "id": "HUq7zH_7rWIl"
      }
    },
    {
      "cell_type": "code",
      "source": [
        "%%shell\n",
        "\n",
        "wget -q https://github.com/k2-fsa/sherpa-onnx/releases/download/asr-models/silero_vad.onnx\n",
        "wget -q https://github.com/k2-fsa/sherpa-onnx/releases/download/asr-models/sherpa-onnx-whisper-tiny.en.tar.bz2\n",
        "wget -q https://github.com/k2-fsa/sherpa-onnx/releases/download/asr-models/sherpa-onnx-moonshine-tiny-en-int8.tar.bz2\n",
        "\n",
        "wget -q https://github.com/k2-fsa/sherpa-onnx/releases/download/asr-models/Obama.wav\n",
        "\n",
        "tar xf sherpa-onnx-whisper-tiny.en.tar.bz2\n",
        "tar xf sherpa-onnx-moonshine-tiny-en-int8.tar.bz2\n",
        "\n",
        "ls -lh sherpa-onnx-whisper-tiny.en\n",
        "echo \"---\"\n",
        "ls -lh sherpa-onnx-moonshine-tiny-en-int8"
      ],
      "metadata": {
        "colab": {
          "base_uri": "https://localhost:8080/"
        },
        "id": "i1zFPZ_irUG2",
        "outputId": "416aa88c-b524-4666-8e72-88fd248c328a"
      },
      "execution_count": 2,
      "outputs": [
        {
          "output_type": "stream",
          "name": "stdout",
          "text": [
            "total 244M\n",
            "drwxr-xr-x 2 501 staff 4.0K Jul 13 13:31 test_wavs\n",
            "-rw-r--r-- 1 501 staff  86M Jul 13 13:31 tiny.en-decoder.int8.onnx\n",
            "-rw-r--r-- 1 501 staff 110M Jul 13 13:31 tiny.en-decoder.onnx\n",
            "-rw-r--r-- 1 501 staff  13M Jul 13 13:31 tiny.en-encoder.int8.onnx\n",
            "-rw-r--r-- 1 501 staff  36M Jul 13 13:31 tiny.en-encoder.onnx\n",
            "-rw-r--r-- 1 501 staff 816K Jul 13 13:31 tiny.en-tokens.txt\n",
            "---\n",
            "total 119M\n",
            "-rw-r--r-- 1 501 staff  44M Oct 26 01:42 cached_decode.int8.onnx\n",
            "-rw-r--r-- 1 501 staff  18M Oct 26 01:42 encode.int8.onnx\n",
            "-rw-r--r-- 1 501 staff 1.1K Oct 26 01:42 LICENSE\n",
            "-rw-r--r-- 1 501 staff 6.5M Oct 26 01:42 preprocess.onnx\n",
            "-rw-r--r-- 1 501 staff  175 Oct 26 01:42 README.md\n",
            "drwxr-xr-x 2 501 staff 4.0K Oct 26 01:42 test_wavs\n",
            "-rw-r--r-- 1 501 staff 427K Oct 26 01:42 tokens.txt\n",
            "-rw-r--r-- 1 501 staff  51M Oct 26 01:42 uncached_decode.int8.onnx\n"
          ]
        },
        {
          "output_type": "execute_result",
          "data": {
            "text/plain": []
          },
          "metadata": {},
          "execution_count": 2
        }
      ]
    },
    {
      "cell_type": "code",
      "source": [
        "# We will use fmpeg to decode Obama.wav\n",
        "! sudo apt-get install -q ffmpeg"
      ],
      "metadata": {
        "colab": {
          "base_uri": "https://localhost:8080/"
        },
        "id": "ffOASouBrr9t",
        "outputId": "4c3461b9-a5a1-4458-c8fd-ae71e2f9d65d"
      },
      "execution_count": 3,
      "outputs": [
        {
          "output_type": "stream",
          "name": "stdout",
          "text": [
            "Reading package lists...\n",
            "Building dependency tree...\n",
            "Reading state information...\n",
            "ffmpeg is already the newest version (7:4.4.2-0ubuntu0.22.04.1).\n",
            "0 upgraded, 0 newly installed, 0 to remove and 49 not upgraded.\n"
          ]
        }
      ]
    },
    {
      "cell_type": "markdown",
      "source": [
        "# Run it!"
      ],
      "metadata": {
        "id": "DgcbnLwrr12G"
      }
    },
    {
      "cell_type": "code",
      "source": [
        "! git clone https://github.com/k2-fsa/sherpa-onnx"
      ],
      "metadata": {
        "colab": {
          "base_uri": "https://localhost:8080/"
        },
        "id": "_QMd0HQor03i",
        "outputId": "035e7b80-80ba-4c2a-f33d-85c6390db703"
      },
      "execution_count": 4,
      "outputs": [
        {
          "output_type": "stream",
          "name": "stdout",
          "text": [
            "Cloning into 'sherpa-onnx'...\n",
            "remote: Enumerating objects: 16828, done.\u001b[K\n",
            "remote: Counting objects: 100% (5835/5835), done.\u001b[K\n",
            "remote: Compressing objects: 100% (1470/1470), done.\u001b[K\n",
            "remote: Total 16828 (delta 4746), reused 4854 (delta 4293), pack-reused 10993 (from 1)\u001b[K\n",
            "Receiving objects: 100% (16828/16828), 7.20 MiB | 12.85 MiB/s, done.\n",
            "Resolving deltas: 100% (11458/11458), done.\n"
          ]
        }
      ]
    },
    {
      "cell_type": "markdown",
      "source": [
        "## Moonshine tiny"
      ],
      "metadata": {
        "id": "V1PgCCN4sBYv"
      }
    },
    {
      "cell_type": "code",
      "source": [
        "%%shell\n",
        "\n",
        "python3 sherpa-onnx/python-api-examples/generate-subtitles.py  \\\n",
        "  --silero-vad-model=./silero_vad.onnx \\\n",
        "  --moonshine-preprocessor=./sherpa-onnx-moonshine-tiny-en-int8/preprocess.onnx \\\n",
        "  --moonshine-encoder=./sherpa-onnx-moonshine-tiny-en-int8/encode.int8.onnx \\\n",
        "  --moonshine-uncached-decoder=./sherpa-onnx-moonshine-tiny-en-int8/uncached_decode.int8.onnx \\\n",
        "  --moonshine-cached-decoder=./sherpa-onnx-moonshine-tiny-en-int8/cached_decode.int8.onnx \\\n",
        "  --tokens=./sherpa-onnx-moonshine-tiny-en-int8/tokens.txt \\\n",
        "  --num-threads=1 \\\n",
        "  ./Obama.wav"
      ],
      "metadata": {
        "colab": {
          "base_uri": "https://localhost:8080/"
        },
        "id": "CMMvcqlJr8Et",
        "outputId": "ff53e8fc-9582-4ee5-fb85-343bc9969ba8"
      },
      "execution_count": 5,
      "outputs": [
        {
          "output_type": "stream",
          "name": "stdout",
          "text": [
            "Started!\n",
            "Saved to Obama.srt\n",
            "Audio duration:\t335.235 s\n",
            "Elapsed:\t19.581 s\n",
            "RTF = 19.581/335.235 = 0.058\n",
            "Done!\n"
          ]
        },
        {
          "output_type": "execute_result",
          "data": {
            "text/plain": []
          },
          "metadata": {},
          "execution_count": 5
        }
      ]
    },
    {
      "cell_type": "code",
      "source": [
        "%%shell\n",
        "\n",
        "cat Obama.srt"
      ],
      "metadata": {
        "colab": {
          "base_uri": "https://localhost:8080/"
        },
        "id": "X_vWUj5f9v0c",
        "outputId": "439c2f41-36c7-4ae8-e556-4d85deb60c77"
      },
      "execution_count": 6,
      "outputs": [
        {
          "output_type": "stream",
          "name": "stdout",
          "text": [
            "1\n",
            "0:00:09,286 --> 0:00:12,486\n",
            " everybody on everybody go ahead and have a seat\n",
            "\n",
            "2\n",
            "0:00:13,094 --> 0:00:15,014\n",
            " How's everybody doing today?\n",
            "\n",
            "3\n",
            "0:00:18,694 --> 0:00:20,742\n",
            " How about Tim Spicer?\n",
            "\n",
            "4\n",
            "0:00:25,894 --> 0:00:31,452\n",
            " I am here with students at Wade Field High School in Arlington, Virginia.\n",
            "\n",
            "5\n",
            "0:00:32,710 --> 0:00:39,580\n",
            " And we've got students tuning in from all across America, from kindergarten through 12th grade.\n",
            "\n",
            "6\n",
            "0:00:40,166 --> 0:00:48,060\n",
            " And I am just so glad that all could join us today. And I want to thank Wakefield for being such an outstanding host. Give yourselves a big honor to us.\n",
            "\n",
            "7\n",
            "0:00:54,406 --> 0:00:59,324\n",
            " Now I know that for many of you today is the first day of school.\n",
            "\n",
            "8\n",
            "0:00:59,590 --> 0:01:05,916\n",
            " And for those of you in kindergarten or starting middle or high school, it's your first day in a new school.\n",
            "\n",
            "9\n",
            "0:01:06,310 --> 0:01:09,798\n",
            " So it's understandable if you're a little nervous.\n",
            "\n",
            "10\n",
            "0:01:10,630 --> 0:01:15,676\n",
            " I imagine there's some seniors out there who are feeling pretty good right now.\n",
            "\n",
            "11\n",
            "0:01:18,790 --> 0:01:26,524\n",
            " And no matter what grade you're in, some of you are probably wishing it were still summer, and you could have stayed in bed just a little bit longer this morning.\n",
            "\n",
            "12\n",
            "0:01:26,598 --> 0:01:27,142\n",
            "\n",
            "\n",
            "13\n",
            "0:01:27,942 --> 0:01:29,414\n",
            " I know that feeling.\n",
            "\n",
            "14\n",
            "0:01:31,654 --> 0:01:37,052\n",
            " When I was young, my family lived overseas. I lived in Indonesia for a few years.\n",
            "\n",
            "15\n",
            "0:01:37,126 --> 0:01:42,492\n",
            " And my mother, she didn't have the money to send me where all the American kids went to school.\n",
            "\n",
            "16\n",
            "0:01:42,822 --> 0:01:49,916\n",
            " But she thought it was important for me to keep up with American education. So she decided to teach me what\n",
            "\n",
            "17\n",
            "0:01:49,990 --> 0:01:55,356\n",
            " Extra lessons herself Monday through Friday, but because she had to go to work.\n",
            "\n",
            "18\n",
            "0:01:55,494 --> 0:01:58,790\n",
            " The only time she could do it was at 4:30 in the morning.\n",
            "\n",
            "19\n",
            "0:02:00,038 --> 0:02:03,750\n",
            " Now, as you might imagine, I wasn't too happy about getting up that early.\n",
            "\n",
            "20\n",
            "0:02:04,102 --> 0:02:07,302\n",
            " A lot of times I'd fall asleep right there at the kitchen table.\n",
            "\n",
            "21\n",
            "0:02:08,262 --> 0:02:14,588\n",
            " But whenever I complained, my mother would just give me one of those looks and she'd say this is no picnic for me either, Buster.\n",
            "\n",
            "22\n",
            "0:02:17,094 --> 0:02:22,300\n",
            " So I know that some of you are still adjusting to being back at school, but I'm here today because.\n",
            "\n",
            "23\n",
            "0:02:22,566 --> 0:02:25,382\n",
            " I have something important to discuss with you.\n",
            "\n",
            "24\n",
            "0:02:25,798 --> 0:02:33,276\n",
            " I'm here because I want to talk with you about your education and what's expected of all of you in this new school year.\n",
            "\n",
            "25\n",
            "0:02:34,470 --> 0:02:39,900\n",
            " Now, I've given a lot of speeches about education, and I've talked about responsibility a lot.\n",
            "\n",
            "26\n",
            "0:02:40,806 --> 0:02:46,620\n",
            " I've talked about teachers responsibility for inspiring students and pushing you to learn.\n",
            "\n",
            "27\n",
            "0:02:47,430 --> 0:02:53,468\n",
            " I talked about your parents responsibility for making sure you stay on track and you get your homework done.\n",
            "\n",
            "28\n",
            "0:02:53,542 --> 0:02:58,588\n",
            " Don't spend every waking hour in front of the TV or with the Xbox.\n",
            "\n",
            "29\n",
            "0:02:59,078 --> 0:03:00,774\n",
            " I've talked a lot about.\n",
            "\n",
            "30\n",
            "0:03:01,350 --> 0:03:07,068\n",
            " Your government's responsibility for setting high standards and supporting teachers and principals.\n",
            "\n",
            "31\n",
            "0:03:07,142 --> 0:03:12,764\n",
            " And turning around schools that aren't working where students aren't getting the opportunities that they deserve.\n",
            "\n",
            "32\n",
            "0:03:13,990 --> 0:03:15,366\n",
            " But at the end of the day,\n",
            "\n",
            "33\n",
            "0:03:16,006 --> 0:03:21,500\n",
            " We can have the most dedicated teachers, the most supportive parents, the best schools in the world.\n",
            "\n",
            "34\n",
            "0:03:21,766 --> 0:03:26,054\n",
            " And none of it will make a difference. None of it will matter.\n",
            "\n",
            "35\n",
            "0:03:26,694 --> 0:03:30,694\n",
            " Unless all of you fulfill your responsibilities.\n",
            "\n",
            "36\n",
            "0:03:31,238 --> 0:03:39,452\n",
            " Unless you show up to those schools, unless you pay attention to those teachers, unless you listen to your parents and grandparents and other adults,\n",
            "\n",
            "37\n",
            "0:03:39,526 --> 0:03:43,814\n",
            " And put in the hard work it takes to succeed.\n",
            "\n",
            "38\n",
            "0:03:44,646 --> 0:03:46,598\n",
            " And that's what I want to focus on today\n",
            "\n",
            "39\n",
            "0:03:47,110 --> 0:03:50,918\n",
            " The responsibility each of you has for your education.\n",
            "\n",
            "40\n",
            "0:03:51,718 --> 0:03:54,854\n",
            " I want to start with the responsibility you have to yourself.\n",
            "\n",
            "41\n",
            "0:03:55,654 --> 0:03:59,078\n",
            " Every single one of you has something that you're good at.\n",
            "\n",
            "42\n",
            "0:03:59,782 --> 0:04:02,406\n",
            " Every single one of you has something to offer.\n",
            "\n",
            "43\n",
            "0:04:02,982 --> 0:04:07,590\n",
            " And you have a responsibility to yourself to discover what that is.\n",
            "\n",
            "44\n",
            "0:04:08,326 --> 0:04:11,494\n",
            " That's the opportunity an education can provide.\n",
            "\n",
            "45\n",
            "0:04:12,326 --> 0:04:20,028\n",
            " Maybe you could be a great writer. Maybe even good enough to write a book or articles in a newspaper, but you might not know it.\n",
            "\n",
            "46\n",
            "0:04:20,294 --> 0:04:22,598\n",
            " Until you write that English paper.\n",
            "\n",
            "47\n",
            "0:04:23,078 --> 0:04:25,894\n",
            " That English class paper that's assigned to you.\n",
            "\n",
            "48\n",
            "0:04:26,694 --> 0:04:33,660\n",
            " Maybe you could be an innovator or an inventor, maybe even good enough to come up with the next iPhone or the new medicine or vaccine.\n",
            "\n",
            "49\n",
            "0:04:33,926 --> 0:04:38,844\n",
            " But you might not know it until you do your project for your science class.\n",
            "\n",
            "50\n",
            "0:04:39,814 --> 0:04:44,860\n",
            " Maybe you could be a mayor or a senator or a Supreme Court justice.\n",
            "\n",
            "51\n",
            "0:04:45,350 --> 0:04:50,268\n",
            " But you might not know that until you join student government or the debating.\n",
            "\n",
            "52\n",
            "0:04:51,558 --> 0:04:56,604\n",
            " And no matter what you want to do with your life, I guarantee that you'll need an education to do it.\n",
            "\n",
            "53\n",
            "0:04:57,318 --> 0:05:00,710\n",
            " You want to be a doctor or a teacher or a police officer?\n",
            "\n",
            "54\n",
            "0:05:00,998 --> 0:05:09,212\n",
            " You want to be a nurse or an architect, a lawyer or a member of our military? You're going to need a good education for every single one of those careers.\n",
            "\n",
            "55\n",
            "0:05:10,054 --> 0:05:14,278\n",
            " You cannot drop out of school and just drop into a good job.\n",
            "\n",
            "56\n",
            "0:05:15,174 --> 0:05:19,846\n",
            " You got to train for it and work for it and learn for it.\n",
            "\n",
            "57\n",
            "0:05:20,518 --> 0:05:23,654\n",
            " And this isn't just important for your own life and your own future.\n",
            "\n",
            "58\n",
            "0:05:24,678 --> 0:05:29,692\n",
            " What you make of your education will decide nothing less than the future of this country.\n",
            "\n",
            "59\n",
            "0:05:29,958 --> 0:05:32,998\n",
            " The future of America depends on you.\n",
            "\n"
          ]
        },
        {
          "output_type": "execute_result",
          "data": {
            "text/plain": []
          },
          "metadata": {},
          "execution_count": 6
        }
      ]
    },
    {
      "cell_type": "markdown",
      "source": [
        "## whisper tiny.en"
      ],
      "metadata": {
        "id": "cOoFBtIL4FIi"
      }
    },
    {
      "cell_type": "code",
      "source": [
        "%%shell\n",
        "\n",
        "python3 sherpa-onnx/python-api-examples/generate-subtitles.py  \\\n",
        "  --silero-vad-model=./silero_vad.onnx \\\n",
        "  --whisper-encoder=./sherpa-onnx-whisper-tiny.en/tiny.en-encoder.int8.onnx \\\n",
        "  --whisper-decoder=./sherpa-onnx-whisper-tiny.en/tiny.en-decoder.int8.onnx \\\n",
        "  --tokens=./sherpa-onnx-whisper-tiny.en/tiny.en-tokens.txt \\\n",
        "  --num-threads=1 \\\n",
        "  ./Obama.wav"
      ],
      "metadata": {
        "colab": {
          "base_uri": "https://localhost:8080/"
        },
        "id": "Neb3dYyxsHA8",
        "outputId": "ab67e505-1201-4f0e-a607-4f493ab54874"
      },
      "execution_count": 7,
      "outputs": [
        {
          "output_type": "stream",
          "name": "stdout",
          "text": [
            "Started!\n",
            "Saved to Obama.srt\n",
            "Audio duration:\t335.235 s\n",
            "Elapsed:\t64.083 s\n",
            "RTF = 64.083/335.235 = 0.191\n",
            "Done!\n"
          ]
        },
        {
          "output_type": "execute_result",
          "data": {
            "text/plain": []
          },
          "metadata": {},
          "execution_count": 7
        }
      ]
    },
    {
      "cell_type": "code",
      "source": [
        "%%shell\n",
        "cat Obama.srt"
      ],
      "metadata": {
        "colab": {
          "base_uri": "https://localhost:8080/"
        },
        "id": "vUfYQHll9zid",
        "outputId": "9b3ccb17-60a4-49ad-ef87-1621898bfc59"
      },
      "execution_count": 8,
      "outputs": [
        {
          "output_type": "stream",
          "name": "stdout",
          "text": [
            "1\n",
            "0:00:09,286 --> 0:00:12,486\n",
            " everybody. All right, everybody go ahead and have a seat.\n",
            "\n",
            "2\n",
            "0:00:13,094 --> 0:00:15,014\n",
            " How's everybody doing today?\n",
            "\n",
            "3\n",
            "0:00:18,694 --> 0:00:20,742\n",
            " How about Tim Spicer?\n",
            "\n",
            "4\n",
            "0:00:25,894 --> 0:00:31,452\n",
            " I am here with students at Wakefield High School in Arlington, Virginia.\n",
            "\n",
            "5\n",
            "0:00:32,710 --> 0:00:39,580\n",
            " And we've got students tuning in from all across America, from kindergarten through 12th grade.\n",
            "\n",
            "6\n",
            "0:00:40,166 --> 0:00:48,060\n",
            " And I am just so glad that all could join us today. And I want to thank Wakefield for being such an outstanding host. Give yourselves a big round of applause.\n",
            "\n",
            "7\n",
            "0:00:54,406 --> 0:00:59,324\n",
            " And I know that for many of you, today is the first day of school.\n",
            "\n",
            "8\n",
            "0:00:59,590 --> 0:01:05,916\n",
            " And for those of you in kindergarten or starting middle or high school, it's your first day in a new school.\n",
            "\n",
            "9\n",
            "0:01:06,310 --> 0:01:09,798\n",
            " So it's understandable if you're a little nervous.\n",
            "\n",
            "10\n",
            "0:01:10,630 --> 0:01:15,676\n",
            " I imagine there's some seniors out there who are feeling pretty good right now. We'll just run more here to go.\n",
            "\n",
            "11\n",
            "0:01:18,790 --> 0:01:26,524\n",
            " And no matter what grade you're in, some of you are probably wishing it were still summer. And you could have stayed in bed just a little bit longer this morning.\n",
            "\n",
            "12\n",
            "0:01:26,598 --> 0:01:27,142\n",
            " (muffled speaking)\n",
            "\n",
            "13\n",
            "0:01:27,942 --> 0:01:29,414\n",
            " I know that field.\n",
            "\n",
            "14\n",
            "0:01:31,654 --> 0:01:37,052\n",
            " When I was young, my family lived overseas. I lived in Indonesia for a few years.\n",
            "\n",
            "15\n",
            "0:01:37,126 --> 0:01:42,492\n",
            " And my mother, she didn't have the money to send me where all the American kids went to school.\n",
            "\n",
            "16\n",
            "0:01:42,822 --> 0:01:49,916\n",
            " But she thought it was important for me to keep up with American education. So she decided to teach me-- [SIDE CONVERSATION] --so she decided to teach me-- [SIDE CONVERSATION]\n",
            "\n",
            "17\n",
            "0:01:49,990 --> 0:01:55,356\n",
            " extra lessons herself Monday through Friday, but because she had to go to work.\n",
            "\n",
            "18\n",
            "0:01:55,494 --> 0:01:58,790\n",
            " The only time she could do it was at 4 30 in the morning.\n",
            "\n",
            "19\n",
            "0:02:00,038 --> 0:02:03,750\n",
            " Now, as you might imagine, I wasn't too happy about getting up that early.\n",
            "\n",
            "20\n",
            "0:02:04,102 --> 0:02:07,302\n",
            " A lot of times I'd fall asleep right there at the kitchen table. A lot of times I'd fall asleep right there at the kitchen table.\n",
            "\n",
            "21\n",
            "0:02:08,262 --> 0:02:14,588\n",
            " But whenever I complain, my mother would just give me one of those looks and she'd say, \"This is no picnic for me, either, Buster.\"\n",
            "\n",
            "22\n",
            "0:02:17,094 --> 0:02:22,300\n",
            " So I know that some of you are still adjusting to being back at school. But I'm here today because-- [SIDE CONVERSATION]\n",
            "\n",
            "23\n",
            "0:02:22,566 --> 0:02:25,382\n",
            " I have something important to discuss with you.\n",
            "\n",
            "24\n",
            "0:02:25,798 --> 0:02:33,276\n",
            " I'm here because I want to talk with you about your education and what's expected of all of you in this new school year.\n",
            "\n",
            "25\n",
            "0:02:34,470 --> 0:02:39,900\n",
            " I've given a lot of speeches about education and I've talked about responsibility a lot.\n",
            "\n",
            "26\n",
            "0:02:40,806 --> 0:02:46,620\n",
            " I've talked about teacher's responsibility for inspiring students and pushing you to learn.\n",
            "\n",
            "27\n",
            "0:02:47,430 --> 0:02:53,468\n",
            " I talked about your parents' responsibility for making sure you stay on track and you get your homework done.\n",
            "\n",
            "28\n",
            "0:02:53,542 --> 0:02:58,588\n",
            " Don't spend every waking hour in front of the TV or with the Xbox.\n",
            "\n",
            "29\n",
            "0:02:59,078 --> 0:03:00,774\n",
            " I've talked a lot about...\n",
            "\n",
            "30\n",
            "0:03:01,350 --> 0:03:07,068\n",
            " your government's responsibility for setting high standards and supporting teachers and principals.\n",
            "\n",
            "31\n",
            "0:03:07,142 --> 0:03:12,764\n",
            " and turning around schools that aren't working, where students aren't getting the opportunities that they deserve.\n",
            "\n",
            "32\n",
            "0:03:13,990 --> 0:03:15,366\n",
            " but at the end of the day.\n",
            "\n",
            "33\n",
            "0:03:16,006 --> 0:03:21,500\n",
            " We can have the most dedicated teachers, the most supportive parents, the best schools in the world.\n",
            "\n",
            "34\n",
            "0:03:21,766 --> 0:03:26,054\n",
            " And none of it will make a difference. None of it will matter.\n",
            "\n",
            "35\n",
            "0:03:26,694 --> 0:03:30,694\n",
            " unless all of you fulfill your responsibilities.\n",
            "\n",
            "36\n",
            "0:03:31,238 --> 0:03:39,452\n",
            " Unless you show up to those schools, unless you pay attention to those teachers, unless you listen to your parents and grandparents and other adults.\n",
            "\n",
            "37\n",
            "0:03:39,526 --> 0:03:43,814\n",
            " and put in the hard work it takes to succeed.\n",
            "\n",
            "38\n",
            "0:03:44,646 --> 0:03:46,598\n",
            " That's what I want to focus on today. That's what I want to focus on today.\n",
            "\n",
            "39\n",
            "0:03:47,110 --> 0:03:50,918\n",
            " The responsibility each of you has for your education.\n",
            "\n",
            "40\n",
            "0:03:51,718 --> 0:03:54,854\n",
            " On a start with the responsibility you have to yourself.\n",
            "\n",
            "41\n",
            "0:03:55,654 --> 0:03:59,078\n",
            " Every single one of you has something that you're good at.\n",
            "\n",
            "42\n",
            "0:03:59,782 --> 0:04:02,406\n",
            " Every single one of you has something to offer.\n",
            "\n",
            "43\n",
            "0:04:02,982 --> 0:04:07,590\n",
            " and you have a responsibility to yourself to discover what that is.\n",
            "\n",
            "44\n",
            "0:04:08,326 --> 0:04:11,494\n",
            " That's the opportunity an education can provide.\n",
            "\n",
            "45\n",
            "0:04:12,326 --> 0:04:20,028\n",
            " Maybe you could be a great writer, maybe even good enough to write a book or articles in a newspaper, but you might not know it.\n",
            "\n",
            "46\n",
            "0:04:20,294 --> 0:04:22,598\n",
            " until you write that English paper.\n",
            "\n",
            "47\n",
            "0:04:23,078 --> 0:04:25,894\n",
            " that English class paper that's assigned to you.\n",
            "\n",
            "48\n",
            "0:04:26,694 --> 0:04:33,660\n",
            " Maybe you could be an innovator or an inventor, maybe even good enough to come up with the next iPhone or the new medicine or vaccine.\n",
            "\n",
            "49\n",
            "0:04:33,926 --> 0:04:38,844\n",
            " but you might not know it until you do your project for your science plans.\n",
            "\n",
            "50\n",
            "0:04:39,814 --> 0:04:44,860\n",
            " Maybe you could be a mayor or a senator or a Supreme Court justice.\n",
            "\n",
            "51\n",
            "0:04:45,350 --> 0:04:50,268\n",
            " but you might not know that until you join student government or the debate team.\n",
            "\n",
            "52\n",
            "0:04:51,558 --> 0:04:56,604\n",
            " And no matter what you want to do with your life, I guarantee that you'll need an education to do it.\n",
            "\n",
            "53\n",
            "0:04:57,318 --> 0:05:00,710\n",
            " You want to be a doctor or a teacher or a police officer?\n",
            "\n",
            "54\n",
            "0:05:00,998 --> 0:05:09,212\n",
            " You want to be a nurse or an architect, a lawyer or a member of our military. You're going to need a good education for every single one of those careers.\n",
            "\n",
            "55\n",
            "0:05:10,054 --> 0:05:14,278\n",
            " You cannot drop out of school and just drop into a good job.\n",
            "\n",
            "56\n",
            "0:05:15,174 --> 0:05:19,846\n",
            " You've got to train for it and work for it and learn for it.\n",
            "\n",
            "57\n",
            "0:05:20,518 --> 0:05:23,654\n",
            " And this isn't just important for your own life and your own future.\n",
            "\n",
            "58\n",
            "0:05:24,678 --> 0:05:29,692\n",
            " When you make of your education will decide nothing less than the future of this country.\n",
            "\n",
            "59\n",
            "0:05:29,958 --> 0:05:32,998\n",
            " The future of America depends on you.\n",
            "\n"
          ]
        },
        {
          "output_type": "execute_result",
          "data": {
            "text/plain": []
          },
          "metadata": {},
          "execution_count": 8
        }
      ]
    },
    {
      "cell_type": "code",
      "source": [],
      "metadata": {
        "id": "YDZ00yly-YP7"
      },
      "execution_count": 8,
      "outputs": []
    }
  ]
}
