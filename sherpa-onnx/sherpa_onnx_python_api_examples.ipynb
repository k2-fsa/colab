{
  "nbformat": 4,
  "nbformat_minor": 0,
  "metadata": {
    "colab": {
      "provenance": [],
      "authorship_tag": "ABX9TyNjFZyC0JpKSWPquhIgPgV0",
      "include_colab_link": true
    },
    "kernelspec": {
      "name": "python3",
      "display_name": "Python 3"
    },
    "language_info": {
      "name": "python"
    }
  },
  "cells": [
    {
      "cell_type": "markdown",
      "metadata": {
        "id": "view-in-github",
        "colab_type": "text"
      },
      "source": [
        "<a href=\"https://colab.research.google.com/github/k2-fsa/colab/blob/master/sherpa-onnx/sherpa_onnx_python_api_examples.ipynb\" target=\"_parent\"><img src=\"https://colab.research.google.com/assets/colab-badge.svg\" alt=\"Open In Colab\"/></a>"
      ]
    },
    {
      "cell_type": "markdown",
      "source": [
        "# Introduction"
      ],
      "metadata": {
        "id": "TaA81HYQze9W"
      }
    },
    {
      "cell_type": "markdown",
      "source": [
        "This colab notebooks shows how to use Python APIs of [sherpa-onnx](https://github.com/k2-fsa/sherpa-onnx) for speech recongition."
      ],
      "metadata": {
        "id": "yiMo3HzrzhnK"
      }
    },
    {
      "cell_type": "markdown",
      "source": [
        "# Install sherpa-onnx"
      ],
      "metadata": {
        "id": "3p3eKzMoztNW"
      }
    },
    {
      "cell_type": "code",
      "source": [
        "! pip install sherpa-onnx"
      ],
      "metadata": {
        "colab": {
          "base_uri": "https://localhost:8080/"
        },
        "id": "YDvaN6qJzu2a",
        "outputId": "ce11c75a-ef12-40d0-b862-69172d5d4389"
      },
      "execution_count": 1,
      "outputs": [
        {
          "output_type": "stream",
          "name": "stdout",
          "text": [
            "Collecting sherpa-onnx\n",
            "  Downloading sherpa_onnx-1.7.11-cp310-cp310-manylinux_2_17_x86_64.manylinux2014_x86_64.whl (13.8 MB)\n",
            "\u001b[2K     \u001b[90m━━━━━━━━━━━━━━━━━━━━━━━━━━━━━━━━━━━━━━━━\u001b[0m \u001b[32m13.8/13.8 MB\u001b[0m \u001b[31m38.7 MB/s\u001b[0m eta \u001b[36m0:00:00\u001b[0m\n",
            "\u001b[?25hRequirement already satisfied: numpy in /usr/local/lib/python3.10/dist-packages (from sherpa-onnx) (1.23.5)\n",
            "Collecting sentencepiece==0.1.96 (from sherpa-onnx)\n",
            "  Downloading sentencepiece-0.1.96-cp310-cp310-manylinux_2_17_x86_64.manylinux2014_x86_64.whl (1.2 MB)\n",
            "\u001b[2K     \u001b[90m━━━━━━━━━━━━━━━━━━━━━━━━━━━━━━━━━━━━━━━━\u001b[0m \u001b[32m1.2/1.2 MB\u001b[0m \u001b[31m47.9 MB/s\u001b[0m eta \u001b[36m0:00:00\u001b[0m\n",
            "\u001b[?25hInstalling collected packages: sentencepiece, sherpa-onnx\n",
            "Successfully installed sentencepiece-0.1.96 sherpa-onnx-1.7.11\n"
          ]
        }
      ]
    },
    {
      "cell_type": "markdown",
      "source": [
        "# With non-streaming transducer"
      ],
      "metadata": {
        "id": "IzrG4helzqhq"
      }
    },
    {
      "cell_type": "code",
      "execution_count": 2,
      "metadata": {
        "colab": {
          "base_uri": "https://localhost:8080/"
        },
        "id": "dr1b1bWVzZQg",
        "outputId": "7111966f-1b0b-4c4c-f3e1-e4523b83b778"
      },
      "outputs": [
        {
          "output_type": "stream",
          "name": "stdout",
          "text": [
            "Cloning into 'sherpa-onnx-zipformer-en-2023-06-26'...\n",
            "remote: Enumerating objects: 20, done.\u001b[K\n",
            "remote: Total 20 (delta 0), reused 0 (delta 0), pack-reused 20\u001b[K\n",
            "Unpacking objects: 100% (20/20), 666.78 KiB | 3.57 MiB/s, done.\n"
          ]
        },
        {
          "output_type": "execute_result",
          "data": {
            "text/plain": []
          },
          "metadata": {},
          "execution_count": 2
        }
      ],
      "source": [
        "%%shell\n",
        "\n",
        "# Download a model\n",
        "GIT_LFS_SKIP_SMUDGE=1 git clone https://huggingface.co/csukuangfj/sherpa-onnx-zipformer-en-2023-06-26\n",
        "cd sherpa-onnx-zipformer-en-2023-06-26\n",
        "git lfs pull --include \"*.onnx\""
      ]
    },
    {
      "cell_type": "code",
      "source": [
        "import torchaudio # for reading wave files\n",
        "import sherpa_onnx\n",
        "\n",
        "recognizer = sherpa_onnx.OfflineRecognizer.from_transducer(\n",
        "    tokens=\"sherpa-onnx-zipformer-en-2023-06-26/tokens.txt\",\n",
        "    encoder=\"sherpa-onnx-zipformer-en-2023-06-26/encoder-epoch-99-avg-1.onnx\",\n",
        "    decoder=\"sherpa-onnx-zipformer-en-2023-06-26/decoder-epoch-99-avg-1.onnx\",\n",
        "    joiner=\"sherpa-onnx-zipformer-en-2023-06-26/joiner-epoch-99-avg-1.onnx\",\n",
        ")\n",
        "samples, sample_rate = torchaudio.load(\"sherpa-onnx-zipformer-en-2023-06-26/test_wavs/0.wav\")\n",
        "\n",
        "s = recognizer.create_stream()\n",
        "s.accept_waveform(sample_rate, samples[0].contiguous().numpy())\n",
        "recognizer.decode_stream(s)\n",
        "\n",
        "print(s.result.text)\n"
      ],
      "metadata": {
        "colab": {
          "base_uri": "https://localhost:8080/"
        },
        "id": "E0N1XlqCz8HB",
        "outputId": "fb29a89d-07ca-4933-9944-01ab57e1ddbf"
      },
      "execution_count": 3,
      "outputs": [
        {
          "output_type": "stream",
          "name": "stdout",
          "text": [
            " AFTER EARLY NIGHTFALL THE YELLOW LAMPS WOULD LIGHT UP HERE AND THERE THE SQUALID QUARTER OF THE BROTHELS\n"
          ]
        }
      ]
    },
    {
      "cell_type": "code",
      "source": [
        "# to decode multiple files in parallel\n",
        "samples0, sample_rate0 = torchaudio.load(\"sherpa-onnx-zipformer-en-2023-06-26/test_wavs/0.wav\")\n",
        "s0 = recognizer.create_stream()\n",
        "s0.accept_waveform(sample_rate0, samples0[0].contiguous().numpy())\n",
        "\n",
        "samples1, sample_rate1 = torchaudio.load(\"sherpa-onnx-zipformer-en-2023-06-26/test_wavs/1.wav\")\n",
        "s1 = recognizer.create_stream()\n",
        "s1.accept_waveform(sample_rate1, samples1[0].contiguous().numpy())\n",
        "\n",
        "recognizer.decode_streams([s0, s1])\n",
        "print('0.wav', s0.result.text)\n",
        "print('1.wav', s1.result.text)\n"
      ],
      "metadata": {
        "colab": {
          "base_uri": "https://localhost:8080/"
        },
        "id": "Dmwy92L71ag7",
        "outputId": "6aab0d8b-464a-4c01-a459-96e40ef99e92"
      },
      "execution_count": 4,
      "outputs": [
        {
          "output_type": "stream",
          "name": "stdout",
          "text": [
            "0.wav  AFTER EARLY NIGHTFALL THE YELLOW LAMPS WOULD LIGHT UP HERE AND THERE THE SQUALID QUARTER OF THE BROTHELS\n",
            "1.wav  GOD AS A DIRECT CONSEQUENCE OF THE SIN WHICH MAN THUS PUNISHED HAD GIVEN HER A LOVELY CHILD WHOSE PLACE WAS ON THAT SAME DISHONORED BOSOM TO CONNECT HER PARENT FOREVER WITH THE RACE AND DESCENT OF MORTALS AND TO BE FINALLY A BLESSED SOUL IN HEAVEN\n"
          ]
        }
      ]
    },
    {
      "cell_type": "markdown",
      "source": [
        "# With non-streaming whisper"
      ],
      "metadata": {
        "id": "nEB1zLP52CEo"
      }
    },
    {
      "cell_type": "code",
      "source": [
        "%%shell\n",
        "\n",
        "# Download a model\n",
        "GIT_LFS_SKIP_SMUDGE=1 git clone https://huggingface.co/csukuangfj/sherpa-onnx-whisper-tiny.en\n",
        "cd sherpa-onnx-whisper-tiny.en\n",
        "git lfs pull --include \"*.onnx\""
      ],
      "metadata": {
        "colab": {
          "base_uri": "https://localhost:8080/"
        },
        "id": "Vy4hAz001ydS",
        "outputId": "ba19fbc9-f963-428e-8997-f8b15461204b"
      },
      "execution_count": 5,
      "outputs": [
        {
          "output_type": "stream",
          "name": "stdout",
          "text": [
            "Cloning into 'sherpa-onnx-whisper-tiny.en'...\n",
            "remote: Enumerating objects: 46, done.\u001b[K\n",
            "remote: Counting objects: 100% (46/46), done.\u001b[K\n",
            "remote: Compressing objects: 100% (45/45), done.\u001b[K\n",
            "remote: Total 46 (delta 5), reused 0 (delta 0), pack-reused 0\u001b[K\n",
            "Unpacking objects: 100% (46/46), 1.00 MiB | 4.96 MiB/s, done.\n"
          ]
        },
        {
          "output_type": "execute_result",
          "data": {
            "text/plain": []
          },
          "metadata": {},
          "execution_count": 5
        }
      ]
    },
    {
      "cell_type": "code",
      "source": [
        "import torchaudio # for reading wave files\n",
        "import sherpa_onnx\n",
        "\n",
        "recognizer = sherpa_onnx.OfflineRecognizer.from_whisper(\n",
        "    tokens=\"./sherpa-onnx-whisper-tiny.en/tiny.en-tokens.txt\",\n",
        "    encoder=\"./sherpa-onnx-whisper-tiny.en/tiny.en-encoder.onnx\",\n",
        "    decoder=\"./sherpa-onnx-whisper-tiny.en/tiny.en-decoder.onnx\",\n",
        ")\n",
        "samples, sample_rate = torchaudio.load(\"./sherpa-onnx-whisper-tiny.en/test_wavs/0.wav\")\n",
        "\n",
        "s = recognizer.create_stream()\n",
        "s.accept_waveform(sample_rate, samples[0].contiguous().numpy())\n",
        "recognizer.decode_stream(s)\n",
        "\n",
        "print(s.result.text)"
      ],
      "metadata": {
        "colab": {
          "base_uri": "https://localhost:8080/"
        },
        "id": "P1Q93hBz2KJn",
        "outputId": "4aa817c2-77b4-4b56-c0e7-cb9ddf5bdc45"
      },
      "execution_count": 6,
      "outputs": [
        {
          "output_type": "stream",
          "name": "stdout",
          "text": [
            " After early nightfall, the yellow lamps would light up here and there, the squalid quarter of the brothels.\n"
          ]
        }
      ]
    },
    {
      "cell_type": "code",
      "source": [
        "# to decode multiple files in parallel\n",
        "samples0, sample_rate0 = torchaudio.load(\"./sherpa-onnx-whisper-tiny.en/test_wavs/0.wav\")\n",
        "s0 = recognizer.create_stream()\n",
        "s0.accept_waveform(sample_rate0, samples0[0].contiguous().numpy())\n",
        "\n",
        "samples1, sample_rate1 = torchaudio.load(\"./sherpa-onnx-whisper-tiny.en/test_wavs/0.wav\")\n",
        "s1 = recognizer.create_stream()\n",
        "s1.accept_waveform(sample_rate1, samples1[0].contiguous().numpy())\n",
        "\n",
        "recognizer.decode_streams([s0, s1])\n",
        "print('0.wav', s0.result.text)\n",
        "print('1.wav', s1.result.text)"
      ],
      "metadata": {
        "colab": {
          "base_uri": "https://localhost:8080/"
        },
        "id": "rO56I-CZ3F4n",
        "outputId": "b303669f-5a9d-41ea-9a7e-39d0e07e36d7"
      },
      "execution_count": 7,
      "outputs": [
        {
          "output_type": "stream",
          "name": "stdout",
          "text": [
            "0.wav  After early nightfall, the yellow lamps would light up here and there, the squalid quarter of the brothels.\n",
            "1.wav  After early nightfall, the yellow lamps would light up here and there, the squalid quarter of the brothels.\n"
          ]
        }
      ]
    },
    {
      "cell_type": "markdown",
      "source": [
        "# With non-streaming NeMo CTC model"
      ],
      "metadata": {
        "id": "hMEL26oz5yHe"
      }
    },
    {
      "cell_type": "code",
      "source": [
        "%%shell\n",
        "\n",
        "# Download a model\n",
        "GIT_LFS_SKIP_SMUDGE=1 git clone https://huggingface.co/csukuangfj/sherpa-onnx-nemo-ctc-en-conformer-medium\n",
        "cd sherpa-onnx-nemo-ctc-en-conformer-medium\n",
        "git lfs pull --include \"*.onnx\""
      ],
      "metadata": {
        "colab": {
          "base_uri": "https://localhost:8080/"
        },
        "id": "osEBmF-04wCQ",
        "outputId": "694a0299-3892-40fc-b301-239e0a8ef4b9"
      },
      "execution_count": 8,
      "outputs": [
        {
          "output_type": "stream",
          "name": "stdout",
          "text": [
            "Cloning into 'sherpa-onnx-nemo-ctc-en-conformer-medium'...\n",
            "remote: Enumerating objects: 20, done.\u001b[K\n",
            "remote: Total 20 (delta 0), reused 0 (delta 0), pack-reused 20\u001b[K\n",
            "Unpacking objects: 100% (20/20), 671.36 KiB | 2.57 MiB/s, done.\n"
          ]
        },
        {
          "output_type": "execute_result",
          "data": {
            "text/plain": []
          },
          "metadata": {},
          "execution_count": 8
        }
      ]
    },
    {
      "cell_type": "code",
      "source": [
        "import torchaudio # for reading wave files\n",
        "import sherpa_onnx\n",
        "\n",
        "recognizer = sherpa_onnx.OfflineRecognizer.from_nemo_ctc(\n",
        "    tokens=\"sherpa-onnx-nemo-ctc-en-conformer-medium/tokens.txt\",\n",
        "    model=\"sherpa-onnx-nemo-ctc-en-conformer-medium/model.onnx\",\n",
        ")\n",
        "samples, sample_rate = torchaudio.load(\"sherpa-onnx-nemo-ctc-en-conformer-medium/test_wavs/0.wav\")\n",
        "\n",
        "s = recognizer.create_stream()\n",
        "s.accept_waveform(sample_rate, samples[0].contiguous().numpy())\n",
        "recognizer.decode_stream(s)\n",
        "\n",
        "print(s.result.text)"
      ],
      "metadata": {
        "colab": {
          "base_uri": "https://localhost:8080/"
        },
        "id": "WxzTAgk555aT",
        "outputId": "9ba152a1-118a-490d-ab78-2a8ceb3e3711"
      },
      "execution_count": 9,
      "outputs": [
        {
          "output_type": "stream",
          "name": "stdout",
          "text": [
            " after early nightfall the yellow lamps would light up here and there the squalid quarter of the brothels\n"
          ]
        }
      ]
    },
    {
      "cell_type": "code",
      "source": [
        "# to decode multiple files in parallel\n",
        "samples0, sample_rate0 = torchaudio.load(\"./sherpa-onnx-nemo-ctc-en-conformer-medium/test_wavs/0.wav\")\n",
        "s0 = recognizer.create_stream()\n",
        "s0.accept_waveform(sample_rate0, samples0[0].contiguous().numpy())\n",
        "\n",
        "samples1, sample_rate1 = torchaudio.load(\"./sherpa-onnx-nemo-ctc-en-conformer-medium/test_wavs/1.wav\")\n",
        "s1 = recognizer.create_stream()\n",
        "s1.accept_waveform(sample_rate1, samples1[0].contiguous().numpy())\n",
        "\n",
        "recognizer.decode_streams([s0, s1])\n",
        "print('0.wav', s0.result.text)\n",
        "print('1.wav', s1.result.text)"
      ],
      "metadata": {
        "colab": {
          "base_uri": "https://localhost:8080/"
        },
        "id": "ueTIJ3RR6FCR",
        "outputId": "ed671299-9e95-4eee-8f27-f988843d9560"
      },
      "execution_count": 10,
      "outputs": [
        {
          "output_type": "stream",
          "name": "stdout",
          "text": [
            "0.wav  after early nightfall the yellow lamps would light up here and there the squalid quarter of the brothels\n",
            "1.wav  god as a direct consequence of the sin which man thus punished had given her a lovely child whose place was on that same dishonored bosom to connect her parent for ever with the race and descent of mortals and to be finally a blessed soul in heaven\n"
          ]
        }
      ]
    }
  ]
}
