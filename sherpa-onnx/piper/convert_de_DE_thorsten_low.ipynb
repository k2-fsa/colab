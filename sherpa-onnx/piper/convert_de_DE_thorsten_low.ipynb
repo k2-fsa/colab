{
  "nbformat": 4,
  "nbformat_minor": 0,
  "metadata": {
    "colab": {
      "provenance": [],
      "authorship_tag": "ABX9TyMygzmIrXDifKxs4hwub7/B",
      "include_colab_link": true
    },
    "kernelspec": {
      "name": "python3",
      "display_name": "Python 3"
    },
    "language_info": {
      "name": "python"
    }
  },
  "cells": [
    {
      "cell_type": "markdown",
      "metadata": {
        "id": "view-in-github",
        "colab_type": "text"
      },
      "source": [
        "<a href=\"https://colab.research.google.com/github/k2-fsa/colab/blob/master/sherpa-onnx/piper/convert_de_DE_thorsten_low.ipynb\" target=\"_parent\"><img src=\"https://colab.research.google.com/assets/colab-badge.svg\" alt=\"Open In Colab\"/></a>"
      ]
    },
    {
      "cell_type": "markdown",
      "source": [
        "# Introduction\n",
        "\n",
        "This colab notebook shows how to convert\n",
        "\n",
        "https://huggingface.co/rhasspy/piper-voices/tree/main/de/de_DE/thorsten/low\n",
        "\n",
        "to [sherpa-onnx](https://github.com/k2-fsa/sherpa-onnx)"
      ],
      "metadata": {
        "id": "ppP7CTFKDeTQ"
      }
    },
    {
      "cell_type": "code",
      "execution_count": 4,
      "metadata": {
        "colab": {
          "base_uri": "https://localhost:8080/"
        },
        "id": "MZWqCQbkMVqk",
        "outputId": "020cea4f-a08e-4407-c7b5-f92432d11fee"
      },
      "outputs": [
        {
          "output_type": "stream",
          "name": "stdout",
          "text": [
            "--2023-10-27 03:22:48--  https://huggingface.co/rhasspy/piper-voices/resolve/main/de/de_DE/thorsten/low/de_DE-thorsten-low.onnx\n",
            "Resolving huggingface.co (huggingface.co)... 18.244.202.60, 18.244.202.73, 18.244.202.118, ...\n",
            "Connecting to huggingface.co (huggingface.co)|18.244.202.60|:443... connected.\n",
            "HTTP request sent, awaiting response... 302 Found\n",
            "Location: https://cdn-lfs.huggingface.co/repos/ed/06/ed062eb100d7bd80d78f61252cd190fca48cbda97eb1753fb827ff3339a6b11c/9ac27fad17cec5c1a791161976a64f026f16fc058b400b1fea62565b8b2cf375?response-content-disposition=attachment%3B+filename*%3DUTF-8%27%27de_DE-thorsten-low.onnx%3B+filename%3D%22de_DE-thorsten-low.onnx%22%3B&Expires=1698636168&Policy=eyJTdGF0ZW1lbnQiOlt7IkNvbmRpdGlvbiI6eyJEYXRlTGVzc1RoYW4iOnsiQVdTOkVwb2NoVGltZSI6MTY5ODYzNjE2OH19LCJSZXNvdXJjZSI6Imh0dHBzOi8vY2RuLWxmcy5odWdnaW5nZmFjZS5jby9yZXBvcy9lZC8wNi9lZDA2MmViMTAwZDdiZDgwZDc4ZjYxMjUyY2QxOTBmY2E0OGNiZGE5N2ViMTc1M2ZiODI3ZmYzMzM5YTZiMTFjLzlhYzI3ZmFkMTdjZWM1YzFhNzkxMTYxOTc2YTY0ZjAyNmYxNmZjMDU4YjQwMGIxZmVhNjI1NjViOGIyY2YzNzU%7EcmVzcG9uc2UtY29udGVudC1kaXNwb3NpdGlvbj0qIn1dfQ__&Signature=RGuxyBCCFpf9qkfae11TAhztwgh20xDw37YWG8Zg-o1SgdNbcBA1DC4DdmkIfKnkFdwbxEcLVsT0VJj2whWzaydMtIbMz1pWDwtssNJNWhhb7yNQ4N0lrSXfvnugOy2e6ezE3XhhgfAQBtCTudwoUSrwa-VZQQB0FclWsH66-wUcaiFYQRwPTV8KD0VSYL6F6ktx0dtCnFUZNls8K4v7fz0WjeRgEatYdZpxMgauLZ9fKti6IYRvQ69w2lqgXNW2lto55vf%7EPdm-ORRT01Wvs4pzU7rS5cIWzw1c9Hz4uUjFKxKB5oHtFIWZ6mJKo20I511W-zhs03ej0g7P9FZ1og__&Key-Pair-Id=KVTP0A1DKRTAX [following]\n",
            "--2023-10-27 03:22:48--  https://cdn-lfs.huggingface.co/repos/ed/06/ed062eb100d7bd80d78f61252cd190fca48cbda97eb1753fb827ff3339a6b11c/9ac27fad17cec5c1a791161976a64f026f16fc058b400b1fea62565b8b2cf375?response-content-disposition=attachment%3B+filename*%3DUTF-8%27%27de_DE-thorsten-low.onnx%3B+filename%3D%22de_DE-thorsten-low.onnx%22%3B&Expires=1698636168&Policy=eyJTdGF0ZW1lbnQiOlt7IkNvbmRpdGlvbiI6eyJEYXRlTGVzc1RoYW4iOnsiQVdTOkVwb2NoVGltZSI6MTY5ODYzNjE2OH19LCJSZXNvdXJjZSI6Imh0dHBzOi8vY2RuLWxmcy5odWdnaW5nZmFjZS5jby9yZXBvcy9lZC8wNi9lZDA2MmViMTAwZDdiZDgwZDc4ZjYxMjUyY2QxOTBmY2E0OGNiZGE5N2ViMTc1M2ZiODI3ZmYzMzM5YTZiMTFjLzlhYzI3ZmFkMTdjZWM1YzFhNzkxMTYxOTc2YTY0ZjAyNmYxNmZjMDU4YjQwMGIxZmVhNjI1NjViOGIyY2YzNzU%7EcmVzcG9uc2UtY29udGVudC1kaXNwb3NpdGlvbj0qIn1dfQ__&Signature=RGuxyBCCFpf9qkfae11TAhztwgh20xDw37YWG8Zg-o1SgdNbcBA1DC4DdmkIfKnkFdwbxEcLVsT0VJj2whWzaydMtIbMz1pWDwtssNJNWhhb7yNQ4N0lrSXfvnugOy2e6ezE3XhhgfAQBtCTudwoUSrwa-VZQQB0FclWsH66-wUcaiFYQRwPTV8KD0VSYL6F6ktx0dtCnFUZNls8K4v7fz0WjeRgEatYdZpxMgauLZ9fKti6IYRvQ69w2lqgXNW2lto55vf%7EPdm-ORRT01Wvs4pzU7rS5cIWzw1c9Hz4uUjFKxKB5oHtFIWZ6mJKo20I511W-zhs03ej0g7P9FZ1og__&Key-Pair-Id=KVTP0A1DKRTAX\n",
            "Resolving cdn-lfs.huggingface.co (cdn-lfs.huggingface.co)... 108.157.162.27, 108.157.162.95, 108.157.162.58, ...\n",
            "Connecting to cdn-lfs.huggingface.co (cdn-lfs.huggingface.co)|108.157.162.27|:443... connected.\n",
            "HTTP request sent, awaiting response... 200 OK\n",
            "Length: 63104526 (60M) [application/octet-stream]\n",
            "Saving to: ‘de_DE-thorsten-low.onnx’\n",
            "\n",
            "de_DE-thorsten-low. 100%[===================>]  60.18M  45.2MB/s    in 1.3s    \n",
            "\n",
            "2023-10-27 03:22:50 (45.2 MB/s) - ‘de_DE-thorsten-low.onnx’ saved [63104526/63104526]\n",
            "\n",
            "--2023-10-27 03:22:50--  https://huggingface.co/rhasspy/piper-voices/resolve/main/de/de_DE/thorsten/low/de_DE-thorsten-low.onnx.json\n",
            "Resolving huggingface.co (huggingface.co)... 18.244.202.60, 18.244.202.73, 18.244.202.118, ...\n",
            "Connecting to huggingface.co (huggingface.co)|18.244.202.60|:443... connected.\n",
            "HTTP request sent, awaiting response... 200 OK\n",
            "Length: 4159 (4.1K) [text/plain]\n",
            "Saving to: ‘de_DE-thorsten-low.onnx.json’\n",
            "\n",
            "de_DE-thorsten-low. 100%[===================>]   4.06K  --.-KB/s    in 0s      \n",
            "\n",
            "2023-10-27 03:22:50 (1.31 GB/s) - ‘de_DE-thorsten-low.onnx.json’ saved [4159/4159]\n",
            "\n",
            "total 61M\n",
            "-rw-r--r-- 1 root root  61M Jun 26 20:32 de_DE-thorsten-low.onnx\n",
            "-rw-r--r-- 1 root root 4.1K Oct 27 03:22 de_DE-thorsten-low.onnx.json\n",
            "drwxr-xr-x 1 root root 4.0K Oct 25 13:21 sample_data\n"
          ]
        },
        {
          "output_type": "execute_result",
          "data": {
            "text/plain": []
          },
          "metadata": {},
          "execution_count": 4
        }
      ],
      "source": [
        "%%shell\n",
        "\n",
        "wget https://huggingface.co/rhasspy/piper-voices/resolve/main/de/de_DE/thorsten/low/de_DE-thorsten-low.onnx\n",
        "\n",
        "wget https://huggingface.co/rhasspy/piper-voices/resolve/main/de/de_DE/thorsten/low/de_DE-thorsten-low.onnx.json\n",
        "ls -lh"
      ]
    },
    {
      "cell_type": "code",
      "source": [
        "%%shell\n",
        "\n",
        "pip install piper-phonemize onnx onnxruntime==1.16.0"
      ],
      "metadata": {
        "colab": {
          "base_uri": "https://localhost:8080/"
        },
        "id": "MwvmtCOOMhmd",
        "outputId": "9cbb6c0e-d307-424c-a26b-acfa0f617a5d"
      },
      "execution_count": 2,
      "outputs": [
        {
          "output_type": "stream",
          "name": "stdout",
          "text": [
            "Collecting piper-phonemize\n",
            "  Downloading piper_phonemize-1.1.0-cp310-cp310-manylinux_2_28_x86_64.whl (25.0 MB)\n",
            "\u001b[2K     \u001b[90m━━━━━━━━━━━━━━━━━━━━━━━━━━━━━━━━━━━━━━━━\u001b[0m \u001b[32m25.0/25.0 MB\u001b[0m \u001b[31m56.7 MB/s\u001b[0m eta \u001b[36m0:00:00\u001b[0m\n",
            "\u001b[?25hCollecting onnx\n",
            "  Downloading onnx-1.15.0-cp310-cp310-manylinux_2_17_x86_64.manylinux2014_x86_64.whl (15.7 MB)\n",
            "\u001b[2K     \u001b[90m━━━━━━━━━━━━━━━━━━━━━━━━━━━━━━━━━━━━━━━━\u001b[0m \u001b[32m15.7/15.7 MB\u001b[0m \u001b[31m76.0 MB/s\u001b[0m eta \u001b[36m0:00:00\u001b[0m\n",
            "\u001b[?25hCollecting onnxruntime==1.16.0\n",
            "  Downloading onnxruntime-1.16.0-cp310-cp310-manylinux_2_17_x86_64.manylinux2014_x86_64.whl (6.2 MB)\n",
            "\u001b[2K     \u001b[90m━━━━━━━━━━━━━━━━━━━━━━━━━━━━━━━━━━━━━━━━\u001b[0m \u001b[32m6.2/6.2 MB\u001b[0m \u001b[31m100.9 MB/s\u001b[0m eta \u001b[36m0:00:00\u001b[0m\n",
            "\u001b[?25hCollecting coloredlogs (from onnxruntime==1.16.0)\n",
            "  Downloading coloredlogs-15.0.1-py2.py3-none-any.whl (46 kB)\n",
            "\u001b[2K     \u001b[90m━━━━━━━━━━━━━━━━━━━━━━━━━━━━━━━━━━━━━━━━\u001b[0m \u001b[32m46.0/46.0 kB\u001b[0m \u001b[31m4.7 MB/s\u001b[0m eta \u001b[36m0:00:00\u001b[0m\n",
            "\u001b[?25hRequirement already satisfied: flatbuffers in /usr/local/lib/python3.10/dist-packages (from onnxruntime==1.16.0) (23.5.26)\n",
            "Requirement already satisfied: numpy>=1.21.6 in /usr/local/lib/python3.10/dist-packages (from onnxruntime==1.16.0) (1.23.5)\n",
            "Requirement already satisfied: packaging in /usr/local/lib/python3.10/dist-packages (from onnxruntime==1.16.0) (23.2)\n",
            "Requirement already satisfied: protobuf in /usr/local/lib/python3.10/dist-packages (from onnxruntime==1.16.0) (3.20.3)\n",
            "Requirement already satisfied: sympy in /usr/local/lib/python3.10/dist-packages (from onnxruntime==1.16.0) (1.12)\n",
            "Collecting humanfriendly>=9.1 (from coloredlogs->onnxruntime==1.16.0)\n",
            "  Downloading humanfriendly-10.0-py2.py3-none-any.whl (86 kB)\n",
            "\u001b[2K     \u001b[90m━━━━━━━━━━━━━━━━━━━━━━━━━━━━━━━━━━━━━━━━\u001b[0m \u001b[32m86.8/86.8 kB\u001b[0m \u001b[31m9.6 MB/s\u001b[0m eta \u001b[36m0:00:00\u001b[0m\n",
            "\u001b[?25hRequirement already satisfied: mpmath>=0.19 in /usr/local/lib/python3.10/dist-packages (from sympy->onnxruntime==1.16.0) (1.3.0)\n",
            "Installing collected packages: piper-phonemize, onnx, humanfriendly, coloredlogs, onnxruntime\n",
            "Successfully installed coloredlogs-15.0.1 humanfriendly-10.0 onnx-1.15.0 onnxruntime-1.16.0 piper-phonemize-1.1.0\n"
          ]
        },
        {
          "output_type": "execute_result",
          "data": {
            "text/plain": []
          },
          "metadata": {},
          "execution_count": 2
        }
      ]
    },
    {
      "cell_type": "code",
      "source": [
        "from typing import Dict, Any\n",
        "import onnx\n",
        "import json\n",
        "\n",
        "def add_meta_data(filename: str, meta_data: Dict[str, Any]):\n",
        "    \"\"\"Add meta data to an ONNX model. It is changed in-place.\n",
        "\n",
        "    Args:\n",
        "      filename:\n",
        "        Filename of the ONNX model to be changed.\n",
        "      meta_data:\n",
        "        Key-value pairs.\n",
        "    \"\"\"\n",
        "    model = onnx.load(filename)\n",
        "    for key, value in meta_data.items():\n",
        "        meta = model.metadata_props.add()\n",
        "        meta.key = key\n",
        "        meta.value = str(value)\n",
        "\n",
        "    onnx.save(model, filename)\n",
        "\n",
        "def load_config(model):\n",
        "    with open(f\"{model}.json\", \"r\") as file:\n",
        "        config = json.load(file)\n",
        "    return config\n",
        "\n",
        "def generate_tokens(config):\n",
        "    id_map = config[\"phoneme_id_map\"]\n",
        "    with open(\"tokens.txt\", \"w\", encoding=\"utf-8\") as f:\n",
        "        for s, i in id_map.items():\n",
        "            f.write(f\"{s} {i[0]}\\n\")\n",
        "    print(\"Generated tokens.txt\")\n",
        "\n",
        "def main():\n",
        "  config = load_config('de_DE-thorsten-low.onnx')\n",
        "  generate_tokens(config)\n",
        "  _punctuation = ';:,.!?¡¿—…\"«»“” '\n",
        "  meta_data = {\n",
        "        \"model_type\": \"vits\",\n",
        "        \"comment\": \"piper\",\n",
        "        \"language\": \"German\",\n",
        "        \"add_blank\": 1,\n",
        "        \"n_speakers\": config[\"num_speakers\"],\n",
        "        \"sample_rate\": config[\"audio\"][\"sample_rate\"],\n",
        "        \"punctuation\": \" \".join(list(_punctuation)),\n",
        "    }\n",
        "  print(meta_data)\n",
        "  add_meta_data(\"de_DE-thorsten-low.onnx\", meta_data)\n",
        "\n",
        "main()"
      ],
      "metadata": {
        "colab": {
          "base_uri": "https://localhost:8080/"
        },
        "id": "CUIX95WFMtRs",
        "outputId": "35c77ebf-4628-476c-d63f-80ee0fe4f49a"
      },
      "execution_count": 5,
      "outputs": [
        {
          "output_type": "stream",
          "name": "stdout",
          "text": [
            "Generated tokens.txt\n",
            "{'model_type': 'vits', 'comment': 'piper', 'language': 'German', 'add_blank': 1, 'n_speakers': 1, 'sample_rate': 16000, 'punctuation': '; : , . ! ? ¡ ¿ — … \" « » “ ”  '}\n"
          ]
        }
      ]
    },
    {
      "cell_type": "code",
      "source": [
        "%%shell\n",
        "\n",
        "wget -O german.7z \"https://downloads.sourceforge.net/project/germandict/german.7z?ts=gAAAAABlOnvekATxh2d2zse53x7JN4MUscbvCW073dv6CQrbQS-ekmrejSGcey1_MeJhNss6IKtI7BgpEH9ao1CIi4v2zMLULg%3D%3D&use_mirror=deac-riga&r=https%3A%2F%2Fsourceforge.net%2Fprojects%2Fgermandict%2Ffiles%2F\"\n",
        "\n",
        "\n",
        "sudo apt-get install -y p7zip\n",
        "7z x ./german.7z\n",
        "ls"
      ],
      "metadata": {
        "colab": {
          "base_uri": "https://localhost:8080/"
        },
        "id": "OIW7o-o2NUmE",
        "outputId": "59fc4137-6f92-4745-ab45-6bc35fa67242"
      },
      "execution_count": 6,
      "outputs": [
        {
          "output_type": "stream",
          "name": "stdout",
          "text": [
            "--2023-10-27 03:23:05--  https://downloads.sourceforge.net/project/germandict/german.7z?ts=gAAAAABlOnvekATxh2d2zse53x7JN4MUscbvCW073dv6CQrbQS-ekmrejSGcey1_MeJhNss6IKtI7BgpEH9ao1CIi4v2zMLULg%3D%3D&use_mirror=deac-riga&r=https%3A%2F%2Fsourceforge.net%2Fprojects%2Fgermandict%2Ffiles%2F\n",
            "Resolving downloads.sourceforge.net (downloads.sourceforge.net)... 204.68.111.105\n",
            "Connecting to downloads.sourceforge.net (downloads.sourceforge.net)|204.68.111.105|:443... connected.\n",
            "HTTP request sent, awaiting response... 302 Found\n",
            "Location: https://deac-riga.dl.sourceforge.net/project/germandict/german.7z [following]\n",
            "--2023-10-27 03:23:06--  https://deac-riga.dl.sourceforge.net/project/germandict/german.7z\n",
            "Resolving deac-riga.dl.sourceforge.net (deac-riga.dl.sourceforge.net)... 89.111.52.100\n",
            "Connecting to deac-riga.dl.sourceforge.net (deac-riga.dl.sourceforge.net)|89.111.52.100|:443... connected.\n",
            "HTTP request sent, awaiting response... 200 OK\n",
            "Length: 6271782 (6.0M) [application/x-7z-compressed]\n",
            "Saving to: ‘german.7z’\n",
            "\n",
            "german.7z           100%[===================>]   5.98M  5.98MB/s    in 1.0s    \n",
            "\n",
            "2023-10-27 03:23:07 (5.98 MB/s) - ‘german.7z’ saved [6271782/6271782]\n",
            "\n",
            "Reading package lists... Done\n",
            "Building dependency tree... Done\n",
            "Reading state information... Done\n",
            "p7zip is already the newest version (16.02+dfsg-8).\n",
            "p7zip set to manually installed.\n",
            "0 upgraded, 0 newly installed, 0 to remove and 19 not upgraded.\n",
            "\n",
            "7-Zip [64] 16.02 : Copyright (c) 1999-2016 Igor Pavlov : 2016-05-21\n",
            "p7zip Version 16.02 (locale=en_US.UTF-8,Utf16=on,HugeFiles=on,64 bits,2 CPUs Intel(R) Xeon(R) CPU @ 2.20GHz (406F0),ASM,AES-NI)\n",
            "\n",
            "Scanning the drive for archives:\n",
            "  0M Scan ./\b\b\b\b\b\b\b\b\b\b\b\b            \b\b\b\b\b\b\b\b\b\b\b\b1 file, 6271782 bytes (6125 KiB)\n",
            "\n",
            "Extracting archive: ./german.7z\n",
            "--\n",
            "Path = ./german.7z\n",
            "Type = 7z\n",
            "Physical Size = 6271782\n",
            "Headers Size = 318\n",
            "Method = LZMA2:20\n",
            "Solid = +\n",
            "Blocks = 1\n",
            "\n",
            "  0%\b\b\b\b    \b\b\b\b 37% 2 - german.dic\b\b\b\b\b\b\b\b\b\b\b\b\b\b\b\b\b\b\b                   \b\b\b\b\b\b\b\b\b\b\b\b\b\b\b\b\b\b\b 75% 2 - german.dic\b\b\b\b\b\b\b\b\b\b\b\b\b\b\b\b\b\b\b                   \b\b\b\b\b\b\b\b\b\b\b\b\b\b\b\b\b\b\bEverything is Ok\n",
            "\n",
            "Files: 6\n",
            "Size:       36142349\n",
            "Compressed: 6271782\n",
            "austriazismen.txt\t de_DE-thorsten-low.onnx.json  helvetismen.txt\ttokens.txt\n",
            "autocomplete.txt\t german.7z\t\t       LiesMich.txt\tvariants.dic\n",
            "de_DE-thorsten-low.onnx  german.dic\t\t       sample_data\n"
          ]
        },
        {
          "output_type": "execute_result",
          "data": {
            "text/plain": []
          },
          "metadata": {},
          "execution_count": 6
        }
      ]
    },
    {
      "cell_type": "code",
      "source": [
        "%%shell\n",
        "\n",
        "head austriazismen.txt LiesMich.txt autocomplete.txt german.dic helvetismen.txt variants.dic\n",
        "file austriazismen.txt LiesMich.txt autocomplete.txt german.dic helvetismen.txt variants.dic"
      ],
      "metadata": {
        "colab": {
          "base_uri": "https://localhost:8080/"
        },
        "id": "LPomEMcTNb5x",
        "outputId": "813e7214-20d4-44d7-8dfc-f636a25f19be"
      },
      "execution_count": 7,
      "outputs": [
        {
          "output_type": "stream",
          "name": "stdout",
          "text": [
            "==> austriazismen.txt <==\n",
            "abbeutele\r\n",
            "abbeuteln\r\n",
            "abbeutelnd\r\n",
            "abbeutelnde\r\n",
            "abbeutelndem\r\n",
            "abbeutelnden\r\n",
            "abbeutelnder\r\n",
            "abbeutelndes\r\n",
            "Abbeutelns\r\n",
            "abbeutelst\r\n",
            "\n",
            "==> LiesMich.txt <==\n",
            "Servus und danke f�r Ihr Interesse an diesem Projekt.\r\n",
            "\r\n",
            "Falsch geschriebene, seltsame und fehlende W�rter bitte per Mail an Jan Schreiber unter\r\n",
            "\tjan.schreiber (at) languagetool.org\r\n",
            "Vielen Dank im Voraus!\r\n",
            "\r\n",
            "BenutzerInnen aus der Schweiz mit Grundkenntnissen in Python interessieren sich vielleicht auch f�r das Python-Skript\r\n",
            "\thttps://sourceforge.net/p/germandict/code/HEAD/tree/tools/separateDEandCH.py\r\n",
            "Es wandelt '�' zu 'ss' um, ersetzt 'M�sli' durch 'M�esli' und erzeugt aus 'Handy...' die Alternativen 'Natel...'.\r\n",
            "\r\n",
            "\n",
            "==> autocomplete.txt <==\n",
            "Aachen\r\n",
            "Aachener\r\n",
            "Aachenerin\r\n",
            "Aachenerinnen\r\n",
            "Aachenern\r\n",
            "Aacheners\r\n",
            "Aachens\r\n",
            "Abbau\r\n",
            "abbaue\r\n",
            "abbauen\r\n",
            "\n",
            "==> german.dic <==\n",
            "�l\r\n",
            "�m\r\n",
            "AA\r\n",
            "AAA\r\n",
            "Aachen\r\n",
            "Aachener\r\n",
            "Aachenerin\r\n",
            "Aachenerinnen\r\n",
            "Aachenern\r\n",
            "Aacheners\r\n",
            "\n",
            "==> helvetismen.txt <==\n",
            "�lplermagronen\r\n",
            "�ufnens\r\n",
            "�bermittlungstruppe\r\n",
            "�bermittlungstruppen\r\n",
            "�berzeit\r\n",
            "�berzeitarbeit\r\n",
            "�berzeitarbeiten\r\n",
            "�berzeiten\r\n",
            "�ufne\r\n",
            "�ufnen\r\n",
            "\n",
            "==> variants.dic <==\n",
            "Ab�lard\r\n",
            "Ab�lards\r\n",
            "abergl�ubig\r\n",
            "abergl�ubige\r\n",
            "abergl�ubigem\r\n",
            "abergl�ubigen\r\n",
            "abergl�ubiger\r\n",
            "abergl�ubigere\r\n",
            "abergl�ubigerem\r\n",
            "abergl�ubigeren\r\n",
            "austriazismen.txt: ISO-8859 text, with CRLF line terminators\n",
            "LiesMich.txt:      ISO-8859 text, with CRLF line terminators\n",
            "autocomplete.txt:  ISO-8859 text, with CRLF line terminators\n",
            "german.dic:        ISO-8859 text, with CRLF line terminators\n",
            "helvetismen.txt:   ISO-8859 text, with CRLF line terminators\n",
            "variants.dic:      ISO-8859 text, with CRLF line terminators\n"
          ]
        },
        {
          "output_type": "execute_result",
          "data": {
            "text/plain": []
          },
          "metadata": {},
          "execution_count": 7
        }
      ]
    },
    {
      "cell_type": "code",
      "source": [
        "from piper_phonemize import phonemize_espeak\n",
        "import re\n",
        "\n",
        "def read_lexicon():\n",
        "    in_files = [\n",
        "        \"./austriazismen.txt\",\n",
        "        \"./autocomplete.txt\",\n",
        "        \"./german.dic\",\n",
        "        \"./helvetismen.txt\",\n",
        "        \"./variants.dic\"\n",
        "    ]\n",
        "\n",
        "    words = set()\n",
        "    words.add('Liliana')\n",
        "    pattern = re.compile(\"^[a-zA-Z'-\\.]+$\")\n",
        "    for in_file in in_files:\n",
        "      print(in_file)\n",
        "      with open(in_file, encoding='iso-8859-1') as f:\n",
        "          for line in f:\n",
        "              try:\n",
        "                  word = line.strip().lower()\n",
        "                  if not pattern.match(word):\n",
        "                      #  print(line, \"word is\", word)\n",
        "                      continue\n",
        "              except:\n",
        "                  #  print(line)\n",
        "                  continue\n",
        "\n",
        "              # assert word not in words, word\n",
        "              words.add(word)\n",
        "    return list(words)\n",
        "\n",
        "\n",
        "\n",
        "def generate_lexicon():\n",
        "  config = load_config('de_DE-thorsten-low.onnx')\n",
        "  words = read_lexicon()\n",
        "  num_words = len(words)\n",
        "  print(num_words)\n",
        "\n",
        "  batch = 5000\n",
        "  i = 0\n",
        "  word2phones = dict()\n",
        "  while i < num_words:\n",
        "    print(f\"{i}/{num_words}, {i/num_words*100:.3f}%\")\n",
        "    this_batch = words[i : i + batch]\n",
        "    i += batch\n",
        "    for w in this_batch:\n",
        "      phonemes = phonemize_espeak(w, config[\"espeak\"][\"voice\"])[0]\n",
        "      word2phones[w] = ' '.join(phonemes)\n",
        "\n",
        "  with open(\"lexicon.txt\", \"w\", encoding=\"utf-8\") as f:\n",
        "      for w, p in word2phones.items():\n",
        "          f.write(f\"{w} {p}\\n\")\n",
        "\n",
        "generate_lexicon()"
      ],
      "metadata": {
        "colab": {
          "base_uri": "https://localhost:8080/"
        },
        "id": "TzamVxrRNc7a",
        "outputId": "5b4dc75a-ae45-4772-ef64-979d11d979ff"
      },
      "execution_count": 8,
      "outputs": [
        {
          "output_type": "stream",
          "name": "stdout",
          "text": [
            "./austriazismen.txt\n",
            "./autocomplete.txt\n",
            "./german.dic\n",
            "./helvetismen.txt\n",
            "./variants.dic\n",
            "1663258\n",
            "0/1663258, 0.000%\n",
            "5000/1663258, 0.301%\n",
            "10000/1663258, 0.601%\n",
            "15000/1663258, 0.902%\n",
            "20000/1663258, 1.202%\n",
            "25000/1663258, 1.503%\n",
            "30000/1663258, 1.804%\n",
            "35000/1663258, 2.104%\n",
            "40000/1663258, 2.405%\n",
            "45000/1663258, 2.706%\n",
            "50000/1663258, 3.006%\n",
            "55000/1663258, 3.307%\n",
            "60000/1663258, 3.607%\n",
            "65000/1663258, 3.908%\n",
            "70000/1663258, 4.209%\n",
            "75000/1663258, 4.509%\n",
            "80000/1663258, 4.810%\n",
            "85000/1663258, 5.110%\n",
            "90000/1663258, 5.411%\n",
            "95000/1663258, 5.712%\n",
            "100000/1663258, 6.012%\n",
            "105000/1663258, 6.313%\n",
            "110000/1663258, 6.614%\n",
            "115000/1663258, 6.914%\n",
            "120000/1663258, 7.215%\n",
            "125000/1663258, 7.515%\n",
            "130000/1663258, 7.816%\n",
            "135000/1663258, 8.117%\n",
            "140000/1663258, 8.417%\n",
            "145000/1663258, 8.718%\n",
            "150000/1663258, 9.018%\n",
            "155000/1663258, 9.319%\n",
            "160000/1663258, 9.620%\n",
            "165000/1663258, 9.920%\n",
            "170000/1663258, 10.221%\n",
            "175000/1663258, 10.522%\n",
            "180000/1663258, 10.822%\n",
            "185000/1663258, 11.123%\n",
            "190000/1663258, 11.423%\n",
            "195000/1663258, 11.724%\n",
            "200000/1663258, 12.025%\n",
            "205000/1663258, 12.325%\n",
            "210000/1663258, 12.626%\n",
            "215000/1663258, 12.926%\n",
            "220000/1663258, 13.227%\n",
            "225000/1663258, 13.528%\n",
            "230000/1663258, 13.828%\n",
            "235000/1663258, 14.129%\n",
            "240000/1663258, 14.430%\n",
            "245000/1663258, 14.730%\n",
            "250000/1663258, 15.031%\n",
            "255000/1663258, 15.331%\n",
            "260000/1663258, 15.632%\n",
            "265000/1663258, 15.933%\n",
            "270000/1663258, 16.233%\n",
            "275000/1663258, 16.534%\n",
            "280000/1663258, 16.834%\n",
            "285000/1663258, 17.135%\n",
            "290000/1663258, 17.436%\n",
            "295000/1663258, 17.736%\n",
            "300000/1663258, 18.037%\n",
            "305000/1663258, 18.338%\n",
            "310000/1663258, 18.638%\n",
            "315000/1663258, 18.939%\n",
            "320000/1663258, 19.239%\n",
            "325000/1663258, 19.540%\n",
            "330000/1663258, 19.841%\n",
            "335000/1663258, 20.141%\n",
            "340000/1663258, 20.442%\n",
            "345000/1663258, 20.742%\n",
            "350000/1663258, 21.043%\n",
            "355000/1663258, 21.344%\n",
            "360000/1663258, 21.644%\n",
            "365000/1663258, 21.945%\n",
            "370000/1663258, 22.245%\n",
            "375000/1663258, 22.546%\n",
            "380000/1663258, 22.847%\n",
            "385000/1663258, 23.147%\n",
            "390000/1663258, 23.448%\n",
            "395000/1663258, 23.749%\n",
            "400000/1663258, 24.049%\n",
            "405000/1663258, 24.350%\n",
            "410000/1663258, 24.650%\n",
            "415000/1663258, 24.951%\n",
            "420000/1663258, 25.252%\n",
            "425000/1663258, 25.552%\n",
            "430000/1663258, 25.853%\n",
            "435000/1663258, 26.153%\n",
            "440000/1663258, 26.454%\n",
            "445000/1663258, 26.755%\n",
            "450000/1663258, 27.055%\n",
            "455000/1663258, 27.356%\n",
            "460000/1663258, 27.657%\n",
            "465000/1663258, 27.957%\n",
            "470000/1663258, 28.258%\n",
            "475000/1663258, 28.558%\n",
            "480000/1663258, 28.859%\n",
            "485000/1663258, 29.160%\n",
            "490000/1663258, 29.460%\n",
            "495000/1663258, 29.761%\n",
            "500000/1663258, 30.061%\n",
            "505000/1663258, 30.362%\n",
            "510000/1663258, 30.663%\n",
            "515000/1663258, 30.963%\n",
            "520000/1663258, 31.264%\n",
            "525000/1663258, 31.565%\n",
            "530000/1663258, 31.865%\n",
            "535000/1663258, 32.166%\n",
            "540000/1663258, 32.466%\n",
            "545000/1663258, 32.767%\n",
            "550000/1663258, 33.068%\n",
            "555000/1663258, 33.368%\n",
            "560000/1663258, 33.669%\n",
            "565000/1663258, 33.969%\n",
            "570000/1663258, 34.270%\n",
            "575000/1663258, 34.571%\n",
            "580000/1663258, 34.871%\n",
            "585000/1663258, 35.172%\n",
            "590000/1663258, 35.473%\n",
            "595000/1663258, 35.773%\n",
            "600000/1663258, 36.074%\n",
            "605000/1663258, 36.374%\n",
            "610000/1663258, 36.675%\n",
            "615000/1663258, 36.976%\n",
            "620000/1663258, 37.276%\n",
            "625000/1663258, 37.577%\n",
            "630000/1663258, 37.877%\n",
            "635000/1663258, 38.178%\n",
            "640000/1663258, 38.479%\n",
            "645000/1663258, 38.779%\n",
            "650000/1663258, 39.080%\n",
            "655000/1663258, 39.381%\n",
            "660000/1663258, 39.681%\n",
            "665000/1663258, 39.982%\n",
            "670000/1663258, 40.282%\n",
            "675000/1663258, 40.583%\n",
            "680000/1663258, 40.884%\n",
            "685000/1663258, 41.184%\n",
            "690000/1663258, 41.485%\n",
            "695000/1663258, 41.785%\n",
            "700000/1663258, 42.086%\n",
            "705000/1663258, 42.387%\n",
            "710000/1663258, 42.687%\n",
            "715000/1663258, 42.988%\n",
            "720000/1663258, 43.289%\n",
            "725000/1663258, 43.589%\n",
            "730000/1663258, 43.890%\n",
            "735000/1663258, 44.190%\n",
            "740000/1663258, 44.491%\n",
            "745000/1663258, 44.792%\n",
            "750000/1663258, 45.092%\n",
            "755000/1663258, 45.393%\n",
            "760000/1663258, 45.693%\n",
            "765000/1663258, 45.994%\n",
            "770000/1663258, 46.295%\n",
            "775000/1663258, 46.595%\n",
            "780000/1663258, 46.896%\n",
            "785000/1663258, 47.197%\n",
            "790000/1663258, 47.497%\n",
            "795000/1663258, 47.798%\n",
            "800000/1663258, 48.098%\n",
            "805000/1663258, 48.399%\n",
            "810000/1663258, 48.700%\n",
            "815000/1663258, 49.000%\n",
            "820000/1663258, 49.301%\n",
            "825000/1663258, 49.601%\n",
            "830000/1663258, 49.902%\n",
            "835000/1663258, 50.203%\n",
            "840000/1663258, 50.503%\n",
            "845000/1663258, 50.804%\n",
            "850000/1663258, 51.105%\n",
            "855000/1663258, 51.405%\n",
            "860000/1663258, 51.706%\n",
            "865000/1663258, 52.006%\n",
            "870000/1663258, 52.307%\n",
            "875000/1663258, 52.608%\n",
            "880000/1663258, 52.908%\n",
            "885000/1663258, 53.209%\n",
            "890000/1663258, 53.509%\n",
            "895000/1663258, 53.810%\n",
            "900000/1663258, 54.111%\n",
            "905000/1663258, 54.411%\n",
            "910000/1663258, 54.712%\n",
            "915000/1663258, 55.013%\n",
            "920000/1663258, 55.313%\n",
            "925000/1663258, 55.614%\n",
            "930000/1663258, 55.914%\n",
            "935000/1663258, 56.215%\n",
            "940000/1663258, 56.516%\n",
            "945000/1663258, 56.816%\n",
            "950000/1663258, 57.117%\n",
            "955000/1663258, 57.417%\n",
            "960000/1663258, 57.718%\n",
            "965000/1663258, 58.019%\n",
            "970000/1663258, 58.319%\n",
            "975000/1663258, 58.620%\n",
            "980000/1663258, 58.921%\n",
            "985000/1663258, 59.221%\n",
            "990000/1663258, 59.522%\n",
            "995000/1663258, 59.822%\n",
            "1000000/1663258, 60.123%\n",
            "1005000/1663258, 60.424%\n",
            "1010000/1663258, 60.724%\n",
            "1015000/1663258, 61.025%\n",
            "1020000/1663258, 61.325%\n",
            "1025000/1663258, 61.626%\n",
            "1030000/1663258, 61.927%\n",
            "1035000/1663258, 62.227%\n",
            "1040000/1663258, 62.528%\n",
            "1045000/1663258, 62.828%\n",
            "1050000/1663258, 63.129%\n",
            "1055000/1663258, 63.430%\n",
            "1060000/1663258, 63.730%\n",
            "1065000/1663258, 64.031%\n",
            "1070000/1663258, 64.332%\n",
            "1075000/1663258, 64.632%\n",
            "1080000/1663258, 64.933%\n",
            "1085000/1663258, 65.233%\n",
            "1090000/1663258, 65.534%\n",
            "1095000/1663258, 65.835%\n",
            "1100000/1663258, 66.135%\n",
            "1105000/1663258, 66.436%\n",
            "1110000/1663258, 66.736%\n",
            "1115000/1663258, 67.037%\n",
            "1120000/1663258, 67.338%\n",
            "1125000/1663258, 67.638%\n",
            "1130000/1663258, 67.939%\n",
            "1135000/1663258, 68.240%\n",
            "1140000/1663258, 68.540%\n",
            "1145000/1663258, 68.841%\n",
            "1150000/1663258, 69.141%\n",
            "1155000/1663258, 69.442%\n",
            "1160000/1663258, 69.743%\n",
            "1165000/1663258, 70.043%\n",
            "1170000/1663258, 70.344%\n",
            "1175000/1663258, 70.644%\n",
            "1180000/1663258, 70.945%\n",
            "1185000/1663258, 71.246%\n",
            "1190000/1663258, 71.546%\n",
            "1195000/1663258, 71.847%\n",
            "1200000/1663258, 72.148%\n",
            "1205000/1663258, 72.448%\n",
            "1210000/1663258, 72.749%\n",
            "1215000/1663258, 73.049%\n",
            "1220000/1663258, 73.350%\n",
            "1225000/1663258, 73.651%\n",
            "1230000/1663258, 73.951%\n",
            "1235000/1663258, 74.252%\n",
            "1240000/1663258, 74.552%\n",
            "1245000/1663258, 74.853%\n",
            "1250000/1663258, 75.154%\n",
            "1255000/1663258, 75.454%\n",
            "1260000/1663258, 75.755%\n",
            "1265000/1663258, 76.056%\n",
            "1270000/1663258, 76.356%\n",
            "1275000/1663258, 76.657%\n",
            "1280000/1663258, 76.957%\n",
            "1285000/1663258, 77.258%\n",
            "1290000/1663258, 77.559%\n",
            "1295000/1663258, 77.859%\n",
            "1300000/1663258, 78.160%\n",
            "1305000/1663258, 78.460%\n",
            "1310000/1663258, 78.761%\n",
            "1315000/1663258, 79.062%\n",
            "1320000/1663258, 79.362%\n",
            "1325000/1663258, 79.663%\n",
            "1330000/1663258, 79.964%\n",
            "1335000/1663258, 80.264%\n",
            "1340000/1663258, 80.565%\n",
            "1345000/1663258, 80.865%\n",
            "1350000/1663258, 81.166%\n",
            "1355000/1663258, 81.467%\n",
            "1360000/1663258, 81.767%\n",
            "1365000/1663258, 82.068%\n",
            "1370000/1663258, 82.368%\n",
            "1375000/1663258, 82.669%\n",
            "1380000/1663258, 82.970%\n",
            "1385000/1663258, 83.270%\n",
            "1390000/1663258, 83.571%\n",
            "1395000/1663258, 83.872%\n",
            "1400000/1663258, 84.172%\n",
            "1405000/1663258, 84.473%\n",
            "1410000/1663258, 84.773%\n",
            "1415000/1663258, 85.074%\n",
            "1420000/1663258, 85.375%\n",
            "1425000/1663258, 85.675%\n",
            "1430000/1663258, 85.976%\n",
            "1435000/1663258, 86.276%\n",
            "1440000/1663258, 86.577%\n",
            "1445000/1663258, 86.878%\n",
            "1450000/1663258, 87.178%\n",
            "1455000/1663258, 87.479%\n",
            "1460000/1663258, 87.780%\n",
            "1465000/1663258, 88.080%\n",
            "1470000/1663258, 88.381%\n",
            "1475000/1663258, 88.681%\n",
            "1480000/1663258, 88.982%\n",
            "1485000/1663258, 89.283%\n",
            "1490000/1663258, 89.583%\n",
            "1495000/1663258, 89.884%\n",
            "1500000/1663258, 90.184%\n",
            "1505000/1663258, 90.485%\n",
            "1510000/1663258, 90.786%\n",
            "1515000/1663258, 91.086%\n",
            "1520000/1663258, 91.387%\n",
            "1525000/1663258, 91.688%\n",
            "1530000/1663258, 91.988%\n",
            "1535000/1663258, 92.289%\n",
            "1540000/1663258, 92.589%\n",
            "1545000/1663258, 92.890%\n",
            "1550000/1663258, 93.191%\n",
            "1555000/1663258, 93.491%\n",
            "1560000/1663258, 93.792%\n",
            "1565000/1663258, 94.092%\n",
            "1570000/1663258, 94.393%\n",
            "1575000/1663258, 94.694%\n",
            "1580000/1663258, 94.994%\n",
            "1585000/1663258, 95.295%\n",
            "1590000/1663258, 95.596%\n",
            "1595000/1663258, 95.896%\n",
            "1600000/1663258, 96.197%\n",
            "1605000/1663258, 96.497%\n",
            "1610000/1663258, 96.798%\n",
            "1615000/1663258, 97.099%\n",
            "1620000/1663258, 97.399%\n",
            "1625000/1663258, 97.700%\n",
            "1630000/1663258, 98.000%\n",
            "1635000/1663258, 98.301%\n",
            "1640000/1663258, 98.602%\n",
            "1645000/1663258, 98.902%\n",
            "1650000/1663258, 99.203%\n",
            "1655000/1663258, 99.504%\n",
            "1660000/1663258, 99.804%\n"
          ]
        }
      ]
    },
    {
      "cell_type": "code",
      "source": [
        "%%shell\n",
        "\n",
        "head lexicon.txt"
      ],
      "metadata": {
        "colab": {
          "base_uri": "https://localhost:8080/"
        },
        "id": "hIqY4QDhNul9",
        "outputId": "9bb982b9-f7ac-4465-9147-77fe6cafadeb"
      },
      "execution_count": 9,
      "outputs": [
        {
          "output_type": "stream",
          "name": "stdout",
          "text": [
            "sternwind ʃ t ˈ ɛ ɾ n v ɪ n t\n",
            "rezitatorin r ˌ e ː t s i ː t ˈ ɑ ː t o ː r ˌ ɪ n\n",
            "erwerbstitels ɛ ɾ v ˈ ɛ ɾ p s t i ː t ə l s\n",
            "vergleichseinheiten f ɛ ɾ ɡ l ˈ a ɪ c ̧ z a ɪ n h ˌ a ɪ t ə n\n",
            "reliefblock r ˈ e ː l i ː f b l ˌ ɔ k\n",
            "massenverhaftungen m ˈ a s ə n f ɜ h ˌ a f t ʊ ŋ ə n\n",
            "nahrungsmittelkosten n ˈ ɑ ː r ʊ ŋ s m ˌ ɪ t ə l k ˌ ɔ s t ə n\n",
            "kupferoxyden k ˈ ʊ p f e ː r ˌ ɔ k s y ː d ə n\n",
            "grundschliff ɡ ɾ ˈ ʊ n t ʃ l ɪ f\n",
            "bogenarchitektur b ˌ o ː ɡ ə n ˌ a ɾ c ̧ i ː t ɛ k t ˈ u ː ɾ\n"
          ]
        },
        {
          "output_type": "execute_result",
          "data": {
            "text/plain": []
          },
          "metadata": {},
          "execution_count": 9
        }
      ]
    },
    {
      "cell_type": "code",
      "source": [
        "%%shell\n",
        "\n",
        "grep -i -w ende ./lexicon.txt"
      ],
      "metadata": {
        "colab": {
          "base_uri": "https://localhost:8080/"
        },
        "id": "wjnHkLMpPz6f",
        "outputId": "b913d93f-5b87-4f71-e650-e8bd6abc7108"
      },
      "execution_count": 10,
      "outputs": [
        {
          "output_type": "stream",
          "name": "stdout",
          "text": [
            "ende ˈ ɛ n d ə\n"
          ]
        },
        {
          "output_type": "execute_result",
          "data": {
            "text/plain": []
          },
          "metadata": {},
          "execution_count": 10
        }
      ]
    },
    {
      "cell_type": "code",
      "source": [
        "%%shell\n",
        "\n",
        "file tokens.txt lexicon.txt"
      ],
      "metadata": {
        "colab": {
          "base_uri": "https://localhost:8080/"
        },
        "id": "cN89eVlRSW4r",
        "outputId": "d7f390c7-11f5-4bd8-e2f1-e8a64e6fa89f"
      },
      "execution_count": 11,
      "outputs": [
        {
          "output_type": "stream",
          "name": "stdout",
          "text": [
            "tokens.txt:  Unicode text, UTF-8 text\n",
            "lexicon.txt: Unicode text, UTF-8 text\n"
          ]
        },
        {
          "output_type": "execute_result",
          "data": {
            "text/plain": []
          },
          "metadata": {},
          "execution_count": 11
        }
      ]
    },
    {
      "cell_type": "markdown",
      "source": [
        "## Add a new word to lexicon.txt"
      ],
      "metadata": {
        "id": "tN3MKWPsDcAP"
      }
    },
    {
      "cell_type": "code",
      "source": [
        "config = load_config('de_DE-thorsten-low.onnx')\n",
        "phonemes = phonemize_espeak(\"für\", config[\"espeak\"][\"voice\"])[0]\n",
        "print(phonemes)\n",
        "print('für', ' '.join(phonemes))\n",
        "id_map = config[\"phoneme_id_map\"]\n",
        "for p in phonemes:\n",
        "  print(id_map[p][0])"
      ],
      "metadata": {
        "colab": {
          "base_uri": "https://localhost:8080/"
        },
        "id": "8M_q2Xluj_s3",
        "outputId": "6ced7284-3367-4eb8-dc50-38ff5e4511f3"
      },
      "execution_count": 12,
      "outputs": [
        {
          "output_type": "stream",
          "name": "stdout",
          "text": [
            "['f', 'ˈ', 'y', 'ː', 'ɾ']\n",
            "für f ˈ y ː ɾ\n",
            "19\n",
            "120\n",
            "37\n",
            "122\n",
            "92\n"
          ]
        }
      ]
    },
    {
      "cell_type": "code",
      "source": [
        "%%shell\n",
        "\n",
        "(echo \"für f ˈ y ː ɾ\"; cat lexicon.txt) > a.txt\n",
        "mv a.txt lexicon.txt\n",
        "head lexicon.txt"
      ],
      "metadata": {
        "id": "6YfkJMQekRJ-",
        "colab": {
          "base_uri": "https://localhost:8080/"
        },
        "outputId": "29cc9d0c-0d0e-4d0c-8558-e2ea7cc1751c"
      },
      "execution_count": 13,
      "outputs": [
        {
          "output_type": "stream",
          "name": "stdout",
          "text": [
            "für f ˈ y ː ɾ\n",
            "sternwind ʃ t ˈ ɛ ɾ n v ɪ n t\n",
            "rezitatorin r ˌ e ː t s i ː t ˈ ɑ ː t o ː r ˌ ɪ n\n",
            "erwerbstitels ɛ ɾ v ˈ ɛ ɾ p s t i ː t ə l s\n",
            "vergleichseinheiten f ɛ ɾ ɡ l ˈ a ɪ c ̧ z a ɪ n h ˌ a ɪ t ə n\n",
            "reliefblock r ˈ e ː l i ː f b l ˌ ɔ k\n",
            "massenverhaftungen m ˈ a s ə n f ɜ h ˌ a f t ʊ ŋ ə n\n",
            "nahrungsmittelkosten n ˈ ɑ ː r ʊ ŋ s m ˌ ɪ t ə l k ˌ ɔ s t ə n\n",
            "kupferoxyden k ˈ ʊ p f e ː r ˌ ɔ k s y ː d ə n\n",
            "grundschliff ɡ ɾ ˈ ʊ n t ʃ l ɪ f\n"
          ]
        },
        {
          "output_type": "execute_result",
          "data": {
            "text/plain": []
          },
          "metadata": {},
          "execution_count": 13
        }
      ]
    },
    {
      "cell_type": "code",
      "source": [
        "%%shell\n",
        "\n",
        "wget https://huggingface.co/rhasspy/piper-voices/resolve/main/de/de_DE/thorsten/low/MODEL_CARD\n",
        "ls -lh"
      ],
      "metadata": {
        "colab": {
          "base_uri": "https://localhost:8080/"
        },
        "id": "PAocqU3pMypZ",
        "outputId": "2ed85864-80d7-4911-8200-d786aac3ebe7"
      },
      "execution_count": 14,
      "outputs": [
        {
          "output_type": "stream",
          "name": "stdout",
          "text": [
            "--2023-10-27 03:35:12--  https://huggingface.co/rhasspy/piper-voices/resolve/main/de/de_DE/thorsten/low/MODEL_CARD\n",
            "Resolving huggingface.co (huggingface.co)... 65.8.178.12, 65.8.178.27, 65.8.178.93, ...\n",
            "Connecting to huggingface.co (huggingface.co)|65.8.178.12|:443... connected.\n",
            "HTTP request sent, awaiting response... 200 OK\n",
            "Length: 274 [text/plain]\n",
            "Saving to: ‘MODEL_CARD’\n",
            "\n",
            "\rMODEL_CARD            0%[                    ]       0  --.-KB/s               \rMODEL_CARD          100%[===================>]     274  --.-KB/s    in 0s      \n",
            "\n",
            "2023-10-27 03:35:12 (87.7 MB/s) - ‘MODEL_CARD’ saved [274/274]\n",
            "\n",
            "total 190M\n",
            "-rw-r--r-- 1 root root  73K Dec 27  2017 austriazismen.txt\n",
            "-rw-r--r-- 1 root root 143K Sep 25  2021 autocomplete.txt\n",
            "-rw-r--r-- 1 root root  61M Oct 27 03:23 de_DE-thorsten-low.onnx\n",
            "-rw-r--r-- 1 root root 4.1K Oct 27 03:22 de_DE-thorsten-low.onnx.json\n",
            "-rw-r--r-- 1 root root 6.0M Oct  1  2021 german.7z\n",
            "-rw-r--r-- 1 root root  35M Oct  1  2021 german.dic\n",
            "-rw-r--r-- 1 root root  48K Jul  8  2021 helvetismen.txt\n",
            "-rw-r--r-- 1 root root  90M Oct 27 03:33 lexicon.txt\n",
            "-rw-r--r-- 1 root root  827 Oct 27  2016 LiesMich.txt\n",
            "-rw-r--r-- 1 root root  274 Oct 27 03:35 MODEL_CARD\n",
            "drwxr-xr-x 1 root root 4.0K Oct 25 13:21 sample_data\n",
            "-rw-r--r-- 1 root root  763 Oct 27 03:23 tokens.txt\n",
            "-rw-r--r-- 1 root root  70K Sep 11  2019 variants.dic\n"
          ]
        },
        {
          "output_type": "execute_result",
          "data": {
            "text/plain": []
          },
          "metadata": {},
          "execution_count": 14
        }
      ]
    },
    {
      "cell_type": "code",
      "source": [],
      "metadata": {
        "id": "j0aRtd4sNiUT"
      },
      "execution_count": null,
      "outputs": []
    }
  ]
}
