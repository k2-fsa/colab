{
  "nbformat": 4,
  "nbformat_minor": 0,
  "metadata": {
    "colab": {
      "provenance": [],
      "authorship_tag": "ABX9TyMWIFpDIrdzBEF8ynKEphRy",
      "include_colab_link": true
    },
    "kernelspec": {
      "name": "python3",
      "display_name": "Python 3"
    },
    "language_info": {
      "name": "python"
    }
  },
  "cells": [
    {
      "cell_type": "markdown",
      "metadata": {
        "id": "view-in-github",
        "colab_type": "text"
      },
      "source": [
        "<a href=\"https://colab.research.google.com/github/k2-fsa/colab/blob/master/sherpa-onnx/sherpa_onnx_csharp_api_example.ipynb\" target=\"_parent\"><img src=\"https://colab.research.google.com/assets/colab-badge.svg\" alt=\"Open In Colab\"/></a>"
      ]
    },
    {
      "cell_type": "markdown",
      "source": [
        "# Introduction\n",
        "\n",
        "This colab notebook shows how to run C# API examples with [sherpa-onnx](https://github.com/k2-fsa/sherpa-onnx).\n",
        "\n",
        "\n",
        "Please refer to https://k2-fsa.github.io/sherpa/onnx/csharp-api/index.html for details.\n",
        "\n",
        "\n"
      ],
      "metadata": {
        "id": "Cf0q0l_rfHos"
      }
    },
    {
      "cell_type": "markdown",
      "source": [
        "# Install .Net"
      ],
      "metadata": {
        "id": "O64AGisOiK54"
      }
    },
    {
      "cell_type": "code",
      "execution_count": 1,
      "metadata": {
        "colab": {
          "base_uri": "https://localhost:8080/"
        },
        "id": "XHY9813UfDLn",
        "outputId": "de83cad3-4988-4266-8b20-ccbc694d8fa4"
      },
      "outputs": [
        {
          "output_type": "stream",
          "name": "stdout",
          "text": [
            "--2023-08-10 13:16:12--  https://download.visualstudio.microsoft.com/download/pr/8eed69b0-0f3a-4d43-a47d-37dd67ece54d/0f2a9e86ff24fbd7bbc129b2c18851fe/dotnet-sdk-6.0.413-linux-x64.tar.gz\n",
            "Resolving download.visualstudio.microsoft.com (download.visualstudio.microsoft.com)... 192.229.232.200, 2606:2800:147:ff8:129b:22eb:20b:1347\n",
            "Connecting to download.visualstudio.microsoft.com (download.visualstudio.microsoft.com)|192.229.232.200|:443... connected.\n",
            "HTTP request sent, awaiting response... 200 OK\n",
            "Length: 186150739 (178M) [application/octet-stream]\n",
            "Saving to: ‘dotnet-sdk-6.0.413-linux-x64.tar.gz’\n",
            "\n",
            "dotnet-sdk-6.0.413- 100%[===================>] 177.53M   155MB/s    in 1.1s    \n",
            "\n",
            "2023-08-10 13:16:13 (155 MB/s) - ‘dotnet-sdk-6.0.413-linux-x64.tar.gz’ saved [186150739/186150739]\n",
            "\n",
            "\u001b[?1h\u001b=6.0.413\n",
            "6.0.413 [/content/.dotnet/sdk]\n"
          ]
        },
        {
          "output_type": "execute_result",
          "data": {
            "text/plain": []
          },
          "metadata": {},
          "execution_count": 1
        }
      ],
      "source": [
        "%%shell\n",
        "\n",
        "# see https://learn.microsoft.com/en-us/dotnet/core/install/linux-scripted-manual#manual-install\n",
        "# and https://dotnet.microsoft.com/en-us/download/dotnet/6.0\n",
        "\n",
        "wget https://download.visualstudio.microsoft.com/download/pr/8eed69b0-0f3a-4d43-a47d-37dd67ece54d/0f2a9e86ff24fbd7bbc129b2c18851fe/dotnet-sdk-6.0.413-linux-x64.tar.gz\n",
        "\n",
        "DOTNET_FILE=dotnet-sdk-6.0.413-linux-x64.tar.gz\n",
        "export DOTNET_ROOT=$(pwd)/.dotnet\n",
        "\n",
        "mkdir -p \"$DOTNET_ROOT\" && tar zxf \"$DOTNET_FILE\" -C \"$DOTNET_ROOT\"\n",
        "\n",
        "export PATH=$PATH:$DOTNET_ROOT:$DOTNET_ROOT/tools\n",
        "\n",
        "dotnet --version\n",
        "dotnet --list-sdks"
      ]
    },
    {
      "cell_type": "markdown",
      "source": [
        "# Download sherpa-onnx\n",
        "\n",
        "Note that we use download sherpa-onnx instead of build sherpa-onnx.\n",
        "\n"
      ],
      "metadata": {
        "id": "jVobvbFAjFf3"
      }
    },
    {
      "cell_type": "code",
      "source": [
        "! git clone https://github.com/k2-fsa/sherpa-onnx"
      ],
      "metadata": {
        "colab": {
          "base_uri": "https://localhost:8080/"
        },
        "id": "LgDTXn6ri8ji",
        "outputId": "9071578f-bf7b-43a3-d280-97097fc007ee"
      },
      "execution_count": 2,
      "outputs": [
        {
          "output_type": "stream",
          "name": "stdout",
          "text": [
            "Cloning into 'sherpa-onnx'...\n",
            "remote: Enumerating objects: 2636, done.\u001b[K\n",
            "remote: Counting objects: 100% (1089/1089), done.\u001b[K\n",
            "remote: Compressing objects: 100% (438/438), done.\u001b[K\n",
            "remote: Total 2636 (delta 762), reused 804 (delta 640), pack-reused 1547\u001b[K\n",
            "Receiving objects: 100% (2636/2636), 1.89 MiB | 5.53 MiB/s, done.\n",
            "Resolving deltas: 100% (1516/1516), done.\n"
          ]
        }
      ]
    },
    {
      "cell_type": "markdown",
      "source": [
        "# Decode files with non-streaming models"
      ],
      "metadata": {
        "id": "jPaHGXsxjKga"
      }
    },
    {
      "cell_type": "code",
      "source": [
        "%%shell\n",
        "\n",
        "export DOTNET_ROOT=$(pwd)/.dotnet\n",
        "export PATH=$PATH:$DOTNET_ROOT:$DOTNET_ROOT/tools\n",
        "\n",
        "cd sherpa-onnx/dotnet-examples/offline-decode-files/\n",
        "dotnet build -c Release\n",
        "./bin/Release/net6.0/offline-decode-files --help || echo"
      ],
      "metadata": {
        "colab": {
          "base_uri": "https://localhost:8080/"
        },
        "id": "1i2QlBLhjIvb",
        "outputId": "e293dc5c-28ae-4593-dc20-8d49cc3b42a1"
      },
      "execution_count": 3,
      "outputs": [
        {
          "output_type": "stream",
          "name": "stdout",
          "text": [
            "\u001b[?1h\u001b=\n",
            "Welcome to .NET 6.0!\r\n",
            "---------------------\r\n",
            "SDK Version: 6.0.413\n",
            "\n",
            "Telemetry\r\n",
            "---------\r\n",
            "The .NET tools collect usage data in order to help us improve your experience. It is collected by Microsoft and shared with the community. You can opt-out of telemetry by setting the DOTNET_CLI_TELEMETRY_OPTOUT environment variable to '1' or 'true' using your favorite shell.\r\n",
            "\r\n",
            "Read more about .NET CLI Tools telemetry: https://aka.ms/dotnet-cli-telemetry\n",
            "\n",
            "----------------\r\n",
            "Installed an ASP.NET Core HTTPS development certificate.\r\n",
            "To trust the certificate run 'dotnet dev-certs https --trust' (Windows and macOS only).\r\n",
            "Learn about HTTPS: https://aka.ms/dotnet-https\r\n",
            "----------------\r\n",
            "Write your first app: https://aka.ms/dotnet-hello-world\r\n",
            "Find out what's new: https://aka.ms/dotnet-whats-new\r\n",
            "Explore documentation: https://aka.ms/dotnet-docs\r\n",
            "Report issues and find source on GitHub: https://github.com/dotnet/core\r\n",
            "Use 'dotnet --help' to see available commands or visit: https://aka.ms/dotnet-cli\r\n",
            "--------------------------------------------------------------------------------------\n",
            "MSBuild version 17.3.2+561848881 for .NET\n",
            "\u001b[?1h\u001b=\u001b[?1h\u001b=  Determining projects to restore...\n",
            "  Restored /content/sherpa-onnx/dotnet-examples/offline-decode-files/offline-decode-files.csproj (in 7.36 sec).\n",
            "\u001b[m\u001b[33m/content/sherpa-onnx/dotnet-examples/offline-decode-files/Program.cs(19,19): warning CS8618: Non-nullable property 'Tokens' must contain a non-null value when exiting constructor. Consider declaring the property as nullable. [/content/sherpa-onnx/dotnet-examples/offline-decode-files/offline-decode-files.csproj]\n",
            "\u001b[m\u001b[m\u001b[33m/content/sherpa-onnx/dotnet-examples/offline-decode-files/Program.cs(22,19): warning CS8618: Non-nullable property 'Encoder' must contain a non-null value when exiting constructor. Consider declaring the property as nullable. [/content/sherpa-onnx/dotnet-examples/offline-decode-files/offline-decode-files.csproj]\n",
            "\u001b[m\u001b[m\u001b[33m/content/sherpa-onnx/dotnet-examples/offline-decode-files/Program.cs(25,19): warning CS8618: Non-nullable property 'Decoder' must contain a non-null value when exiting constructor. Consider declaring the property as nullable. [/content/sherpa-onnx/dotnet-examples/offline-decode-files/offline-decode-files.csproj]\n",
            "\u001b[m\u001b[m\u001b[33m/content/sherpa-onnx/dotnet-examples/offline-decode-files/Program.cs(28,19): warning CS8618: Non-nullable property 'Joiner' must contain a non-null value when exiting constructor. Consider declaring the property as nullable. [/content/sherpa-onnx/dotnet-examples/offline-decode-files/offline-decode-files.csproj]\n",
            "\u001b[m\u001b[m\u001b[33m/content/sherpa-onnx/dotnet-examples/offline-decode-files/Program.cs(31,19): warning CS8618: Non-nullable property 'Paraformer' must contain a non-null value when exiting constructor. Consider declaring the property as nullable. [/content/sherpa-onnx/dotnet-examples/offline-decode-files/offline-decode-files.csproj]\n",
            "\u001b[m\u001b[m\u001b[33m/content/sherpa-onnx/dotnet-examples/offline-decode-files/Program.cs(34,19): warning CS8618: Non-nullable property 'NeMoCtc' must contain a non-null value when exiting constructor. Consider declaring the property as nullable. [/content/sherpa-onnx/dotnet-examples/offline-decode-files/offline-decode-files.csproj]\n",
            "\u001b[m\u001b[m\u001b[33m/content/sherpa-onnx/dotnet-examples/offline-decode-files/Program.cs(41,19): warning CS8618: Non-nullable property 'DecodingMethod' must contain a non-null value when exiting constructor. Consider declaring the property as nullable. [/content/sherpa-onnx/dotnet-examples/offline-decode-files/offline-decode-files.csproj]\n",
            "\u001b[m\u001b[m\u001b[33m/content/sherpa-onnx/dotnet-examples/offline-decode-files/Program.cs(49,32): warning CS8618: Non-nullable property 'Files' must contain a non-null value when exiting constructor. Consider declaring the property as nullable. [/content/sherpa-onnx/dotnet-examples/offline-decode-files/offline-decode-files.csproj]\n",
            "\u001b[m  offline-decode-files -> /content/sherpa-onnx/dotnet-examples/offline-decode-files/bin/Release/net6.0/offline-decode-files.dll\n",
            "\u001b[m\u001b[32m\n",
            "Build succeeded.\n",
            "\u001b[m\n",
            "\u001b[m\u001b[33m/content/sherpa-onnx/dotnet-examples/offline-decode-files/Program.cs(19,19): warning CS8618: Non-nullable property 'Tokens' must contain a non-null value when exiting constructor. Consider declaring the property as nullable. [/content/sherpa-onnx/dotnet-examples/offline-decode-files/offline-decode-files.csproj]\n",
            "/content/sherpa-onnx/dotnet-examples/offline-decode-files/Program.cs(22,19): warning CS8618: Non-nullable property 'Encoder' must contain a non-null value when exiting constructor. Consider declaring the property as nullable. [/content/sherpa-onnx/dotnet-examples/offline-decode-files/offline-decode-files.csproj]\n",
            "/content/sherpa-onnx/dotnet-examples/offline-decode-files/Program.cs(25,19): warning CS8618: Non-nullable property 'Decoder' must contain a non-null value when exiting constructor. Consider declaring the property as nullable. [/content/sherpa-onnx/dotnet-examples/offline-decode-files/offline-decode-files.csproj]\n",
            "/content/sherpa-onnx/dotnet-examples/offline-decode-files/Program.cs(28,19): warning CS8618: Non-nullable property 'Joiner' must contain a non-null value when exiting constructor. Consider declaring the property as nullable. [/content/sherpa-onnx/dotnet-examples/offline-decode-files/offline-decode-files.csproj]\n",
            "/content/sherpa-onnx/dotnet-examples/offline-decode-files/Program.cs(31,19): warning CS8618: Non-nullable property 'Paraformer' must contain a non-null value when exiting constructor. Consider declaring the property as nullable. [/content/sherpa-onnx/dotnet-examples/offline-decode-files/offline-decode-files.csproj]\n",
            "/content/sherpa-onnx/dotnet-examples/offline-decode-files/Program.cs(34,19): warning CS8618: Non-nullable property 'NeMoCtc' must contain a non-null value when exiting constructor. Consider declaring the property as nullable. [/content/sherpa-onnx/dotnet-examples/offline-decode-files/offline-decode-files.csproj]\n",
            "/content/sherpa-onnx/dotnet-examples/offline-decode-files/Program.cs(41,19): warning CS8618: Non-nullable property 'DecodingMethod' must contain a non-null value when exiting constructor. Consider declaring the property as nullable. [/content/sherpa-onnx/dotnet-examples/offline-decode-files/offline-decode-files.csproj]\n",
            "/content/sherpa-onnx/dotnet-examples/offline-decode-files/Program.cs(49,32): warning CS8618: Non-nullable property 'Files' must contain a non-null value when exiting constructor. Consider declaring the property as nullable. [/content/sherpa-onnx/dotnet-examples/offline-decode-files/offline-decode-files.csproj]\n",
            "\u001b[m\u001b[m\u001b[33m    8 Warning(s)\n",
            "\u001b[m    0 Error(s)\n",
            "\u001b[m\n",
            "Time Elapsed 00:00:14.28\n",
            "\u001b[?1h\u001b=\n",
            "# Zipformer\n",
            "\n",
            "dotnet run \\\n",
            "  --tokens=./sherpa-onnx-zipformer-en-2023-04-01/tokens.txt \\\n",
            "  --encoder=./sherpa-onnx-zipformer-en-2023-04-01/encoder-epoch-99-avg-1.onnx \\\n",
            "  --decoder=./sherpa-onnx-zipformer-en-2023-04-01/decoder-epoch-99-avg-1.onnx \\\n",
            "  --joiner=./sherpa-onnx-zipformer-en-2023-04-01/joiner-epoch-99-avg-1.onnx \\\n",
            "  --files ./sherpa-onnx-zipformer-en-2023-04-01/test_wavs/0.wav \\\n",
            "  ./sherpa-onnx-zipformer-en-2023-04-01/test_wavs/1.wav \\\n",
            "  ./sherpa-onnx-zipformer-en-2023-04-01/test_wavs/8k.wav\n",
            "\n",
            "Please refer to\n",
            "https://k2-fsa.github.io/sherpa/onnx/pretrained_models/offline-transducer/index.html\n",
            "to download pre-trained non-streaming zipformer models.\n",
            "\n",
            "# Paraformer\n",
            "\n",
            "dotnet run \\\n",
            "  --tokens=./sherpa-onnx-paraformer-zh-2023-03-28/tokens.txt \\\n",
            "  --paraformer=./sherpa-onnx-paraformer-zh-2023-03-28/model.onnx \\\n",
            "  --files ./sherpa-onnx-zipformer-en-2023-04-01/test_wavs/0.wav \\\n",
            "  ./sherpa-onnx-paraformer-zh-2023-03-28/test_wavs/0.wav \\\n",
            "  ./sherpa-onnx-paraformer-zh-2023-03-28/test_wavs/1.wav \\\n",
            "  ./sherpa-onnx-paraformer-zh-2023-03-28/test_wavs/2.wav \\\n",
            "  ./sherpa-onnx-paraformer-zh-2023-03-28/test_wavs/8k.wav\n",
            "\n",
            "Please refer to\n",
            "https://k2-fsa.github.io/sherpa/onnx/pretrained_models/offline-paraformer/index.html\n",
            "to download pre-trained paraformer models\n",
            "\n",
            "# NeMo CTC\n",
            "\n",
            "dotnet run \\\n",
            "  --tokens=./sherpa-onnx-nemo-ctc-en-conformer-medium/tokens.txt \\\n",
            "  --nemo-ctc=./sherpa-onnx-nemo-ctc-en-conformer-medium/model.onnx \\\n",
            "  --num-threads=1 \\\n",
            "  --files ./sherpa-onnx-nemo-ctc-en-conformer-medium/test_wavs/0.wav \\\n",
            "  ./sherpa-onnx-nemo-ctc-en-conformer-medium/test_wavs/1.wav \\\n",
            "  ./sherpa-onnx-nemo-ctc-en-conformer-medium/test_wavs/8k.wav\n",
            "\n",
            "Please refer to\n",
            "https://k2-fsa.github.io/sherpa/onnx/pretrained_models/offline-ctc/index.html\n",
            "to download pre-trained paraformer models\n",
            "\n",
            "Copyright (c) 2023 Xiaomi Corporation\n",
            "\n",
            "  --tokens              Path to tokens.txt\n",
            "  --encoder             Path to encoder.onnx. Used only for transducer models\n",
            "  --decoder             Path to decoder.onnx. Used only for transducer models\n",
            "  --joiner              Path to joiner.onnx. Used only for transducer models\n",
            "  --paraformer          Path to model.onnx. Used only for paraformer models\n",
            "  --nemo-ctc            Path to model.onnx. Used only for NeMo CTC models\n",
            "  --num-threads         (Default: 1) Number of threads for computation\n",
            "  --decoding-method     (Default: greedy_search) Valid decoding methods are:\n",
            "                        greedy_search, modified_beam_search\n",
            "  --max-active-paths    (Default: 4) Used only when --decoding--method is\n",
            "                        modified_beam_search.\n",
            "                        It specifies number of active paths to keep during the\n",
            "                        search\n",
            "  --files               Required. Audio files for decoding\n",
            "  --help                Display this help screen.\n",
            "  --version             Display version information.\n",
            "\n"
          ]
        },
        {
          "output_type": "execute_result",
          "data": {
            "text/plain": []
          },
          "metadata": {},
          "execution_count": 3
        }
      ]
    },
    {
      "cell_type": "markdown",
      "source": [
        "## Non-streaming transducer"
      ],
      "metadata": {
        "id": "S83IDQ0skIuL"
      }
    },
    {
      "cell_type": "code",
      "source": [
        "%%shell\n",
        "\n",
        "export DOTNET_ROOT=$(pwd)/.dotnet\n",
        "export PATH=$PATH:$DOTNET_ROOT:$DOTNET_ROOT/tools\n",
        "\n",
        "cd sherpa-onnx/dotnet-examples/offline-decode-files\n",
        "GIT_LFS_SKIP_SMUDGE=1 git clone https://huggingface.co/csukuangfj/sherpa-onnx-zipformer-en-2023-06-26\n",
        "cd sherpa-onnx-zipformer-en-2023-06-26\n",
        "git lfs pull --include \"*.onnx\"\n",
        "cd ..\n",
        "\n",
        "dotnet run -c Release \\\n",
        "  --encoder ./sherpa-onnx-zipformer-en-2023-06-26/encoder-epoch-99-avg-1.onnx \\\n",
        "  --decoder ./sherpa-onnx-zipformer-en-2023-06-26/decoder-epoch-99-avg-1.onnx \\\n",
        "  --joiner ./sherpa-onnx-zipformer-en-2023-06-26/joiner-epoch-99-avg-1.onnx \\\n",
        "  --tokens ./sherpa-onnx-zipformer-en-2023-06-26/tokens.txt \\\n",
        "  --files ./sherpa-onnx-zipformer-en-2023-06-26/test_wavs/0.wav \\\n",
        "  ./sherpa-onnx-zipformer-en-2023-06-26/test_wavs/1.wav \\\n",
        "  ./sherpa-onnx-zipformer-en-2023-06-26/test_wavs/8k.wav"
      ],
      "metadata": {
        "colab": {
          "base_uri": "https://localhost:8080/"
        },
        "id": "zc9nZ-s3jR0X",
        "outputId": "50024a1a-2ec7-4f1f-d8c7-2a729bd608d0"
      },
      "execution_count": 4,
      "outputs": [
        {
          "output_type": "stream",
          "name": "stdout",
          "text": [
            "Cloning into 'sherpa-onnx-zipformer-en-2023-06-26'...\n",
            "remote: Enumerating objects: 20, done.\u001b[K\n",
            "remote: Counting objects: 100% (20/20), done.\u001b[K\n",
            "remote: Compressing objects: 100% (19/19), done.\u001b[K\n",
            "remote: Total 20 (delta 0), reused 0 (delta 0), pack-reused 0\u001b[K\n",
            "Unpacking objects: 100% (20/20), 666.78 KiB | 1.25 MiB/s, done.\n",
            "\u001b[?1h\u001b=\u001b[?1h\u001b=/project/sherpa-onnx/csrc/offline-stream.cc:AcceptWaveformImpl:113 Creating a resampler:\n",
            "   in_sample_rate: 8000\n",
            "   output_sample_rate: 16000\n",
            "\n",
            "--------------------\n",
            "./sherpa-onnx-zipformer-en-2023-06-26/test_wavs/0.wav\n",
            " AFTER EARLY NIGHTFALL THE YELLOW LAMPS WOULD LIGHT UP HERE AND THERE THE SQUALID QUARTER OF THE BROTHELS\n",
            "--------------------\n",
            "./sherpa-onnx-zipformer-en-2023-06-26/test_wavs/1.wav\n",
            " GOD AS A DIRECT CONSEQUENCE OF THE SIN WHICH MAN THUS PUNISHED HAD GIVEN HER A LOVELY CHILD WHOSE PLACE WAS ON THAT SAME DISHONORED BOSOM TO CONNECT HER PARENT FOREVER WITH THE RACE AND DESCENT OF MORTALS AND TO BE FINALLY A BLESSED SOUL IN HEAVEN\n",
            "--------------------\n",
            "./sherpa-onnx-zipformer-en-2023-06-26/test_wavs/8k.wav\n",
            " YET THESE THOUGHTS AFFECTED HESTER PRYNNE LESS WITH HOPE THAN APPREHENSION\n",
            "--------------------\n",
            "\u001b[?1h\u001b="
          ]
        },
        {
          "output_type": "execute_result",
          "data": {
            "text/plain": []
          },
          "metadata": {},
          "execution_count": 4
        }
      ]
    },
    {
      "cell_type": "markdown",
      "source": [
        "## Non-streaming paraformer"
      ],
      "metadata": {
        "id": "FRG7pyDskQ3H"
      }
    },
    {
      "cell_type": "code",
      "source": [
        "%%shell\n",
        "\n",
        "export DOTNET_ROOT=$(pwd)/.dotnet\n",
        "export PATH=$PATH:$DOTNET_ROOT:$DOTNET_ROOT/tools\n",
        "\n",
        "cd sherpa-onnx/dotnet-examples/offline-decode-files\n",
        "GIT_LFS_SKIP_SMUDGE=1 git clone https://huggingface.co/csukuangfj/sherpa-onnx-paraformer-zh-2023-03-28\n",
        "cd sherpa-onnx-paraformer-zh-2023-03-28\n",
        "git lfs pull --include \"*.onnx\"\n",
        "cd ..\n",
        "\n",
        "dotnet run -c Release \\\n",
        "  --paraformer ./sherpa-onnx-paraformer-zh-2023-03-28/model.int8.onnx \\\n",
        "  --tokens ./sherpa-onnx-paraformer-zh-2023-03-28/tokens.txt \\\n",
        "  --files ./sherpa-onnx-paraformer-zh-2023-03-28/test_wavs/0.wav \\\n",
        "  ./sherpa-onnx-paraformer-zh-2023-03-28/test_wavs/1.wav \\\n",
        "  ./sherpa-onnx-paraformer-zh-2023-03-28/test_wavs/8k.wav"
      ],
      "metadata": {
        "colab": {
          "base_uri": "https://localhost:8080/"
        },
        "id": "zpnfjMaNkCjT",
        "outputId": "01c4abb9-e384-4438-dc2a-0bbaeaef1b70"
      },
      "execution_count": 5,
      "outputs": [
        {
          "output_type": "stream",
          "name": "stdout",
          "text": [
            "Cloning into 'sherpa-onnx-paraformer-zh-2023-03-28'...\n",
            "remote: Enumerating objects: 17, done.\u001b[K\n",
            "remote: Total 17 (delta 0), reused 0 (delta 0), pack-reused 17\u001b[K\n",
            "Unpacking objects: 100% (17/17), 491.76 KiB | 1.29 MiB/s, done.\n",
            "\u001b[?1h\u001b=\u001b[?1h\u001b=/project/sherpa-onnx/csrc/offline-stream.cc:AcceptWaveformImpl:113 Creating a resampler:\n",
            "   in_sample_rate: 8000\n",
            "   output_sample_rate: 16000\n",
            "\n",
            "--------------------\n",
            "./sherpa-onnx-paraformer-zh-2023-03-28/test_wavs/0.wav\n",
            "对我做了介绍啊那么我想说的是呢大家如果对我的研究感兴趣呢你\n",
            "--------------------\n",
            "./sherpa-onnx-paraformer-zh-2023-03-28/test_wavs/1.wav\n",
            "重点呢想谈三个问题首先呢就是这一轮全球金融动荡的表现\n",
            "--------------------\n",
            "./sherpa-onnx-paraformer-zh-2023-03-28/test_wavs/8k.wav\n",
            "甚至出现交易几乎停滞的情况\n",
            "--------------------\n",
            "\u001b[?1h\u001b="
          ]
        },
        {
          "output_type": "execute_result",
          "data": {
            "text/plain": []
          },
          "metadata": {},
          "execution_count": 5
        }
      ]
    },
    {
      "cell_type": "markdown",
      "source": [
        "## Non-streaming CTC model from NeMo"
      ],
      "metadata": {
        "id": "2ReNAU9_keWz"
      }
    },
    {
      "cell_type": "code",
      "source": [
        "%%shell\n",
        "\n",
        "export DOTNET_ROOT=$(pwd)/.dotnet\n",
        "export PATH=$PATH:$DOTNET_ROOT:$DOTNET_ROOT/tools\n",
        "\n",
        "cd sherpa-onnx/dotnet-examples/offline-decode-files\n",
        "GIT_LFS_SKIP_SMUDGE=1 git clone https://huggingface.co/csukuangfj/sherpa-onnx-nemo-ctc-en-conformer-medium\n",
        "cd sherpa-onnx-nemo-ctc-en-conformer-medium\n",
        "git lfs pull --include \"*.onnx\"\n",
        "cd ..\n",
        "\n",
        "dotnet run -c Release \\\n",
        "  --nemo-ctc ./sherpa-onnx-nemo-ctc-en-conformer-medium/model.onnx \\\n",
        "  --tokens ./sherpa-onnx-nemo-ctc-en-conformer-medium/tokens.txt \\\n",
        "  --files ./sherpa-onnx-nemo-ctc-en-conformer-medium/test_wavs/0.wav \\\n",
        "  ./sherpa-onnx-nemo-ctc-en-conformer-medium/test_wavs/1.wav \\\n",
        "  ./sherpa-onnx-nemo-ctc-en-conformer-medium/test_wavs/8k.wav"
      ],
      "metadata": {
        "colab": {
          "base_uri": "https://localhost:8080/"
        },
        "id": "udMRTMMIkbPo",
        "outputId": "b18dc2e1-ca93-449b-f051-7f9ee8518a18"
      },
      "execution_count": 6,
      "outputs": [
        {
          "output_type": "stream",
          "name": "stdout",
          "text": [
            "Cloning into 'sherpa-onnx-nemo-ctc-en-conformer-medium'...\n",
            "remote: Enumerating objects: 20, done.\u001b[K\n",
            "remote: Total 20 (delta 0), reused 0 (delta 0), pack-reused 20\u001b[K\n",
            "Unpacking objects: 100% (20/20), 671.36 KiB | 2.00 MiB/s, done.\n",
            "\u001b[?1h\u001b=\u001b[?1h\u001b=/project/sherpa-onnx/csrc/offline-stream.cc:AcceptWaveformImpl:113 Creating a resampler:\n",
            "   in_sample_rate: 8000\n",
            "   output_sample_rate: 16000\n",
            "\n",
            "--------------------\n",
            "./sherpa-onnx-nemo-ctc-en-conformer-medium/test_wavs/0.wav\n",
            " after early nightfall the yellow lamps would light up here and there the squalid quarter of the brothels\n",
            "--------------------\n",
            "./sherpa-onnx-nemo-ctc-en-conformer-medium/test_wavs/1.wav\n",
            " god as a direct consequence of the sin which man thus punished had given her a lovely child whose place was on that same dishonored bosom to connect her parent for ever with the race and descent of mortals and to be finally a blessed soul in heaven\n",
            "--------------------\n",
            "./sherpa-onnx-nemo-ctc-en-conformer-medium/test_wavs/8k.wav\n",
            " yet these thoughts affected hester pryne less with hope than apprehension\n",
            "--------------------\n",
            "\u001b[?1h\u001b="
          ]
        },
        {
          "output_type": "execute_result",
          "data": {
            "text/plain": []
          },
          "metadata": {},
          "execution_count": 6
        }
      ]
    },
    {
      "cell_type": "markdown",
      "source": [
        "# Decode files with streaming models"
      ],
      "metadata": {
        "id": "mwwGZDJFkvvx"
      }
    },
    {
      "cell_type": "code",
      "source": [
        "%%shell\n",
        "\n",
        "export DOTNET_ROOT=$(pwd)/.dotnet\n",
        "export PATH=$PATH:$DOTNET_ROOT:$DOTNET_ROOT/tools\n",
        "\n",
        "cd sherpa-onnx/dotnet-examples/online-decode-files\n",
        "dotnet build -c Release\n",
        "./bin/Release/net6.0/online-decode-files --help || echo"
      ],
      "metadata": {
        "colab": {
          "base_uri": "https://localhost:8080/"
        },
        "id": "NDXf9ljrkshG",
        "outputId": "74127874-2d1f-4e83-a183-b076672b3015"
      },
      "execution_count": 7,
      "outputs": [
        {
          "output_type": "stream",
          "name": "stdout",
          "text": [
            "\u001b[?1h\u001b=MSBuild version 17.3.2+561848881 for .NET\n",
            "  Determining projects to restore...\n",
            "  Restored /content/sherpa-onnx/dotnet-examples/online-decode-files/online-decode-files.csproj (in 607 ms).\n",
            "\u001b[m\u001b[33m/content/sherpa-onnx/dotnet-examples/online-decode-files/Program.cs(21,19): warning CS8618: Non-nullable property 'Tokens' must contain a non-null value when exiting constructor. Consider declaring the property as nullable. [/content/sherpa-onnx/dotnet-examples/online-decode-files/online-decode-files.csproj]\n",
            "\u001b[m\u001b[m\u001b[33m/content/sherpa-onnx/dotnet-examples/online-decode-files/Program.cs(24,19): warning CS8618: Non-nullable property 'Provider' must contain a non-null value when exiting constructor. Consider declaring the property as nullable. [/content/sherpa-onnx/dotnet-examples/online-decode-files/online-decode-files.csproj]\n",
            "\u001b[m\u001b[m\u001b[33m/content/sherpa-onnx/dotnet-examples/online-decode-files/Program.cs(27,19): warning CS8618: Non-nullable property 'Encoder' must contain a non-null value when exiting constructor. Consider declaring the property as nullable. [/content/sherpa-onnx/dotnet-examples/online-decode-files/online-decode-files.csproj]\n",
            "\u001b[m\u001b[m\u001b[33m/content/sherpa-onnx/dotnet-examples/online-decode-files/Program.cs(30,19): warning CS8618: Non-nullable property 'Decoder' must contain a non-null value when exiting constructor. Consider declaring the property as nullable. [/content/sherpa-onnx/dotnet-examples/online-decode-files/online-decode-files.csproj]\n",
            "\u001b[m\u001b[m\u001b[33m/content/sherpa-onnx/dotnet-examples/online-decode-files/Program.cs(33,19): warning CS8618: Non-nullable property 'Joiner' must contain a non-null value when exiting constructor. Consider declaring the property as nullable. [/content/sherpa-onnx/dotnet-examples/online-decode-files/online-decode-files.csproj]\n",
            "\u001b[m\u001b[m\u001b[33m/content/sherpa-onnx/dotnet-examples/online-decode-files/Program.cs(40,19): warning CS8618: Non-nullable property 'DecodingMethod' must contain a non-null value when exiting constructor. Consider declaring the property as nullable. [/content/sherpa-onnx/dotnet-examples/online-decode-files/online-decode-files.csproj]\n",
            "\u001b[m\u001b[m\u001b[33m/content/sherpa-onnx/dotnet-examples/online-decode-files/Program.cs(74,32): warning CS8618: Non-nullable property 'Files' must contain a non-null value when exiting constructor. Consider declaring the property as nullable. [/content/sherpa-onnx/dotnet-examples/online-decode-files/online-decode-files.csproj]\n",
            "\u001b[m  online-decode-files -> /content/sherpa-onnx/dotnet-examples/online-decode-files/bin/Release/net6.0/online-decode-files.dll\n",
            "\u001b[m\u001b[32m\n",
            "Build succeeded.\n",
            "\u001b[m\n",
            "\u001b[m\u001b[33m/content/sherpa-onnx/dotnet-examples/online-decode-files/Program.cs(21,19): warning CS8618: Non-nullable property 'Tokens' must contain a non-null value when exiting constructor. Consider declaring the property as nullable. [/content/sherpa-onnx/dotnet-examples/online-decode-files/online-decode-files.csproj]\n",
            "/content/sherpa-onnx/dotnet-examples/online-decode-files/Program.cs(24,19): warning CS8618: Non-nullable property 'Provider' must contain a non-null value when exiting constructor. Consider declaring the property as nullable. [/content/sherpa-onnx/dotnet-examples/online-decode-files/online-decode-files.csproj]\n",
            "/content/sherpa-onnx/dotnet-examples/online-decode-files/Program.cs(27,19): warning CS8618: Non-nullable property 'Encoder' must contain a non-null value when exiting constructor. Consider declaring the property as nullable. [/content/sherpa-onnx/dotnet-examples/online-decode-files/online-decode-files.csproj]\n",
            "/content/sherpa-onnx/dotnet-examples/online-decode-files/Program.cs(30,19): warning CS8618: Non-nullable property 'Decoder' must contain a non-null value when exiting constructor. Consider declaring the property as nullable. [/content/sherpa-onnx/dotnet-examples/online-decode-files/online-decode-files.csproj]\n",
            "/content/sherpa-onnx/dotnet-examples/online-decode-files/Program.cs(33,19): warning CS8618: Non-nullable property 'Joiner' must contain a non-null value when exiting constructor. Consider declaring the property as nullable. [/content/sherpa-onnx/dotnet-examples/online-decode-files/online-decode-files.csproj]\n",
            "/content/sherpa-onnx/dotnet-examples/online-decode-files/Program.cs(40,19): warning CS8618: Non-nullable property 'DecodingMethod' must contain a non-null value when exiting constructor. Consider declaring the property as nullable. [/content/sherpa-onnx/dotnet-examples/online-decode-files/online-decode-files.csproj]\n",
            "/content/sherpa-onnx/dotnet-examples/online-decode-files/Program.cs(74,32): warning CS8618: Non-nullable property 'Files' must contain a non-null value when exiting constructor. Consider declaring the property as nullable. [/content/sherpa-onnx/dotnet-examples/online-decode-files/online-decode-files.csproj]\n",
            "\u001b[m\u001b[m\u001b[33m    7 Warning(s)\n",
            "\u001b[m    0 Error(s)\n",
            "\u001b[m\n",
            "Time Elapsed 00:00:03.67\n",
            "\u001b[?1h\u001b=\n",
            "dotnet run \\\n",
            "  --tokens=./sherpa-onnx-streaming-zipformer-bilingual-zh-en-2023-02-20/tokens.txt \\\n",
            "  --encoder=./sherpa-onnx-streaming-zipformer-bilingual-zh-en-2023-02-20/encoder-epoch-99-avg-1.onnx \\\n",
            "  --decoder=./sherpa-onnx-streaming-zipformer-bilingual-zh-en-2023-02-20/decoder-epoch-99-avg-1.onnx \\\n",
            "  --joiner=./sherpa-onnx-streaming-zipformer-bilingual-zh-en-2023-02-20/joiner-epoch-99-avg-1.onnx \\\n",
            "  --num-threads=2 \\\n",
            "  --decoding-method=modified_beam_search \\\n",
            "  --debug=false \\\n",
            "  --files ./sherpa-onnx-streaming-zipformer-bilingual-zh-en-2023-02-20/test_wavs/0.wav \\\n",
            "  ./sherpa-onnx-streaming-zipformer-bilingual-zh-en-2023-02-20/test_wavs/1.wav\n",
            "\n",
            "Please refer to\n",
            "https://k2-fsa.github.io/sherpa/onnx/pretrained_models/online-transducer/index.html\n",
            "to download pre-trained streaming models.\n",
            "\n",
            "Copyright (c) 2023 Xiaomi Corporation\n",
            "\n",
            "  --tokens                        Required. Path to tokens.txt\n",
            "  --provider                      (Default: cpu) Provider, e.g., cpu, coreml\n",
            "  --encoder                       Required. Path to encoder.onnx\n",
            "  --decoder                       Required. Path to decoder.onnx\n",
            "  --joiner                        Required. Path to joiner.onnx\n",
            "  --num-threads                   (Default: 1) Number of threads for computation\n",
            "  --decoding-method               (Default: greedy_search) Valid decoding\n",
            "                                  methods are: greedy_search,\n",
            "                                  modified_beam_search\n",
            "  --debug                         (Default: false) True to show model info\n",
            "                                  during loading\n",
            "  --sample-rate                   (Default: 16000) Sample rate of the data used\n",
            "                                  to train the model\n",
            "  --max-active-paths              (Default: 4) Used only when --decoding--method\n",
            "                                  is modified_beam_search.\n",
            "                                  It specifies number of active paths to keep\n",
            "                                  during the search\n",
            "  --enable-endpoint               (Default: false) True to enable endpoint\n",
            "                                  detection.\n",
            "  --rule1-min-trailing-silence    (Default: 2.4) An endpoint is detected if\n",
            "                                  trailing silence in seconds is\n",
            "                                  larger than this value even if nothing has\n",
            "                                  been decoded. Used only when --enable-endpoint\n",
            "                                  is true.\n",
            "  --rule2-min-trailing-silence    (Default: 1.2) An endpoint is detected if\n",
            "                                  trailing silence in seconds is\n",
            "                                  larger than this value after something that is\n",
            "                                  not blank has been decoded. Used\n",
            "                                  only when --enable-endpoint is true.\n",
            "  --rule3-min-utterance-length    (Default: 20) An endpoint is detected if the\n",
            "                                  utterance in seconds is\n",
            "                                  larger than this value. Used only when\n",
            "                                  --enable-endpoint is true.\n",
            "  --files                         Required. Audio files for decoding\n",
            "  --help                          Display this help screen.\n",
            "  --version                       Display version information.\n",
            "\n"
          ]
        },
        {
          "output_type": "execute_result",
          "data": {
            "text/plain": []
          },
          "metadata": {},
          "execution_count": 7
        }
      ]
    },
    {
      "cell_type": "markdown",
      "source": [
        "## Streaming transducer"
      ],
      "metadata": {
        "id": "rDDqQA5ok5fF"
      }
    },
    {
      "cell_type": "code",
      "source": [
        "%%shell\n",
        "\n",
        "export DOTNET_ROOT=$(pwd)/.dotnet\n",
        "export PATH=$PATH:$DOTNET_ROOT:$DOTNET_ROOT/tools\n",
        "\n",
        "cd sherpa-onnx/dotnet-examples/online-decode-files/\n",
        "GIT_LFS_SKIP_SMUDGE=1 git clone https://huggingface.co/csukuangfj/sherpa-onnx-streaming-zipformer-en-2023-06-26\n",
        "cd sherpa-onnx-streaming-zipformer-en-2023-06-26\n",
        "git lfs pull --include \"*.onnx\"\n",
        "cd ..\n",
        "\n",
        "dotnet run -c Release \\\n",
        "  --encoder ./sherpa-onnx-streaming-zipformer-en-2023-06-26/encoder-epoch-99-avg-1-chunk-16-left-128.onnx \\\n",
        "  --decoder ./sherpa-onnx-streaming-zipformer-en-2023-06-26/decoder-epoch-99-avg-1-chunk-16-left-128.onnx \\\n",
        "  --joiner ./sherpa-onnx-streaming-zipformer-en-2023-06-26/joiner-epoch-99-avg-1-chunk-16-left-128.onnx \\\n",
        "  --tokens ./sherpa-onnx-streaming-zipformer-en-2023-06-26/tokens.txt \\\n",
        "  --files ./sherpa-onnx-streaming-zipformer-en-2023-06-26/test_wavs/0.wav \\\n",
        "  ./sherpa-onnx-streaming-zipformer-en-2023-06-26/test_wavs/1.wav \\\n",
        "  ./sherpa-onnx-streaming-zipformer-en-2023-06-26/test_wavs/8k.wav"
      ],
      "metadata": {
        "colab": {
          "base_uri": "https://localhost:8080/"
        },
        "id": "ge1Cz_q2k1ep",
        "outputId": "de67dec7-2db8-40e6-b966-3d9ba0568f3a"
      },
      "execution_count": 8,
      "outputs": [
        {
          "output_type": "stream",
          "name": "stdout",
          "text": [
            "Cloning into 'sherpa-onnx-streaming-zipformer-en-2023-06-26'...\n",
            "remote: Enumerating objects: 27, done.\u001b[K\n",
            "remote: Total 27 (delta 0), reused 0 (delta 0), pack-reused 27\u001b[K\n",
            "Unpacking objects: 100% (27/27), 667.63 KiB | 7.18 MiB/s, done.\n",
            "\u001b[?1h\u001b=\u001b[?1h\u001b=/project/sherpa-onnx/csrc/features.cc:AcceptWaveform:72 Creating a resampler:\n",
            "   in_sample_rate: 8000\n",
            "   output_sample_rate: 16000\n",
            "\n",
            "--------------------\n",
            "./sherpa-onnx-streaming-zipformer-en-2023-06-26/test_wavs/0.wav\n",
            " AFTER EARLY NIGHTFALL THE YELLOW LAMPS WOULD LIGHT UP HERE AND THERE THE SQUALID QUARTER OF THE BROTHELS\n",
            "--------------------\n",
            "./sherpa-onnx-streaming-zipformer-en-2023-06-26/test_wavs/1.wav\n",
            " GOD AS A DIRECT CONSEQUENCE OF THE SIN WHICH MAN THUS PUNISHED HAD GIVEN HER A LOVELY CHILD WHOSE PLACE WAS ON THAT SAME DISHONOURED BOSOM TO CONNECT HER PARENT FOR EVER WITH THE RACE AND DESCENT OF MORTALS AND TO BE FINALLY A BLESSED SOUL IN HEAVEN\n",
            "--------------------\n",
            "./sherpa-onnx-streaming-zipformer-en-2023-06-26/test_wavs/8k.wav\n",
            " YET THESE THOUGHTS AFFECTED HESTER PRYNNE LESS WITH HOPE THAN APPREHENSION\n",
            "--------------------\n",
            "\u001b[?1h\u001b="
          ]
        },
        {
          "output_type": "execute_result",
          "data": {
            "text/plain": []
          },
          "metadata": {},
          "execution_count": 8
        }
      ]
    },
    {
      "cell_type": "markdown",
      "source": [
        "# Real-time speech recognition from microphone"
      ],
      "metadata": {
        "id": "-VAwoBXTlD3a"
      }
    },
    {
      "cell_type": "code",
      "source": [
        "%%shell\n",
        "\n",
        "export DOTNET_ROOT=$(pwd)/.dotnet\n",
        "export PATH=$PATH:$DOTNET_ROOT:$DOTNET_ROOT/tools\n",
        "\n",
        "cd sherpa-onnx/dotnet-examples/speech-recognition-from-microphone\n",
        "dotnet build -c Release\n",
        "./bin/Release/net6.0/speech-recognition-from-microphone --help || echo"
      ],
      "metadata": {
        "colab": {
          "base_uri": "https://localhost:8080/"
        },
        "id": "COI_I7x4lAAO",
        "outputId": "4c829b51-319d-4981-86ac-1e9fbe2038ff"
      },
      "execution_count": 9,
      "outputs": [
        {
          "output_type": "stream",
          "name": "stdout",
          "text": [
            "\u001b[?1h\u001b=MSBuild version 17.3.2+561848881 for .NET\n",
            "  Determining projects to restore...\n",
            "  Restored /content/sherpa-onnx/dotnet-examples/speech-recognition-from-microphone/speech-recognition-from-microphone.csproj (in 5.23 sec).\n",
            "\u001b[m\u001b[33m/content/sherpa-onnx/dotnet-examples/speech-recognition-from-microphone/Program.cs(24,19): warning CS8618: Non-nullable property 'Tokens' must contain a non-null value when exiting constructor. Consider declaring the property as nullable. [/content/sherpa-onnx/dotnet-examples/speech-recognition-from-microphone/speech-recognition-from-microphone.csproj]\n",
            "\u001b[m\u001b[m\u001b[33m/content/sherpa-onnx/dotnet-examples/speech-recognition-from-microphone/Program.cs(27,19): warning CS8618: Non-nullable property 'Provider' must contain a non-null value when exiting constructor. Consider declaring the property as nullable. [/content/sherpa-onnx/dotnet-examples/speech-recognition-from-microphone/speech-recognition-from-microphone.csproj]\n",
            "\u001b[m\u001b[m\u001b[33m/content/sherpa-onnx/dotnet-examples/speech-recognition-from-microphone/Program.cs(30,19): warning CS8618: Non-nullable property 'Encoder' must contain a non-null value when exiting constructor. Consider declaring the property as nullable. [/content/sherpa-onnx/dotnet-examples/speech-recognition-from-microphone/speech-recognition-from-microphone.csproj]\n",
            "\u001b[m\u001b[m\u001b[33m/content/sherpa-onnx/dotnet-examples/speech-recognition-from-microphone/Program.cs(33,19): warning CS8618: Non-nullable property 'Decoder' must contain a non-null value when exiting constructor. Consider declaring the property as nullable. [/content/sherpa-onnx/dotnet-examples/speech-recognition-from-microphone/speech-recognition-from-microphone.csproj]\n",
            "\u001b[m\u001b[m\u001b[33m/content/sherpa-onnx/dotnet-examples/speech-recognition-from-microphone/Program.cs(36,19): warning CS8618: Non-nullable property 'Joiner' must contain a non-null value when exiting constructor. Consider declaring the property as nullable. [/content/sherpa-onnx/dotnet-examples/speech-recognition-from-microphone/speech-recognition-from-microphone.csproj]\n",
            "\u001b[m\u001b[m\u001b[33m/content/sherpa-onnx/dotnet-examples/speech-recognition-from-microphone/Program.cs(43,19): warning CS8618: Non-nullable property 'DecodingMethod' must contain a non-null value when exiting constructor. Consider declaring the property as nullable. [/content/sherpa-onnx/dotnet-examples/speech-recognition-from-microphone/speech-recognition-from-microphone.csproj]\n",
            "\u001b[m\u001b[m\u001b[33m/content/sherpa-onnx/dotnet-examples/speech-recognition-from-microphone/Program.cs(231,5): warning CS0162: Unreachable code detected [/content/sherpa-onnx/dotnet-examples/speech-recognition-from-microphone/speech-recognition-from-microphone.csproj]\n",
            "\u001b[m\u001b[m\u001b[33m/content/sherpa-onnx/dotnet-examples/speech-recognition-from-microphone/Program.cs(199,9): warning CS0219: The variable 'segment_index' is assigned but its value is never used [/content/sherpa-onnx/dotnet-examples/speech-recognition-from-microphone/speech-recognition-from-microphone.csproj]\n",
            "\u001b[m  speech-recognition-from-microphone -> /content/sherpa-onnx/dotnet-examples/speech-recognition-from-microphone/bin/Release/net6.0/speech-recognition-from-microphone.dll\n",
            "\u001b[m\u001b[32m\n",
            "Build succeeded.\n",
            "\u001b[m\n",
            "\u001b[m\u001b[33m/content/sherpa-onnx/dotnet-examples/speech-recognition-from-microphone/Program.cs(24,19): warning CS8618: Non-nullable property 'Tokens' must contain a non-null value when exiting constructor. Consider declaring the property as nullable. [/content/sherpa-onnx/dotnet-examples/speech-recognition-from-microphone/speech-recognition-from-microphone.csproj]\n",
            "/content/sherpa-onnx/dotnet-examples/speech-recognition-from-microphone/Program.cs(27,19): warning CS8618: Non-nullable property 'Provider' must contain a non-null value when exiting constructor. Consider declaring the property as nullable. [/content/sherpa-onnx/dotnet-examples/speech-recognition-from-microphone/speech-recognition-from-microphone.csproj]\n",
            "/content/sherpa-onnx/dotnet-examples/speech-recognition-from-microphone/Program.cs(30,19): warning CS8618: Non-nullable property 'Encoder' must contain a non-null value when exiting constructor. Consider declaring the property as nullable. [/content/sherpa-onnx/dotnet-examples/speech-recognition-from-microphone/speech-recognition-from-microphone.csproj]\n",
            "/content/sherpa-onnx/dotnet-examples/speech-recognition-from-microphone/Program.cs(33,19): warning CS8618: Non-nullable property 'Decoder' must contain a non-null value when exiting constructor. Consider declaring the property as nullable. [/content/sherpa-onnx/dotnet-examples/speech-recognition-from-microphone/speech-recognition-from-microphone.csproj]\n",
            "/content/sherpa-onnx/dotnet-examples/speech-recognition-from-microphone/Program.cs(36,19): warning CS8618: Non-nullable property 'Joiner' must contain a non-null value when exiting constructor. Consider declaring the property as nullable. [/content/sherpa-onnx/dotnet-examples/speech-recognition-from-microphone/speech-recognition-from-microphone.csproj]\n",
            "/content/sherpa-onnx/dotnet-examples/speech-recognition-from-microphone/Program.cs(43,19): warning CS8618: Non-nullable property 'DecodingMethod' must contain a non-null value when exiting constructor. Consider declaring the property as nullable. [/content/sherpa-onnx/dotnet-examples/speech-recognition-from-microphone/speech-recognition-from-microphone.csproj]\n",
            "/content/sherpa-onnx/dotnet-examples/speech-recognition-from-microphone/Program.cs(231,5): warning CS0162: Unreachable code detected [/content/sherpa-onnx/dotnet-examples/speech-recognition-from-microphone/speech-recognition-from-microphone.csproj]\n",
            "/content/sherpa-onnx/dotnet-examples/speech-recognition-from-microphone/Program.cs(199,9): warning CS0219: The variable 'segment_index' is assigned but its value is never used [/content/sherpa-onnx/dotnet-examples/speech-recognition-from-microphone/speech-recognition-from-microphone.csproj]\n",
            "\u001b[m\u001b[m\u001b[33m    8 Warning(s)\n",
            "\u001b[m    0 Error(s)\n",
            "\u001b[m\n",
            "Time Elapsed 00:00:07.48\n",
            "\u001b[?1h\u001b=\n",
            "dotnet run -c Release \\\n",
            "  --tokens ./icefall-asr-zipformer-streaming-wenetspeech-20230615/data/lang_char/tokens.txt \\\n",
            "  --encoder ./icefall-asr-zipformer-streaming-wenetspeech-20230615/exp/encoder-epoch-12-avg-4-chunk-16-left-128.onnx \\\n",
            "  --decoder ./icefall-asr-zipformer-streaming-wenetspeech-20230615/exp/decoder-epoch-12-avg-4-chunk-16-left-128.onnx \\\n",
            "  --joiner ./icefall-asr-zipformer-streaming-wenetspeech-20230615/exp/joiner-epoch-12-avg-4-chunk-16-left-128.onnx \\\n",
            "\n",
            "Please refer to\n",
            "https://k2-fsa.github.io/sherpa/onnx/pretrained_models/online-transducer/index.html\n",
            "to download pre-trained streaming models.\n",
            "\n",
            "Copyright (c) 2023 Xiaomi Corporation\n",
            "\n",
            "  --tokens                        Required. Path to tokens.txt\n",
            "  --provider                      (Default: cpu) Provider, e.g., cpu, coreml\n",
            "  --encoder                       Required. Path to encoder.onnx\n",
            "  --decoder                       Required. Path to decoder.onnx\n",
            "  --joiner                        Required. Path to joiner.onnx\n",
            "  --num-threads                   (Default: 1) Number of threads for computation\n",
            "  --decoding-method               (Default: greedy_search) Valid decoding\n",
            "                                  methods are: greedy_search,\n",
            "                                  modified_beam_search\n",
            "  --debug                         (Default: false) True to show model info\n",
            "                                  during loading\n",
            "  --sample-rate                   (Default: 16000) Sample rate of the data used\n",
            "                                  to train the model\n",
            "  --max-active-paths              (Default: 4) Used only when --decoding--method\n",
            "                                  is modified_beam_search.\n",
            "                                  It specifies number of active paths to keep\n",
            "                                  during the search\n",
            "  --enable-endpoint               (Default: true) True to enable endpoint\n",
            "                                  detection.\n",
            "  --rule1-min-trailing-silence    (Default: 2.4) An endpoint is detected if\n",
            "                                  trailing silence in seconds is\n",
            "                                  larger than this value even if nothing has\n",
            "                                  been decoded. Used only when --enable-endpoint\n",
            "                                  is true.\n",
            "  --rule2-min-trailing-silence    (Default: 0.8) An endpoint is detected if\n",
            "                                  trailing silence in seconds is\n",
            "                                  larger than this value after something that is\n",
            "                                  not blank has been decoded. Used\n",
            "                                  only when --enable-endpoint is true.\n",
            "  --rule3-min-utterance-length    (Default: 20) An endpoint is detected if the\n",
            "                                  utterance in seconds is\n",
            "                                  larger than this value. Used only when\n",
            "                                  --enable-endpoint is true.\n",
            "  --help                          Display this help screen.\n",
            "  --version                       Display version information.\n",
            "\n"
          ]
        },
        {
          "output_type": "execute_result",
          "data": {
            "text/plain": []
          },
          "metadata": {},
          "execution_count": 9
        }
      ]
    },
    {
      "cell_type": "markdown",
      "source": [
        "## Streaming transducer"
      ],
      "metadata": {
        "id": "Zy9NbEK-lRzx"
      }
    },
    {
      "cell_type": "code",
      "source": [
        "%%shell\n",
        "\n",
        "export DOTNET_ROOT=$(pwd)/.dotnet\n",
        "export PATH=$PATH:$DOTNET_ROOT:$DOTNET_ROOT/tools\n",
        "\n",
        "cd sherpa-onnx/dotnet-examples/speech-recognition-from-microphone\n",
        "GIT_LFS_SKIP_SMUDGE=1 git clone https://huggingface.co/csukuangfj/sherpa-onnx-streaming-zipformer-en-2023-06-26\n",
        "cd sherpa-onnx-streaming-zipformer-en-2023-06-26\n",
        "git lfs pull --include \"*.onnx\"\n",
        "cd ..\n",
        "\n",
        "dotnet run -c Release \\\n",
        "  --encoder ./sherpa-onnx-streaming-zipformer-en-2023-06-26/encoder-epoch-99-avg-1-chunk-16-left-128.onnx \\\n",
        "  --decoder ./sherpa-onnx-streaming-zipformer-en-2023-06-26/decoder-epoch-99-avg-1-chunk-16-left-128.onnx \\\n",
        "  --joiner ./sherpa-onnx-streaming-zipformer-en-2023-06-26/joiner-epoch-99-avg-1-chunk-16-left-128.onnx \\\n",
        "  --tokens ./sherpa-onnx-streaming-zipformer-en-2023-06-26/tokens.txt"
      ],
      "metadata": {
        "colab": {
          "base_uri": "https://localhost:8080/",
          "height": 863
        },
        "id": "c_NPFZ7flMKi",
        "outputId": "7255867b-3850-4f04-8bcd-79e9c1564e98"
      },
      "execution_count": 10,
      "outputs": [
        {
          "output_type": "stream",
          "name": "stdout",
          "text": [
            "Cloning into 'sherpa-onnx-streaming-zipformer-en-2023-06-26'...\n",
            "remote: Enumerating objects: 27, done.\u001b[K\n",
            "remote: Counting objects: 100% (27/27), done.\u001b[K\n",
            "remote: Compressing objects: 100% (24/24), done.\u001b[K\n",
            "remote: Total 27 (delta 2), reused 27 (delta 2), pack-reused 0\u001b[K\n",
            "Unpacking objects: 100% (27/27), 667.63 KiB | 1.18 MiB/s, done.\n",
            "\u001b[?1h\u001b=\u001b[?1h\u001b=PortAudio V19.7.0-devel, revision 147dd722548358763a8b649b3e4b41dfffbcfbb6\n",
            "Number of devices: 0\n",
            "No default input device found\n",
            "\u001b[?1h\u001b="
          ]
        },
        {
          "output_type": "error",
          "ename": "CalledProcessError",
          "evalue": "ignored",
          "traceback": [
            "\u001b[0;31m---------------------------------------------------------------------------\u001b[0m",
            "\u001b[0;31mCalledProcessError\u001b[0m                        Traceback (most recent call last)",
            "\u001b[0;32m<ipython-input-10-d7a1c6f0fd2d>\u001b[0m in \u001b[0;36m<cell line: 1>\u001b[0;34m()\u001b[0m\n\u001b[0;32m----> 1\u001b[0;31m \u001b[0mget_ipython\u001b[0m\u001b[0;34m(\u001b[0m\u001b[0;34m)\u001b[0m\u001b[0;34m.\u001b[0m\u001b[0mrun_cell_magic\u001b[0m\u001b[0;34m(\u001b[0m\u001b[0;34m'shell'\u001b[0m\u001b[0;34m,\u001b[0m \u001b[0;34m''\u001b[0m\u001b[0;34m,\u001b[0m \u001b[0;34m'\\nexport DOTNET_ROOT=$(pwd)/.dotnet\\nexport PATH=$PATH:$DOTNET_ROOT:$DOTNET_ROOT/tools\\n\\ncd sherpa-onnx/dotnet-examples/speech-recognition-from-microphone\\nGIT_LFS_SKIP_SMUDGE=1 git clone https://huggingface.co/csukuangfj/sherpa-onnx-streaming-zipformer-en-2023-06-26\\ncd sherpa-onnx-streaming-zipformer-en-2023-06-26\\ngit lfs pull --include \"*.onnx\"\\ncd ..\\n\\ndotnet run -c Release \\\\\\n  --encoder ./sherpa-onnx-streaming-zipformer-en-2023-06-26/encoder-epoch-99-avg-1-chunk-16-left-128.onnx \\\\\\n  --decoder ./sherpa-onnx-streaming-zipformer-en-2023-06-26/decoder-epoch-99-avg-1-chunk-16-left-128.onnx \\\\\\n  --joiner ./sherpa-onnx-streaming-zipformer-en-2023-06-26/joiner-epoch-99-avg-1-chunk-16-left-128.onnx \\\\\\n  --tokens ./sherpa-onnx-streaming-zipformer-en-2023-06-26/tokens.txt\\n'\u001b[0m\u001b[0;34m)\u001b[0m\u001b[0;34m\u001b[0m\u001b[0;34m\u001b[0m\u001b[0m\n\u001b[0m",
            "\u001b[0;32m/usr/local/lib/python3.10/dist-packages/google/colab/_shell.py\u001b[0m in \u001b[0;36mrun_cell_magic\u001b[0;34m(self, magic_name, line, cell)\u001b[0m\n\u001b[1;32m    332\u001b[0m     \u001b[0;32mif\u001b[0m \u001b[0mline\u001b[0m \u001b[0;32mand\u001b[0m \u001b[0;32mnot\u001b[0m \u001b[0mcell\u001b[0m\u001b[0;34m:\u001b[0m\u001b[0;34m\u001b[0m\u001b[0;34m\u001b[0m\u001b[0m\n\u001b[1;32m    333\u001b[0m       \u001b[0mcell\u001b[0m \u001b[0;34m=\u001b[0m \u001b[0;34m' '\u001b[0m\u001b[0;34m\u001b[0m\u001b[0;34m\u001b[0m\u001b[0m\n\u001b[0;32m--> 334\u001b[0;31m     \u001b[0;32mreturn\u001b[0m \u001b[0msuper\u001b[0m\u001b[0;34m(\u001b[0m\u001b[0;34m)\u001b[0m\u001b[0;34m.\u001b[0m\u001b[0mrun_cell_magic\u001b[0m\u001b[0;34m(\u001b[0m\u001b[0mmagic_name\u001b[0m\u001b[0;34m,\u001b[0m \u001b[0mline\u001b[0m\u001b[0;34m,\u001b[0m \u001b[0mcell\u001b[0m\u001b[0;34m)\u001b[0m\u001b[0;34m\u001b[0m\u001b[0;34m\u001b[0m\u001b[0m\n\u001b[0m\u001b[1;32m    335\u001b[0m \u001b[0;34m\u001b[0m\u001b[0m\n\u001b[1;32m    336\u001b[0m \u001b[0;34m\u001b[0m\u001b[0m\n",
            "\u001b[0;32m/usr/local/lib/python3.10/dist-packages/IPython/core/interactiveshell.py\u001b[0m in \u001b[0;36mrun_cell_magic\u001b[0;34m(self, magic_name, line, cell)\u001b[0m\n\u001b[1;32m   2471\u001b[0m             \u001b[0;32mwith\u001b[0m \u001b[0mself\u001b[0m\u001b[0;34m.\u001b[0m\u001b[0mbuiltin_trap\u001b[0m\u001b[0;34m:\u001b[0m\u001b[0;34m\u001b[0m\u001b[0;34m\u001b[0m\u001b[0m\n\u001b[1;32m   2472\u001b[0m                 \u001b[0margs\u001b[0m \u001b[0;34m=\u001b[0m \u001b[0;34m(\u001b[0m\u001b[0mmagic_arg_s\u001b[0m\u001b[0;34m,\u001b[0m \u001b[0mcell\u001b[0m\u001b[0;34m)\u001b[0m\u001b[0;34m\u001b[0m\u001b[0;34m\u001b[0m\u001b[0m\n\u001b[0;32m-> 2473\u001b[0;31m                 \u001b[0mresult\u001b[0m \u001b[0;34m=\u001b[0m \u001b[0mfn\u001b[0m\u001b[0;34m(\u001b[0m\u001b[0;34m*\u001b[0m\u001b[0margs\u001b[0m\u001b[0;34m,\u001b[0m \u001b[0;34m**\u001b[0m\u001b[0mkwargs\u001b[0m\u001b[0;34m)\u001b[0m\u001b[0;34m\u001b[0m\u001b[0;34m\u001b[0m\u001b[0m\n\u001b[0m\u001b[1;32m   2474\u001b[0m             \u001b[0;32mreturn\u001b[0m \u001b[0mresult\u001b[0m\u001b[0;34m\u001b[0m\u001b[0;34m\u001b[0m\u001b[0m\n\u001b[1;32m   2475\u001b[0m \u001b[0;34m\u001b[0m\u001b[0m\n",
            "\u001b[0;32m/usr/local/lib/python3.10/dist-packages/google/colab/_system_commands.py\u001b[0m in \u001b[0;36m_shell_cell_magic\u001b[0;34m(args, cmd)\u001b[0m\n\u001b[1;32m    110\u001b[0m   \u001b[0mresult\u001b[0m \u001b[0;34m=\u001b[0m \u001b[0m_run_command\u001b[0m\u001b[0;34m(\u001b[0m\u001b[0mcmd\u001b[0m\u001b[0;34m,\u001b[0m \u001b[0mclear_streamed_output\u001b[0m\u001b[0;34m=\u001b[0m\u001b[0;32mFalse\u001b[0m\u001b[0;34m)\u001b[0m\u001b[0;34m\u001b[0m\u001b[0;34m\u001b[0m\u001b[0m\n\u001b[1;32m    111\u001b[0m   \u001b[0;32mif\u001b[0m \u001b[0;32mnot\u001b[0m \u001b[0mparsed_args\u001b[0m\u001b[0;34m.\u001b[0m\u001b[0mignore_errors\u001b[0m\u001b[0;34m:\u001b[0m\u001b[0;34m\u001b[0m\u001b[0;34m\u001b[0m\u001b[0m\n\u001b[0;32m--> 112\u001b[0;31m     \u001b[0mresult\u001b[0m\u001b[0;34m.\u001b[0m\u001b[0mcheck_returncode\u001b[0m\u001b[0;34m(\u001b[0m\u001b[0;34m)\u001b[0m\u001b[0;34m\u001b[0m\u001b[0;34m\u001b[0m\u001b[0m\n\u001b[0m\u001b[1;32m    113\u001b[0m   \u001b[0;32mreturn\u001b[0m \u001b[0mresult\u001b[0m\u001b[0;34m\u001b[0m\u001b[0;34m\u001b[0m\u001b[0m\n\u001b[1;32m    114\u001b[0m \u001b[0;34m\u001b[0m\u001b[0m\n",
            "\u001b[0;32m/usr/local/lib/python3.10/dist-packages/google/colab/_system_commands.py\u001b[0m in \u001b[0;36mcheck_returncode\u001b[0;34m(self)\u001b[0m\n\u001b[1;32m    135\u001b[0m   \u001b[0;32mdef\u001b[0m \u001b[0mcheck_returncode\u001b[0m\u001b[0;34m(\u001b[0m\u001b[0mself\u001b[0m\u001b[0;34m)\u001b[0m\u001b[0;34m:\u001b[0m\u001b[0;34m\u001b[0m\u001b[0;34m\u001b[0m\u001b[0m\n\u001b[1;32m    136\u001b[0m     \u001b[0;32mif\u001b[0m \u001b[0mself\u001b[0m\u001b[0;34m.\u001b[0m\u001b[0mreturncode\u001b[0m\u001b[0;34m:\u001b[0m\u001b[0;34m\u001b[0m\u001b[0;34m\u001b[0m\u001b[0m\n\u001b[0;32m--> 137\u001b[0;31m       raise subprocess.CalledProcessError(\n\u001b[0m\u001b[1;32m    138\u001b[0m           \u001b[0mreturncode\u001b[0m\u001b[0;34m=\u001b[0m\u001b[0mself\u001b[0m\u001b[0;34m.\u001b[0m\u001b[0mreturncode\u001b[0m\u001b[0;34m,\u001b[0m \u001b[0mcmd\u001b[0m\u001b[0;34m=\u001b[0m\u001b[0mself\u001b[0m\u001b[0;34m.\u001b[0m\u001b[0margs\u001b[0m\u001b[0;34m,\u001b[0m \u001b[0moutput\u001b[0m\u001b[0;34m=\u001b[0m\u001b[0mself\u001b[0m\u001b[0;34m.\u001b[0m\u001b[0moutput\u001b[0m\u001b[0;34m\u001b[0m\u001b[0;34m\u001b[0m\u001b[0m\n\u001b[1;32m    139\u001b[0m       )\n",
            "\u001b[0;31mCalledProcessError\u001b[0m: Command '\nexport DOTNET_ROOT=$(pwd)/.dotnet\nexport PATH=$PATH:$DOTNET_ROOT:$DOTNET_ROOT/tools\n\ncd sherpa-onnx/dotnet-examples/speech-recognition-from-microphone\nGIT_LFS_SKIP_SMUDGE=1 git clone https://huggingface.co/csukuangfj/sherpa-onnx-streaming-zipformer-en-2023-06-26\ncd sherpa-onnx-streaming-zipformer-en-2023-06-26\ngit lfs pull --include \"*.onnx\"\ncd ..\n\ndotnet run -c Release \\\n  --encoder ./sherpa-onnx-streaming-zipformer-en-2023-06-26/encoder-epoch-99-avg-1-chunk-16-left-128.onnx \\\n  --decoder ./sherpa-onnx-streaming-zipformer-en-2023-06-26/decoder-epoch-99-avg-1-chunk-16-left-128.onnx \\\n  --joiner ./sherpa-onnx-streaming-zipformer-en-2023-06-26/joiner-epoch-99-avg-1-chunk-16-left-128.onnx \\\n  --tokens ./sherpa-onnx-streaming-zipformer-en-2023-06-26/tokens.txt\n' returned non-zero exit status 1."
          ]
        }
      ]
    },
    {
      "cell_type": "markdown",
      "source": [
        "This machine running this colab does not have a microphone, so the above code exits after start with the following error:\n",
        "```\n",
        "Number of devices: 0\n",
        "No default input device found\n",
        "```"
      ],
      "metadata": {
        "id": "OyuyaOVolfKG"
      }
    },
    {
      "cell_type": "code",
      "source": [],
      "metadata": {
        "id": "2gvAheUbltYj"
      },
      "execution_count": null,
      "outputs": []
    }
  ]
}
