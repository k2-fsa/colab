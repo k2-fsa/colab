{
  "nbformat": 4,
  "nbformat_minor": 0,
  "metadata": {
    "colab": {
      "provenance": [],
      "authorship_tag": "ABX9TyMFa3FHDrPKTSLLcQNuyqju",
      "include_colab_link": true
    },
    "kernelspec": {
      "name": "python3",
      "display_name": "Python 3"
    },
    "language_info": {
      "name": "python"
    }
  },
  "cells": [
    {
      "cell_type": "markdown",
      "metadata": {
        "id": "view-in-github",
        "colab_type": "text"
      },
      "source": [
        "<a href=\"https://colab.research.google.com/github/k2-fsa/colab/blob/master/kaldi-native-fbank/rtf_test.ipynb\" target=\"_parent\"><img src=\"https://colab.research.google.com/assets/colab-badge.svg\" alt=\"Open In Colab\"/></a>"
      ]
    },
    {
      "cell_type": "markdown",
      "source": [
        "# Introduction\n",
        "\n",
        "This colab notebooks how to test RTF [Real-time factor](https://openvoice-tech.net/index.php/Real-time-factor) of [kaldi-native-fbank](https://github.com/csukuangfj/kaldi-native-fbank)."
      ],
      "metadata": {
        "id": "-rrOLnmvaDm_"
      }
    },
    {
      "cell_type": "markdown",
      "source": [
        "# Install kaldi-native-fbank"
      ],
      "metadata": {
        "id": "E3Pn7fbKaWcn"
      }
    },
    {
      "cell_type": "code",
      "execution_count": 1,
      "metadata": {
        "colab": {
          "base_uri": "https://localhost:8080/"
        },
        "id": "YBg8i8U7aBIW",
        "outputId": "faa99817-df4f-4ac8-a26c-999b90baaa5f"
      },
      "outputs": [
        {
          "output_type": "stream",
          "name": "stdout",
          "text": [
            "Collecting kaldi-native-fbank\n",
            "  Downloading kaldi_native_fbank-1.18.4-cp310-cp310-manylinux_2_17_x86_64.manylinux2014_x86_64.whl (210 kB)\n",
            "\u001b[2K     \u001b[90m━━━━━━━━━━━━━━━━━━━━━━━━━━━━━━━━━━━━━━━\u001b[0m \u001b[32m210.5/210.5 kB\u001b[0m \u001b[31m3.9 MB/s\u001b[0m eta \u001b[36m0:00:00\u001b[0m\n",
            "\u001b[?25hInstalling collected packages: kaldi-native-fbank\n",
            "Successfully installed kaldi-native-fbank-1.18.4\n"
          ]
        }
      ],
      "source": [
        "! pip install kaldi-native-fbank"
      ]
    },
    {
      "cell_type": "markdown",
      "source": [
        "# RTF test"
      ],
      "metadata": {
        "id": "Q8odZsW1aZEt"
      }
    },
    {
      "cell_type": "code",
      "source": [
        "# We use the most commonly used setting\n",
        "import kaldi_native_fbank as knf\n",
        "import numpy as np\n",
        "import time\n",
        "\n",
        "opts = knf.FbankOptions()\n",
        "opts.frame_opts.samp_freq = 16000\n",
        "opts.mel_opts.num_bins = 80\n",
        "opts.frame_opts.frame_shift_ms = 10.0\n",
        "opts.frame_opts.frame_length_ms = 25.0\n",
        "fbank = knf.OnlineFbank(opts)\n",
        "\n",
        "duration = 30 # 30 secons\n",
        "data = np.random.randn(int(opts.frame_opts.samp_freq * duration))\n",
        "\n",
        "start = time.time()\n",
        "\n",
        "fbank.accept_waveform(opts.frame_opts.samp_freq, data)\n",
        "fbank.input_finished()\n",
        "frames = []\n",
        "for i in range(fbank.num_frames_ready):\n",
        "    f = fbank.get_frame(i)\n",
        "    frames.append(f)\n",
        "frames = np.stack(frames, axis=0)\n",
        "\n",
        "end = time.time()\n",
        "\n",
        "elapsed_seconds = end - start\n",
        "real_time_factor = elapsed_seconds / duration\n",
        "print('RTF:', real_time_factor)"
      ],
      "metadata": {
        "colab": {
          "base_uri": "https://localhost:8080/"
        },
        "id": "5z9veMIEaYkd",
        "outputId": "f78942b9-10d5-4cf6-cedc-872366cd9290"
      },
      "execution_count": 17,
      "outputs": [
        {
          "output_type": "stream",
          "name": "stdout",
          "text": [
            "RTF: 0.0020441373189290365\n"
          ]
        }
      ]
    },
    {
      "cell_type": "code",
      "source": [],
      "metadata": {
        "id": "_9KMP48tbFMC"
      },
      "execution_count": 11,
      "outputs": []
    }
  ]
}
