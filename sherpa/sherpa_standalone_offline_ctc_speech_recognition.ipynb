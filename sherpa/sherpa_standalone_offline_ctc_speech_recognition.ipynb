{
  "nbformat": 4,
  "nbformat_minor": 0,
  "metadata": {
    "colab": {
      "provenance": [],
      "toc_visible": true,
      "authorship_tag": "ABX9TyNqJnvq7etfeGS/Vg+Q99Zw",
      "include_colab_link": true
    },
    "kernelspec": {
      "name": "python3",
      "display_name": "Python 3"
    },
    "language_info": {
      "name": "python"
    }
  },
  "cells": [
    {
      "cell_type": "markdown",
      "metadata": {
        "id": "view-in-github",
        "colab_type": "text"
      },
      "source": [
        "<a href=\"https://colab.research.google.com/github/k2-fsa/colab/blob/sherpa/sherpa-offline-ctc-standalone-2023-01-07/sherpa/sherpa_standalone_offline_ctc_speech_recognition.ipynb\" target=\"_parent\"><img src=\"https://colab.research.google.com/assets/colab-badge.svg\" alt=\"Open In Colab\"/></a>"
      ]
    },
    {
      "cell_type": "markdown",
      "source": [
        "# Introduction\n",
        "\n",
        "This colab notebook demonstrates how to use [sherpa][sherpa]\n",
        "for offline (i.e., non-streaming) speech recognition.\n",
        "\n",
        "It includes:\n",
        "- How to setup the environment\n",
        "- How to download pre-trained models\n",
        "- How to use the pre-trained models for speech recognition\n",
        "\n",
        "**Caution**: We will use CPU for demonstration, though [sherpa][sherpa] supports GPU.\n",
        "The reason for not using GPU in this notebook is that Google colab  changes constantly the installed PyTorch and CUDA version, which would break this colab notebook if we were using GPU.\n",
        "\n",
        "[sherpa]: https://github.com/k2-fsa/sherpa"
      ],
      "metadata": {
        "id": "EAcnQKF8PFGb"
      }
    },
    {
      "cell_type": "markdown",
      "source": [
        "# Setup the environment"
      ],
      "metadata": {
        "id": "RGiQQ-IKQAvL"
      }
    },
    {
      "cell_type": "markdown",
      "source": [
        "## Install PyTorch"
      ],
      "metadata": {
        "id": "Zv0M1HpsQGXu"
      }
    },
    {
      "cell_type": "markdown",
      "source": [
        "Instead of using the default installed PyTorch, we use the latest PyTorch, `torch 1.13.1`, as of today (2023.01.06) so that this colab notebook will still work in case Google changes the default version of installed PyTorch."
      ],
      "metadata": {
        "id": "8anZxo8cQKap"
      }
    },
    {
      "cell_type": "code",
      "execution_count": 1,
      "metadata": {
        "colab": {
          "base_uri": "https://localhost:8080/"
        },
        "id": "IVgH0BiWOjO2",
        "outputId": "d3a47197-cd43-40c7-fa69-fa57f9ee97bc"
      },
      "outputs": [
        {
          "output_type": "stream",
          "name": "stdout",
          "text": [
            "Python 3.8.16\n"
          ]
        }
      ],
      "source": [
        "! python3 --version"
      ]
    },
    {
      "cell_type": "markdown",
      "source": [
        "First, uninstall the default PyTorch installed by Google colab:"
      ],
      "metadata": {
        "id": "ICcDD86ujVpk"
      }
    },
    {
      "cell_type": "code",
      "source": [
        "! pip uninstall -y torch torchaudio torchvision torchtext fastai"
      ],
      "metadata": {
        "colab": {
          "base_uri": "https://localhost:8080/"
        },
        "id": "nILuZc9SQkeK",
        "outputId": "cb5d7a80-3065-4e9a-8a1a-271b12d8fa8f"
      },
      "execution_count": 2,
      "outputs": [
        {
          "output_type": "stream",
          "name": "stdout",
          "text": [
            "Found existing installation: torch 1.13.0+cu116\n",
            "Uninstalling torch-1.13.0+cu116:\n",
            "  Successfully uninstalled torch-1.13.0+cu116\n",
            "Found existing installation: torchaudio 0.13.0+cu116\n",
            "Uninstalling torchaudio-0.13.0+cu116:\n",
            "  Successfully uninstalled torchaudio-0.13.0+cu116\n",
            "Found existing installation: torchvision 0.14.0+cu116\n",
            "Uninstalling torchvision-0.14.0+cu116:\n",
            "  Successfully uninstalled torchvision-0.14.0+cu116\n",
            "Found existing installation: torchtext 0.14.0\n",
            "Uninstalling torchtext-0.14.0:\n",
            "  Successfully uninstalled torchtext-0.14.0\n",
            "Found existing installation: fastai 2.7.10\n",
            "Uninstalling fastai-2.7.10:\n",
            "  Successfully uninstalled fastai-2.7.10\n"
          ]
        }
      ]
    },
    {
      "cell_type": "markdown",
      "source": [
        "Second, let us install the latest PyTorch `1.13.1` as of today (2023.01.06). You can change it as you wish."
      ],
      "metadata": {
        "id": "ExTwzynSjqiB"
      }
    },
    {
      "cell_type": "code",
      "source": [
        "! pip install torch==1.13.1 torchaudio==0.13.1 --extra-index-url https://download.pytorch.org/whl/cpu"
      ],
      "metadata": {
        "colab": {
          "base_uri": "https://localhost:8080/"
        },
        "id": "zuV9fXDIjcBC",
        "outputId": "42777c74-d62a-4d5b-c0cc-3c37911a1d56"
      },
      "execution_count": 3,
      "outputs": [
        {
          "output_type": "stream",
          "name": "stdout",
          "text": [
            "Looking in indexes: https://pypi.org/simple, https://us-python.pkg.dev/colab-wheels/public/simple/, https://download.pytorch.org/whl/cpu\n",
            "Collecting torch==1.13.1\n",
            "  Downloading https://download.pytorch.org/whl/cpu/torch-1.13.1%2Bcpu-cp38-cp38-linux_x86_64.whl (199.1 MB)\n",
            "\u001b[2K     \u001b[90m━━━━━━━━━━━━━━━━━━━━━━━━━━━━━━━━━━━━━━━\u001b[0m \u001b[32m199.1/199.1 MB\u001b[0m \u001b[31m6.4 MB/s\u001b[0m eta \u001b[36m0:00:00\u001b[0m\n",
            "\u001b[?25hCollecting torchaudio==0.13.1\n",
            "  Downloading https://download.pytorch.org/whl/cpu/torchaudio-0.13.1%2Bcpu-cp38-cp38-linux_x86_64.whl (4.0 MB)\n",
            "\u001b[2K     \u001b[90m━━━━━━━━━━━━━━━━━━━━━━━━━━━━━━━━━━━━━━━━\u001b[0m \u001b[32m4.0/4.0 MB\u001b[0m \u001b[31m74.5 MB/s\u001b[0m eta \u001b[36m0:00:00\u001b[0m\n",
            "\u001b[?25hRequirement already satisfied: typing-extensions in /usr/local/lib/python3.8/dist-packages (from torch==1.13.1) (4.4.0)\n",
            "Installing collected packages: torch, torchaudio\n",
            "Successfully installed torch-1.13.1+cpu torchaudio-0.13.1+cpu\n"
          ]
        }
      ]
    },
    {
      "cell_type": "markdown",
      "source": [
        "## Install k2"
      ],
      "metadata": {
        "id": "-aX_QHjJj4st"
      }
    },
    {
      "cell_type": "markdown",
      "source": [
        "Since we have install torch 1.13.1, we need to install a version compiled agains torch 1.13.1. If you change the torch version, please also change the following command."
      ],
      "metadata": {
        "id": "CKA6rHNbkCN6"
      }
    },
    {
      "cell_type": "code",
      "source": [
        "! pip install k2==1.23.3.dev20230106+cpu.torch1.13.1 -f https://k2-fsa.org/nightly/index.html"
      ],
      "metadata": {
        "colab": {
          "base_uri": "https://localhost:8080/"
        },
        "id": "xos56IgzkBp3",
        "outputId": "ada8e70e-9a4c-48ae-d724-8dea399c3e43"
      },
      "execution_count": 4,
      "outputs": [
        {
          "output_type": "stream",
          "name": "stdout",
          "text": [
            "Looking in indexes: https://pypi.org/simple, https://us-python.pkg.dev/colab-wheels/public/simple/\n",
            "Looking in links: https://k2-fsa.org/nightly/index.html\n",
            "Collecting k2==1.23.3.dev20230106+cpu.torch1.13.1\n",
            "  Downloading https://k2-fsa.org/nightly/whl/k2-1.23.3.dev20230106%2Bcpu.torch1.13.1-cp38-cp38-linux_x86_64.whl (2.5 MB)\n",
            "\u001b[2K     \u001b[90m━━━━━━━━━━━━━━━━━━━━━━━━━━━━━━━━━━━━━━━━\u001b[0m \u001b[32m2.5/2.5 MB\u001b[0m \u001b[31m22.2 MB/s\u001b[0m eta \u001b[36m0:00:00\u001b[0m\n",
            "\u001b[?25hRequirement already satisfied: torch==1.13.1 in /usr/local/lib/python3.8/dist-packages (from k2==1.23.3.dev20230106+cpu.torch1.13.1) (1.13.1+cpu)\n",
            "Requirement already satisfied: graphviz in /usr/local/lib/python3.8/dist-packages (from k2==1.23.3.dev20230106+cpu.torch1.13.1) (0.10.1)\n",
            "Requirement already satisfied: typing-extensions in /usr/local/lib/python3.8/dist-packages (from torch==1.13.1->k2==1.23.3.dev20230106+cpu.torch1.13.1) (4.4.0)\n",
            "Installing collected packages: k2\n",
            "Successfully installed k2-1.23.3.dev20230106+cpu.torch1.13.1\n"
          ]
        }
      ]
    },
    {
      "cell_type": "markdown",
      "source": [
        "## Install Kaldifeat"
      ],
      "metadata": {
        "id": "usmPsfhYkeHt"
      }
    },
    {
      "cell_type": "code",
      "source": [
        "! pip install --verbose kaldifeat"
      ],
      "metadata": {
        "colab": {
          "base_uri": "https://localhost:8080/"
        },
        "id": "DqjcSEoSkfcU",
        "outputId": "e83d741e-e963-485d-a5c9-6f9b2910fd6e"
      },
      "execution_count": 5,
      "outputs": [
        {
          "output_type": "stream",
          "name": "stdout",
          "text": [
            "Using pip 22.0.4 from /usr/local/lib/python3.8/dist-packages/pip (python 3.8)\n",
            "Looking in indexes: https://pypi.org/simple, https://us-python.pkg.dev/colab-wheels/public/simple/\n",
            "Collecting kaldifeat\n",
            "  Downloading kaldifeat-1.21.tar.gz (482 kB)\n",
            "\u001b[2K     \u001b[90m━━━━━━━━━━━━━━━━━━━━━━━━━━━━━━━━━━━━━━\u001b[0m \u001b[32m482.4/482.4 KB\u001b[0m \u001b[31m17.3 MB/s\u001b[0m eta \u001b[36m0:00:00\u001b[0m\n",
            "\u001b[?25h  Running command python setup.py egg_info\n",
            "  running egg_info\n",
            "  creating /tmp/pip-pip-egg-info-5gv1cxur/kaldifeat.egg-info\n",
            "  writing /tmp/pip-pip-egg-info-5gv1cxur/kaldifeat.egg-info/PKG-INFO\n",
            "  writing dependency_links to /tmp/pip-pip-egg-info-5gv1cxur/kaldifeat.egg-info/dependency_links.txt\n",
            "  writing top-level names to /tmp/pip-pip-egg-info-5gv1cxur/kaldifeat.egg-info/top_level.txt\n",
            "  writing manifest file '/tmp/pip-pip-egg-info-5gv1cxur/kaldifeat.egg-info/SOURCES.txt'\n",
            "  Generating grammar tables from /usr/lib/python3.8/lib2to3/Grammar.txt\n",
            "  Generating grammar tables from /usr/lib/python3.8/lib2to3/PatternGrammar.txt\n",
            "  reading manifest file '/tmp/pip-pip-egg-info-5gv1cxur/kaldifeat.egg-info/SOURCES.txt'\n",
            "  reading manifest template 'MANIFEST.in'\n",
            "  warning: no previously-included files found matching 'pyproject.toml'\n",
            "  adding license file 'LICENSE'\n",
            "  writing manifest file '/tmp/pip-pip-egg-info-5gv1cxur/kaldifeat.egg-info/SOURCES.txt'\n",
            "  Preparing metadata (setup.py) ... \u001b[?25l\u001b[?25hdone\n",
            "Building wheels for collected packages: kaldifeat\n",
            "  Running command python setup.py bdist_wheel\n",
            "  running bdist_wheel\n",
            "  running build\n",
            "  running build_py\n",
            "  Generating grammar tables from /usr/lib/python3.8/lib2to3/Grammar.txt\n",
            "  Generating grammar tables from /usr/lib/python3.8/lib2to3/PatternGrammar.txt\n",
            "  creating build\n",
            "  creating build/lib.linux-x86_64-3.8\n",
            "  creating build/lib.linux-x86_64-3.8/kaldifeat\n",
            "  copying kaldifeat/python/kaldifeat/fbank.py -> build/lib.linux-x86_64-3.8/kaldifeat\n",
            "  copying kaldifeat/python/kaldifeat/spectrogram.py -> build/lib.linux-x86_64-3.8/kaldifeat\n",
            "  copying kaldifeat/python/kaldifeat/mfcc.py -> build/lib.linux-x86_64-3.8/kaldifeat\n",
            "  copying kaldifeat/python/kaldifeat/plp.py -> build/lib.linux-x86_64-3.8/kaldifeat\n",
            "  copying kaldifeat/python/kaldifeat/offline_feature.py -> build/lib.linux-x86_64-3.8/kaldifeat\n",
            "  copying kaldifeat/python/kaldifeat/__init__.py -> build/lib.linux-x86_64-3.8/kaldifeat\n",
            "  copying kaldifeat/python/kaldifeat/online_feature.py -> build/lib.linux-x86_64-3.8/kaldifeat\n",
            "  running build_ext\n",
            "  Setting PYTHON_EXECUTABLE to /usr/bin/python3\n",
            "  For fast compilation, run:\n",
            "  export KALDIFEAT_MAKE_ARGS=\"-j\"; python setup.py install\n",
            "  Setting make_args to '-j4'\n",
            "  build command is:\n",
            "\n",
            "                  cd build/temp.linux-x86_64-3.8\n",
            "\n",
            "                  cmake -DCMAKE_BUILD_TYPE=Release -DPYTHON_EXECUTABLE=/usr/bin/python3 -Dkaldifeat_BUILD_TESTS=OFF  -DCMAKE_INSTALL_PREFIX=/tmp/pip-install-l01wfbpv/kaldifeat_2e1f857f4b9e4c00adff443d10ad9184/build/lib.linux-x86_64-3.8/kaldifeat  /tmp/pip-install-l01wfbpv/kaldifeat_2e1f857f4b9e4c00adff443d10ad9184\n",
            "\n",
            "\n",
            "                  make  -j4  _kaldifeat install\n",
            "\n",
            "  -- The C compiler identification is GNU 7.5.0\n",
            "  -- The CXX compiler identification is GNU 7.5.0\n",
            "  -- Detecting C compiler ABI info\n",
            "  -- Detecting C compiler ABI info - done\n",
            "  -- Check for working C compiler: /usr/bin/cc - skipped\n",
            "  -- Detecting C compile features\n",
            "  -- Detecting C compile features - done\n",
            "  -- Detecting CXX compiler ABI info\n",
            "  -- Detecting CXX compiler ABI info - done\n",
            "  -- Check for working CXX compiler: /usr/bin/c++ - skipped\n",
            "  -- Detecting CXX compile features\n",
            "  -- Detecting CXX compile features - done\n",
            "  -- C++ Standard version: 14\n",
            "  -- Downloading pybind11\n",
            "  -- pybind11 is downloaded to /tmp/pip-install-l01wfbpv/kaldifeat_2e1f857f4b9e4c00adff443d10ad9184/build/temp.linux-x86_64-3.8/_deps/pybind11-src\n",
            "  -- pybind11 v2.9.2\n",
            "  -- Found PythonInterp: /usr/bin/python3 (found version \"3.8.16\")\n",
            "  -- Found PythonLibs: /usr/lib/x86_64-linux-gnu/libpython3.8.so\n",
            "  -- Performing Test HAS_FLTO\n",
            "  -- Performing Test HAS_FLTO - Success\n",
            "  -- Python executable: /usr/bin/python3\n",
            "  -- TORCH_DIR: /usr/local/lib/python3.8/dist-packages/torch\n",
            "  -- Looking for pthread.h\n",
            "  -- Looking for pthread.h - found\n",
            "  -- Performing Test CMAKE_HAVE_LIBC_PTHREAD\n",
            "  -- Performing Test CMAKE_HAVE_LIBC_PTHREAD - Failed\n",
            "  -- Looking for pthread_create in pthreads\n",
            "  -- Looking for pthread_create in pthreads - not found\n",
            "  -- Looking for pthread_create in pthread\n",
            "  -- Looking for pthread_create in pthread - found\n",
            "  -- Found Threads: TRUE\n",
            "  CMake Warning at /usr/local/lib/python3.8/dist-packages/torch/share/cmake/Torch/TorchConfig.cmake:22 (message):\n",
            "    static library kineto_LIBRARY-NOTFOUND not found.\n",
            "  Call Stack (most recent call first):\n",
            "    /usr/local/lib/python3.8/dist-packages/torch/share/cmake/Torch/TorchConfig.cmake:127 (append_torchlib_if_found)\n",
            "    cmake/torch.cmake:14 (find_package)\n",
            "    CMakeLists.txt:56 (include)\n",
            "\n",
            "\n",
            "  -- Found Torch: /usr/local/lib/python3.8/dist-packages/torch/lib/libtorch.so\n",
            "  -- PyTorch version: 1.13.1+cpu\n",
            "  -- CMAKE_CXX_FLAGS:  -D_GLIBCXX_USE_CXX11_ABI=0\n",
            "  -- CMAKE_INSTALL_PREFIX: /tmp/pip-install-l01wfbpv/kaldifeat_2e1f857f4b9e4c00adff443d10ad9184/build/lib.linux-x86_64-3.8/kaldifeat\n",
            "  -- All headers: /tmp/pip-install-l01wfbpv/kaldifeat_2e1f857f4b9e4c00adff443d10ad9184/kaldifeat/csrc/feature-common-inl.h;/tmp/pip-install-l01wfbpv/kaldifeat_2e1f857f4b9e4c00adff443d10ad9184/kaldifeat/csrc/feature-common.h;/tmp/pip-install-l01wfbpv/kaldifeat_2e1f857f4b9e4c00adff443d10ad9184/kaldifeat/csrc/feature-fbank.h;/tmp/pip-install-l01wfbpv/kaldifeat_2e1f857f4b9e4c00adff443d10ad9184/kaldifeat/csrc/feature-functions.h;/tmp/pip-install-l01wfbpv/kaldifeat_2e1f857f4b9e4c00adff443d10ad9184/kaldifeat/csrc/feature-mfcc.h;/tmp/pip-install-l01wfbpv/kaldifeat_2e1f857f4b9e4c00adff443d10ad9184/kaldifeat/csrc/feature-plp.h;/tmp/pip-install-l01wfbpv/kaldifeat_2e1f857f4b9e4c00adff443d10ad9184/kaldifeat/csrc/feature-spectrogram.h;/tmp/pip-install-l01wfbpv/kaldifeat_2e1f857f4b9e4c00adff443d10ad9184/kaldifeat/csrc/feature-window.h;/tmp/pip-install-l01wfbpv/kaldifeat_2e1f857f4b9e4c00adff443d10ad9184/kaldifeat/csrc/log.h;/tmp/pip-install-l01wfbpv/kaldifeat_2e1f857f4b9e4c00adff443d10ad9184/kaldifeat/csrc/matrix-functions.h;/tmp/pip-install-l01wfbpv/kaldifeat_2e1f857f4b9e4c00adff443d10ad9184/kaldifeat/csrc/mel-computations.h;/tmp/pip-install-l01wfbpv/kaldifeat_2e1f857f4b9e4c00adff443d10ad9184/kaldifeat/csrc/online-feature-itf.h;/tmp/pip-install-l01wfbpv/kaldifeat_2e1f857f4b9e4c00adff443d10ad9184/kaldifeat/csrc/online-feature.h;/tmp/pip-install-l01wfbpv/kaldifeat_2e1f857f4b9e4c00adff443d10ad9184/kaldifeat/csrc/pitch-functions.h\n",
            "  -- Configuring done\n",
            "  -- Generating done\n",
            "  -- Build files have been written to: /tmp/pip-install-l01wfbpv/kaldifeat_2e1f857f4b9e4c00adff443d10ad9184/build/temp.linux-x86_64-3.8\n",
            "  [  5%] Building CXX object kaldifeat/csrc/CMakeFiles/kaldifeat_core.dir/feature-fbank.cc.o\n",
            "  [ 10%] Building CXX object kaldifeat/csrc/CMakeFiles/kaldifeat_core.dir/feature-plp.cc.o\n",
            "  [ 15%] Building CXX object kaldifeat/csrc/CMakeFiles/kaldifeat_core.dir/feature-mfcc.cc.o\n",
            "  [ 20%] Building CXX object kaldifeat/csrc/CMakeFiles/kaldifeat_core.dir/feature-functions.cc.o\n",
            "  [ 25%] Building CXX object kaldifeat/csrc/CMakeFiles/kaldifeat_core.dir/feature-spectrogram.cc.o\n",
            "  [ 30%] Building CXX object kaldifeat/csrc/CMakeFiles/kaldifeat_core.dir/feature-window.cc.o\n",
            "  [ 35%] Building CXX object kaldifeat/csrc/CMakeFiles/kaldifeat_core.dir/matrix-functions.cc.o\n",
            "  [ 40%] Building CXX object kaldifeat/csrc/CMakeFiles/kaldifeat_core.dir/mel-computations.cc.o\n",
            "  [ 45%] Building CXX object kaldifeat/csrc/CMakeFiles/kaldifeat_core.dir/online-feature.cc.o\n",
            "  [ 50%] Linking CXX shared library ../../lib/libkaldifeat_core.so\n",
            "  [ 50%] Built target kaldifeat_core\n",
            "  [ 55%] Building CXX object kaldifeat/python/csrc/CMakeFiles/_kaldifeat.dir/feature-fbank.cc.o\n",
            "  [ 60%] Building CXX object kaldifeat/python/csrc/CMakeFiles/_kaldifeat.dir/feature-spectrogram.cc.o\n",
            "  [ 65%] Building CXX object kaldifeat/python/csrc/CMakeFiles/_kaldifeat.dir/feature-plp.cc.o\n",
            "  [ 70%] Building CXX object kaldifeat/python/csrc/CMakeFiles/_kaldifeat.dir/feature-mfcc.cc.o\n",
            "  [ 75%] Building CXX object kaldifeat/python/csrc/CMakeFiles/_kaldifeat.dir/feature-window.cc.o\n",
            "  [ 80%] Building CXX object kaldifeat/python/csrc/CMakeFiles/_kaldifeat.dir/kaldifeat.cc.o\n",
            "  [ 85%] Building CXX object kaldifeat/python/csrc/CMakeFiles/_kaldifeat.dir/mel-computations.cc.o\n",
            "  [ 90%] Building CXX object kaldifeat/python/csrc/CMakeFiles/_kaldifeat.dir/online-feature.cc.o\n",
            "  [ 95%] Building CXX object kaldifeat/python/csrc/CMakeFiles/_kaldifeat.dir/utils.cc.o\n",
            "  [100%] Linking CXX shared module ../../../lib/_kaldifeat.cpython-38-x86_64-linux-gnu.so\n",
            "  [100%] Built target _kaldifeat\n",
            "  Consolidate compiler generated dependencies of target kaldifeat_core\n",
            "  [ 45%] Built target kaldifeat_core\n",
            "  [ 50%] Building CXX object kaldifeat/csrc/CMakeFiles/test_kaldifeat.dir/test_kaldifeat.cc.o\n",
            "  Consolidate compiler generated dependencies of target _kaldifeat\n",
            "  [ 95%] Built target _kaldifeat\n",
            "  [100%] Linking CXX executable ../../bin/test_kaldifeat\n",
            "  [100%] Built target test_kaldifeat\n",
            "  Install the project...\n",
            "  -- Install configuration: \"Release\"\n",
            "  -- Installing: /tmp/pip-install-l01wfbpv/kaldifeat_2e1f857f4b9e4c00adff443d10ad9184/build/lib.linux-x86_64-3.8/kaldifeat/share/cmake/kaldifeat/kaldifeatConfigVersion.cmake\n",
            "  -- Installing: /tmp/pip-install-l01wfbpv/kaldifeat_2e1f857f4b9e4c00adff443d10ad9184/build/lib.linux-x86_64-3.8/kaldifeat/share/cmake/kaldifeat/kaldifeatConfig.cmake\n",
            "  -- Installing: /tmp/pip-install-l01wfbpv/kaldifeat_2e1f857f4b9e4c00adff443d10ad9184/build/lib.linux-x86_64-3.8/kaldifeat/./torch_version.py\n",
            "  -- Installing: /tmp/pip-install-l01wfbpv/kaldifeat_2e1f857f4b9e4c00adff443d10ad9184/build/lib.linux-x86_64-3.8/kaldifeat/lib/libkaldifeat_core.so\n",
            "  -- Set runtime path of \"/tmp/pip-install-l01wfbpv/kaldifeat_2e1f857f4b9e4c00adff443d10ad9184/build/lib.linux-x86_64-3.8/kaldifeat/lib/libkaldifeat_core.so\" to \"$ORIGIN:/usr/local/lib/python3.8/dist-packages/torch/lib\"\n",
            "  -- Installing: /tmp/pip-install-l01wfbpv/kaldifeat_2e1f857f4b9e4c00adff443d10ad9184/build/lib.linux-x86_64-3.8/kaldifeat/include/kaldifeat/csrc/feature-common-inl.h\n",
            "  -- Installing: /tmp/pip-install-l01wfbpv/kaldifeat_2e1f857f4b9e4c00adff443d10ad9184/build/lib.linux-x86_64-3.8/kaldifeat/include/kaldifeat/csrc/feature-common.h\n",
            "  -- Installing: /tmp/pip-install-l01wfbpv/kaldifeat_2e1f857f4b9e4c00adff443d10ad9184/build/lib.linux-x86_64-3.8/kaldifeat/include/kaldifeat/csrc/feature-fbank.h\n",
            "  -- Installing: /tmp/pip-install-l01wfbpv/kaldifeat_2e1f857f4b9e4c00adff443d10ad9184/build/lib.linux-x86_64-3.8/kaldifeat/include/kaldifeat/csrc/feature-functions.h\n",
            "  -- Installing: /tmp/pip-install-l01wfbpv/kaldifeat_2e1f857f4b9e4c00adff443d10ad9184/build/lib.linux-x86_64-3.8/kaldifeat/include/kaldifeat/csrc/feature-mfcc.h\n",
            "  -- Installing: /tmp/pip-install-l01wfbpv/kaldifeat_2e1f857f4b9e4c00adff443d10ad9184/build/lib.linux-x86_64-3.8/kaldifeat/include/kaldifeat/csrc/feature-plp.h\n",
            "  -- Installing: /tmp/pip-install-l01wfbpv/kaldifeat_2e1f857f4b9e4c00adff443d10ad9184/build/lib.linux-x86_64-3.8/kaldifeat/include/kaldifeat/csrc/feature-spectrogram.h\n",
            "  -- Installing: /tmp/pip-install-l01wfbpv/kaldifeat_2e1f857f4b9e4c00adff443d10ad9184/build/lib.linux-x86_64-3.8/kaldifeat/include/kaldifeat/csrc/feature-window.h\n",
            "  -- Installing: /tmp/pip-install-l01wfbpv/kaldifeat_2e1f857f4b9e4c00adff443d10ad9184/build/lib.linux-x86_64-3.8/kaldifeat/include/kaldifeat/csrc/log.h\n",
            "  -- Installing: /tmp/pip-install-l01wfbpv/kaldifeat_2e1f857f4b9e4c00adff443d10ad9184/build/lib.linux-x86_64-3.8/kaldifeat/include/kaldifeat/csrc/matrix-functions.h\n",
            "  -- Installing: /tmp/pip-install-l01wfbpv/kaldifeat_2e1f857f4b9e4c00adff443d10ad9184/build/lib.linux-x86_64-3.8/kaldifeat/include/kaldifeat/csrc/mel-computations.h\n",
            "  -- Installing: /tmp/pip-install-l01wfbpv/kaldifeat_2e1f857f4b9e4c00adff443d10ad9184/build/lib.linux-x86_64-3.8/kaldifeat/include/kaldifeat/csrc/online-feature-itf.h\n",
            "  -- Installing: /tmp/pip-install-l01wfbpv/kaldifeat_2e1f857f4b9e4c00adff443d10ad9184/build/lib.linux-x86_64-3.8/kaldifeat/include/kaldifeat/csrc/online-feature.h\n",
            "  -- Installing: /tmp/pip-install-l01wfbpv/kaldifeat_2e1f857f4b9e4c00adff443d10ad9184/build/lib.linux-x86_64-3.8/kaldifeat/include/kaldifeat/csrc/pitch-functions.h\n",
            "  -- Installing: /tmp/pip-install-l01wfbpv/kaldifeat_2e1f857f4b9e4c00adff443d10ad9184/build/lib.linux-x86_64-3.8/kaldifeat/../_kaldifeat.cpython-38-x86_64-linux-gnu.so\n",
            "  -- Set runtime path of \"/tmp/pip-install-l01wfbpv/kaldifeat_2e1f857f4b9e4c00adff443d10ad9184/build/lib.linux-x86_64-3.8/kaldifeat/../_kaldifeat.cpython-38-x86_64-linux-gnu.so\" to \"$ORIGIN:/usr/local/lib/python3.8/dist-packages/torch/lib\"\n",
            "  installing to build/bdist.linux-x86_64/wheel\n",
            "  running install\n",
            "  running install_lib\n",
            "  creating build/bdist.linux-x86_64\n",
            "  creating build/bdist.linux-x86_64/wheel\n",
            "  creating build/bdist.linux-x86_64/wheel/kaldifeat\n",
            "  copying build/lib.linux-x86_64-3.8/kaldifeat/fbank.py -> build/bdist.linux-x86_64/wheel/kaldifeat\n",
            "  creating build/bdist.linux-x86_64/wheel/kaldifeat/include\n",
            "  creating build/bdist.linux-x86_64/wheel/kaldifeat/include/kaldifeat\n",
            "  creating build/bdist.linux-x86_64/wheel/kaldifeat/include/kaldifeat/csrc\n",
            "  copying build/lib.linux-x86_64-3.8/kaldifeat/include/kaldifeat/csrc/log.h -> build/bdist.linux-x86_64/wheel/kaldifeat/include/kaldifeat/csrc\n",
            "  copying build/lib.linux-x86_64-3.8/kaldifeat/include/kaldifeat/csrc/feature-common.h -> build/bdist.linux-x86_64/wheel/kaldifeat/include/kaldifeat/csrc\n",
            "  copying build/lib.linux-x86_64-3.8/kaldifeat/include/kaldifeat/csrc/feature-plp.h -> build/bdist.linux-x86_64/wheel/kaldifeat/include/kaldifeat/csrc\n",
            "  copying build/lib.linux-x86_64-3.8/kaldifeat/include/kaldifeat/csrc/feature-spectrogram.h -> build/bdist.linux-x86_64/wheel/kaldifeat/include/kaldifeat/csrc\n",
            "  copying build/lib.linux-x86_64-3.8/kaldifeat/include/kaldifeat/csrc/online-feature.h -> build/bdist.linux-x86_64/wheel/kaldifeat/include/kaldifeat/csrc\n",
            "  copying build/lib.linux-x86_64-3.8/kaldifeat/include/kaldifeat/csrc/feature-mfcc.h -> build/bdist.linux-x86_64/wheel/kaldifeat/include/kaldifeat/csrc\n",
            "  copying build/lib.linux-x86_64-3.8/kaldifeat/include/kaldifeat/csrc/pitch-functions.h -> build/bdist.linux-x86_64/wheel/kaldifeat/include/kaldifeat/csrc\n",
            "  copying build/lib.linux-x86_64-3.8/kaldifeat/include/kaldifeat/csrc/online-feature-itf.h -> build/bdist.linux-x86_64/wheel/kaldifeat/include/kaldifeat/csrc\n",
            "  copying build/lib.linux-x86_64-3.8/kaldifeat/include/kaldifeat/csrc/feature-fbank.h -> build/bdist.linux-x86_64/wheel/kaldifeat/include/kaldifeat/csrc\n",
            "  copying build/lib.linux-x86_64-3.8/kaldifeat/include/kaldifeat/csrc/matrix-functions.h -> build/bdist.linux-x86_64/wheel/kaldifeat/include/kaldifeat/csrc\n",
            "  copying build/lib.linux-x86_64-3.8/kaldifeat/include/kaldifeat/csrc/feature-window.h -> build/bdist.linux-x86_64/wheel/kaldifeat/include/kaldifeat/csrc\n",
            "  copying build/lib.linux-x86_64-3.8/kaldifeat/include/kaldifeat/csrc/mel-computations.h -> build/bdist.linux-x86_64/wheel/kaldifeat/include/kaldifeat/csrc\n",
            "  copying build/lib.linux-x86_64-3.8/kaldifeat/include/kaldifeat/csrc/feature-functions.h -> build/bdist.linux-x86_64/wheel/kaldifeat/include/kaldifeat/csrc\n",
            "  copying build/lib.linux-x86_64-3.8/kaldifeat/include/kaldifeat/csrc/feature-common-inl.h -> build/bdist.linux-x86_64/wheel/kaldifeat/include/kaldifeat/csrc\n",
            "  copying build/lib.linux-x86_64-3.8/kaldifeat/spectrogram.py -> build/bdist.linux-x86_64/wheel/kaldifeat\n",
            "  copying build/lib.linux-x86_64-3.8/kaldifeat/mfcc.py -> build/bdist.linux-x86_64/wheel/kaldifeat\n",
            "  copying build/lib.linux-x86_64-3.8/kaldifeat/plp.py -> build/bdist.linux-x86_64/wheel/kaldifeat\n",
            "  creating build/bdist.linux-x86_64/wheel/kaldifeat/lib\n",
            "  copying build/lib.linux-x86_64-3.8/kaldifeat/lib/libkaldifeat_core.so -> build/bdist.linux-x86_64/wheel/kaldifeat/lib\n",
            "  creating build/bdist.linux-x86_64/wheel/kaldifeat/share\n",
            "  creating build/bdist.linux-x86_64/wheel/kaldifeat/share/cmake\n",
            "  creating build/bdist.linux-x86_64/wheel/kaldifeat/share/cmake/kaldifeat\n",
            "  copying build/lib.linux-x86_64-3.8/kaldifeat/share/cmake/kaldifeat/kaldifeatConfigVersion.cmake -> build/bdist.linux-x86_64/wheel/kaldifeat/share/cmake/kaldifeat\n",
            "  copying build/lib.linux-x86_64-3.8/kaldifeat/share/cmake/kaldifeat/kaldifeatConfig.cmake -> build/bdist.linux-x86_64/wheel/kaldifeat/share/cmake/kaldifeat\n",
            "  copying build/lib.linux-x86_64-3.8/kaldifeat/offline_feature.py -> build/bdist.linux-x86_64/wheel/kaldifeat\n",
            "  copying build/lib.linux-x86_64-3.8/kaldifeat/__init__.py -> build/bdist.linux-x86_64/wheel/kaldifeat\n",
            "  copying build/lib.linux-x86_64-3.8/kaldifeat/online_feature.py -> build/bdist.linux-x86_64/wheel/kaldifeat\n",
            "  copying build/lib.linux-x86_64-3.8/kaldifeat/torch_version.py -> build/bdist.linux-x86_64/wheel/kaldifeat\n",
            "  copying build/lib.linux-x86_64-3.8/_kaldifeat.cpython-38-x86_64-linux-gnu.so -> build/bdist.linux-x86_64/wheel\n",
            "  running install_egg_info\n",
            "  running egg_info\n",
            "  writing kaldifeat.egg-info/PKG-INFO\n",
            "  writing dependency_links to kaldifeat.egg-info/dependency_links.txt\n",
            "  writing top-level names to kaldifeat.egg-info/top_level.txt\n",
            "  reading manifest file 'kaldifeat.egg-info/SOURCES.txt'\n",
            "  reading manifest template 'MANIFEST.in'\n",
            "  warning: no previously-included files found matching 'pyproject.toml'\n",
            "  adding license file 'LICENSE'\n",
            "  writing manifest file 'kaldifeat.egg-info/SOURCES.txt'\n",
            "  Copying kaldifeat.egg-info to build/bdist.linux-x86_64/wheel/kaldifeat-1.21-py3.8.egg-info\n",
            "  running install_scripts\n",
            "  creating build/bdist.linux-x86_64/wheel/kaldifeat-1.21.dist-info/WHEEL\n",
            "  creating '/tmp/pip-wheel-pv2tdhdx/kaldifeat-1.21-cp38-cp38-linux_x86_64.whl' and adding 'build/bdist.linux-x86_64/wheel' to it\n",
            "  adding '_kaldifeat.cpython-38-x86_64-linux-gnu.so'\n",
            "  adding 'kaldifeat/__init__.py'\n",
            "  adding 'kaldifeat/fbank.py'\n",
            "  adding 'kaldifeat/mfcc.py'\n",
            "  adding 'kaldifeat/offline_feature.py'\n",
            "  adding 'kaldifeat/online_feature.py'\n",
            "  adding 'kaldifeat/plp.py'\n",
            "  adding 'kaldifeat/spectrogram.py'\n",
            "  adding 'kaldifeat/torch_version.py'\n",
            "  adding 'kaldifeat/include/kaldifeat/csrc/feature-common-inl.h'\n",
            "  adding 'kaldifeat/include/kaldifeat/csrc/feature-common.h'\n",
            "  adding 'kaldifeat/include/kaldifeat/csrc/feature-fbank.h'\n",
            "  adding 'kaldifeat/include/kaldifeat/csrc/feature-functions.h'\n",
            "  adding 'kaldifeat/include/kaldifeat/csrc/feature-mfcc.h'\n",
            "  adding 'kaldifeat/include/kaldifeat/csrc/feature-plp.h'\n",
            "  adding 'kaldifeat/include/kaldifeat/csrc/feature-spectrogram.h'\n",
            "  adding 'kaldifeat/include/kaldifeat/csrc/feature-window.h'\n",
            "  adding 'kaldifeat/include/kaldifeat/csrc/log.h'\n",
            "  adding 'kaldifeat/include/kaldifeat/csrc/matrix-functions.h'\n",
            "  adding 'kaldifeat/include/kaldifeat/csrc/mel-computations.h'\n",
            "  adding 'kaldifeat/include/kaldifeat/csrc/online-feature-itf.h'\n",
            "  adding 'kaldifeat/include/kaldifeat/csrc/online-feature.h'\n",
            "  adding 'kaldifeat/include/kaldifeat/csrc/pitch-functions.h'\n",
            "  adding 'kaldifeat/lib/libkaldifeat_core.so'\n",
            "  adding 'kaldifeat/share/cmake/kaldifeat/kaldifeatConfig.cmake'\n",
            "  adding 'kaldifeat/share/cmake/kaldifeat/kaldifeatConfigVersion.cmake'\n",
            "  adding 'kaldifeat-1.21.dist-info/LICENSE'\n",
            "  adding 'kaldifeat-1.21.dist-info/METADATA'\n",
            "  adding 'kaldifeat-1.21.dist-info/WHEEL'\n",
            "  adding 'kaldifeat-1.21.dist-info/top_level.txt'\n",
            "  adding 'kaldifeat-1.21.dist-info/RECORD'\n",
            "  removing build/bdist.linux-x86_64/wheel\n",
            "  Building wheel for kaldifeat (setup.py) ... \u001b[?25l\u001b[?25hdone\n",
            "  Created wheel for kaldifeat: filename=kaldifeat-1.21-cp38-cp38-linux_x86_64.whl size=251915 sha256=01345335e29ddacc53e1f3dcf8b59d59158d787fec44f0c8a83909a065aaf8ca\n",
            "  Stored in directory: /root/.cache/pip/wheels/cd/32/ad/768cf2700e58c7899d3668e14e5a513c45e69e36f258b9d0d3\n",
            "Successfully built kaldifeat\n",
            "Installing collected packages: kaldifeat\n",
            "Successfully installed kaldifeat-1.21\n"
          ]
        }
      ]
    },
    {
      "cell_type": "markdown",
      "source": [
        "## Install sherpa"
      ],
      "metadata": {
        "id": "hrXCaqHIkZxz"
      }
    },
    {
      "cell_type": "code",
      "source": [
        "! git clone https://github.com/k2-fsa/sherpa && \\\n",
        "  cd sherpa && \\\n",
        "  pip install -r ./requirements.txt && \\\n",
        "  python3 setup.py install"
      ],
      "metadata": {
        "colab": {
          "base_uri": "https://localhost:8080/"
        },
        "id": "rDFdYcdwj0KU",
        "outputId": "5f53c3e8-0a28-446a-acbf-6284d71b8606"
      },
      "execution_count": null,
      "outputs": [
        {
          "metadata": {
            "tags": null
          },
          "name": "stdout",
          "output_type": "stream",
          "text": [
            "Cloning into 'sherpa'...\n",
            "remote: Enumerating objects: 5280, done.\u001b[K\n",
            "remote: Counting objects: 100% (31/31), done.\u001b[K\n",
            "remote: Compressing objects: 100% (31/31), done.\u001b[K\n",
            "remote: Total 5280 (delta 3), reused 4 (delta 0), pack-reused 5249\u001b[K\n",
            "Receiving objects: 100% (5280/5280), 13.11 MiB | 21.58 MiB/s, done.\n",
            "Resolving deltas: 100% (3188/3188), done.\n",
            "Looking in indexes: https://pypi.org/simple, https://us-python.pkg.dev/colab-wheels/public/simple/\n",
            "Collecting websockets\n",
            "  Downloading websockets-10.4-cp38-cp38-manylinux_2_5_x86_64.manylinux1_x86_64.manylinux_2_17_x86_64.manylinux2014_x86_64.whl (106 kB)\n",
            "\u001b[2K     \u001b[90m━━━━━━━━━━━━━━━━━━━━━━━━━━━━━━━━━━━━━━━\u001b[0m \u001b[32m107.0/107.0 KB\u001b[0m \u001b[31m5.8 MB/s\u001b[0m eta \u001b[36m0:00:00\u001b[0m\n",
            "\u001b[?25hRequirement already satisfied: kaldifeat in /usr/local/lib/python3.8/dist-packages (from -r ./requirements.txt (line 2)) (1.21)\n",
            "Collecting sentencepiece>=0.1.96\n",
            "  Downloading sentencepiece-0.1.97-cp38-cp38-manylinux_2_17_x86_64.manylinux2014_x86_64.whl (1.3 MB)\n",
            "\u001b[2K     \u001b[90m━━━━━━━━━━━━━━━━━━━━━━━━━━━━━━━━━━━━━━━━\u001b[0m \u001b[32m1.3/1.3 MB\u001b[0m \u001b[31m47.8 MB/s\u001b[0m eta \u001b[36m0:00:00\u001b[0m\n",
            "\u001b[?25hRequirement already satisfied: numpy in /usr/local/lib/python3.8/dist-packages (from -r ./requirements.txt (line 4)) (1.21.6)\n",
            "Installing collected packages: sentencepiece, websockets\n",
            "Successfully installed sentencepiece-0.1.97 websockets-10.4\n",
            "running install\n",
            "running bdist_egg\n",
            "running egg_info\n",
            "creating k2_sherpa.egg-info\n",
            "writing k2_sherpa.egg-info/PKG-INFO\n",
            "writing dependency_links to k2_sherpa.egg-info/dependency_links.txt\n",
            "writing top-level names to k2_sherpa.egg-info/top_level.txt\n",
            "writing manifest file 'k2_sherpa.egg-info/SOURCES.txt'\n",
            "Generating grammar tables from /usr/lib/python3.8/lib2to3/Grammar.txt\n",
            "Generating grammar tables from /usr/lib/python3.8/lib2to3/PatternGrammar.txt\n",
            "reading manifest template 'MANIFEST.in'\n",
            "adding license file 'LICENSE'\n",
            "writing manifest file 'k2_sherpa.egg-info/SOURCES.txt'\n",
            "installing library code to build/bdist.linux-x86_64/egg\n",
            "running install_lib\n",
            "running build_py\n",
            "creating build/lib.linux-x86_64-3.8\n",
            "creating build/lib.linux-x86_64-3.8/sherpa\n",
            "copying sherpa/python/sherpa/online_endpoint.py -> build/lib.linux-x86_64-3.8/sherpa\n",
            "copying sherpa/python/sherpa/http_server.py -> build/lib.linux-x86_64-3.8/sherpa\n",
            "copying sherpa/python/sherpa/utils.py -> build/lib.linux-x86_64-3.8/sherpa\n",
            "copying sherpa/python/sherpa/lexicon.py -> build/lib.linux-x86_64-3.8/sherpa\n",
            "copying sherpa/python/sherpa/timestamp.py -> build/lib.linux-x86_64-3.8/sherpa\n",
            "copying sherpa/python/sherpa/nbest.py -> build/lib.linux-x86_64-3.8/sherpa\n",
            "copying sherpa/python/sherpa/decode.py -> build/lib.linux-x86_64-3.8/sherpa\n",
            "copying sherpa/python/sherpa/__init__.py -> build/lib.linux-x86_64-3.8/sherpa\n",
            "running build_ext\n",
            "Setting PYTHON_EXECUTABLE to /usr/bin/python3\n",
            "for fast compilation, run:\n",
            "export SHERPA_MAKE_ARGS=\"-j\"; python setup.py install\n",
            "Setting make_args to \"-j4\"\n",
            "build command is:\n",
            "\n",
            "                cd build/temp.linux-x86_64-3.8\n",
            "\n",
            "                cmake -DCMAKE_BUILD_TYPE=Release -DPYTHON_EXECUTABLE=/usr/bin/python3 -DSHERPA_ENABLE_TESTS=OFF  -DCMAKE_INSTALL_PREFIX=/content/sherpa/build/lib.linux-x86_64-3.8/sherpa  /content/sherpa\n",
            "\n",
            "                make -j4 install/strip\n",
            "            \n",
            "-- The C compiler identification is GNU 7.5.0\n",
            "-- The CXX compiler identification is GNU 7.5.0\n",
            "-- Detecting C compiler ABI info\n",
            "-- Detecting C compiler ABI info - done\n",
            "-- Check for working C compiler: /usr/bin/cc - skipped\n",
            "-- Detecting C compile features\n",
            "-- Detecting C compile features - done\n",
            "-- Detecting CXX compiler ABI info\n",
            "-- Detecting CXX compiler ABI info - done\n",
            "-- Check for working CXX compiler: /usr/bin/c++ - skipped\n",
            "-- Detecting CXX compile features\n",
            "-- Detecting CXX compile features - done\n",
            "-- CMAKE_BUILD_TYPE: Release\n",
            "-- SHERPA_ENABLE_TESTS: OFF\n",
            "-- SHERPA_ENABLE_PORTAUDIO: ON\n",
            "-- SHERPA_ENABLE_WEBSOCKET: ON\n",
            "-- Looking for C++ include cxxabi.h\n",
            "-- Looking for C++ include cxxabi.h - found\n",
            "-- Looking for C++ include execinfo.h\n",
            "-- Looking for C++ include execinfo.h - found\n",
            "-- SHERPA_OS: Ubuntu 18.04.6 LTS\n",
            "-- CMake version: 3.22.6\n",
            "-- Found Git: /usr/bin/git (found version \"2.17.1\") \n",
            "-- SHERPA_GIT_SHA1: f59887b361794bfd1abdcbadc078e39ff1e04c29\n",
            "-- SHERPA_GIT_DATE: Fri Jan 6 11:52:30 2023\n",
            "-- SHERPA_GIT_BRANCH: master\n",
            "-- Downloading pybind11\n",
            "-- pybind11 is downloaded to /content/sherpa/build/temp.linux-x86_64-3.8/_deps/pybind11-src\n",
            "-- pybind11 v2.10.2 \n",
            "-- Found PythonInterp: /usr/bin/python3 (found suitable version \"3.8.16\", minimum required is \"3.6\") \n",
            "-- Found PythonLibs: /usr/lib/x86_64-linux-gnu/libpython3.8.so\n",
            "-- Performing Test HAS_FLTO\n",
            "-- Performing Test HAS_FLTO - Success\n",
            "-- Downloading json https://github.com/nlohmann/json/archive/refs/tags/v3.11.2.tar.gz\n",
            "-- json is downloaded to /content/sherpa/build/temp.linux-x86_64-3.8/_deps/json-src\n",
            "-- Python executable: /usr/bin/python3\n",
            "-- PYTHON_EXECUTABLE: /usr/bin/python3\n",
            "-- TORCH_DIR: /usr/local/lib/python3.8/dist-packages/torch\n",
            "-- Looking for pthread.h\n",
            "-- Looking for pthread.h - found\n",
            "-- Performing Test CMAKE_HAVE_LIBC_PTHREAD\n",
            "-- Performing Test CMAKE_HAVE_LIBC_PTHREAD - Failed\n",
            "-- Looking for pthread_create in pthreads\n",
            "-- Looking for pthread_create in pthreads - not found\n",
            "-- Looking for pthread_create in pthread\n",
            "-- Looking for pthread_create in pthread - found\n",
            "-- Found Threads: TRUE  \n",
            "\u001b[33mCMake Warning at /usr/local/lib/python3.8/dist-packages/torch/share/cmake/Torch/TorchConfig.cmake:22 (message):\n",
            "  static library kineto_LIBRARY-NOTFOUND not found.\n",
            "Call Stack (most recent call first):\n",
            "  /usr/local/lib/python3.8/dist-packages/torch/share/cmake/Torch/TorchConfig.cmake:127 (append_torchlib_if_found)\n",
            "  cmake/torch.cmake:14 (find_package)\n",
            "  CMakeLists.txt:140 (include)\n",
            "\n",
            "\u001b[0m\n",
            "-- Found Torch: /usr/local/lib/python3.8/dist-packages/torch/lib/libtorch.so  \n",
            "-- TORCH_LIBRARIES: torch;torch_library;/usr/local/lib/python3.8/dist-packages/torch/lib/libc10.so\n",
            "-- PyTorch version: 1.13.1+cpu\n",
            "\u001b[33mCMake Warning (dev) at cmake/k2.cmake:38:\n",
            "  Syntax Warning in cmake code at column 52\n",
            "\n",
            "  Argument not separated from preceding token by whitespace.\n",
            "Call Stack (most recent call first):\n",
            "  CMakeLists.txt:141 (include)\n",
            "This warning is for project developers.  Use -Wno-dev to suppress it.\n",
            "\u001b[0m\n",
            "-- Python executable: /usr/bin/python3\n",
            "-- K2_CMAKE_PREFIX_PATH: /usr/local/lib/python3.8/dist-packages/k2/share/cmake\n",
            "-- Found k2: /usr/local/lib/python3.8/dist-packages/k2/lib/libk2_torch_api.so (Required is at least version \"1.23.2\") \n",
            "-- K2_FOUND: TRUE\n",
            "-- K2_INCLUDE_DIRS: /usr/local/lib/python3.8/dist-packages/k2/include\n",
            "-- K2_LIBRARIES: k2_torch_api;k2_torch;k2_log;k2context;k2fsa\n",
            "-- K2_CXX_FLAGS:  -D_GLIBCXX_USE_CXX11_ABI=0 -Wno-unused-variable  -Wno-strict-overflow \n",
            "-- K2_CUDA_FLAGS: \n",
            "-- K2_TORCH_VERSION_MAJOR: 1\n",
            "-- K2_TORCH_VERSION_MINOR: 13\n",
            "-- K2_WITH_CUDA: OFF\n",
            "-- K2_CUDA_VERSION: \n",
            "-- K2_VERSION: 1.23.3\n",
            "-- K2_GIT_SHA1: fd609c0ecd074a2414cbfe7cc827427e6b04c8fc\n",
            "-- K2_GIT_DATE: Thu Jan 5 04:50:13 2023\n",
            "-- CMAKE_CXX_FLAGS:    -Wall  -g  -D_GLIBCXX_USE_CXX11_ABI=0   -D_GLIBCXX_USE_CXX11_ABI=0 -Wno-unused-variable  -Wno-strict-overflow \n",
            "\u001b[33mCMake Warning (dev) at cmake/kaldifeat.cmake:32:\n",
            "  Syntax Warning in cmake code at column 52\n",
            "\n",
            "  Argument not separated from preceding token by whitespace.\n",
            "Call Stack (most recent call first):\n",
            "  CMakeLists.txt:142 (include)\n",
            "This warning is for project developers.  Use -Wno-dev to suppress it.\n",
            "\u001b[0m\n",
            "-- Python executable: /usr/bin/python3\n",
            "-- KALDIFEAT_CMAKE_PREFIX_PATH: /usr/local/lib/python3.8/dist-packages/kaldifeat/share/cmake\n",
            "-- Found kaldifeat: /usr/local/lib/python3.8/dist-packages/kaldifeat/lib/libkaldifeat_core.so  \n",
            "-- KALDIFEAT_FOUND: TRUE\n",
            "-- KALDIFEAT_INCLUDE_DIRS: /usr/local/lib/python3.8/dist-packages/kaldifeat/include\n",
            "-- KALDIFEAT_CXX_FLAGS:  -D_GLIBCXX_USE_CXX11_ABI=0\n",
            "-- KALDIFEAT_LIBRARIES: kaldifeat_core\n",
            "-- KALDIFEAT_VERSION: 1.21\n",
            "-- CMAKE_CXX_FLAGS:    -Wall  -g  -D_GLIBCXX_USE_CXX11_ABI=0   -D_GLIBCXX_USE_CXX11_ABI=0 -Wno-unused-variable  -Wno-strict-overflow   -D_GLIBCXX_USE_CXX11_ABI=0\n",
            "-- Downloading kaldi_native_io https://github.com/csukuangfj/kaldi_native_io/archive/refs/tags/v1.17.2.tar.gz\n",
            "-- kaldi_native_io is downloaded to /content/sherpa/build/temp.linux-x86_64-3.8/_deps/kaldi_native_io-src\n",
            "-- kaldi_native_io's binary dir is /content/sherpa/build/temp.linux-x86_64-3.8/_deps/kaldi_native_io-build\n",
            "-- CMAKE_BUILD_TYPE: Release\n",
            "-- CMAKE_CXX_FLAGS:    -Wall  -g  -D_GLIBCXX_USE_CXX11_ABI=0   -D_GLIBCXX_USE_CXX11_ABI=0 -Wno-unused-variable  -Wno-strict-overflow   -D_GLIBCXX_USE_CXX11_ABI=0\n",
            "-- CMAKE_INSTALL_PREFIX: /content/sherpa/build/lib.linux-x86_64-3.8/sherpa\n",
            "-- CMAKE_CXX_FLAGS:    -Wall  -g  -D_GLIBCXX_USE_CXX11_ABI=0   -D_GLIBCXX_USE_CXX11_ABI=0 -Wno-unused-variable  -Wno-strict-overflow   -D_GLIBCXX_USE_CXX11_ABI=0\n",
            "-- Downloading portaudio\n",
            "-- portaudio is downloaded to /content/sherpa/build/temp.linux-x86_64-3.8/_deps/portaudio-src\n",
            "-- portaudio's binary dir is /content/sherpa/build/temp.linux-x86_64-3.8/_deps/portaudio-build\n",
            "\u001b[0mCMake Deprecation Warning at build/temp.linux-x86_64-3.8/_deps/portaudio-src/CMakeLists.txt:7 (CMAKE_MINIMUM_REQUIRED):\n",
            "  Compatibility with CMake < 2.8.12 will be removed from a future version of\n",
            "  CMake.\n",
            "\n",
            "  Update the VERSION argument <min> value or use a ...<max> suffix to tell\n",
            "  CMake that the project does not need compatibility with older versions.\n",
            "\n",
            "\u001b[0m\n",
            "-- Found ALSA: /usr/lib/x86_64-linux-gnu/libasound.so (found version \"1.1.3\") \n",
            "-- Downloading asio https://github.com/chriskohlhoff/asio/archive/refs/tags/asio-1-24-0.tar.gz\n",
            "-- asio is downloaded to /content/sherpa/build/temp.linux-x86_64-3.8/_deps/asio-src\n",
            "-- Downloading websocketpp https://github.com/zaphoyd/websocketpp/archive/b9aeec6eaf3d5610503439b4fae3581d9aff08e8.zip\n",
            "-- websocketpp is downloaded to /content/sherpa/build/temp.linux-x86_64-3.8/_deps/websocketpp-src\n",
            "-- CMAKE_CXX_FLAGS:    -Wall  -g  -D_GLIBCXX_USE_CXX11_ABI=0   -D_GLIBCXX_USE_CXX11_ABI=0 -Wno-unused-variable  -Wno-strict-overflow   -D_GLIBCXX_USE_CXX11_ABI=0\n",
            "-- CMAKE_INSTALL_PREFIX: /content/sherpa/build/lib.linux-x86_64-3.8/sherpa\n",
            "-- Generated /content/sherpa/build/temp.linux-x86_64-3.8/sherpa/csrc/version.h\n",
            "-- Outside a virtual environment\n",
            "-- path list: /usr/local/lib/python3.8/dist-packages;/usr/lib/python3/dist-packages;/usr/lib/python3.8/dist-packages\n",
            "-- Outside a virtual environment\n",
            "-- path list: /usr/local/lib/python3.8/dist-packages;/usr/lib/python3/dist-packages;/usr/lib/python3.8/dist-packages\n",
            "-- Configuring done\n",
            "-- Generating done\n",
            "-- Build files have been written to: /content/sherpa/build/temp.linux-x86_64-3.8\n",
            "[  1%] \u001b[32mBuilding CXX object sherpa/csrc/CMakeFiles/sherpa-version.dir/version.cc.o\u001b[0m\n",
            "[  2%] \u001b[32mBuilding C object _deps/portaudio-build/CMakeFiles/portaudio.dir/src/common/pa_allocation.c.o\u001b[0m\n",
            "[  3%] \u001b[32mBuilding C object _deps/portaudio-build/CMakeFiles/portaudio.dir/src/common/pa_converters.c.o\u001b[0m\n",
            "[  4%] \u001b[32mBuilding CXX object _deps/kaldi_native_io-build/kaldi_native_io/csrc/CMakeFiles/kaldi_native_io_core.dir/compressed-matrix.cc.o\u001b[0m\n",
            "[  5%] \u001b[32mBuilding C object _deps/portaudio-build/CMakeFiles/portaudio.dir/src/common/pa_cpuload.c.o\u001b[0m\n",
            "[  6%] \u001b[32mBuilding C object _deps/portaudio-build/CMakeFiles/portaudio.dir/src/common/pa_debugprint.c.o\u001b[0m\n",
            "[  7%] \u001b[32mBuilding C object _deps/portaudio-build/CMakeFiles/portaudio.dir/src/common/pa_dither.c.o\u001b[0m\n",
            "[  8%] \u001b[32m\u001b[1mLinking CXX executable ../../bin/sherpa-version\u001b[0m\n",
            "[  9%] \u001b[32mBuilding C object _deps/portaudio-build/CMakeFiles/portaudio.dir/src/common/pa_front.c.o\u001b[0m\n",
            "[ 10%] \u001b[32mBuilding C object _deps/portaudio-build/CMakeFiles/portaudio.dir/src/common/pa_process.c.o\u001b[0m\n",
            "[ 10%] Built target sherpa-version\n",
            "[ 11%] \u001b[32mBuilding CXX object _deps/kaldi_native_io-build/kaldi_native_io/csrc/CMakeFiles/kaldi_native_io_core.dir/io-funcs.cc.o\u001b[0m\n",
            "[ 12%] \u001b[32mBuilding C object _deps/portaudio-build/CMakeFiles/portaudio.dir/src/common/pa_ringbuffer.c.o\u001b[0m\n",
            "[ 13%] \u001b[32mBuilding C object _deps/portaudio-build/CMakeFiles/portaudio.dir/src/common/pa_stream.c.o\u001b[0m\n",
            "[ 14%] \u001b[32mBuilding C object _deps/portaudio-build/CMakeFiles/portaudio.dir/src/common/pa_trace.c.o\u001b[0m\n",
            "[ 14%] \u001b[32mBuilding C object _deps/portaudio-build/CMakeFiles/portaudio.dir/src/hostapi/skeleton/pa_hostapi_skeleton.c.o\u001b[0m\n",
            "[ 15%] \u001b[32mBuilding C object _deps/portaudio-build/CMakeFiles/portaudio.dir/src/os/unix/pa_unix_hostapis.c.o\u001b[0m\n",
            "[ 16%] \u001b[32mBuilding C object _deps/portaudio-build/CMakeFiles/portaudio.dir/src/os/unix/pa_unix_util.c.o\u001b[0m\n",
            "[ 17%] \u001b[32mBuilding C object _deps/portaudio-build/CMakeFiles/portaudio.dir/src/hostapi/jack/pa_jack.c.o\u001b[0m\n",
            "\u001b[01m\u001b[K/content/sherpa/build/temp.linux-x86_64-3.8/_deps/portaudio-src/src/hostapi/jack/pa_jack.c:\u001b[m\u001b[K In function ‘\u001b[01m\u001b[KBuildDeviceList\u001b[m\u001b[K’:\n",
            "\u001b[01m\u001b[K/content/sherpa/build/temp.linux-x86_64-3.8/_deps/portaudio-src/src/hostapi/jack/pa_jack.c:640:17:\u001b[m\u001b[K \u001b[01;35m\u001b[Kwarning: \u001b[m\u001b[K‘\u001b[01m\u001b[Kjack_port_get_latency\u001b[m\u001b[K’ is deprecated [\u001b[01;35m\u001b[K-Wdeprecated-declarations\u001b[m\u001b[K]\n",
            "                 \u001b[01;35m\u001b[Kjack_port_get_latency\u001b[m\u001b[K( p ) / globalSampleRate;\n",
            "                 \u001b[01;35m\u001b[K^~~~~~~~~~~~~~~~~~~~~\u001b[m\u001b[K\n",
            "In file included from \u001b[01m\u001b[K/content/sherpa/build/temp.linux-x86_64-3.8/_deps/portaudio-src/src/hostapi/jack/pa_jack.c:63:0\u001b[m\u001b[K:\n",
            "\u001b[01m\u001b[K/usr/include/jack/jack.h:1093:16:\u001b[m\u001b[K \u001b[01;36m\u001b[Knote: \u001b[m\u001b[Kdeclared here\n",
            " jack_nframes_t \u001b[01;36m\u001b[Kjack_port_get_latency\u001b[m\u001b[K (jack_port_t *port) JACK_OPTIONAL_WEAK_DEPRECATED_EXPORT;\n",
            "                \u001b[01;36m\u001b[K^~~~~~~~~~~~~~~~~~~~~\u001b[m\u001b[K\n",
            "\u001b[01m\u001b[K/content/sherpa/build/temp.linux-x86_64-3.8/_deps/portaudio-src/src/hostapi/jack/pa_jack.c:661:17:\u001b[m\u001b[K \u001b[01;35m\u001b[Kwarning: \u001b[m\u001b[K‘\u001b[01m\u001b[Kjack_port_get_latency\u001b[m\u001b[K’ is deprecated [\u001b[01;35m\u001b[K-Wdeprecated-declarations\u001b[m\u001b[K]\n",
            "                 \u001b[01;35m\u001b[Kjack_port_get_latency\u001b[m\u001b[K( p ) / globalSampleRate;\n",
            "                 \u001b[01;35m\u001b[K^~~~~~~~~~~~~~~~~~~~~\u001b[m\u001b[K\n",
            "In file included from \u001b[01m\u001b[K/content/sherpa/build/temp.linux-x86_64-3.8/_deps/portaudio-src/src/hostapi/jack/pa_jack.c:63:0\u001b[m\u001b[K:\n",
            "\u001b[01m\u001b[K/usr/include/jack/jack.h:1093:16:\u001b[m\u001b[K \u001b[01;36m\u001b[Knote: \u001b[m\u001b[Kdeclared here\n",
            " jack_nframes_t \u001b[01;36m\u001b[Kjack_port_get_latency\u001b[m\u001b[K (jack_port_t *port) JACK_OPTIONAL_WEAK_DEPRECATED_EXPORT;\n",
            "                \u001b[01;36m\u001b[K^~~~~~~~~~~~~~~~~~~~~\u001b[m\u001b[K\n",
            "\u001b[01m\u001b[K/content/sherpa/build/temp.linux-x86_64-3.8/_deps/portaudio-src/src/hostapi/jack/pa_jack.c:\u001b[m\u001b[K In function ‘\u001b[01m\u001b[KOpenStream\u001b[m\u001b[K’:\n",
            "\u001b[01m\u001b[K/content/sherpa/build/temp.linux-x86_64-3.8/_deps/portaudio-src/src/hostapi/jack/pa_jack.c:1357:9:\u001b[m\u001b[K \u001b[01;35m\u001b[Kwarning: \u001b[m\u001b[K‘\u001b[01m\u001b[Kjack_port_get_latency\u001b[m\u001b[K’ is deprecated [\u001b[01;35m\u001b[K-Wdeprecated-declarations\u001b[m\u001b[K]\n",
            "         \u001b[01;35m\u001b[Kstream\u001b[m\u001b[K->streamRepresentation.streamInfo.inputLatency = (jack_port_get_latency( stream->remote_output_ports[0] )\n",
            "         \u001b[01;35m\u001b[K^~~~~~\u001b[m\u001b[K\n",
            "In file included from \u001b[01m\u001b[K/content/sherpa/build/temp.linux-x86_64-3.8/_deps/portaudio-src/src/hostapi/jack/pa_jack.c:63:0\u001b[m\u001b[K:\n",
            "\u001b[01m\u001b[K/usr/include/jack/jack.h:1093:16:\u001b[m\u001b[K \u001b[01;36m\u001b[Knote: \u001b[m\u001b[Kdeclared here\n",
            " jack_nframes_t \u001b[01;36m\u001b[Kjack_port_get_latency\u001b[m\u001b[K (jack_port_t *port) JACK_OPTIONAL_WEAK_DEPRECATED_EXPORT;\n",
            "                \u001b[01;36m\u001b[K^~~~~~~~~~~~~~~~~~~~~\u001b[m\u001b[K\n",
            "\u001b[01m\u001b[K/content/sherpa/build/temp.linux-x86_64-3.8/_deps/portaudio-src/src/hostapi/jack/pa_jack.c:1361:9:\u001b[m\u001b[K \u001b[01;35m\u001b[Kwarning: \u001b[m\u001b[K‘\u001b[01m\u001b[Kjack_port_get_latency\u001b[m\u001b[K’ is deprecated [\u001b[01;35m\u001b[K-Wdeprecated-declarations\u001b[m\u001b[K]\n",
            "         \u001b[01;35m\u001b[Kstream\u001b[m\u001b[K->streamRepresentation.streamInfo.outputLatency = (jack_port_get_latency( stream->remote_input_ports[0] )\n",
            "         \u001b[01;35m\u001b[K^~~~~~\u001b[m\u001b[K\n",
            "In file included from \u001b[01m\u001b[K/content/sherpa/build/temp.linux-x86_64-3.8/_deps/portaudio-src/src/hostapi/jack/pa_jack.c:63:0\u001b[m\u001b[K:\n",
            "\u001b[01m\u001b[K/usr/include/jack/jack.h:1093:16:\u001b[m\u001b[K \u001b[01;36m\u001b[Knote: \u001b[m\u001b[Kdeclared here\n",
            " jack_nframes_t \u001b[01;36m\u001b[Kjack_port_get_latency\u001b[m\u001b[K (jack_port_t *port) JACK_OPTIONAL_WEAK_DEPRECATED_EXPORT;\n",
            "                \u001b[01;36m\u001b[K^~~~~~~~~~~~~~~~~~~~~\u001b[m\u001b[K\n",
            "\u001b[01m\u001b[K/content/sherpa/build/temp.linux-x86_64-3.8/_deps/portaudio-src/src/hostapi/jack/pa_jack.c:\u001b[m\u001b[K In function ‘\u001b[01m\u001b[KRealProcess\u001b[m\u001b[K’:\n",
            "\u001b[01m\u001b[K/content/sherpa/build/temp.linux-x86_64-3.8/_deps/portaudio-src/src/hostapi/jack/pa_jack.c:1423:9:\u001b[m\u001b[K \u001b[01;35m\u001b[Kwarning: \u001b[m\u001b[K‘\u001b[01m\u001b[Kjack_port_get_latency\u001b[m\u001b[K’ is deprecated [\u001b[01;35m\u001b[K-Wdeprecated-declarations\u001b[m\u001b[K]\n",
            "         \u001b[01;35m\u001b[KtimeInfo\u001b[m\u001b[K.inputBufferAdcTime = timeInfo.currentTime - jack_port_get_latency( stream->remote_output_ports[0] )\n",
            "         \u001b[01;35m\u001b[K^~~~~~~~\u001b[m\u001b[K\n",
            "In file included from \u001b[01m\u001b[K/content/sherpa/build/temp.linux-x86_64-3.8/_deps/portaudio-src/src/hostapi/jack/pa_jack.c:63:0\u001b[m\u001b[K:\n",
            "\u001b[01m\u001b[K/usr/include/jack/jack.h:1093:16:\u001b[m\u001b[K \u001b[01;36m\u001b[Knote: \u001b[m\u001b[Kdeclared here\n",
            " jack_nframes_t \u001b[01;36m\u001b[Kjack_port_get_latency\u001b[m\u001b[K (jack_port_t *port) JACK_OPTIONAL_WEAK_DEPRECATED_EXPORT;\n",
            "                \u001b[01;36m\u001b[K^~~~~~~~~~~~~~~~~~~~~\u001b[m\u001b[K\n",
            "\u001b[01m\u001b[K/content/sherpa/build/temp.linux-x86_64-3.8/_deps/portaudio-src/src/hostapi/jack/pa_jack.c:1426:9:\u001b[m\u001b[K \u001b[01;35m\u001b[Kwarning: \u001b[m\u001b[K‘\u001b[01m\u001b[Kjack_port_get_latency\u001b[m\u001b[K’ is deprecated [\u001b[01;35m\u001b[K-Wdeprecated-declarations\u001b[m\u001b[K]\n",
            "         \u001b[01;35m\u001b[KtimeInfo\u001b[m\u001b[K.outputBufferDacTime = timeInfo.currentTime + jack_port_get_latency( stream->remote_input_ports[0] )\n",
            "         \u001b[01;35m\u001b[K^~~~~~~~\u001b[m\u001b[K\n",
            "In file included from \u001b[01m\u001b[K/content/sherpa/build/temp.linux-x86_64-3.8/_deps/portaudio-src/src/hostapi/jack/pa_jack.c:63:0\u001b[m\u001b[K:\n",
            "\u001b[01m\u001b[K/usr/include/jack/jack.h:1093:16:\u001b[m\u001b[K \u001b[01;36m\u001b[Knote: \u001b[m\u001b[Kdeclared here\n",
            " jack_nframes_t \u001b[01;36m\u001b[Kjack_port_get_latency\u001b[m\u001b[K (jack_port_t *port) JACK_OPTIONAL_WEAK_DEPRECATED_EXPORT;\n",
            "                \u001b[01;36m\u001b[K^~~~~~~~~~~~~~~~~~~~~\u001b[m\u001b[K\n",
            "[ 18%] \u001b[32mBuilding C object _deps/portaudio-build/CMakeFiles/portaudio.dir/src/hostapi/alsa/pa_linux_alsa.c.o\u001b[0m\n",
            "\u001b[01m\u001b[K/content/sherpa/build/temp.linux-x86_64-3.8/_deps/portaudio-src/src/hostapi/alsa/pa_linux_alsa.c:183:1:\u001b[m\u001b[K \u001b[01;35m\u001b[Kwarning: \u001b[m\u001b[K‘\u001b[01m\u001b[Ksnd_pcm_sw_params_set_xfer_align\u001b[m\u001b[K’ is deprecated [\u001b[01;35m\u001b[K-Wdeprecated-declarations\u001b[m\u001b[K]\n",
            " \u001b[01;35m\u001b[K_PA_DEFINE_FUNC\u001b[m\u001b[K(snd_pcm_sw_params_set_xfer_align);\n",
            " \u001b[01;35m\u001b[K^~~~~~~~~~~~~~~\u001b[m\u001b[K\n",
            "In file included from \u001b[01m\u001b[K/usr/include/alsa/asoundlib.h:54:0\u001b[m\u001b[K,\n",
            "                 from \u001b[01m\u001b[K/content/sherpa/build/temp.linux-x86_64-3.8/_deps/portaudio-src/src/hostapi/alsa/pa_linux_alsa.c:52\u001b[m\u001b[K:\n",
            "\u001b[01m\u001b[K/usr/include/alsa/pcm.h:1302:5:\u001b[m\u001b[K \u001b[01;36m\u001b[Knote: \u001b[m\u001b[Kdeclared here\n",
            " int \u001b[01;36m\u001b[Ksnd_pcm_sw_params_set_xfer_align\u001b[m\u001b[K(snd_pcm_t *pcm, snd_pcm_sw_params_t *params, snd_pcm_uframes_t val) __attribute__((deprecated));\n",
            "     \u001b[01;36m\u001b[K^~~~~~~~~~~~~~~~~~~~~~~~~~~~~~~~\u001b[m\u001b[K\n",
            "\u001b[01m\u001b[K/content/sherpa/build/temp.linux-x86_64-3.8/_deps/portaudio-src/src/hostapi/alsa/pa_linux_alsa.c:\u001b[m\u001b[K In function ‘\u001b[01m\u001b[KPaAlsa_LoadLibrary\u001b[m\u001b[K’:\n",
            "\u001b[01m\u001b[K/content/sherpa/build/temp.linux-x86_64-3.8/_deps/portaudio-src/src/hostapi/alsa/pa_linux_alsa.c:465:5:\u001b[m\u001b[K \u001b[01;35m\u001b[Kwarning: \u001b[m\u001b[K‘\u001b[01m\u001b[Ksnd_pcm_sw_params_set_xfer_align\u001b[m\u001b[K’ is deprecated [\u001b[01;35m\u001b[K-Wdeprecated-declarations\u001b[m\u001b[K]\n",
            "     \u001b[01;35m\u001b[K_PA_LOAD_FUNC\u001b[m\u001b[K(snd_pcm_sw_params_set_xfer_align);\n",
            "     \u001b[01;35m\u001b[K^~~~~~~~~~~~~\u001b[m\u001b[K\n",
            "In file included from \u001b[01m\u001b[K/usr/include/alsa/asoundlib.h:54:0\u001b[m\u001b[K,\n",
            "                 from \u001b[01m\u001b[K/content/sherpa/build/temp.linux-x86_64-3.8/_deps/portaudio-src/src/hostapi/alsa/pa_linux_alsa.c:52\u001b[m\u001b[K:\n",
            "\u001b[01m\u001b[K/usr/include/alsa/pcm.h:1302:5:\u001b[m\u001b[K \u001b[01;36m\u001b[Knote: \u001b[m\u001b[Kdeclared here\n",
            " int \u001b[01;36m\u001b[Ksnd_pcm_sw_params_set_xfer_align\u001b[m\u001b[K(snd_pcm_t *pcm, snd_pcm_sw_params_t *params, snd_pcm_uframes_t val) __attribute__((deprecated));\n",
            "     \u001b[01;36m\u001b[K^~~~~~~~~~~~~~~~~~~~~~~~~~~~~~~~\u001b[m\u001b[K\n",
            "[ 19%] \u001b[32mBuilding CXX object _deps/kaldi_native_io-build/kaldi_native_io/csrc/CMakeFiles/kaldi_native_io_core.dir/kaldi-holder.cc.o\u001b[0m\n",
            "[ 20%] \u001b[32mBuilding CXX object _deps/kaldi_native_io-build/kaldi_native_io/csrc/CMakeFiles/kaldi_native_io_core.dir/kaldi-io.cc.o\u001b[0m\n",
            "[ 21%] \u001b[32m\u001b[1mLinking C shared library ../../lib/libsherpa_portaudio.so\u001b[0m\n",
            "[ 21%] Built target portaudio\n",
            "[ 21%] \u001b[32mBuilding CXX object _deps/kaldi_native_io-build/kaldi_native_io/csrc/CMakeFiles/kaldi_native_io_core.dir/kaldi-matrix.cc.o\u001b[0m\n",
            "[ 22%] \u001b[32mBuilding CXX object _deps/kaldi_native_io-build/kaldi_native_io/csrc/CMakeFiles/kaldi_native_io_core.dir/kaldi-semaphore.cc.o\u001b[0m\n",
            "[ 23%] \u001b[32mBuilding CXX object _deps/kaldi_native_io-build/kaldi_native_io/csrc/CMakeFiles/kaldi_native_io_core.dir/kaldi-table.cc.o\u001b[0m\n",
            "[ 24%] \u001b[32mBuilding CXX object _deps/kaldi_native_io-build/kaldi_native_io/csrc/CMakeFiles/kaldi_native_io_core.dir/kaldi-utils.cc.o\u001b[0m\n",
            "[ 25%] \u001b[32mBuilding CXX object _deps/kaldi_native_io-build/kaldi_native_io/csrc/CMakeFiles/kaldi_native_io_core.dir/kaldi-vector.cc.o\u001b[0m\n",
            "[ 26%] \u001b[32mBuilding CXX object _deps/kaldi_native_io-build/kaldi_native_io/csrc/CMakeFiles/kaldi_native_io_core.dir/matrix-shape.cc.o\u001b[0m\n",
            "[ 27%] \u001b[32mBuilding CXX object _deps/kaldi_native_io-build/kaldi_native_io/csrc/CMakeFiles/kaldi_native_io_core.dir/parse-options.cc.o\u001b[0m\n",
            "[ 28%] \u001b[32mBuilding CXX object _deps/kaldi_native_io-build/kaldi_native_io/csrc/CMakeFiles/kaldi_native_io_core.dir/posterior.cc.o\u001b[0m\n",
            "[ 29%] \u001b[32mBuilding CXX object _deps/kaldi_native_io-build/kaldi_native_io/csrc/CMakeFiles/kaldi_native_io_core.dir/text-utils.cc.o\u001b[0m\n",
            "[ 30%] \u001b[32mBuilding CXX object _deps/kaldi_native_io-build/kaldi_native_io/csrc/CMakeFiles/kaldi_native_io_core.dir/wave-reader.cc.o\u001b[0m\n",
            "[ 31%] \u001b[32m\u001b[1mLinking CXX shared library ../../../../lib/libsherpa_kaldi_native_io_core.so\u001b[0m\n",
            "[ 31%] Built target kaldi_native_io_core\n",
            "[ 32%] \u001b[32mBuilding CXX object sherpa/csrc/CMakeFiles/sherpa_core.dir/offline-conformer-transducer-model.cc.o\u001b[0m\n",
            "[ 34%] \u001b[32mBuilding CXX object sherpa/csrc/CMakeFiles/sherpa_core.dir/offline-transducer-greedy-search-decoder.cc.o\u001b[0m\n",
            "[ 34%] \u001b[32mBuilding CXX object sherpa/csrc/CMakeFiles/sherpa_core.dir/offline-conformer-ctc-model.cc.o\u001b[0m\n",
            "[ 35%] \u001b[32mBuilding CXX object sherpa/csrc/CMakeFiles/sherpa_core.dir/offline-transducer-modified-beam-search-decoder.cc.o\u001b[0m\n",
            "[ 36%] \u001b[32mBuilding CXX object sherpa/csrc/CMakeFiles/sherpa_core.dir/offline-wenet-conformer-ctc-model.cc.o\u001b[0m\n",
            "[ 37%] \u001b[32mBuilding CXX object sherpa/csrc/CMakeFiles/sherpa_core.dir/offline-ctc-one-best-decoder.cc.o\u001b[0m\n",
            "[ 38%] \u001b[32mBuilding CXX object sherpa/csrc/CMakeFiles/sherpa_core.dir/offline-wav2vec2-ctc-model.cc.o\u001b[0m\n",
            "[ 39%] \u001b[32mBuilding CXX object sherpa/csrc/CMakeFiles/sherpa_core.dir/offline-transducer-fast-beam-search-decoder.cc.o\u001b[0m\n",
            "[ 40%] \u001b[32mBuilding CXX object sherpa/csrc/CMakeFiles/sherpa_core.dir/online-conv-emformer-transducer-model.cc.o\u001b[0m\n",
            "[ 41%] \u001b[32mBuilding CXX object sherpa/csrc/CMakeFiles/sherpa_core.dir/online-transducer-greedy-search-decoder.cc.o\u001b[0m\n",
            "[ 42%] \u001b[32mBuilding CXX object sherpa/csrc/CMakeFiles/sherpa_core.dir/online-transducer-modified-beam-search-decoder.cc.o\u001b[0m\n",
            "[ 43%] \u001b[32mBuilding CXX object sherpa/csrc/CMakeFiles/sherpa_core.dir/online-emformer-transducer-model.cc.o\u001b[0m\n",
            "[ 44%] \u001b[32mBuilding CXX object sherpa/csrc/CMakeFiles/sherpa_core.dir/online-conformer-transducer-model.cc.o\u001b[0m\n",
            "[ 45%] \u001b[32mBuilding CXX object sherpa/csrc/CMakeFiles/sherpa_core.dir/online-lstm-transducer-model.cc.o\u001b[0m\n",
            "[ 46%] \u001b[32mBuilding CXX object sherpa/csrc/CMakeFiles/sherpa_core.dir/online-transducer-fast-beam-search-decoder.cc.o\u001b[0m\n",
            "[ 46%] \u001b[32mBuilding CXX object sherpa/csrc/CMakeFiles/sherpa_core.dir/online-zipformer-transducer-model.cc.o\u001b[0m\n",
            "[ 47%] \u001b[32mBuilding CXX object sherpa/csrc/CMakeFiles/sherpa_core.dir/fbank-features.cc.o\u001b[0m\n",
            "[ 48%] \u001b[32mBuilding CXX object sherpa/csrc/CMakeFiles/sherpa_core.dir/file-utils.cc.o\u001b[0m\n",
            "[ 49%] \u001b[32mBuilding CXX object sherpa/csrc/CMakeFiles/sherpa_core.dir/hypothesis.cc.o\u001b[0m\n",
            "[ 50%] \u001b[32mBuilding CXX object sherpa/csrc/CMakeFiles/sherpa_core.dir/log.cc.o\u001b[0m\n",
            "[ 51%] \u001b[32mBuilding CXX object sherpa/csrc/CMakeFiles/sherpa_core.dir/symbol-table.cc.o\u001b[0m\n",
            "[ 52%] \u001b[32mBuilding CXX object sherpa/csrc/CMakeFiles/sherpa_core.dir/online-stream.cc.o\u001b[0m\n",
            "[ 53%] \u001b[32mBuilding CXX object sherpa/csrc/CMakeFiles/sherpa_core.dir/parse-options.cc.o\u001b[0m\n",
            "[ 54%] \u001b[32mBuilding CXX object sherpa/csrc/CMakeFiles/sherpa_core.dir/rnnt_beam_search.cc.o\u001b[0m\n",
            "[ 55%] \u001b[32mBuilding CXX object sherpa/csrc/CMakeFiles/sherpa_core.dir/rnnt_conformer_model.cc.o\u001b[0m\n",
            "[ 56%] \u001b[32mBuilding CXX object sherpa/csrc/CMakeFiles/sherpa_core.dir/rnnt_conv_emformer_model.cc.o\u001b[0m\n",
            "[ 57%] \u001b[32mBuilding CXX object sherpa/csrc/CMakeFiles/sherpa_core.dir/rnnt_emformer_model.cc.o\u001b[0m\n",
            "[ 58%] \u001b[32mBuilding CXX object sherpa/csrc/CMakeFiles/sherpa_core.dir/rnnt_lstm_model.cc.o\u001b[0m\n",
            "[ 59%] \u001b[32m\u001b[1mLinking CXX shared library ../../lib/libsherpa_core.so\u001b[0m\n",
            "[ 59%] Built target sherpa_core\n",
            "[ 60%] \u001b[32mBuilding CXX object sherpa/cpp_api/websocket/CMakeFiles/sherpa-online-websocket-client-microphone.dir/online-websocket-client-from-microphone.cc.o\u001b[0m\n",
            "[ 61%] \u001b[32mBuilding CXX object sherpa/cpp_api/websocket/CMakeFiles/sherpa-online-websocket-client.dir/online-websocket-client.cc.o\u001b[0m\n",
            "[ 62%] \u001b[32mBuilding CXX object sherpa/cpp_api/websocket/CMakeFiles/sherpa-offline-websocket-client.dir/offline-websocket-client.cc.o\u001b[0m\n",
            "[ 63%] \u001b[32mBuilding CXX object sherpa/cpp_api/CMakeFiles/sherpa_cpp_api.dir/endpoint.cc.o\u001b[0m\n",
            "[ 64%] \u001b[32mBuilding CXX object sherpa/cpp_api/CMakeFiles/sherpa_cpp_api.dir/fast-beam-search-config.cc.o\u001b[0m\n",
            "[ 65%] \u001b[32mBuilding CXX object sherpa/cpp_api/CMakeFiles/sherpa_cpp_api.dir/feature-config.cc.o\u001b[0m\n",
            "[ 66%] \u001b[32mBuilding CXX object sherpa/cpp_api/CMakeFiles/sherpa_cpp_api.dir/offline-recognizer.cc.o\u001b[0m\n",
            "[ 67%] \u001b[32mBuilding CXX object sherpa/cpp_api/websocket/CMakeFiles/sherpa-online-websocket-client-microphone.dir/microphone.cc.o\u001b[0m\n",
            "[ 68%] \u001b[32m\u001b[1mLinking CXX executable ../../../bin/sherpa-offline-websocket-client\u001b[0m\n",
            "[ 68%] Built target sherpa-offline-websocket-client\n",
            "[ 69%] \u001b[32mBuilding CXX object sherpa/cpp_api/CMakeFiles/sherpa_cpp_api.dir/offline-stream.cc.o\u001b[0m\n",
            "[ 70%] \u001b[32m\u001b[1mLinking CXX executable ../../../bin/sherpa-online-websocket-client\u001b[0m\n",
            "[ 70%] Built target sherpa-online-websocket-client\n",
            "[ 71%] \u001b[32mBuilding CXX object sherpa/cpp_api/CMakeFiles/sherpa_cpp_api.dir/online-recognizer.cc.o\u001b[0m\n",
            "[ 71%] \u001b[32m\u001b[1mLinking CXX executable ../../../bin/sherpa-online-websocket-client-microphone\u001b[0m\n",
            "[ 71%] Built target sherpa-online-websocket-client-microphone\n",
            "[ 72%] \u001b[32m\u001b[1mLinking CXX shared library ../../lib/libsherpa_cpp_api.so\u001b[0m\n",
            "[ 72%] Built target sherpa_cpp_api\n",
            "[ 73%] \u001b[32mBuilding CXX object sherpa/cpp_api/bin/CMakeFiles/sherpa-online-microphone.dir/online-recognizer-microphone.cc.o\u001b[0m\n",
            "[ 73%] \u001b[32mBuilding CXX object sherpa/python/csrc/CMakeFiles/_sherpa.dir/hypothesis.cc.o\u001b[0m\n",
            "[ 74%] \u001b[32mBuilding CXX object sherpa/cpp_api/bin/CMakeFiles/sherpa-online.dir/online-recognizer.cc.o\u001b[0m\n",
            "[ 75%] \u001b[32mBuilding CXX object sherpa/cpp_api/bin/CMakeFiles/sherpa-offline.dir/offline-recognizer.cc.o\u001b[0m\n"
          ]
        }
      ]
    },
    {
      "cell_type": "markdown",
      "source": [
        "Verify that we have installed `sherpa` sucessfully:"
      ],
      "metadata": {
        "id": "xpsweBIk44aX"
      }
    },
    {
      "cell_type": "code",
      "source": [
        "! python3 -c \"import sherpa; print(sherpa.__version__)\""
      ],
      "metadata": {
        "id": "GwoVUQBBm4xB"
      },
      "execution_count": null,
      "outputs": []
    },
    {
      "cell_type": "markdown",
      "source": [
        "# Usage"
      ],
      "metadata": {
        "id": "TxO_ZP9u_S7a"
      }
    },
    {
      "cell_type": "markdown",
      "source": [
        "We have a lot of pre-trained models listed at\n",
        "https://k2-fsa.github.io/sherpa/cpp/pretrained_models/offline_ctc.html\n",
        "for downloading.\n",
        "\n",
        "In the following, we demonstrate how to use models from\n",
        "- [icefall](https://github.com/k2-fsa/icefall)\n",
        "- [wenet](https://github.com/wenet-e2e/wenet)\n",
        "- [torchaudio](https://github.com/pytorch/audio), (wav2vec 2.0)"
      ],
      "metadata": {
        "id": "4efve-0hA9mf"
      }
    },
    {
      "cell_type": "markdown",
      "source": [
        "## Models from icefall"
      ],
      "metadata": {
        "id": "HWLSkPWGw-0l"
      }
    },
    {
      "cell_type": "markdown",
      "source": [
        "### English"
      ],
      "metadata": {
        "id": "gTwBz09XxPNz"
      }
    },
    {
      "cell_type": "markdown",
      "source": [
        "#### icefall-asr-gigaspeech-conformer-ctc"
      ],
      "metadata": {
        "id": "tRyJ6MANycSn"
      }
    },
    {
      "cell_type": "code",
      "source": [
        "! cd sherpa && \\\n",
        "GIT_LFS_SKIP_SMUDGE=1 git clone https://huggingface.co/wgb14/icefall-asr-gigaspeech-conformer-ctc && \\\n",
        "cd icefall-asr-gigaspeech-conformer-ctc && \\\n",
        "git lfs pull --include \"exp/cpu_jit.pt\" && \\\n",
        "git lfs pull --include \"data/lang_bpe_500/HLG.pt\" && \\\n",
        "git lfs pull --include \"data/lang_bpe_500/tokens.txt\" && \\\n",
        "mkdir test_wavs && \\\n",
        "cd test_wavs && \\\n",
        "wget https://huggingface.co/csukuangfj/wav2vec2.0-torchaudio/resolve/main/test_wavs/1089-134686-0001.wav && \\\n",
        "wget https://huggingface.co/csukuangfj/wav2vec2.0-torchaudio/resolve/main/test_wavs/1221-135766-0001.wav && \\\n",
        "wget https://huggingface.co/csukuangfj/wav2vec2.0-torchaudio/resolve/main/test_wavs/1221-135766-0002.wav\n"
      ],
      "metadata": {
        "id": "wvPbjelxyklI"
      },
      "execution_count": null,
      "outputs": []
    },
    {
      "cell_type": "markdown",
      "source": [
        "##### Decoding with H"
      ],
      "metadata": {
        "id": "F-0PjYAMzEeA"
      }
    },
    {
      "cell_type": "code",
      "source": [
        "! cd sherpa && python3 ./sherpa/bin/offline_ctc_asr.py \\\n",
        "  --nn-model ./icefall-asr-gigaspeech-conformer-ctc/exp/cpu_jit.pt \\\n",
        "  --tokens ./icefall-asr-gigaspeech-conformer-ctc/data/lang_bpe_500/tokens.txt \\\n",
        "  --use-gpu false \\\n",
        "  ./icefall-asr-gigaspeech-conformer-ctc/test_wavs/1089-134686-0001.wav \\\n",
        "  ./icefall-asr-gigaspeech-conformer-ctc/test_wavs/1221-135766-0001.wav \\\n",
        "  ./icefall-asr-gigaspeech-conformer-ctc/test_wavs/1221-135766-0002.wav"
      ],
      "metadata": {
        "id": "fyBfHIXvzGYz"
      },
      "execution_count": null,
      "outputs": []
    },
    {
      "cell_type": "markdown",
      "source": [
        "##### Decoding with HLG"
      ],
      "metadata": {
        "id": "C0_U6CU3zVLe"
      }
    },
    {
      "cell_type": "code",
      "source": [
        "! cd sherpa && python3 ./sherpa/bin/offline_ctc_asr.py \\\n",
        "  --nn-model ./icefall-asr-gigaspeech-conformer-ctc/exp/cpu_jit.pt \\\n",
        "  --tokens ./icefall-asr-gigaspeech-conformer-ctc/data/lang_bpe_500/tokens.txt \\\n",
        "  --HLG ./icefall-asr-gigaspeech-conformer-ctc/data/lang_bpe_500/HLG.pt \\\n",
        "  --use-gpu false \\\n",
        "  ./icefall-asr-gigaspeech-conformer-ctc/test_wavs/1089-134686-0001.wav \\\n",
        "  ./icefall-asr-gigaspeech-conformer-ctc/test_wavs/1221-135766-0001.wav \\\n",
        "  ./icefall-asr-gigaspeech-conformer-ctc/test_wavs/1221-135766-0002.wav"
      ],
      "metadata": {
        "id": "JZKfykAtzXH6"
      },
      "execution_count": null,
      "outputs": []
    },
    {
      "cell_type": "markdown",
      "source": [
        "#### icefall-asr-librispeech-conformer-ctc-jit-bpe-500-2021-11-09"
      ],
      "metadata": {
        "id": "MIfMdYEIxRma"
      }
    },
    {
      "cell_type": "code",
      "source": [
        "! cd sherpa && \\\n",
        "  GIT_LFS_SKIP_SMUDGE=1 git clone https://huggingface.co/csukuangfj/icefall-asr-librispeech-conformer-ctc-jit-bpe-500-2021-11-09 && \\\n",
        "  cd icefall-asr-librispeech-conformer-ctc-jit-bpe-500-2021-11-09 && \\\n",
        "  git lfs pull --include \"exp/cpu_jit.pt\" && \\\n",
        "  git lfs pull --include \"data/lang_bpe_500/tokens.txt\" && \\\n",
        "  git lfs pull --include \"data/lang_bpe_500/HLG.pt\"\n"
      ],
      "metadata": {
        "id": "URVu2_cN_ZJZ"
      },
      "execution_count": null,
      "outputs": []
    },
    {
      "cell_type": "markdown",
      "source": [
        "##### Decoding with H"
      ],
      "metadata": {
        "id": "vl2PgmE5xjI_"
      }
    },
    {
      "cell_type": "code",
      "source": [
        "! cd sherpa && python3 ./sherpa/bin/offline_ctc_asr.py \\\n",
        "  --nn-model ./icefall-asr-librispeech-conformer-ctc-jit-bpe-500-2021-11-09/exp/cpu_jit.pt \\\n",
        "  --tokens ./icefall-asr-librispeech-conformer-ctc-jit-bpe-500-2021-11-09/data/lang_bpe_500/tokens.txt \\\n",
        "  --use-gpu false \\\n",
        "  ./icefall-asr-librispeech-conformer-ctc-jit-bpe-500-2021-11-09/test_wavs/1089-134686-0001.wav \\\n",
        "  ./icefall-asr-librispeech-conformer-ctc-jit-bpe-500-2021-11-09/test_wavs/1221-135766-0001.wav \\\n",
        "  ./icefall-asr-librispeech-conformer-ctc-jit-bpe-500-2021-11-09/test_wavs/1221-135766-0002.wav"
      ],
      "metadata": {
        "id": "MjvAhv4oADf7"
      },
      "execution_count": null,
      "outputs": []
    },
    {
      "cell_type": "markdown",
      "source": [
        "##### Decoding with HLG"
      ],
      "metadata": {
        "id": "ZfyN6xs3yGzs"
      }
    },
    {
      "cell_type": "code",
      "source": [
        "! cd sherpa && ./sherpa/bin/offline_ctc_asr.py \\\n",
        "  --nn-model ./icefall-asr-librispeech-conformer-ctc-jit-bpe-500-2021-11-09/exp/cpu_jit.pt \\\n",
        "  --tokens ./icefall-asr-librispeech-conformer-ctc-jit-bpe-500-2021-11-09/data/lang_bpe_500/tokens.txt \\\n",
        "  --HLG ./icefall-asr-librispeech-conformer-ctc-jit-bpe-500-2021-11-09/data/lang_bpe_500/HLG.pt \\\n",
        "  --lm-scale 0.9 \\\n",
        "  --use-gpu false \\\n",
        "  ./icefall-asr-librispeech-conformer-ctc-jit-bpe-500-2021-11-09/test_wavs/1089-134686-0001.wav \\\n",
        "  ./icefall-asr-librispeech-conformer-ctc-jit-bpe-500-2021-11-09/test_wavs/1221-135766-0001.wav \\\n",
        "  ./icefall-asr-librispeech-conformer-ctc-jit-bpe-500-2021-11-09/test_wavs/1221-135766-0002.wav"
      ],
      "metadata": {
        "id": "vf9oHizMA21F"
      },
      "execution_count": null,
      "outputs": []
    },
    {
      "cell_type": "markdown",
      "source": [
        "#### icefall-asr-tedlium3-conformer-ctc2"
      ],
      "metadata": {
        "id": "V8Nx4zsiz8Tv"
      }
    },
    {
      "cell_type": "code",
      "source": [
        "! cd sherpa && \\\n",
        "GIT_LFS_SKIP_SMUDGE=1 git clone https://huggingface.co/videodanchik/icefall-asr-tedlium3-conformer-ctc2 && \\\n",
        "cd icefall-asr-tedlium3-conformer-ctc2 && \\\n",
        "git lfs pull --include \"exp/cpu_jit.pt\" && \\\n",
        "git lfs pull --include \"data/lang_bpe/HLG.pt\" && \\\n",
        "git lfs pull --include \"data/lang_bpe/tokens.txt\" && \\\n",
        "git lfs pull --include \"test_wavs/DanBarber_2010-219.wav\" && \\\n",
        "git lfs pull --include \"test_wavs/DanielKahneman_2010-157.wav\" && \\\n",
        "git lfs pull --include \"test_wavs/RobertGupta_2010U-15.wav\""
      ],
      "metadata": {
        "id": "51NlTlX5yPTO"
      },
      "execution_count": null,
      "outputs": []
    },
    {
      "cell_type": "markdown",
      "source": [
        "##### Decoding with H"
      ],
      "metadata": {
        "id": "gRzV8U_z0GZN"
      }
    },
    {
      "cell_type": "code",
      "source": [
        "! cd sherpa && python3 ./sherpa/bin/offline_ctc_asr.py \\\n",
        "  --nn-model ./icefall-asr-tedlium3-conformer-ctc2/exp/cpu_jit.pt \\\n",
        "  --tokens ./icefall-asr-tedlium3-conformer-ctc2/data/lang_bpe/tokens.txt \\\n",
        "  --use-gpu false \\\n",
        "  ./icefall-asr-tedlium3-conformer-ctc2/test_wavs/DanBarber_2010-219.wav \\\n",
        "  ./icefall-asr-tedlium3-conformer-ctc2/test_wavs/DanielKahneman_2010-157.wav \\\n",
        "  ./icefall-asr-tedlium3-conformer-ctc2/test_wavs/RobertGupta_2010U-15.wav"
      ],
      "metadata": {
        "id": "7W2MeTeP0FF7"
      },
      "execution_count": null,
      "outputs": []
    },
    {
      "cell_type": "markdown",
      "source": [
        "##### Decoding with HLG"
      ],
      "metadata": {
        "id": "-AtxIyTH1vB2"
      }
    },
    {
      "cell_type": "code",
      "source": [
        "! cd sherpa && python3 ./sherpa/bin/offline_ctc_asr.py \\\n",
        "  --nn-model ./icefall-asr-tedlium3-conformer-ctc2/exp/cpu_jit.pt \\\n",
        "  --tokens ./icefall-asr-tedlium3-conformer-ctc2/data/lang_bpe/tokens.txt \\\n",
        "  --HLG ./icefall-asr-tedlium3-conformer-ctc2/data/lang_bpe/HLG.pt \\\n",
        "  --use-gpu false \\\n",
        "  ./icefall-asr-tedlium3-conformer-ctc2/test_wavs/DanBarber_2010-219.wav \\\n",
        "  ./icefall-asr-tedlium3-conformer-ctc2/test_wavs/DanielKahneman_2010-157.wav \\\n",
        "  ./icefall-asr-tedlium3-conformer-ctc2/test_wavs/RobertGupta_2010U-15.wav"
      ],
      "metadata": {
        "id": "Uer9VDZ50oH9"
      },
      "execution_count": null,
      "outputs": []
    },
    {
      "cell_type": "markdown",
      "source": [
        "#### icefall_asr_librispeech_conformer_ctc"
      ],
      "metadata": {
        "id": "bAJ7Kb9G2NbF"
      }
    },
    {
      "cell_type": "code",
      "source": [
        "! cd sherpa && \\\n",
        "GIT_LFS_SKIP_SMUDGE=1 git clone https://huggingface.co/pkufool/icefall_asr_librispeech_conformer_ctc && \\\n",
        "cd icefall_asr_librispeech_conformer_ctc && \\\n",
        "git lfs pull --include \"exp/cpu_jit.pt\" && \\\n",
        "git lfs pull --include \"data/lang_bpe/HLG.pt\""
      ],
      "metadata": {
        "id": "RtMaZVfN12D9"
      },
      "execution_count": null,
      "outputs": []
    },
    {
      "cell_type": "markdown",
      "source": [
        "##### Decoding with H"
      ],
      "metadata": {
        "id": "fwhjsjl22VIo"
      }
    },
    {
      "cell_type": "code",
      "source": [
        "! cd sherpa && python3 ./sherpa/bin/offline_ctc_asr.py \\\n",
        "  --nn-model ./icefall_asr_librispeech_conformer_ctc/exp/cpu_jit.pt \\\n",
        "  --tokens ./icefall_asr_librispeech_conformer_ctc/data/lang_bpe/tokens.txt \\\n",
        "  --use-gpu false \\\n",
        "  ./icefall_asr_librispeech_conformer_ctc/test_wavs/1089-134686-0001.wav \\\n",
        "  ./icefall_asr_librispeech_conformer_ctc/test_wavs/1221-135766-0001.wav \\\n",
        "  ./icefall_asr_librispeech_conformer_ctc/test_wavs/1221-135766-0002.wav"
      ],
      "metadata": {
        "id": "4Y6VHVvv2UdB"
      },
      "execution_count": null,
      "outputs": []
    },
    {
      "cell_type": "markdown",
      "source": [
        "##### Decoding with HLG"
      ],
      "metadata": {
        "id": "V9k_Sth72l96"
      }
    },
    {
      "cell_type": "code",
      "source": [
        "! cd sherpa && python3 ./sherpa/bin/offline_ctc_asr.py \\\n",
        "  --nn-model ./icefall_asr_librispeech_conformer_ctc/exp/cpu_jit.pt \\\n",
        "  --tokens ./icefall_asr_librispeech_conformer_ctc/data/lang_bpe/tokens.txt \\\n",
        "  --HLG ./icefall_asr_librispeech_conformer_ctc/data/lang_bpe/HLG.pt \\\n",
        "  --use-gpu false \\\n",
        "  ./icefall_asr_librispeech_conformer_ctc/test_wavs/1089-134686-0001.wav \\\n",
        "  ./icefall_asr_librispeech_conformer_ctc/test_wavs/1221-135766-0001.wav \\\n",
        "  ./icefall_asr_librispeech_conformer_ctc/test_wavs/1221-135766-0002.wav"
      ],
      "metadata": {
        "id": "WGIqkR6m2m9h"
      },
      "execution_count": null,
      "outputs": []
    },
    {
      "cell_type": "markdown",
      "source": [
        "### Chinese"
      ],
      "metadata": {
        "id": "NP2SnNDqEjJx"
      }
    },
    {
      "cell_type": "markdown",
      "source": [
        "#### icefall_asr_aishell_conformer_ctc\n"
      ],
      "metadata": {
        "id": "cWxp52uREm-E"
      }
    },
    {
      "cell_type": "code",
      "source": [
        "! cd sherpa && \\\n",
        "GIT_LFS_SKIP_SMUDGE=1 git clone https://huggingface.co/pkufool/icefall_asr_aishell_conformer_ctc && \\\n",
        "cd icefall_asr_aishell_conformer_ctc && \\\n",
        "git lfs pull --include \"exp/cpu_jit.pt\" && \\\n",
        "git lfs pull --include \"data/lang_char/HLG.pt\""
      ],
      "metadata": {
        "id": "rEvUx5EM36NF"
      },
      "execution_count": null,
      "outputs": []
    },
    {
      "cell_type": "markdown",
      "source": [
        "##### Decoding with H"
      ],
      "metadata": {
        "id": "4V-ihrLQEv6P"
      }
    },
    {
      "cell_type": "code",
      "source": [
        "! cd sherpa && python3 ./sherpa/bin/offline_ctc_asr.py \\\n",
        "  --nn-model ./icefall_asr_aishell_conformer_ctc/exp/cpu_jit.pt \\\n",
        "  --tokens ./icefall_asr_aishell_conformer_ctc/data/lang_char/tokens.txt \\\n",
        "  --use-gpu false \\\n",
        "  ./icefall_asr_aishell_conformer_ctc/test_waves/BAC009S0764W0121.wav \\\n",
        "  ./icefall_asr_aishell_conformer_ctc/test_waves/BAC009S0764W0122.wav \\\n",
        "  ./icefall_asr_aishell_conformer_ctc/test_waves/BAC009S0764W0123.wav"
      ],
      "metadata": {
        "id": "U_VbTPIcEtSO"
      },
      "execution_count": null,
      "outputs": []
    },
    {
      "cell_type": "markdown",
      "source": [
        "##### Decoding with HLG"
      ],
      "metadata": {
        "id": "Xd4Xy6khFIPb"
      }
    },
    {
      "cell_type": "code",
      "source": [
        "! cd sherpa && python3 ./sherpa/bin/offline_ctc_asr.py \\\n",
        "  --nn-model ./icefall_asr_aishell_conformer_ctc/exp/cpu_jit.pt \\\n",
        "  --tokens ./icefall_asr_aishell_conformer_ctc/data/lang_char/tokens.txt \\\n",
        "  --HLG ./icefall_asr_aishell_conformer_ctc/data/lang_char/HLG.pt \\\n",
        "  --use-gpu false \\\n",
        "  ./icefall_asr_aishell_conformer_ctc/test_waves/BAC009S0764W0121.wav \\\n",
        "  ./icefall_asr_aishell_conformer_ctc/test_waves/BAC009S0764W0122.wav \\\n",
        "  ./icefall_asr_aishell_conformer_ctc/test_waves/BAC009S0764W0123.wav"
      ],
      "metadata": {
        "id": "AWWF23MtFJTn"
      },
      "execution_count": null,
      "outputs": []
    },
    {
      "cell_type": "markdown",
      "source": [
        "### Arabic"
      ],
      "metadata": {
        "id": "qqRfJpbnFp3U"
      }
    },
    {
      "cell_type": "markdown",
      "source": [
        "#### icefall-asr-mgb2-conformer_ctc-2022-27-06"
      ],
      "metadata": {
        "id": "q8uP2XZHFshQ"
      }
    },
    {
      "cell_type": "code",
      "source": [
        "! cd sherpa && \\\n",
        "GIT_LFS_SKIP_SMUDGE=1 git clone https://huggingface.co/AmirHussein/icefall-asr-mgb2-conformer_ctc-2022-27-06 && \\\n",
        "cd icefall-asr-mgb2-conformer_ctc-2022-27-06 && \\\n",
        "git lfs pull --include \"exp/cpu_jit.pt\" && \\\n",
        "git lfs pull --include \"data/lang_bpe_5000/HLG.pt\" && \\\n",
        "git lfs pull --include \"data/lang_bpe_5000/tokens.txt\""
      ],
      "metadata": {
        "colab": {
          "base_uri": "https://localhost:8080/"
        },
        "id": "wqb6oIANFgwt",
        "outputId": "c854754b-722f-4ef9-8707-29845a3263ac"
      },
      "execution_count": 23,
      "outputs": [
        {
          "output_type": "stream",
          "name": "stdout",
          "text": [
            "Cloning into 'icefall-asr-mgb2-conformer_ctc-2022-27-06'...\n",
            "remote: Enumerating objects: 2471, done.\u001b[K\n",
            "remote: Counting objects: 100% (2471/2471), done.\u001b[K\n",
            "remote: Compressing objects: 100% (224/224), done.\u001b[K\n",
            "remote: Total 2471 (delta 2259), reused 2389 (delta 2238), pack-reused 0\u001b[K\n",
            "Receiving objects: 100% (2471/2471), 94.72 MiB | 22.07 MiB/s, done.\n",
            "Resolving deltas: 100% (2259/2259), done.\n",
            "Checking out files: 100% (2419/2419), done.\n",
            "Git LFS: (1 of 1 files) 366.09 MB / 366.09 MB\n",
            "Git LFS: (1 of 1 files) 2.97 GB / 2.97 GB\n",
            "Git LFS: (1 of 1 files) 83.03 KB / 83.03 KB\n"
          ]
        }
      ]
    },
    {
      "cell_type": "markdown",
      "source": [
        "##### Decoding with H"
      ],
      "metadata": {
        "id": "vEQGknjTGwi0"
      }
    },
    {
      "cell_type": "code",
      "source": [
        "! cd sherpa && python3 ./sherpa/bin/offline_ctc_asr.py \\\n",
        "  --nn-model ./icefall-asr-mgb2-conformer_ctc-2022-27-06/exp/cpu_jit.pt \\\n",
        "  --tokens ./icefall-asr-mgb2-conformer_ctc-2022-27-06/data/lang_bpe_5000/tokens.txt \\\n",
        "  --use-gpu false \\\n",
        "  ./icefall-asr-mgb2-conformer_ctc-2022-27-06/test_wavs/94D37D38-B203-4FC0-9F3A-538F5C174920_spk-0001_seg-0053813:0054281.wav \\\n",
        "  ./icefall-asr-mgb2-conformer_ctc-2022-27-06/test_wavs/94D37D38-B203-4FC0-9F3A-538F5C174920_spk-0001_seg-0051454:0052244.wav \\\n",
        "  ./icefall-asr-mgb2-conformer_ctc-2022-27-06/test_wavs/94D37D38-B203-4FC0-9F3A-538F5C174920_spk-0001_seg-0052244:0053004.wav"
      ],
      "metadata": {
        "colab": {
          "base_uri": "https://localhost:8080/"
        },
        "id": "dZOLV8GxF2aZ",
        "outputId": "59361467-ae58-45c8-97ee-987c0b20cf0b"
      },
      "execution_count": 24,
      "outputs": [
        {
          "output_type": "stream",
          "name": "stdout",
          "text": [
            "2023-01-07 05:16:34,792 INFO [offline_ctc_asr.py:312] {'nn_model': './icefall-asr-mgb2-conformer_ctc-2022-27-06/exp/cpu_jit.pt', 'tokens': './icefall-asr-mgb2-conformer_ctc-2022-27-06/data/lang_bpe_5000/tokens.txt', 'HLG': None, 'lm_scale': 1.0, 'modified': True, 'search_beam': 20.0, 'output_beam': 8.0, 'min_active_states': 30, 'max_active_states': 10000, 'use_gpu': False, 'normalize_samples': True, 'sound_files': ['./icefall-asr-mgb2-conformer_ctc-2022-27-06/test_wavs/94D37D38-B203-4FC0-9F3A-538F5C174920_spk-0001_seg-0053813:0054281.wav', './icefall-asr-mgb2-conformer_ctc-2022-27-06/test_wavs/94D37D38-B203-4FC0-9F3A-538F5C174920_spk-0001_seg-0051454:0052244.wav', './icefall-asr-mgb2-conformer_ctc-2022-27-06/test_wavs/94D37D38-B203-4FC0-9F3A-538F5C174920_spk-0001_seg-0052244:0053004.wav']}\n",
            "[I] /content/sherpa/sherpa/cpp_api/offline-recognizer-ctc-impl.h:155:void sherpa::OfflineRecognizerCtcImpl::WarmUp() 2023-01-07 05:16:38 WarmUp begins\n",
            "[I] /content/sherpa/sherpa/cpp_api/offline-recognizer-ctc-impl.h:168:void sherpa::OfflineRecognizerCtcImpl::WarmUp() 2023-01-07 05:16:38 WarmUp ended\n",
            "./icefall-asr-mgb2-conformer_ctc-2022-27-06/test_wavs/94D37D38-B203-4FC0-9F3A-538F5C174920_spk-0001_seg-0053813:0054281.wav\n",
            "{\"text\":\" بعد أن عجز وبدأ يصدر مشكلات شعبه ومشكلات مصر\",\"timestamps\":\"[0.16,0.44,0.68,0.80,1.40,1.48,2.00,2.52,2.76,3.08,3.32,3.52,3.72,3.92,4.24]\",\"tokens\":[\" بعد\",\" أن\",\" ع\",\"جز\",\" و\",\"بدأ\",\" يصدر\",\" مشكل\",\"ات\",\" شعب\",\"ه\",\" وم\",\"شكل\",\"ات\",\" مصر\"]}\n",
            "./icefall-asr-mgb2-conformer_ctc-2022-27-06/test_wavs/94D37D38-B203-4FC0-9F3A-538F5C174920_spk-0001_seg-0051454:0052244.wav\n",
            "{\"text\":\" وهؤلاء أووليلياء الشيطان ها هو ذ أحدهم الآن ضيفا عليكم على قناة الجزيرة ولا يستحي في ذلك\",\"timestamps\":\"[0.28,0.84,0.92,0.96,1.04,1.28,1.36,1.44,2.00,2.08,2.24,2.44,2.52,2.84,3.12,3.44,3.72,3.84,4.04,4.24,5.04,5.28,5.68,6.56,6.88,7.04,7.20,7.32]\",\"tokens\":[\" وهؤلاء\",\" أو\",\"ولي\",\"لي\",\"اء\",\" الش\",\"ي\",\"طان\",\" \",\"ها\",\" هو\",\" \",\"ذ\",\" أحد\",\"هم\",\" الآن\",\" \",\"ضيف\",\"ا\",\" عليكم\",\" على\",\" قناة\",\" الجزيرة\",\" ولا\",\" يست\",\"حي\",\" في\",\" ذلك\"]}\n",
            "./icefall-asr-mgb2-conformer_ctc-2022-27-06/test_wavs/94D37D38-B203-4FC0-9F3A-538F5C174920_spk-0001_seg-0052244:0053004.wav\n",
            "{\"text\":\" عندما استغاث الليبيون بالعالم استغاثوا لرفع الظلم وليس لقهر إرادة الأمة ومصادرة الحياة الدستورية\",\"timestamps\":\"[0.16,0.48,0.64,0.72,0.96,1.16,1.40,1.52,1.96,2.08,2.16,2.28,2.76,2.96,3.16,3.24,3.40,3.88,4.36,4.52,4.68,5.00,5.36,5.72,5.96,6.24,6.44,6.84]\",\"tokens\":[\" عندما\",\" است\",\"غ\",\"اث\",\" الليبي\",\"ون\",\" بال\",\"عالم\",\" است\",\"غ\",\"اث\",\"وا\",\" ل\",\"رفع\",\" ال\",\"ظل\",\"م\",\" وليس\",\" ل\",\"ق\",\"هر\",\" إرادة\",\" الأمة\",\" وم\",\"صادر\",\"ة\",\" الحياة\",\" الدستورية\"]}\n"
          ]
        }
      ]
    },
    {
      "cell_type": "markdown",
      "source": [
        "##### Decoding with HLG"
      ],
      "metadata": {
        "id": "xDzlP_eIHEHo"
      }
    },
    {
      "cell_type": "code",
      "source": [
        "! cd sherpa && python3 ./sherpa/bin/offline_ctc_asr.py \\\n",
        "  --nn-model ./icefall-asr-mgb2-conformer_ctc-2022-27-06/exp/cpu_jit.pt \\\n",
        "  --tokens ./icefall-asr-mgb2-conformer_ctc-2022-27-06/data/lang_bpe_5000/tokens.txt \\\n",
        "  --HLG ./icefall-asr-mgb2-conformer_ctc-2022-27-06/data/lang_bpe_5000/HLG.pt \\\n",
        "  --use-gpu false \\\n",
        "  ./icefall-asr-mgb2-conformer_ctc-2022-27-06/test_wavs/94D37D38-B203-4FC0-9F3A-538F5C174920_spk-0001_seg-0053813:0054281.wav \\\n",
        "  ./icefall-asr-mgb2-conformer_ctc-2022-27-06/test_wavs/94D37D38-B203-4FC0-9F3A-538F5C174920_spk-0001_seg-0051454:0052244.wav \\\n",
        "  ./icefall-asr-mgb2-conformer_ctc-2022-27-06/test_wavs/94D37D38-B203-4FC0-9F3A-538F5C174920_spk-0001_seg-0052244:0053004.wav"
      ],
      "metadata": {
        "id": "IHUDbmuSHFSN"
      },
      "execution_count": null,
      "outputs": []
    },
    {
      "cell_type": "markdown",
      "source": [
        "## Models from wenet"
      ],
      "metadata": {
        "id": "ypUcCMqSHPjT"
      }
    },
    {
      "cell_type": "markdown",
      "source": [
        "### English"
      ],
      "metadata": {
        "id": "wp40DgtAHREc"
      }
    },
    {
      "cell_type": "markdown",
      "source": [
        "#### wenet-english-model"
      ],
      "metadata": {
        "id": "4Y2QADtZHTTR"
      }
    },
    {
      "cell_type": "code",
      "source": [
        "! cd sherpa && \\\n",
        "GIT_LFS_SKIP_SMUDGE=1 git clone https://huggingface.co/csukuangfj/wenet-english-model && \\\n",
        "cd wenet-english-model && \\\n",
        "git lfs pull --include \"final.zip\""
      ],
      "metadata": {
        "colab": {
          "base_uri": "https://localhost:8080/"
        },
        "id": "38S8NHUKHQTB",
        "outputId": "fcc69c5a-06b4-4b72-d880-4c4302880d48"
      },
      "execution_count": 26,
      "outputs": [
        {
          "output_type": "stream",
          "name": "stdout",
          "text": [
            "Cloning into 'wenet-english-model'...\n",
            "remote: Enumerating objects: 19, done.\u001b[K\n",
            "remote: Counting objects: 100% (19/19), done.\u001b[K\n",
            "remote: Compressing objects: 100% (18/18), done.\u001b[K\n",
            "remote: Total 19 (delta 3), reused 0 (delta 0), pack-reused 0\u001b[K\n",
            "Unpacking objects: 100% (19/19), done.\n",
            "Git LFS: (1 of 1 files) 221.22 MB / 221.22 MB\n"
          ]
        }
      ]
    },
    {
      "cell_type": "markdown",
      "source": [
        "##### Decoding with H"
      ],
      "metadata": {
        "id": "KR5BMtf1Her0"
      }
    },
    {
      "cell_type": "code",
      "source": [
        "! cd sherpa && python3 ./sherpa/bin/offline_ctc_asr.py \\\n",
        "  --nn-model ./wenet-english-model/final.zip \\\n",
        "  --tokens ./wenet-english-model/units.txt \\\n",
        "  --use-gpu false \\\n",
        "  --normalize-samples false \\\n",
        "  ./wenet-english-model/test_wavs/1089-134686-0001.wav \\\n",
        "  ./wenet-english-model/test_wavs/1221-135766-0001.wav \\\n",
        "  ./wenet-english-model/test_wavs/1221-135766-0002.wav"
      ],
      "metadata": {
        "id": "pcXK8bJ7Hftk"
      },
      "execution_count": null,
      "outputs": []
    },
    {
      "cell_type": "markdown",
      "source": [
        "**Caution**: In the above command, we are using\n",
        "`--normalize-samples false`. The reason is that models from wenet expect audio samples in the range `[-32768, 32767]`, so there is no need to normalize them to the range `[-1, 1]`."
      ],
      "metadata": {
        "id": "xK9aP8bXJ9KS"
      }
    },
    {
      "cell_type": "markdown",
      "source": [
        "### Chinese"
      ],
      "metadata": {
        "id": "wj_drjWBKV59"
      }
    },
    {
      "cell_type": "markdown",
      "source": [
        "#### wenet-chinese-model"
      ],
      "metadata": {
        "id": "hZUY4DriKbZV"
      }
    },
    {
      "cell_type": "code",
      "source": [
        "! cd sherpa && \\\n",
        "GIT_LFS_SKIP_SMUDGE=1 git clone https://huggingface.co/csukuangfj/wenet-chinese-model && \\\n",
        "cd wenet-chinese-model && \\\n",
        "git lfs pull --include \"final.zip\""
      ],
      "metadata": {
        "id": "XGtXoyn9J6S2"
      },
      "execution_count": null,
      "outputs": []
    },
    {
      "cell_type": "markdown",
      "source": [
        "##### Decoding with H"
      ],
      "metadata": {
        "id": "RRgXMgjcKlyW"
      }
    },
    {
      "cell_type": "code",
      "source": [
        "! cd sherpa && python3 ./sherpa/bin/offline_ctc_asr.py \\\n",
        "  --nn-model ./wenet-chinese-model/final.zip \\\n",
        "  --tokens ./wenet-chinese-model/units.txt \\\n",
        "  --use-gpu false \\\n",
        "  --normalize-samples false \\\n",
        "  ./wenet-chinese-model/test_wavs/BAC009S0764W0121.wav \\\n",
        "  ./wenet-chinese-model/test_wavs/BAC009S0764W0122.wav \\\n",
        "  ./wenet-chinese-model/test_wavs/BAC009S0764W0123.wav \\\n",
        "  ./wenet-chinese-model/test_wavs/DEV_T0000000000.wav \\\n",
        "  ./wenet-chinese-model/test_wavs/DEV_T0000000001.wav \\\n",
        "  ./wenet-chinese-model/test_wavs/DEV_T0000000002.wav"
      ],
      "metadata": {
        "colab": {
          "base_uri": "https://localhost:8080/"
        },
        "id": "XQsVGPBIKkvt",
        "outputId": "3514bc9e-0f1f-44a5-c4ea-469feb0d3c65"
      },
      "execution_count": 29,
      "outputs": [
        {
          "output_type": "stream",
          "name": "stdout",
          "text": [
            "2023-01-07 05:18:11,065 INFO [offline_ctc_asr.py:312] {'nn_model': './wenet-chinese-model/final.zip', 'tokens': './wenet-chinese-model/units.txt', 'HLG': None, 'lm_scale': 1.0, 'modified': True, 'search_beam': 20.0, 'output_beam': 8.0, 'min_active_states': 30, 'max_active_states': 10000, 'use_gpu': False, 'normalize_samples': False, 'sound_files': ['./wenet-chinese-model/test_wavs/BAC009S0764W0121.wav', './wenet-chinese-model/test_wavs/BAC009S0764W0122.wav', './wenet-chinese-model/test_wavs/BAC009S0764W0123.wav', './wenet-chinese-model/test_wavs/DEV_T0000000000.wav', './wenet-chinese-model/test_wavs/DEV_T0000000001.wav', './wenet-chinese-model/test_wavs/DEV_T0000000002.wav']}\n",
            "[I] /content/sherpa/sherpa/cpp_api/offline-recognizer-ctc-impl.h:155:void sherpa::OfflineRecognizerCtcImpl::WarmUp() 2023-01-07 05:18:14 WarmUp begins\n",
            "[I] /content/sherpa/sherpa/cpp_api/offline-recognizer-ctc-impl.h:168:void sherpa::OfflineRecognizerCtcImpl::WarmUp() 2023-01-07 05:18:14 WarmUp ended\n",
            "./wenet-chinese-model/test_wavs/BAC009S0764W0121.wav\n",
            "{\"text\":\"甚至出现交易几乎停滞的情况\",\"timestamps\":\"[0.76,1.00,1.24,1.48,1.80,2.04,2.28,2.48,2.72,2.92,3.12,3.36,3.56]\",\"tokens\":[\"甚\",\"至\",\"出\",\"现\",\"交\",\"易\",\"几\",\"乎\",\"停\",\"滞\",\"的\",\"情\",\"况\"]}\n",
            "./wenet-chinese-model/test_wavs/BAC009S0764W0122.wav\n",
            "{\"text\":\"一二线城市虽然也处于调整中\",\"timestamps\":\"[0.72,0.96,1.20,1.56,1.76,1.96,2.20,2.48,2.68,2.84,3.08,3.28,3.52]\",\"tokens\":[\"一\",\"二\",\"线\",\"城\",\"市\",\"虽\",\"然\",\"也\",\"处\",\"于\",\"调\",\"整\",\"中\"]}\n",
            "./wenet-chinese-model/test_wavs/BAC009S0764W0123.wav\n",
            "{\"text\":\"但因为聚集了过多公共资源\",\"timestamps\":\"[0.76,1.00,1.20,1.52,1.72,1.96,2.28,2.52,2.76,2.96,3.24,3.40]\",\"tokens\":[\"但\",\"因\",\"为\",\"聚\",\"集\",\"了\",\"过\",\"多\",\"公\",\"共\",\"资\",\"源\"]}\n",
            "./wenet-chinese-model/test_wavs/DEV_T0000000000.wav\n",
            "{\"text\":\"对我做了介绍那么我想说的是大家如果对我的研究感兴趣呢\",\"timestamps\":\"[0.48,0.64,0.76,0.88,1.04,1.20,1.96,2.08,2.28,2.40,2.52,2.64,2.76,3.40,3.52,3.68,3.76,3.88,3.96,4.04,4.16,4.28,4.40,4.60,4.76,4.96]\",\"tokens\":[\"对\",\"我\",\"做\",\"了\",\"介\",\"绍\",\"那\",\"么\",\"我\",\"想\",\"说\",\"的\",\"是\",\"大\",\"家\",\"如\",\"果\",\"对\",\"我\",\"的\",\"研\",\"究\",\"感\",\"兴\",\"趣\",\"呢\"]}\n",
            "./wenet-chinese-model/test_wavs/DEV_T0000000001.wav\n",
            "{\"text\":\"重点呢想谈三个问题首先呢就是这一轮全球金融动荡的表现啊\",\"timestamps\":\"[0.32,0.44,0.60,0.72,0.92,1.08,1.20,1.32,1.48,2.32,2.48,2.60,2.76,2.92,3.20,3.28,3.44,3.68,3.80,3.96,4.04,4.20,4.32,4.40,4.60,4.76,5.12]\",\"tokens\":[\"重\",\"点\",\"呢\",\"想\",\"谈\",\"三\",\"个\",\"问\",\"题\",\"首\",\"先\",\"呢\",\"就\",\"是\",\"这\",\"一\",\"轮\",\"全\",\"球\",\"金\",\"融\",\"动\",\"荡\",\"的\",\"表\",\"现\",\"啊\"]}\n",
            "./wenet-chinese-model/test_wavs/DEV_T0000000002.wav\n",
            "{\"text\":\"深入地分析这一次全球金融动荡背后的根源\",\"timestamps\":\"[0.56,0.68,0.84,1.00,1.24,1.76,1.92,2.12,2.72,2.92,3.04,3.16,3.32,3.48,3.60,3.72,3.84,4.00,4.16]\",\"tokens\":[\"深\",\"入\",\"地\",\"分\",\"析\",\"这\",\"一\",\"次\",\"全\",\"球\",\"金\",\"融\",\"动\",\"荡\",\"背\",\"后\",\"的\",\"根\",\"源\"]}\n"
          ]
        }
      ]
    },
    {
      "cell_type": "markdown",
      "source": [
        "## Models from torchaudio"
      ],
      "metadata": {
        "id": "18930nA4LBXv"
      }
    },
    {
      "cell_type": "markdown",
      "source": [
        "### English"
      ],
      "metadata": {
        "id": "sHqMWkr7LDPx"
      }
    },
    {
      "cell_type": "code",
      "source": [
        "! cd sherpa && \\\n",
        "GIT_LFS_SKIP_SMUDGE=1 git clone https://huggingface.co/csukuangfj/wav2vec2.0-torchaudio && \\\n",
        "cd wav2vec2.0-torchaudio && \\\n",
        "git lfs pull --include \"wav2vec2_asr_base_10m.pt\""
      ],
      "metadata": {
        "id": "NLOx1XF_K5fw"
      },
      "execution_count": null,
      "outputs": []
    },
    {
      "cell_type": "markdown",
      "source": [
        "##### Decoding with H"
      ],
      "metadata": {
        "id": "1Rfa6dmTLatB"
      }
    },
    {
      "cell_type": "code",
      "source": [
        "! cd sherpa && ./sherpa/bin/offline_ctc_asr.py \\\n",
        "  --nn-model ./wav2vec2.0-torchaudio/wav2vec2_asr_base_10m.pt \\\n",
        "  --tokens ./wav2vec2.0-torchaudio/tokens.txt \\\n",
        "  --use-gpu false \\\n",
        "  ./wav2vec2.0-torchaudio/test_wavs/1089-134686-0001.wav \\\n",
        "  ./wav2vec2.0-torchaudio/test_wavs/1221-135766-0001.wav \\\n",
        "  ./wav2vec2.0-torchaudio/test_wavs/1221-135766-0002.wav"
      ],
      "metadata": {
        "id": "5GpE4691LXa8"
      },
      "execution_count": null,
      "outputs": []
    },
    {
      "cell_type": "markdown",
      "source": [
        "#### German"
      ],
      "metadata": {
        "id": "7E9fZYfMLn98"
      }
    },
    {
      "cell_type": "markdown",
      "source": [
        "Note: We have already downloaded the pre-trained models in the above."
      ],
      "metadata": {
        "id": "BnsdBMcALsXh"
      }
    },
    {
      "cell_type": "code",
      "source": [
        "! cd sherpa/wav2vec2.0-torchaudio && \\\n",
        "git lfs pull --include \"voxpopuli_asr_base_10k_de.pt\""
      ],
      "metadata": {
        "colab": {
          "base_uri": "https://localhost:8080/"
        },
        "id": "v7pU2YE8LxjY",
        "outputId": "ea67304a-5154-437e-da72-b6570407039e"
      },
      "execution_count": 32,
      "outputs": [
        {
          "output_type": "stream",
          "name": "stdout",
          "text": [
            "Git LFS: (1 of 1 files) 360.19 MB / 360.19 MB\n"
          ]
        }
      ]
    },
    {
      "cell_type": "markdown",
      "source": [
        "##### Decoding with H"
      ],
      "metadata": {
        "id": "RFZVLd4ZLq6m"
      }
    },
    {
      "cell_type": "code",
      "source": [
        "! cd sherpa && ./sherpa/bin/offline_ctc_asr.py \\\n",
        "  --nn-model ./wav2vec2.0-torchaudio/voxpopuli_asr_base_10k_de.pt \\\n",
        "  --tokens ./wav2vec2.0-torchaudio/tokens-de.txt \\\n",
        "  --use-gpu false \\\n",
        "  ./wav2vec2.0-torchaudio/test_wavs/20120315-0900-PLENARY-14-de_20120315.wav \\\n",
        "  ./wav2vec2.0-torchaudio/test_wavs/20170517-0900-PLENARY-16-de_20170517.wav"
      ],
      "metadata": {
        "id": "4jZvsBEtLl2M"
      },
      "execution_count": null,
      "outputs": []
    },
    {
      "cell_type": "code",
      "source": [],
      "metadata": {
        "id": "e4D1PpHuMAN3"
      },
      "execution_count": 33,
      "outputs": []
    }
  ]
}
